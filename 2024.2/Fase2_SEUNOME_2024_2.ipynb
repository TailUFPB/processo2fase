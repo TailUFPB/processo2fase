{
  "cells": [
    {
      "cell_type": "markdown",
      "metadata": {
        "id": "bhRj3mZjtrKe"
      },
      "source": [
        "<a href=\"TAIL\"><img src=\"https://i.imgur.com/GRTE0OG.png\" width=\"150\" title=\"Tail Logo\" /></a>\n",
        "\n",
        "# <font color =\"#00b8ff\">Processo seletivo TAIL 2024.2</font>"
      ]
    },
    {
      "cell_type": "markdown",
      "metadata": {
        "id": "HNkloOLuuWAW"
      },
      "source": [
        "## Introdução"
      ]
    },
    {
      "cell_type": "markdown",
      "metadata": {
        "id": "yzCB_rCSuV3y"
      },
      "source": [
        "Olá candidato! Para participar da 2º etapa do processo seletivo, você deve abrir o link do colab abaixo e fazer uma cópia para seu drive e inserir as respostas nos campos.\n",
        "\n",
        "Após responder, basta compartilhar conosco e nos enviar o link no email: tail.ufpb@gmail.com com o assunto **PROCESSO SELETIVO 2024.2 - SEU_NOME**\n",
        "\n",
        "Para mais instruções, assista o vídeo de explicações e dúvidas que enviamos por email.\n",
        "\n",
        "Pedimos que envie o notebook até o dia 12/08/2024 às 23:59.\n",
        "\n",
        "Qualquer dúvida, lembre de nos contactar através do canal no [discord](https://discord.gg/qYMNzPpD)"
      ]
    },
    {
      "cell_type": "markdown",
      "metadata": {
        "id": "scEE1PCEumkh"
      },
      "source": [
        "[![Open In Colab](https://colab.research.google.com/assets/colab-badge.svg)](https://colab.research.google.com/drive/1WgWJe8cat921gd-v-oI-wjUtUJsk8REQ?usp=sharing)"
      ]
    },
    {
      "cell_type": "markdown",
      "metadata": {
        "id": "Vd4CYCwnuse5"
      },
      "source": [
        "## Instruções:\n",
        "<br>1. Abra o Google Colaboratory;\n",
        "<br>2. Faça uma cópia no seu drive;\n",
        "<br>3. Localize o notebook e abra-o;\n",
        "<br>4. Responda o questionário;\n",
        "<br>5. Salve o notebook e submeta-o através de nosso email: tail.ufpb@gmail.com"
      ]
    },
    {
      "cell_type": "markdown",
      "metadata": {
        "id": "0Y7nCDf4uyKc"
      },
      "source": [
        "## Materiais"
      ]
    },
    {
      "cell_type": "markdown",
      "metadata": {
        "id": "VUNjkSYMuyED"
      },
      "source": [
        "**Anexo :**\n",
        "\n",
        "Para auxilio com as questões, disponibilizamos o livro *Python para Estatísticos*, do professor Telmo de Menezes e Silva Filho, do Departamento de Estatística da Universidade Federal da Paraíba (UFPB):\n",
        "\n",
        "[**Python para Estatísticos**](https://tmfilho.github.io/pyestbook)\n",
        "\n",
        "Link para bibliotecas essênciais para desenvolver os problemas abaixo:\n",
        "\n",
        "[**Bibliotecas essenciais**](https://github.com/Manuelfjr/processo2fase_anexo)\n",
        "\n",
        "Slides das aulas de Thaís:  \n",
        "  \n",
        "[**Slides**](https://sites.google.com/site/gaudenciothaisia/home/aulas)\n",
        "\n",
        "Outros materiais, específicos para resolução de certas questões, serão especificados em seus enunciados."
      ]
    },
    {
      "cell_type": "code",
      "execution_count": null,
      "metadata": {
        "id": "lg1T8az0tmxX"
      },
      "outputs": [],
      "source": [
        "#@title Preencha os campos abaixo:\n",
        "\n",
        "nome = '' #@param {type:\"string\"}\n",
        "email = '' #@param {type:\"string\"}\n",
        "\n",
        "# confira se os valores impressos correspondem ao que você digitou\n",
        "print(nome)\n",
        "print(email)"
      ]
    },
    {
      "cell_type": "markdown",
      "metadata": {
        "id": "XcqfOfJIvFJz"
      },
      "source": [
        "# **Avisos**\n",
        "Aqui vai uma série de avisos e dicas:\n",
        "* Uso do **chatgpt** é permitido, porém use com bom senso e especifique quando ele for usado (Priorize tirar dúvidas com monitores)\n",
        "* Se **esforcem**. Mesmo que não consigam responder tudo, deem o máximo de si.\n",
        "* **Descrevam o que pensaram** e como fizeram ou teriam feito para resolver a questão (isso é muito importante).\n",
        "* Se divirtam. Vai ser muito legal ter vocês conosco!\n",
        "\n",
        "**IMPORTANTE**\n",
        "* O uso indevido de LLMs para fazer questões completas será penalizado com anulação da questão! - Se usado, especifique como foi usado e como.\n",
        "\n",
        "![](https://github.com/TailUFPB/processo2fase/raw/master/img/ygt.jpg)"
      ]
    },
    {
      "cell_type": "markdown",
      "metadata": {
        "id": "9PIHFXPgPkHN"
      },
      "source": [
        "# Questão 1: Pacman\n",
        "---"
      ]
    },
    {
      "cell_type": "markdown",
      "metadata": {
        "id": "vjnEybo25CqB"
      },
      "source": [
        "**Descrição:**\n",
        "\\\n",
        "O Pacman é um jogo arcade criado em 1980, o principal objetivo do jogo é coletar o máximo de frutinhas sem encostar nos fantasmas (que causam o fim do jogo). Aqui seguiremos uma premissa parecida na qual queremos encontrar o número máximo de frutinhas que podem ser coletadas num determinado tabuleiro, mas com fantasmas camaradas que ao invés de finalizarem o jogo apenas roubam nossas frutas.  \n",
        "\n",
        "\n",
        "\n",
        "**Tarefa:**\n",
        "\\\n",
        "Você deverá escrever um programa que retorne o número máximo de frutinhas que podem ser capturadas em um dado tabuleiro seguindo as seguintes regras:\n",
        "\n",
        "* O Pacman sempre irá começar no lado superior esquerdo do tabuleiro.\n",
        "* O Pacman pode terminar o jogo a qualquer momento levando consigo as frutas que carrega no momento.\n",
        "* Sempre que o Pacman encostar em um fantasma ele perde todas as frutas que está carregando\n",
        "* Ele percorrerá a primeira linha da esquerda para a direita até chegar o fim da linha.\n",
        "* Ao chegar ao final de uma linha, ele irá descer uma posição e percorrer toda a linha, dessa vez no sentido oposto da linha anterior.\n",
        "* A última regra será repetida até que o tabuleiro inteiro tenha sido percorrido.\n",
        "\n",
        "**Entrada**:\n",
        "\\\n",
        "Seu programa irá receber como entrada o tamanho do tabuleiro e as strings que irão compor o mesmo, seguindo as seguintes regras:\n",
        "\n",
        "* A primeira informação de entrada será um número inteiro N que corresponde ao tamanho do tabuleiro (Que sempre será quadrado)\n",
        "* As N seguinte entradas terão N caracteres que podem ser:\n",
        "  * \".\" Um espaço vazio do tabuleiro\n",
        "  * \"o\" Uma frutinha\n",
        "  * \"G\" Um fantasma\n",
        "* A primeira casa do tabuleiro sempre será um espaço vazio (\".\")\n",
        "* 2 <= N <= 50\n",
        "\n",
        "**Saída**:\n",
        "\n",
        "Seu programa deve retornar um único inteiro, o número máximo de frutinhas que o Pacman pode levar para casa após a fase.\n",
        "\n",
        "**Exemplo**:\n",
        "\n",
        "Entrada:\n",
        "\n",
        "[3, \".o.\", \"oGG\", \"ooo\"]\n",
        "\n",
        "Para melhor visualização do tabuleiro:  \n",
        "\n",
        "    .o.\n",
        "    oGG\n",
        "    ooo\n",
        "\n",
        "Saída:\n",
        "\n",
        "4"
      ]
    },
    {
      "cell_type": "code",
      "execution_count": null,
      "metadata": {
        "id": "LNDxT4cNehi5"
      },
      "outputs": [],
      "source": [
        "def pacman(arr) -> int:\n",
        "  # Seu código aqui"
      ]
    },
    {
      "cell_type": "markdown",
      "metadata": {
        "id": "3yjCQskpemiO"
      },
      "source": [
        "Testando"
      ]
    },
    {
      "cell_type": "code",
      "execution_count": null,
      "metadata": {
        "id": "kiHcl3UDem6b"
      },
      "outputs": [],
      "source": [
        "arr = [3, \".o.\", \"oGG\", \"ooo\"]\n",
        "pacman(arr)"
      ]
    },
    {
      "cell_type": "markdown",
      "metadata": {
        "id": "K4WPHvxtwRum"
      },
      "source": [
        "# Questão 2: Busca Linear e Ordenada\n",
        "---\n"
      ]
    },
    {
      "cell_type": "markdown",
      "metadata": {
        "id": "tmYA8OJFsY5Z"
      },
      "source": [
        "**Descrição:**\n",
        "\n",
        "Em muitos sistemas, é comum a necessidade de buscar elementos em uma coleção de dados. Entender a eficiência de diferentes algoritmos de busca é essencial para otimizar o desempenho do sistema. Neste desafio, você implementará e analisará diferentes estratégias de busca em listas.\n",
        "\n",
        "**Tarefa:**\n",
        "\n",
        "Implemente três funções de busca que encontrem um elemento em uma lista não ordenada:\n",
        "1. `busca_linear(lista, elemento)` que utiliza a busca linear para encontrar um elemento na lista.\n",
        "2. `busca_binaria(lista, elemento)` que primeiramente ordena a lista e depois realiza uma busca binária para encontrar o elemento.\n",
        "3. `busca_saltos(lista, elemento, passo)` que utiliza a busca por saltos (jump search) para encontrar um elemento na lista.\n",
        "\n",
        "**Requisitos:**\n",
        "\n",
        "* As funções devem retornar o índice do elemento na lista se ele estiver presente, ou -1 se ele não estiver.\n",
        "* Para o caso da busca binária, retorne o novo índice após a ordenação.\n",
        "* Implemente a busca por saltos de forma que o tamanho do passo seja um parâmetro ajustável.\n",
        "* Todas as funções devem ser implementadas de maneira eficiente para listas grandes.\n",
        "* Analise a complexidade de tempo e espaço de cada função, incluindo cada passo do algoritmo (e.g., busca, ordenação, etc.).\n",
        "* Discuta os melhores e piores casos para cada algoritmo.\n",
        "* Justifique a escolha dos algoritmos e a adequação de cada um para diferentes tipos de listas e tamanhos de dados.\n",
        "* Considere listas que contenham elementos de diferentes tipos (inteiros, strings, etc.) e justifique como seu código lida com essas variações.\n",
        "* Teste as funções com listas de diferentes tamanhos e conteúdos, e discuta os resultados.\n",
        "\n",
        "**Exemplos:**\n",
        "\n",
        "* `lista=[0, 3, 2, 5], elemento=3, retorna-se 1` para busca linear e 1 após ordenação na busca binária.\n",
        "* `lista=[1, 2, 8, 90], elemento=3, retorna-se -1` para todas as buscas.\n",
        "* `lista=[55, 30, 23, 12, 5, 67, 199], elemento=67, retorna-se 5` para busca linear e 4 após ordenação na busca binária.\n",
        "* `lista=['apple', 'banana', 'cherry'], elemento='banana', retorna-se 1` para todas as buscas.\n",
        "\n",
        "**Referências:**\n",
        "\n",
        "[1] [Pesquisa binária - Wikipedia](https://pt.wikipedia.org/wiki/Pesquisa_bin%C3%A1ria) \\\n",
        "[2] [Pesquisa por saltos - Wikipedia](https://en.wikipedia.org/wiki/Jump_search)\n",
        "\n",
        "**Notas:**\n",
        "\n",
        "1. A busca linear é O(n) no pior caso.\n",
        "   - Melhor caso: O(1) (elemento está no início da lista)\n",
        "   - Pior caso: O(n) (elemento está no final da lista ou não está presente)\n",
        "\n",
        "2. A busca binária é O(log n) após a ordenação da lista, que é O(n log n).\n",
        "   - Melhor caso: O(log n) (elemento está no meio da lista)\n",
        "   - Pior caso: O(log n) (elemento está no início ou final da lista)\n",
        "\n",
        "3. A busca por saltos é O(√n) no pior caso, e o tamanho do passo ideal é √n.\n",
        "   - Melhor caso: O(1) (elemento está nos primeiros blocos)\n",
        "   - Pior caso: O(√n) (elemento está nos últimos blocos ou não está presente)\n",
        "\n",
        "**Dicas Adicionais:**\n",
        "\n",
        "1. Considere o impacto da escolha do tamanho do passo na busca por saltos.\n",
        "2. Compare e contraste a eficiência das três funções em diferentes cenários de uso, como listas muito grandes ou listas com tipos de dados mistos.\n",
        "3. Teste casos de borda, como listas vazias e listas com elementos repetidos.\n",
        "4. Justifique a adequação dos algoritmos para diferentes contextos de uso e tamanho de dados.\n",
        "5. Discuta a possibilidade de usar estruturas de dados mais complexas, como árvores balanceadas ou tabelas hash, e como elas poderiam impactar a eficiência da busca.\n",
        "\n",
        "**Desafio Extra:**\n",
        "\n",
        "Implemente uma quarta função `busca_hybrid(lista, elemento)` que combina as três técnicas anteriores de forma adaptativa, escolhendo dinamicamente o método de busca com base no tamanho e na distribuição dos dados na lista. Justifique a lógica usada para a escolha adaptativa e analise a complexidade dessa função.\n",
        "\n",
        "---"
      ]
    },
    {
      "cell_type": "code",
      "execution_count": null,
      "metadata": {
        "id": "HREWbDVVvKnj"
      },
      "outputs": [],
      "source": [
        "def busca_linear(lista, elemento) -> int:\n",
        "  # Seu código aqui\n",
        "  return -1\n"
      ]
    },
    {
      "cell_type": "code",
      "execution_count": null,
      "metadata": {
        "id": "wB87U64MMTxj"
      },
      "outputs": [],
      "source": [
        "def busca_ordenada(lista, elemento) -> int:\n",
        "  # Seu código aqui\n",
        "  return -1"
      ]
    },
    {
      "cell_type": "markdown",
      "metadata": {
        "id": "iJygyr9pMp58"
      },
      "source": [
        "Testando"
      ]
    },
    {
      "cell_type": "code",
      "execution_count": null,
      "metadata": {
        "id": "mXxEEKI3Mq3k"
      },
      "outputs": [],
      "source": [
        "lista = [8, 3, 5, 7, 92, 1, 101, 16, 25, 32, 0]\n",
        "elemento = 0\n",
        "\n",
        "busca_linear(lista, elemento)"
      ]
    },
    {
      "cell_type": "code",
      "execution_count": null,
      "metadata": {
        "id": "Irsl5Zk7NLA5"
      },
      "outputs": [],
      "source": [
        "lista = [8, 3, 5, 7, 92, 1, 101, 16, 25, 32, 0]\n",
        "elemento = 0\n",
        "\n",
        "busca_ordenada(lista, elemento)"
      ]
    },
    {
      "cell_type": "markdown",
      "metadata": {
        "id": "XyuugAHt9VZQ"
      },
      "source": [
        "# Questão 3: Autômato de Pilha\n",
        "---"
      ]
    },
    {
      "cell_type": "markdown",
      "metadata": {
        "id": "ti6--Ehj9bYb"
      },
      "source": [
        "Tarefa:\n",
        "\n",
        "Implemente um autômato de pilha que aceite a linguagem { $L = a^i b^j c^k\n",
        " : i ≠ 0, i < j, k < j$ } sobre o alfabeto { $a, b, c$ }. O autômato deve seguir as seguintes regras:\n",
        "\n",
        "Descrição:\n",
        "\n",
        "O autômato de pilha é uma máquina teórica que usa uma pilha para ajudar a decidir se uma palavra pertence à linguagem. Esse tipo de autômato é capaz de reconhecer linguagens que não podem ser reconhecidas por autômatos finitos simples, como linguagens com padrões aninhados e outras formas complexas de dependência entre símbolos.\n",
        "\n",
        "Regras\n",
        "O autômato deve aceitar palavras que começam com pelo menos um símbolo 'a' ($i \\neq 0$).\n",
        "O número de símbolos 'b' deve ser maior que o número de símbolos 'a' ($i < j$).\n",
        "O número de símbolos 'b' deve ser maior que o número de símbolos 'c' ($k < j$).\n",
        "O autômato deve ler a palavra de entrada, caracter por caracter, e utilizar a pilha para controlar a contagem e a ordem dos símbolos lidos.\n",
        "\n",
        "Requisitos:\n",
        "\n",
        "* Alfabeto: O autômato de pilha deve trabalhar com o alfabeto { $a$, $b$, $c$ }.\n",
        "* Linguagem: A linguagem que o autômato deve aceitar é definida por { $L$ = $a^i$ $b^j$ $c^k$ : $i \\neq 0$, $i < j$, $k < j$ }.\n",
        "* Condições da Linguagem:\n",
        "  1. A palavra deve começar com pelo menos um símbolo 'a' ($i \\neq 0$).\n",
        "  2. O número de símbolos 'b' deve ser maior que o número de símbolos 'a' ($i < j$).\n",
        "  3. O número de símbolos 'b' deve ser maior que o número de símbolos 'c' ($k < j$).\n",
        "* Comportamento do Autômato:\n",
        "  1. O autômato deve usar uma pilha para rastrear e validar a contagem dos símbolos conforme as regras da linguagem.\n",
        "  2. Ele deve ser capaz de aceitar ou rejeitar uma palavra após processar todos os símbolos da entrada.\n",
        "\n",
        "# Exemplos\n",
        "* Entrada 1\n",
        "  * Entrada: \"aabbbc\"\n",
        "  * Saída: \"Sucesso!\"\n",
        "\n",
        "* Entrada 2\n",
        "  * Entrada: \"aabbcc\"\n",
        "  * Saída: \"Palavra nao aceita\""
      ]
    },
    {
      "cell_type": "markdown",
      "metadata": {
        "id": "25FK1jDLfTfr"
      },
      "source": [
        "_Sua resposta aqui_"
      ]
    },
    {
      "cell_type": "code",
      "execution_count": null,
      "metadata": {
        "id": "f5N3PbcQe9wS"
      },
      "outputs": [],
      "source": [
        "class AutomatoPilha:\n",
        "  def __init__(self):"
      ]
    },
    {
      "cell_type": "markdown",
      "metadata": {
        "id": "HVGiPsBoqOoB"
      },
      "source": [
        "_Testando_"
      ]
    },
    {
      "cell_type": "code",
      "execution_count": null,
      "metadata": {
        "id": "I0479DRqe_qi"
      },
      "outputs": [],
      "source": [
        "# Insira aqui os testes do seu codigo"
      ]
    },
    {
      "cell_type": "markdown",
      "metadata": {
        "id": "dNyWJ_5QwanG"
      },
      "source": [
        "# Questão 4: Análise de Dados\n",
        "---\n"
      ]
    },
    {
      "cell_type": "markdown",
      "metadata": {
        "id": "uFSXUN-NwpyO"
      },
      "source": [
        "**Descrição:**\n",
        "\\\n",
        "Nessa seção, você adentrará no âmbito da análise de dados, que se trata do processo de limpeza, inspeção, modelagem e transformação de dados, corroborando para uma melhor interpretação dos dados e tomadas de decisão mais incisivas. Após essa breve introdução, você terá de analisar o dataset [American Kennel Club](https://github.com/tmfilho/akcdata).\n"
      ]
    },
    {
      "cell_type": "markdown",
      "metadata": {
        "id": "3BoZNTBewsa9"
      },
      "source": [
        "### 4.1 - Leitura dos dados e realização de descrição estatística\n",
        "---"
      ]
    },
    {
      "cell_type": "markdown",
      "metadata": {
        "id": "ouj4ObwTwwCk"
      },
      "source": [
        "A seguir, o dataframe já estará montado pelo método `pd.read_csv()` da biblioteca `pandas`, a partir da execução da célula.\n",
        "\n",
        "Dica: Você pode acessar a documentação da biblioteca `pandas` [clicando aqui](https://pandas.pydata.org/docs/getting_started/index.html#getting-started). Após o processamento do dataframe, você terá de realizar uma descrição estatística dos dados."
      ]
    },
    {
      "cell_type": "code",
      "execution_count": null,
      "metadata": {
        "id": "IuoYM2v0wjNX"
      },
      "outputs": [],
      "source": [
        "import pandas as pd"
      ]
    },
    {
      "cell_type": "code",
      "execution_count": null,
      "metadata": {
        "colab": {
          "base_uri": "https://localhost:8080/",
          "height": 568
        },
        "id": "0w33YdPdwyjb",
        "outputId": "f23fcde8-9ebd-4e81-b746-f817be6ca59d"
      },
      "outputs": [
        {
          "data": {
            "application/vnd.google.colaboratory.intrinsic+json": {
              "type": "dataframe",
              "variable_name": "dataset"
            },
            "text/html": [
              "\n",
              "  <div id=\"df-2a1140cb-61fc-4ec5-8ab0-a2e6d52bd0c8\" class=\"colab-df-container\">\n",
              "    <div>\n",
              "<style scoped>\n",
              "    .dataframe tbody tr th:only-of-type {\n",
              "        vertical-align: middle;\n",
              "    }\n",
              "\n",
              "    .dataframe tbody tr th {\n",
              "        vertical-align: top;\n",
              "    }\n",
              "\n",
              "    .dataframe thead th {\n",
              "        text-align: right;\n",
              "    }\n",
              "</style>\n",
              "<table border=\"1\" class=\"dataframe\">\n",
              "  <thead>\n",
              "    <tr style=\"text-align: right;\">\n",
              "      <th></th>\n",
              "      <th>Unnamed: 0</th>\n",
              "      <th>description</th>\n",
              "      <th>temperament</th>\n",
              "      <th>popularity</th>\n",
              "      <th>min_height</th>\n",
              "      <th>max_height</th>\n",
              "      <th>min_weight</th>\n",
              "      <th>max_weight</th>\n",
              "      <th>min_expectancy</th>\n",
              "      <th>max_expectancy</th>\n",
              "      <th>...</th>\n",
              "      <th>grooming_frequency_value</th>\n",
              "      <th>grooming_frequency_category</th>\n",
              "      <th>shedding_value</th>\n",
              "      <th>shedding_category</th>\n",
              "      <th>energy_level_value</th>\n",
              "      <th>energy_level_category</th>\n",
              "      <th>trainability_value</th>\n",
              "      <th>trainability_category</th>\n",
              "      <th>demeanor_value</th>\n",
              "      <th>demeanor_category</th>\n",
              "    </tr>\n",
              "  </thead>\n",
              "  <tbody>\n",
              "    <tr>\n",
              "      <th>0</th>\n",
              "      <td>Affenpinscher</td>\n",
              "      <td>The Affen’s apish look has been described many...</td>\n",
              "      <td>Confident, Famously Funny, Fearless</td>\n",
              "      <td>148</td>\n",
              "      <td>22.86</td>\n",
              "      <td>29.21</td>\n",
              "      <td>3.175147</td>\n",
              "      <td>4.535924</td>\n",
              "      <td>12.0</td>\n",
              "      <td>15.0</td>\n",
              "      <td>...</td>\n",
              "      <td>0.6</td>\n",
              "      <td>2-3 Times a Week Brushing</td>\n",
              "      <td>0.6</td>\n",
              "      <td>Seasonal</td>\n",
              "      <td>0.6</td>\n",
              "      <td>Regular Exercise</td>\n",
              "      <td>0.8</td>\n",
              "      <td>Easy Training</td>\n",
              "      <td>1.0</td>\n",
              "      <td>Outgoing</td>\n",
              "    </tr>\n",
              "    <tr>\n",
              "      <th>1</th>\n",
              "      <td>Afghan Hound</td>\n",
              "      <td>The Afghan Hound is an ancient breed, his whol...</td>\n",
              "      <td>Dignified, Profoundly Loyal, Aristocratic</td>\n",
              "      <td>113</td>\n",
              "      <td>63.50</td>\n",
              "      <td>68.58</td>\n",
              "      <td>22.679619</td>\n",
              "      <td>27.215542</td>\n",
              "      <td>12.0</td>\n",
              "      <td>15.0</td>\n",
              "      <td>...</td>\n",
              "      <td>0.8</td>\n",
              "      <td>Daily Brushing</td>\n",
              "      <td>0.2</td>\n",
              "      <td>Infrequent</td>\n",
              "      <td>0.8</td>\n",
              "      <td>Energetic</td>\n",
              "      <td>0.2</td>\n",
              "      <td>May be Stubborn</td>\n",
              "      <td>0.2</td>\n",
              "      <td>Aloof/Wary</td>\n",
              "    </tr>\n",
              "    <tr>\n",
              "      <th>2</th>\n",
              "      <td>Airedale Terrier</td>\n",
              "      <td>The Airedale Terrier is the largest of all ter...</td>\n",
              "      <td>Friendly, Clever, Courageous</td>\n",
              "      <td>60</td>\n",
              "      <td>58.42</td>\n",
              "      <td>58.42</td>\n",
              "      <td>22.679619</td>\n",
              "      <td>31.751466</td>\n",
              "      <td>11.0</td>\n",
              "      <td>14.0</td>\n",
              "      <td>...</td>\n",
              "      <td>0.6</td>\n",
              "      <td>2-3 Times a Week Brushing</td>\n",
              "      <td>0.4</td>\n",
              "      <td>Occasional</td>\n",
              "      <td>0.6</td>\n",
              "      <td>Regular Exercise</td>\n",
              "      <td>1.0</td>\n",
              "      <td>Eager to Please</td>\n",
              "      <td>0.8</td>\n",
              "      <td>Friendly</td>\n",
              "    </tr>\n",
              "    <tr>\n",
              "      <th>3</th>\n",
              "      <td>Akita</td>\n",
              "      <td>Akitas are burly, heavy-boned spitz-type dogs ...</td>\n",
              "      <td>Courageous, Dignified, Profoundly Loyal</td>\n",
              "      <td>47</td>\n",
              "      <td>60.96</td>\n",
              "      <td>71.12</td>\n",
              "      <td>31.751466</td>\n",
              "      <td>58.967008</td>\n",
              "      <td>10.0</td>\n",
              "      <td>13.0</td>\n",
              "      <td>...</td>\n",
              "      <td>0.8</td>\n",
              "      <td>Daily Brushing</td>\n",
              "      <td>0.6</td>\n",
              "      <td>Seasonal</td>\n",
              "      <td>0.8</td>\n",
              "      <td>Energetic</td>\n",
              "      <td>1.0</td>\n",
              "      <td>Eager to Please</td>\n",
              "      <td>0.6</td>\n",
              "      <td>Alert/Responsive</td>\n",
              "    </tr>\n",
              "    <tr>\n",
              "      <th>4</th>\n",
              "      <td>Alaskan Malamute</td>\n",
              "      <td>The Alaskan Malamute stands 23 to 25 inches at...</td>\n",
              "      <td>Affectionate, Loyal, Playful</td>\n",
              "      <td>58</td>\n",
              "      <td>58.42</td>\n",
              "      <td>63.50</td>\n",
              "      <td>34.019428</td>\n",
              "      <td>38.555351</td>\n",
              "      <td>10.0</td>\n",
              "      <td>14.0</td>\n",
              "      <td>...</td>\n",
              "      <td>0.6</td>\n",
              "      <td>2-3 Times a Week Brushing</td>\n",
              "      <td>0.6</td>\n",
              "      <td>Seasonal</td>\n",
              "      <td>0.8</td>\n",
              "      <td>Energetic</td>\n",
              "      <td>0.4</td>\n",
              "      <td>Independent</td>\n",
              "      <td>0.8</td>\n",
              "      <td>Friendly</td>\n",
              "    </tr>\n",
              "  </tbody>\n",
              "</table>\n",
              "<p>5 rows × 21 columns</p>\n",
              "</div>\n",
              "    <div class=\"colab-df-buttons\">\n",
              "\n",
              "  <div class=\"colab-df-container\">\n",
              "    <button class=\"colab-df-convert\" onclick=\"convertToInteractive('df-2a1140cb-61fc-4ec5-8ab0-a2e6d52bd0c8')\"\n",
              "            title=\"Convert this dataframe to an interactive table.\"\n",
              "            style=\"display:none;\">\n",
              "\n",
              "  <svg xmlns=\"http://www.w3.org/2000/svg\" height=\"24px\" viewBox=\"0 -960 960 960\">\n",
              "    <path d=\"M120-120v-720h720v720H120Zm60-500h600v-160H180v160Zm220 220h160v-160H400v160Zm0 220h160v-160H400v160ZM180-400h160v-160H180v160Zm440 0h160v-160H620v160ZM180-180h160v-160H180v160Zm440 0h160v-160H620v160Z\"/>\n",
              "  </svg>\n",
              "    </button>\n",
              "\n",
              "  <style>\n",
              "    .colab-df-container {\n",
              "      display:flex;\n",
              "      gap: 12px;\n",
              "    }\n",
              "\n",
              "    .colab-df-convert {\n",
              "      background-color: #E8F0FE;\n",
              "      border: none;\n",
              "      border-radius: 50%;\n",
              "      cursor: pointer;\n",
              "      display: none;\n",
              "      fill: #1967D2;\n",
              "      height: 32px;\n",
              "      padding: 0 0 0 0;\n",
              "      width: 32px;\n",
              "    }\n",
              "\n",
              "    .colab-df-convert:hover {\n",
              "      background-color: #E2EBFA;\n",
              "      box-shadow: 0px 1px 2px rgba(60, 64, 67, 0.3), 0px 1px 3px 1px rgba(60, 64, 67, 0.15);\n",
              "      fill: #174EA6;\n",
              "    }\n",
              "\n",
              "    .colab-df-buttons div {\n",
              "      margin-bottom: 4px;\n",
              "    }\n",
              "\n",
              "    [theme=dark] .colab-df-convert {\n",
              "      background-color: #3B4455;\n",
              "      fill: #D2E3FC;\n",
              "    }\n",
              "\n",
              "    [theme=dark] .colab-df-convert:hover {\n",
              "      background-color: #434B5C;\n",
              "      box-shadow: 0px 1px 3px 1px rgba(0, 0, 0, 0.15);\n",
              "      filter: drop-shadow(0px 1px 2px rgba(0, 0, 0, 0.3));\n",
              "      fill: #FFFFFF;\n",
              "    }\n",
              "  </style>\n",
              "\n",
              "    <script>\n",
              "      const buttonEl =\n",
              "        document.querySelector('#df-2a1140cb-61fc-4ec5-8ab0-a2e6d52bd0c8 button.colab-df-convert');\n",
              "      buttonEl.style.display =\n",
              "        google.colab.kernel.accessAllowed ? 'block' : 'none';\n",
              "\n",
              "      async function convertToInteractive(key) {\n",
              "        const element = document.querySelector('#df-2a1140cb-61fc-4ec5-8ab0-a2e6d52bd0c8');\n",
              "        const dataTable =\n",
              "          await google.colab.kernel.invokeFunction('convertToInteractive',\n",
              "                                                    [key], {});\n",
              "        if (!dataTable) return;\n",
              "\n",
              "        const docLinkHtml = 'Like what you see? Visit the ' +\n",
              "          '<a target=\"_blank\" href=https://colab.research.google.com/notebooks/data_table.ipynb>data table notebook</a>'\n",
              "          + ' to learn more about interactive tables.';\n",
              "        element.innerHTML = '';\n",
              "        dataTable['output_type'] = 'display_data';\n",
              "        await google.colab.output.renderOutput(dataTable, element);\n",
              "        const docLink = document.createElement('div');\n",
              "        docLink.innerHTML = docLinkHtml;\n",
              "        element.appendChild(docLink);\n",
              "      }\n",
              "    </script>\n",
              "  </div>\n",
              "\n",
              "\n",
              "<div id=\"df-6ec833d7-34b5-4ea5-a4d9-d68c80d86320\">\n",
              "  <button class=\"colab-df-quickchart\" onclick=\"quickchart('df-6ec833d7-34b5-4ea5-a4d9-d68c80d86320')\"\n",
              "            title=\"Suggest charts\"\n",
              "            style=\"display:none;\">\n",
              "\n",
              "<svg xmlns=\"http://www.w3.org/2000/svg\" height=\"24px\"viewBox=\"0 0 24 24\"\n",
              "     width=\"24px\">\n",
              "    <g>\n",
              "        <path d=\"M19 3H5c-1.1 0-2 .9-2 2v14c0 1.1.9 2 2 2h14c1.1 0 2-.9 2-2V5c0-1.1-.9-2-2-2zM9 17H7v-7h2v7zm4 0h-2V7h2v10zm4 0h-2v-4h2v4z\"/>\n",
              "    </g>\n",
              "</svg>\n",
              "  </button>\n",
              "\n",
              "<style>\n",
              "  .colab-df-quickchart {\n",
              "      --bg-color: #E8F0FE;\n",
              "      --fill-color: #1967D2;\n",
              "      --hover-bg-color: #E2EBFA;\n",
              "      --hover-fill-color: #174EA6;\n",
              "      --disabled-fill-color: #AAA;\n",
              "      --disabled-bg-color: #DDD;\n",
              "  }\n",
              "\n",
              "  [theme=dark] .colab-df-quickchart {\n",
              "      --bg-color: #3B4455;\n",
              "      --fill-color: #D2E3FC;\n",
              "      --hover-bg-color: #434B5C;\n",
              "      --hover-fill-color: #FFFFFF;\n",
              "      --disabled-bg-color: #3B4455;\n",
              "      --disabled-fill-color: #666;\n",
              "  }\n",
              "\n",
              "  .colab-df-quickchart {\n",
              "    background-color: var(--bg-color);\n",
              "    border: none;\n",
              "    border-radius: 50%;\n",
              "    cursor: pointer;\n",
              "    display: none;\n",
              "    fill: var(--fill-color);\n",
              "    height: 32px;\n",
              "    padding: 0;\n",
              "    width: 32px;\n",
              "  }\n",
              "\n",
              "  .colab-df-quickchart:hover {\n",
              "    background-color: var(--hover-bg-color);\n",
              "    box-shadow: 0 1px 2px rgba(60, 64, 67, 0.3), 0 1px 3px 1px rgba(60, 64, 67, 0.15);\n",
              "    fill: var(--button-hover-fill-color);\n",
              "  }\n",
              "\n",
              "  .colab-df-quickchart-complete:disabled,\n",
              "  .colab-df-quickchart-complete:disabled:hover {\n",
              "    background-color: var(--disabled-bg-color);\n",
              "    fill: var(--disabled-fill-color);\n",
              "    box-shadow: none;\n",
              "  }\n",
              "\n",
              "  .colab-df-spinner {\n",
              "    border: 2px solid var(--fill-color);\n",
              "    border-color: transparent;\n",
              "    border-bottom-color: var(--fill-color);\n",
              "    animation:\n",
              "      spin 1s steps(1) infinite;\n",
              "  }\n",
              "\n",
              "  @keyframes spin {\n",
              "    0% {\n",
              "      border-color: transparent;\n",
              "      border-bottom-color: var(--fill-color);\n",
              "      border-left-color: var(--fill-color);\n",
              "    }\n",
              "    20% {\n",
              "      border-color: transparent;\n",
              "      border-left-color: var(--fill-color);\n",
              "      border-top-color: var(--fill-color);\n",
              "    }\n",
              "    30% {\n",
              "      border-color: transparent;\n",
              "      border-left-color: var(--fill-color);\n",
              "      border-top-color: var(--fill-color);\n",
              "      border-right-color: var(--fill-color);\n",
              "    }\n",
              "    40% {\n",
              "      border-color: transparent;\n",
              "      border-right-color: var(--fill-color);\n",
              "      border-top-color: var(--fill-color);\n",
              "    }\n",
              "    60% {\n",
              "      border-color: transparent;\n",
              "      border-right-color: var(--fill-color);\n",
              "    }\n",
              "    80% {\n",
              "      border-color: transparent;\n",
              "      border-right-color: var(--fill-color);\n",
              "      border-bottom-color: var(--fill-color);\n",
              "    }\n",
              "    90% {\n",
              "      border-color: transparent;\n",
              "      border-bottom-color: var(--fill-color);\n",
              "    }\n",
              "  }\n",
              "</style>\n",
              "\n",
              "  <script>\n",
              "    async function quickchart(key) {\n",
              "      const quickchartButtonEl =\n",
              "        document.querySelector('#' + key + ' button');\n",
              "      quickchartButtonEl.disabled = true;  // To prevent multiple clicks.\n",
              "      quickchartButtonEl.classList.add('colab-df-spinner');\n",
              "      try {\n",
              "        const charts = await google.colab.kernel.invokeFunction(\n",
              "            'suggestCharts', [key], {});\n",
              "      } catch (error) {\n",
              "        console.error('Error during call to suggestCharts:', error);\n",
              "      }\n",
              "      quickchartButtonEl.classList.remove('colab-df-spinner');\n",
              "      quickchartButtonEl.classList.add('colab-df-quickchart-complete');\n",
              "    }\n",
              "    (() => {\n",
              "      let quickchartButtonEl =\n",
              "        document.querySelector('#df-6ec833d7-34b5-4ea5-a4d9-d68c80d86320 button');\n",
              "      quickchartButtonEl.style.display =\n",
              "        google.colab.kernel.accessAllowed ? 'block' : 'none';\n",
              "    })();\n",
              "  </script>\n",
              "</div>\n",
              "\n",
              "    </div>\n",
              "  </div>\n"
            ],
            "text/plain": [
              "         Unnamed: 0                                        description  \\\n",
              "0     Affenpinscher  The Affen’s apish look has been described many...   \n",
              "1      Afghan Hound  The Afghan Hound is an ancient breed, his whol...   \n",
              "2  Airedale Terrier  The Airedale Terrier is the largest of all ter...   \n",
              "3             Akita  Akitas are burly, heavy-boned spitz-type dogs ...   \n",
              "4  Alaskan Malamute  The Alaskan Malamute stands 23 to 25 inches at...   \n",
              "\n",
              "                                 temperament popularity  min_height  \\\n",
              "0        Confident, Famously Funny, Fearless        148       22.86   \n",
              "1  Dignified, Profoundly Loyal, Aristocratic        113       63.50   \n",
              "2               Friendly, Clever, Courageous         60       58.42   \n",
              "3    Courageous, Dignified, Profoundly Loyal         47       60.96   \n",
              "4               Affectionate, Loyal, Playful         58       58.42   \n",
              "\n",
              "   max_height  min_weight  max_weight  min_expectancy  max_expectancy  ...  \\\n",
              "0       29.21    3.175147    4.535924            12.0            15.0  ...   \n",
              "1       68.58   22.679619   27.215542            12.0            15.0  ...   \n",
              "2       58.42   22.679619   31.751466            11.0            14.0  ...   \n",
              "3       71.12   31.751466   58.967008            10.0            13.0  ...   \n",
              "4       63.50   34.019428   38.555351            10.0            14.0  ...   \n",
              "\n",
              "  grooming_frequency_value  grooming_frequency_category shedding_value  \\\n",
              "0                      0.6    2-3 Times a Week Brushing            0.6   \n",
              "1                      0.8               Daily Brushing            0.2   \n",
              "2                      0.6    2-3 Times a Week Brushing            0.4   \n",
              "3                      0.8               Daily Brushing            0.6   \n",
              "4                      0.6    2-3 Times a Week Brushing            0.6   \n",
              "\n",
              "   shedding_category energy_level_value  energy_level_category  \\\n",
              "0           Seasonal                0.6       Regular Exercise   \n",
              "1         Infrequent                0.8              Energetic   \n",
              "2         Occasional                0.6       Regular Exercise   \n",
              "3           Seasonal                0.8              Energetic   \n",
              "4           Seasonal                0.8              Energetic   \n",
              "\n",
              "  trainability_value  trainability_category demeanor_value  demeanor_category  \n",
              "0                0.8          Easy Training            1.0           Outgoing  \n",
              "1                0.2        May be Stubborn            0.2         Aloof/Wary  \n",
              "2                1.0        Eager to Please            0.8           Friendly  \n",
              "3                1.0        Eager to Please            0.6   Alert/Responsive  \n",
              "4                0.4            Independent            0.8           Friendly  \n",
              "\n",
              "[5 rows x 21 columns]"
            ]
          },
          "execution_count": 3,
          "metadata": {},
          "output_type": "execute_result"
        }
      ],
      "source": [
        "dataset = pd.read_csv('https://raw.githubusercontent.com/tmfilho/akcdata/master/data/akc-data-latest.csv', sep = ',')\n",
        "dataset.head()"
      ]
    },
    {
      "cell_type": "markdown",
      "metadata": {
        "id": "3DfxDLRLxbq6"
      },
      "source": [
        "### 4.2 - Análise Exploratória dos Dados\n",
        "---"
      ]
    },
    {
      "cell_type": "markdown",
      "metadata": {
        "id": "jPJ8NHDSxiKR"
      },
      "source": [
        "Antes de qualquer análise mais aprofundada sobre um conjunto de dados, é necessário ter uma noção de como estes dados estão distribuídos, que valores são mais comuns entre os dados, o quão dispersos estão e se existem valores que se distinguem do dataset, de uma maneira geral. Todas estas informações são classificadas como estatísticas, e em ciência de dados é preciso ter ideias claras sobre a forma do conjunto de dados em questão, utilizando-se majoritariamente da visão como forma de comunicar e representar as estatísticas elementares destes dados. Realize uma análise exploratória sobre os dados deste problema, apresentando as medidas de localização, dispersão e os valores que não se repetem em cada coluna, utilizando a biblioteca `matplotlib.pyplot` para criar gráficos que representem estas medidas. Utilize boxplots para visualizar dados muito discrepantes entre as amostras do dataset."
      ]
    },
    {
      "cell_type": "markdown",
      "metadata": {
        "id": "KYT6OjT3xli7"
      },
      "source": [
        "_Sua resposta aqui_\n"
      ]
    },
    {
      "cell_type": "code",
      "execution_count": null,
      "metadata": {
        "id": "jNNxLXyexe4O"
      },
      "outputs": [],
      "source": [
        "# Seu código aqui"
      ]
    },
    {
      "cell_type": "markdown",
      "metadata": {
        "id": "S73V7vftw7f2"
      },
      "source": [
        "### 4.3 - Limpeza dos dados\n",
        "---\n",
        "\n"
      ]
    },
    {
      "cell_type": "markdown",
      "metadata": {
        "id": "BH5JE3I8w8cf"
      },
      "source": [
        "Após verificar o dataset acima e a relação das descrições com os valores existentes, realize o processo de limpeza dos dados, verificando possíveis inconsistências entre as instâncias (linhas que compõem o dataset). Mais uma vez, a leitura da documentação do `pandas` é uma excelente iniciativa."
      ]
    },
    {
      "cell_type": "markdown",
      "metadata": {
        "id": "UObVt-P3xCuE"
      },
      "source": [
        "_Sua resposta aqui_"
      ]
    },
    {
      "cell_type": "code",
      "execution_count": null,
      "metadata": {
        "id": "qJIEQs-hw8vg"
      },
      "outputs": [],
      "source": [
        "# Seu código aqui"
      ]
    },
    {
      "cell_type": "markdown",
      "metadata": {
        "id": "-rBTE8CKxIVi"
      },
      "source": [
        "### 4.4 - Feature Engineering e Dados Categóricos\n",
        "---"
      ]
    },
    {
      "cell_type": "markdown",
      "metadata": {
        "id": "Bs9WEVCFxKXg"
      },
      "source": [
        "4.4.1 - Em um problema de _Data Science_, é comum nos depararmos com um dataset cujos atributos não esclareçam com efetividade o comportamento de um dado fenômeno. Desta forma, cientistas de dados devem estar aptos a manipular atributos existentes e assim definir novos atributos, de acordo com os critérios estabelecidos. Este processo é descrito como _Feature Engineering_, e trata apenas da manipulação algébrica e/ou lógica de atributos (colunas, no contexto prático) com o intuito de alimentar o seu modelo de Machine Learning com dados relevantes à resolução do problema.\n",
        "Nesta etapa, você deverá utilizar sua intuição aliando criatividade para decidir como novos atributos podem ser definidos, a partir dos dados que você já possui."
      ]
    },
    {
      "cell_type": "markdown",
      "metadata": {
        "id": "eq0ZXjFYxNru"
      },
      "source": [
        "Dica: Utilize as colunas existentes para gerar uma ou mais colunas com atributos distintos dos primeiros."
      ]
    },
    {
      "cell_type": "markdown",
      "metadata": {
        "id": "qHrCjvlnxQTT"
      },
      "source": [
        "_Sua resposta aqui_"
      ]
    },
    {
      "cell_type": "code",
      "execution_count": null,
      "metadata": {
        "id": "pRpYb5AAxIxL"
      },
      "outputs": [],
      "source": [
        "# Seu código aqui"
      ]
    },
    {
      "cell_type": "markdown",
      "metadata": {
        "id": "tN-FgZnmxZLL"
      },
      "source": [
        "4.4.2 - Em poucos termos, algoritmos de Machine Learning só funcionam com valores numéricos. Isto significa que antes de treinar qualquer modelo, deve-se transformar os dados categóricos em dados numéricos. Encontre uma forma de *codificar* as colunas de dados categóricos, de forma que seu modelo consiga interpretar todos os atributos não-numéricos como numéricos."
      ]
    },
    {
      "cell_type": "markdown",
      "metadata": {
        "id": "LTqEASnAxclG"
      },
      "source": [
        "_Sua resposta aqui_\n",
        "\n",
        "\n"
      ]
    },
    {
      "cell_type": "code",
      "execution_count": null,
      "metadata": {
        "id": "FddaebPaxZ3c"
      },
      "outputs": [],
      "source": [
        "# Seu código aqui"
      ]
    },
    {
      "cell_type": "markdown",
      "metadata": {
        "id": "3SdpSOQYubXK"
      },
      "source": [
        "## ⚠️ **Importante** ⚠️\n",
        "---\n",
        "#### As questões a seguir são um pouco mais complexas e podem requerer um tempo maior, leia os enunciados e responda na ordem que preferir, lembre-se que não é preciso fazer se não conseguir e de descrever o que pensaram, como fizeram, ou como teriam feito para resolvê-las.\n",
        "\n",
        "#### Se precisar, consulte as monitorias.\n",
        "\n",
        "\n"
      ]
    },
    {
      "cell_type": "markdown",
      "metadata": {
        "id": "mmbCrdPOxg6l"
      },
      "source": [
        "# Questão 5: Processamento de Linguagem Natural\n",
        "---"
      ]
    },
    {
      "cell_type": "markdown",
      "metadata": {
        "id": "pKmVbU4xyT4p"
      },
      "source": [
        "**Descrição:**\n",
        "\\\n",
        "Nessa seção você irá explorar a área da NLP, que têm como objetivo obter informações de textos, e além disso, tratá-los e manipular strings com objetivos específicos.\n",
        "\n",
        "\\\n",
        "**Sobre a questão:**\n",
        "\\\n",
        "Você deve tratar os textos e excluir colunas que achar desnecessárias para cumprir seu objetivo."
      ]
    },
    {
      "cell_type": "code",
      "execution_count": 1,
      "metadata": {
        "id": "GNoq23cfyO82"
      },
      "outputs": [],
      "source": [
        "url = \"https://raw.githubusercontent.com/TailUFPB/processo2fase/master/2024.2/data/games_sentiments.csv\""
      ]
    },
    {
      "cell_type": "code",
      "execution_count": 2,
      "metadata": {
        "id": "3spa68e4yeDf"
      },
      "outputs": [],
      "source": [
        "import pandas as pd\n",
        "import matplotlib.pyplot as plt"
      ]
    },
    {
      "cell_type": "code",
      "execution_count": 3,
      "metadata": {
        "id": "4cT6nS38yd_u"
      },
      "outputs": [],
      "source": [
        "df = pd.read_csv(url)"
      ]
    },
    {
      "cell_type": "code",
      "execution_count": 4,
      "metadata": {
        "colab": {
          "base_uri": "https://localhost:8080/",
          "height": 206
        },
        "id": "umn4h4L_ydoR",
        "outputId": "527fc469-e383-4f03-c0d5-f5402ff45517"
      },
      "outputs": [
        {
          "data": {
            "application/vnd.google.colaboratory.intrinsic+json": {
              "summary": "{\n  \"name\": \"df\",\n  \"rows\": 12236,\n  \"fields\": [\n    {\n      \"column\": \"reviews\",\n      \"properties\": {\n        \"dtype\": \"string\",\n        \"num_unique_values\": 11286,\n        \"samples\": [\n          \"\\u00d3tima id\\u00e9ia, por\\u00e9m o beta tem muito a melhorar ,pois no meu sansung J7 Pro \\r\\nou a tela fica preta ou reinicia o apk, tornando imposs\\u00edvel a utiliza\\u00e7\\u00e3o, \\r\\nespero que corrijam logo ,pois quero muito ter este tipo de integra\\u00e7\\u00e3o.\",\n          \"Essa desgra\\u00e7a atualizar p piora tmr no cul rpz\",\n          \"N\\u00e3o conecta em outro wi-fi ou no 4g. N\\u00e3o funcionou com o controle do PS5.\"\n        ],\n        \"semantic_type\": \"\",\n        \"description\": \"\"\n      }\n    },\n    {\n      \"column\": \"score\",\n      \"properties\": {\n        \"dtype\": \"number\",\n        \"std\": 1,\n        \"min\": 1,\n        \"max\": 5,\n        \"num_unique_values\": 5,\n        \"samples\": [\n          3,\n          2,\n          5\n        ],\n        \"semantic_type\": \"\",\n        \"description\": \"\"\n      }\n    },\n    {\n      \"column\": \"likes\",\n      \"properties\": {\n        \"dtype\": \"number\",\n        \"std\": 29,\n        \"min\": 0,\n        \"max\": 1056,\n        \"num_unique_values\": 174,\n        \"samples\": [\n          160,\n          210,\n          118\n        ],\n        \"semantic_type\": \"\",\n        \"description\": \"\"\n      }\n    },\n    {\n      \"column\": \"time\",\n      \"properties\": {\n        \"dtype\": \"object\",\n        \"num_unique_values\": 1808,\n        \"samples\": [\n          \"17/11/2018\",\n          \"22/05/2022\",\n          \"26/08/2020\"\n        ],\n        \"semantic_type\": \"\",\n        \"description\": \"\"\n      }\n    },\n    {\n      \"column\": \"app_name\",\n      \"properties\": {\n        \"dtype\": \"category\",\n        \"num_unique_values\": 4,\n        \"samples\": [\n          \"GeForce NOW Cloud Gaming\",\n          \"Steam Link\",\n          \"Xbox Game Pass (Beta)\"\n        ],\n        \"semantic_type\": \"\",\n        \"description\": \"\"\n      }\n    },\n    {\n      \"column\": \"year\",\n      \"properties\": {\n        \"dtype\": \"number\",\n        \"std\": 1,\n        \"min\": 2014,\n        \"max\": 2023,\n        \"num_unique_values\": 10,\n        \"samples\": [\n          2015,\n          2022,\n          2018\n        ],\n        \"semantic_type\": \"\",\n        \"description\": \"\"\n      }\n    },\n    {\n      \"column\": \"reviews_en\",\n      \"properties\": {\n        \"dtype\": \"string\",\n        \"num_unique_values\": 11101,\n        \"samples\": [\n          \"It just stays on connecting, Xbox game pass runs smooth\",\n          \"Considering the \\u20ac0 subscription fee and my 100/100 fiber net connection, I can only praise this app. In my experience, I managed to play a full hour without lag using a computer that didn't meet the minimum requirements needed to run the game. There are certainly some aspects that need improvement, such as, for example, the games should all be updated to the latest version so I don't have to update the game every time I restart the session in the app. But for \\u20ac0... It's TOP!\",\n          \"pain because it's a little minute\"\n        ],\n        \"semantic_type\": \"\",\n        \"description\": \"\"\n      }\n    },\n    {\n      \"column\": \"classification\",\n      \"properties\": {\n        \"dtype\": \"number\",\n        \"std\": 0,\n        \"min\": -1,\n        \"max\": 1,\n        \"num_unique_values\": 3,\n        \"samples\": [\n          1,\n          -1,\n          0\n        ],\n        \"semantic_type\": \"\",\n        \"description\": \"\"\n      }\n    }\n  ]\n}",
              "type": "dataframe",
              "variable_name": "df"
            },
            "text/html": [
              "\n",
              "  <div id=\"df-111a1572-51d8-4225-acd6-cc44f0612bd2\" class=\"colab-df-container\">\n",
              "    <div>\n",
              "<style scoped>\n",
              "    .dataframe tbody tr th:only-of-type {\n",
              "        vertical-align: middle;\n",
              "    }\n",
              "\n",
              "    .dataframe tbody tr th {\n",
              "        vertical-align: top;\n",
              "    }\n",
              "\n",
              "    .dataframe thead th {\n",
              "        text-align: right;\n",
              "    }\n",
              "</style>\n",
              "<table border=\"1\" class=\"dataframe\">\n",
              "  <thead>\n",
              "    <tr style=\"text-align: right;\">\n",
              "      <th></th>\n",
              "      <th>reviews</th>\n",
              "      <th>score</th>\n",
              "      <th>likes</th>\n",
              "      <th>time</th>\n",
              "      <th>app_name</th>\n",
              "      <th>year</th>\n",
              "      <th>reviews_en</th>\n",
              "      <th>classification</th>\n",
              "    </tr>\n",
              "  </thead>\n",
              "  <tbody>\n",
              "    <tr>\n",
              "      <th>0</th>\n",
              "      <td>Olá! Sei que é um app que está em teste, está ...</td>\n",
              "      <td>4</td>\n",
              "      <td>586</td>\n",
              "      <td>13/11/2021</td>\n",
              "      <td>Xbox Game Pass (Beta)</td>\n",
              "      <td>2021</td>\n",
              "      <td>Hello! I know it's an app that's being tested,...</td>\n",
              "      <td>1</td>\n",
              "    </tr>\n",
              "    <tr>\n",
              "      <th>1</th>\n",
              "      <td>O app é excelente, a questão é que existem alg...</td>\n",
              "      <td>4</td>\n",
              "      <td>369</td>\n",
              "      <td>19/07/2022</td>\n",
              "      <td>Xbox Game Pass (Beta)</td>\n",
              "      <td>2022</td>\n",
              "      <td>The app is excellent, the issue is that there ...</td>\n",
              "      <td>1</td>\n",
              "    </tr>\n",
              "    <tr>\n",
              "      <th>2</th>\n",
              "      <td>Sei que ainda está em beta mas, seria interess...</td>\n",
              "      <td>3</td>\n",
              "      <td>509</td>\n",
              "      <td>23/11/2021</td>\n",
              "      <td>Xbox Game Pass (Beta)</td>\n",
              "      <td>2021</td>\n",
              "      <td>I know it's still in beta, but it would be int...</td>\n",
              "      <td>1</td>\n",
              "    </tr>\n",
              "    <tr>\n",
              "      <th>3</th>\n",
              "      <td>Ficou top o visual da nova versão. Deveriam un...</td>\n",
              "      <td>5</td>\n",
              "      <td>289</td>\n",
              "      <td>02/07/2020</td>\n",
              "      <td>Xbox Game Pass (Beta)</td>\n",
              "      <td>2020</td>\n",
              "      <td>The look of the new version was top. They shou...</td>\n",
              "      <td>1</td>\n",
              "    </tr>\n",
              "    <tr>\n",
              "      <th>4</th>\n",
              "      <td>O aplicativo é realmente muito bom, é o que to...</td>\n",
              "      <td>5</td>\n",
              "      <td>44</td>\n",
              "      <td>19/10/2021</td>\n",
              "      <td>Xbox Game Pass (Beta)</td>\n",
              "      <td>2021</td>\n",
              "      <td>The app is really good, it's what everyone exp...</td>\n",
              "      <td>1</td>\n",
              "    </tr>\n",
              "  </tbody>\n",
              "</table>\n",
              "</div>\n",
              "    <div class=\"colab-df-buttons\">\n",
              "\n",
              "  <div class=\"colab-df-container\">\n",
              "    <button class=\"colab-df-convert\" onclick=\"convertToInteractive('df-111a1572-51d8-4225-acd6-cc44f0612bd2')\"\n",
              "            title=\"Convert this dataframe to an interactive table.\"\n",
              "            style=\"display:none;\">\n",
              "\n",
              "  <svg xmlns=\"http://www.w3.org/2000/svg\" height=\"24px\" viewBox=\"0 -960 960 960\">\n",
              "    <path d=\"M120-120v-720h720v720H120Zm60-500h600v-160H180v160Zm220 220h160v-160H400v160Zm0 220h160v-160H400v160ZM180-400h160v-160H180v160Zm440 0h160v-160H620v160ZM180-180h160v-160H180v160Zm440 0h160v-160H620v160Z\"/>\n",
              "  </svg>\n",
              "    </button>\n",
              "\n",
              "  <style>\n",
              "    .colab-df-container {\n",
              "      display:flex;\n",
              "      gap: 12px;\n",
              "    }\n",
              "\n",
              "    .colab-df-convert {\n",
              "      background-color: #E8F0FE;\n",
              "      border: none;\n",
              "      border-radius: 50%;\n",
              "      cursor: pointer;\n",
              "      display: none;\n",
              "      fill: #1967D2;\n",
              "      height: 32px;\n",
              "      padding: 0 0 0 0;\n",
              "      width: 32px;\n",
              "    }\n",
              "\n",
              "    .colab-df-convert:hover {\n",
              "      background-color: #E2EBFA;\n",
              "      box-shadow: 0px 1px 2px rgba(60, 64, 67, 0.3), 0px 1px 3px 1px rgba(60, 64, 67, 0.15);\n",
              "      fill: #174EA6;\n",
              "    }\n",
              "\n",
              "    .colab-df-buttons div {\n",
              "      margin-bottom: 4px;\n",
              "    }\n",
              "\n",
              "    [theme=dark] .colab-df-convert {\n",
              "      background-color: #3B4455;\n",
              "      fill: #D2E3FC;\n",
              "    }\n",
              "\n",
              "    [theme=dark] .colab-df-convert:hover {\n",
              "      background-color: #434B5C;\n",
              "      box-shadow: 0px 1px 3px 1px rgba(0, 0, 0, 0.15);\n",
              "      filter: drop-shadow(0px 1px 2px rgba(0, 0, 0, 0.3));\n",
              "      fill: #FFFFFF;\n",
              "    }\n",
              "  </style>\n",
              "\n",
              "    <script>\n",
              "      const buttonEl =\n",
              "        document.querySelector('#df-111a1572-51d8-4225-acd6-cc44f0612bd2 button.colab-df-convert');\n",
              "      buttonEl.style.display =\n",
              "        google.colab.kernel.accessAllowed ? 'block' : 'none';\n",
              "\n",
              "      async function convertToInteractive(key) {\n",
              "        const element = document.querySelector('#df-111a1572-51d8-4225-acd6-cc44f0612bd2');\n",
              "        const dataTable =\n",
              "          await google.colab.kernel.invokeFunction('convertToInteractive',\n",
              "                                                    [key], {});\n",
              "        if (!dataTable) return;\n",
              "\n",
              "        const docLinkHtml = 'Like what you see? Visit the ' +\n",
              "          '<a target=\"_blank\" href=https://colab.research.google.com/notebooks/data_table.ipynb>data table notebook</a>'\n",
              "          + ' to learn more about interactive tables.';\n",
              "        element.innerHTML = '';\n",
              "        dataTable['output_type'] = 'display_data';\n",
              "        await google.colab.output.renderOutput(dataTable, element);\n",
              "        const docLink = document.createElement('div');\n",
              "        docLink.innerHTML = docLinkHtml;\n",
              "        element.appendChild(docLink);\n",
              "      }\n",
              "    </script>\n",
              "  </div>\n",
              "\n",
              "\n",
              "<div id=\"df-07ee5609-63ce-48cb-88b7-dc66c5b7e092\">\n",
              "  <button class=\"colab-df-quickchart\" onclick=\"quickchart('df-07ee5609-63ce-48cb-88b7-dc66c5b7e092')\"\n",
              "            title=\"Suggest charts\"\n",
              "            style=\"display:none;\">\n",
              "\n",
              "<svg xmlns=\"http://www.w3.org/2000/svg\" height=\"24px\"viewBox=\"0 0 24 24\"\n",
              "     width=\"24px\">\n",
              "    <g>\n",
              "        <path d=\"M19 3H5c-1.1 0-2 .9-2 2v14c0 1.1.9 2 2 2h14c1.1 0 2-.9 2-2V5c0-1.1-.9-2-2-2zM9 17H7v-7h2v7zm4 0h-2V7h2v10zm4 0h-2v-4h2v4z\"/>\n",
              "    </g>\n",
              "</svg>\n",
              "  </button>\n",
              "\n",
              "<style>\n",
              "  .colab-df-quickchart {\n",
              "      --bg-color: #E8F0FE;\n",
              "      --fill-color: #1967D2;\n",
              "      --hover-bg-color: #E2EBFA;\n",
              "      --hover-fill-color: #174EA6;\n",
              "      --disabled-fill-color: #AAA;\n",
              "      --disabled-bg-color: #DDD;\n",
              "  }\n",
              "\n",
              "  [theme=dark] .colab-df-quickchart {\n",
              "      --bg-color: #3B4455;\n",
              "      --fill-color: #D2E3FC;\n",
              "      --hover-bg-color: #434B5C;\n",
              "      --hover-fill-color: #FFFFFF;\n",
              "      --disabled-bg-color: #3B4455;\n",
              "      --disabled-fill-color: #666;\n",
              "  }\n",
              "\n",
              "  .colab-df-quickchart {\n",
              "    background-color: var(--bg-color);\n",
              "    border: none;\n",
              "    border-radius: 50%;\n",
              "    cursor: pointer;\n",
              "    display: none;\n",
              "    fill: var(--fill-color);\n",
              "    height: 32px;\n",
              "    padding: 0;\n",
              "    width: 32px;\n",
              "  }\n",
              "\n",
              "  .colab-df-quickchart:hover {\n",
              "    background-color: var(--hover-bg-color);\n",
              "    box-shadow: 0 1px 2px rgba(60, 64, 67, 0.3), 0 1px 3px 1px rgba(60, 64, 67, 0.15);\n",
              "    fill: var(--button-hover-fill-color);\n",
              "  }\n",
              "\n",
              "  .colab-df-quickchart-complete:disabled,\n",
              "  .colab-df-quickchart-complete:disabled:hover {\n",
              "    background-color: var(--disabled-bg-color);\n",
              "    fill: var(--disabled-fill-color);\n",
              "    box-shadow: none;\n",
              "  }\n",
              "\n",
              "  .colab-df-spinner {\n",
              "    border: 2px solid var(--fill-color);\n",
              "    border-color: transparent;\n",
              "    border-bottom-color: var(--fill-color);\n",
              "    animation:\n",
              "      spin 1s steps(1) infinite;\n",
              "  }\n",
              "\n",
              "  @keyframes spin {\n",
              "    0% {\n",
              "      border-color: transparent;\n",
              "      border-bottom-color: var(--fill-color);\n",
              "      border-left-color: var(--fill-color);\n",
              "    }\n",
              "    20% {\n",
              "      border-color: transparent;\n",
              "      border-left-color: var(--fill-color);\n",
              "      border-top-color: var(--fill-color);\n",
              "    }\n",
              "    30% {\n",
              "      border-color: transparent;\n",
              "      border-left-color: var(--fill-color);\n",
              "      border-top-color: var(--fill-color);\n",
              "      border-right-color: var(--fill-color);\n",
              "    }\n",
              "    40% {\n",
              "      border-color: transparent;\n",
              "      border-right-color: var(--fill-color);\n",
              "      border-top-color: var(--fill-color);\n",
              "    }\n",
              "    60% {\n",
              "      border-color: transparent;\n",
              "      border-right-color: var(--fill-color);\n",
              "    }\n",
              "    80% {\n",
              "      border-color: transparent;\n",
              "      border-right-color: var(--fill-color);\n",
              "      border-bottom-color: var(--fill-color);\n",
              "    }\n",
              "    90% {\n",
              "      border-color: transparent;\n",
              "      border-bottom-color: var(--fill-color);\n",
              "    }\n",
              "  }\n",
              "</style>\n",
              "\n",
              "  <script>\n",
              "    async function quickchart(key) {\n",
              "      const quickchartButtonEl =\n",
              "        document.querySelector('#' + key + ' button');\n",
              "      quickchartButtonEl.disabled = true;  // To prevent multiple clicks.\n",
              "      quickchartButtonEl.classList.add('colab-df-spinner');\n",
              "      try {\n",
              "        const charts = await google.colab.kernel.invokeFunction(\n",
              "            'suggestCharts', [key], {});\n",
              "      } catch (error) {\n",
              "        console.error('Error during call to suggestCharts:', error);\n",
              "      }\n",
              "      quickchartButtonEl.classList.remove('colab-df-spinner');\n",
              "      quickchartButtonEl.classList.add('colab-df-quickchart-complete');\n",
              "    }\n",
              "    (() => {\n",
              "      let quickchartButtonEl =\n",
              "        document.querySelector('#df-07ee5609-63ce-48cb-88b7-dc66c5b7e092 button');\n",
              "      quickchartButtonEl.style.display =\n",
              "        google.colab.kernel.accessAllowed ? 'block' : 'none';\n",
              "    })();\n",
              "  </script>\n",
              "</div>\n",
              "\n",
              "    </div>\n",
              "  </div>\n"
            ],
            "text/plain": [
              "                                             reviews  score  likes  \\\n",
              "0  Olá! Sei que é um app que está em teste, está ...      4    586   \n",
              "1  O app é excelente, a questão é que existem alg...      4    369   \n",
              "2  Sei que ainda está em beta mas, seria interess...      3    509   \n",
              "3  Ficou top o visual da nova versão. Deveriam un...      5    289   \n",
              "4  O aplicativo é realmente muito bom, é o que to...      5     44   \n",
              "\n",
              "         time               app_name  year  \\\n",
              "0  13/11/2021  Xbox Game Pass (Beta)  2021   \n",
              "1  19/07/2022  Xbox Game Pass (Beta)  2022   \n",
              "2  23/11/2021  Xbox Game Pass (Beta)  2021   \n",
              "3  02/07/2020  Xbox Game Pass (Beta)  2020   \n",
              "4  19/10/2021  Xbox Game Pass (Beta)  2021   \n",
              "\n",
              "                                          reviews_en  classification  \n",
              "0  Hello! I know it's an app that's being tested,...               1  \n",
              "1  The app is excellent, the issue is that there ...               1  \n",
              "2  I know it's still in beta, but it would be int...               1  \n",
              "3  The look of the new version was top. They shou...               1  \n",
              "4  The app is really good, it's what everyone exp...               1  "
            ]
          },
          "execution_count": 4,
          "metadata": {},
          "output_type": "execute_result"
        }
      ],
      "source": [
        "df.head()"
      ]
    },
    {
      "cell_type": "markdown",
      "metadata": {
        "id": "md7n-MEqzcs-"
      },
      "source": [
        "### 5.1 - Faça a Análise Exploratória do dataset criado, encontre:\n",
        "---"
      ]
    },
    {
      "cell_type": "markdown",
      "metadata": {
        "id": "2Pb6ljmA0lJu"
      },
      "source": [
        "5.1.1 - Distribuição das classes - Nesse dataset você pode trabalhar tanto com a coluna \"scores\", quanto com \"classification\". Mas use a \"classification\" como referência, sendo 1 == texto com sentimento **positivo**, 0 == **neutro** ou incapaz de classificar e -1 == sentimento **negativo**."
      ]
    },
    {
      "cell_type": "markdown",
      "metadata": {
        "id": "yLv0Kr-Y0yub"
      },
      "source": [
        "_Sua resposta aqui_\n"
      ]
    },
    {
      "cell_type": "code",
      "execution_count": null,
      "metadata": {
        "id": "WFp0IdlzzV4C"
      },
      "outputs": [],
      "source": [
        "# Seu código aqui"
      ]
    },
    {
      "cell_type": "markdown",
      "metadata": {
        "id": "hpD9_JWf0428"
      },
      "source": [
        "5.1.2 - Palavras mais frequentes de cada classe"
      ]
    },
    {
      "cell_type": "markdown",
      "metadata": {
        "id": "OsWvO39c04os"
      },
      "source": [
        "_Sua resposta aqui_\n"
      ]
    },
    {
      "cell_type": "code",
      "execution_count": null,
      "metadata": {
        "id": "_btUa4nt1Aj-"
      },
      "outputs": [],
      "source": [
        "# Seu código aqui"
      ]
    },
    {
      "cell_type": "markdown",
      "metadata": {
        "id": "Q2yXZ4Sp1C9a"
      },
      "source": [
        "5.1.3 - Comparar as palavras mais comuns dos textos negativos e dos positivos."
      ]
    },
    {
      "cell_type": "markdown",
      "metadata": {
        "id": "c15feh671Tm2"
      },
      "source": [
        "_Sua resposta aqui_\n"
      ]
    },
    {
      "cell_type": "code",
      "execution_count": null,
      "metadata": {
        "id": "IFwtUhw41Qg3"
      },
      "outputs": [],
      "source": [
        "# Seu código aqui"
      ]
    },
    {
      "cell_type": "markdown",
      "metadata": {
        "id": "aE8wBCCF1Vi0"
      },
      "source": [
        "5.1.4 - Verifique se os textos com classificação neutra são necessários. Se não forem, exclua-os e justifique; Se forem necessários para a análise, apenas justifique."
      ]
    },
    {
      "cell_type": "markdown",
      "metadata": {
        "id": "rp3qzRpL1VWk"
      },
      "source": [
        "_Sua resposta aqui_\n"
      ]
    },
    {
      "cell_type": "code",
      "execution_count": null,
      "metadata": {
        "id": "bMatSj_31rbu"
      },
      "outputs": [],
      "source": [
        "# Seu código aqui"
      ]
    },
    {
      "cell_type": "markdown",
      "metadata": {
        "id": "t7uSRb8k12jl"
      },
      "source": [
        "### 5.2 - Faça a Limpeza de dados, apresente a sua forma escolhida para:\n",
        "---"
      ]
    },
    {
      "cell_type": "markdown",
      "metadata": {
        "id": "TpBrSF0l1_iU"
      },
      "source": [
        "5.2.1 - Remover pontuação e caracteres especiais, normalizar letras maiúsculas"
      ]
    },
    {
      "cell_type": "markdown",
      "metadata": {
        "id": "azXGoBJ01_Sb"
      },
      "source": [
        "_Sua resposta aqui_\n"
      ]
    },
    {
      "cell_type": "code",
      "execution_count": null,
      "metadata": {
        "id": "oRfkwAri1-VF"
      },
      "outputs": [],
      "source": [
        "# Seu código aqui"
      ]
    },
    {
      "cell_type": "markdown",
      "metadata": {
        "id": "w8m8Vue72AGx"
      },
      "source": [
        "5.2.2 - Tokenizar palavras"
      ]
    },
    {
      "cell_type": "markdown",
      "metadata": {
        "id": "EwTYKJfG2Abm"
      },
      "source": [
        "_Sua resposta aqui_\n"
      ]
    },
    {
      "cell_type": "code",
      "execution_count": null,
      "metadata": {
        "id": "oMkBM2k52BG1"
      },
      "outputs": [],
      "source": [
        "# Seu código aqui"
      ]
    },
    {
      "cell_type": "markdown",
      "metadata": {
        "id": "Xi3rNWfp2B3i"
      },
      "source": [
        "5.2.3 - Remover stop words"
      ]
    },
    {
      "cell_type": "markdown",
      "metadata": {
        "id": "Ccrzyxf-2Bob"
      },
      "source": [
        "_Sua resposta aqui_\n"
      ]
    },
    {
      "cell_type": "code",
      "execution_count": null,
      "metadata": {
        "id": "94iv3zZ62Cd1"
      },
      "outputs": [],
      "source": [
        "# Seu código aqui"
      ]
    },
    {
      "cell_type": "markdown",
      "metadata": {
        "id": "Z85cWOVF2aAl"
      },
      "source": [
        "5.2.4 - Lematização"
      ]
    },
    {
      "cell_type": "markdown",
      "metadata": {
        "id": "g31goKZw2Z20"
      },
      "source": [
        "_Sua resposta aqui_\n"
      ]
    },
    {
      "cell_type": "code",
      "execution_count": null,
      "metadata": {
        "id": "YhkZy9Li2arS"
      },
      "outputs": [],
      "source": [
        "# Seu código aqui"
      ]
    },
    {
      "cell_type": "markdown",
      "metadata": {
        "id": "wC4QjK6aonY6"
      },
      "source": [
        "Parabéns, o pré-processamento de dados é uma das partes mais importantes em NLP, esses são os passos que seguimos para preparar os dados para os modelos de texto."
      ]
    },
    {
      "cell_type": "markdown",
      "metadata": {
        "id": "qbJybuja2g5g"
      },
      "source": [
        "5.3 - Confira se alguns dados classificados como positivo ou negativo (1 ou -1) na coluna \"classification\" estão condizentes com a coluna \"score\", ache as linhas que tem sentimento positivo e tem scores < 3; Ache também as linhas que tem sentimento negativo e tem scores > 3.\n",
        "\n",
        "Elas são as divergências das classificações. Apresente da forma que desejar."
      ]
    },
    {
      "cell_type": "markdown",
      "metadata": {
        "id": "d8WlSaAR2hTB"
      },
      "source": [
        "_Sua resposta aqui_\n"
      ]
    },
    {
      "cell_type": "code",
      "execution_count": null,
      "metadata": {
        "id": "RelOArnX2tnc"
      },
      "outputs": [],
      "source": [
        "# Seu código aqui"
      ]
    },
    {
      "cell_type": "markdown",
      "metadata": {
        "id": "UvyzFXrT3F3q"
      },
      "source": [
        "# Questão 6: Visão Computacional\n",
        "---"
      ]
    },
    {
      "cell_type": "markdown",
      "metadata": {
        "id": "PiePHfP1zlcw"
      },
      "source": [
        "\n",
        "Dentro dessa atividade você terá contato com alguns exercícios de visão computacional, que nada mais é, do que gerir recursos a fim de ensinar uma máquina a \"enxergar\", fazer com que ela gere compreensão. De tal modo, os exercícios abaixo listados visam introduzir-te-á essa área da Inteligência artificial embasadas de forma direta a algumas práticas de visão."
      ]
    },
    {
      "cell_type": "markdown",
      "metadata": {
        "id": "sdR82QJRzrXQ"
      },
      "source": [
        "### 6.1 - Trabalhando com imagens\n",
        "---\n",
        "Logo abaixo é possível ver descrito em código um processo de leitura e plotagem de imagem com python. Leve a figura abaixo em consideração para realizar todas as instruções das subseções da 4.1\n",
        "\n",
        "Obs: Em caso de abertura, ou reabertura de notebook, relembrar de sempre rodar as bibliotecas e varíaveis novamente"
      ]
    },
    {
      "cell_type": "code",
      "execution_count": null,
      "metadata": {
        "id": "34I4BcqH2xy6"
      },
      "outputs": [],
      "source": [
        "from PIL import Image\n",
        "import cv2\n",
        "import requests\n",
        "import numpy as np"
      ]
    },
    {
      "cell_type": "code",
      "execution_count": null,
      "metadata": {
        "id": "YHHoFAv1-h1y"
      },
      "outputs": [],
      "source": [
        "# Funções auxiliares\n",
        "\n",
        "def convert_from_cv2_to_image(img: np.ndarray) -> Image:\n",
        "    return Image.fromarray(img)\n",
        "\n",
        "\n",
        "def convert_from_image_to_cv2(img: Image) -> np.ndarray:\n",
        "    return np.asarray(img)\n",
        "\n",
        "\n",
        "def img_from_url(url):\n",
        "    img = Image.open(requests.get(url, stream=True).raw)\n",
        "    return img\n"
      ]
    },
    {
      "cell_type": "code",
      "execution_count": null,
      "metadata": {
        "colab": {
          "base_uri": "https://localhost:8080/",
          "height": 333
        },
        "id": "vmaI4dKI3Iwr",
        "outputId": "23678ebe-a566-4f3d-eb88-7d696cf4b28b"
      },
      "outputs": [
        {
          "data": {
            "image/png": "[encoded data removed]",
            "text/plain": [
              "<PIL.JpegImagePlugin.JpegImageFile image mode=RGB size=316x316>"
            ]
          },
          "execution_count": 22,
          "metadata": {},
          "output_type": "execute_result"
        }
      ],
      "source": [
        "url = 'https://upload.wikimedia.org/wikipedia/en/4/42/Beatles_-_Abbey_Road.jpg'\n",
        "\n",
        "pil_img = img_from_url(url)\n",
        "pil_img"
      ]
    },
    {
      "cell_type": "markdown",
      "metadata": {
        "id": "CQ3fglQRzw8U"
      },
      "source": [
        "### 6.2 - Detecção de Bordas\n",
        "---\n",
        "**Descrição:**\n",
        "\\\n",
        "Dentro da visão computacional existe o conceito de bordas, que nada mais é do que determinar características de contornos de objetos em uma foto.\n",
        "\n",
        "\n",
        "**Tarefa:**\n",
        "\\\n",
        "Tendo isso em mente, realize o processo de delimitação de bordas na imagem abaixo utilizando a função Canny Edge Detector do OpenCV."
      ]
    },
    {
      "cell_type": "code",
      "execution_count": null,
      "metadata": {
        "id": "rx7MGD1e0wce"
      },
      "outputs": [],
      "source": [
        "'''\n",
        "O código abaixo converte a imagem carregada pela biblioteca Pillow para o\n",
        "formato do OpenCV (numpy array).\n",
        "'''\n",
        "\n",
        "open_cv_image = convert_from_image_to_cv2(pil_img)"
      ]
    },
    {
      "cell_type": "code",
      "execution_count": null,
      "metadata": {
        "id": "4GfwC-JD31bA"
      },
      "outputs": [],
      "source": [
        "# Seu código aqui\n",
        "# Aplicar os filtros na variável 'open_cv_image' com as funções do OpenCV\n"
      ]
    },
    {
      "cell_type": "code",
      "execution_count": null,
      "metadata": {
        "id": "a5RrYi_U4pPU"
      },
      "outputs": [],
      "source": [
        "'''\n",
        "Depois de aplicar o filtro, converta de volta para o formato do Pillow\n",
        "e printe a imagem.\n",
        "'''\n",
        "\n",
        "pillow_image = convert_from_cv2_to_image(open_cv_image)\n",
        "pillow_image"
      ]
    },
    {
      "cell_type": "markdown",
      "metadata": {
        "id": "PiDpGPQ949np"
      },
      "source": [
        "### 6.3 - Binarização\n",
        "---\n",
        "**Descrição:**\n",
        "\\\n",
        "O processo de binarização consiste em transformar os pixels de uma imagem em regiões pretas e brancas, resultando numa forma mais simplificada da image.\n",
        "\n",
        "\n",
        "**Tarefa:**\n",
        "\\\n",
        "Ralizar o processo de Binarização da imagem pelo OpenCV utilizando o método Otsu.\n"
      ]
    },
    {
      "cell_type": "code",
      "execution_count": null,
      "metadata": {
        "id": "lJUn5wCb5M8d"
      },
      "outputs": [],
      "source": [
        "# Seu código aqui"
      ]
    },
    {
      "cell_type": "markdown",
      "metadata": {
        "id": "yxcKoD1-5xlF"
      },
      "source": [
        "### 6.4 - Histograma\n",
        "---\n",
        "**Descrição:**\n",
        "\\\n",
        "Exibir uma imagem em histograma representa os tons distribuidos da imagem. Esse conceito é muito importante pois pode ser utilizado para equalizar a imagem através de um histograma.\n",
        "\n",
        "**Tarefa:**\n",
        "\\\n",
        "Transforme a imagem para escala de cinza e plote o histograma da imagem"
      ]
    },
    {
      "cell_type": "code",
      "execution_count": null,
      "metadata": {
        "id": "XFO0yJvV6hr_"
      },
      "outputs": [],
      "source": [
        "# Seu código aqui"
      ]
    },
    {
      "cell_type": "markdown",
      "metadata": {
        "id": "GDn6_IHV7azT"
      },
      "source": [
        "### 6.5 - Normalização e equalização:\n",
        "---\n",
        "**Descrição**:\n",
        "As operações de normalização e equalização evitam que imagens tenham partes excessivamente claras ou escuras, fazendo com que elas fiquem melhor distribuidas e tenham um contraste mais agradável, isso melhora a visualização de detalhes. Uma das suas utilidades é o tratamento de imagens muito claras ou escuras.\n",
        "\n",
        "![Exemplo de imagem normalizada](https://miro.medium.com/v2/resize:fit:1400/1*IRap5GYPH_DDeyrqbj446A.png)\n",
        "\n",
        "Pegue sua imagem em escala de cinza e aplique as seguintes operações nela.\n",
        "1. Normalização de histograma;\n",
        "2. Equalização de histograma;"
      ]
    },
    {
      "cell_type": "markdown",
      "metadata": {
        "id": "pW60079zRM6T"
      },
      "source": [
        "# Questão 7: Machine Learning\n",
        "---"
      ]
    },
    {
      "cell_type": "markdown",
      "metadata": {
        "id": "Y4nWURpcRix5"
      },
      "source": [
        "**Contexto:**\n",
        "\n",
        "Nesta questão, vocês irão lidar diretamente com a aplicação prática de modelos de Machine Learning, fazendo uso de dois tipos diferentes de aprendizagem: Aprendizado Supervisionado e Aprendizado Não-Supervisionado.\n",
        "\n",
        "**Tarefa:**\n",
        "\n",
        "Considerando o dataset abaixo, aplique um modelo de sua escolha para cada tipo de aprendizado citado acima. A biblioteca usada para implementação, o pipeline de tratamento dos dados e o atributo de saída(no caso do supervisionado) ficam inteiramente à escolha do candidato.\n",
        "\n",
        "**Objetivo da Tarefa:**\n",
        "\n",
        "O objetivo dessa tarefa é ver como vocês tomam decisões durante a aplicação dos modelos, seja como escolhem o atributo de saída, ou quais colunas são mantidas no treinamento, ou quantos clusteres escolhem, além de ver como vocês interpretam os resultados obtidos após o treinamento.\n",
        "\n",
        "**Recursos gerais:**\n",
        "\n",
        "As aulas da Professora Thaís que disponibilizamos no início do notebook são um excelente ponto de partida para desenvolver essa questão e, junto a elas, disponibilizaremos documentação para auxiliá-los com cada modelo."
      ]
    },
    {
      "cell_type": "markdown",
      "metadata": {
        "id": "FDuE0pRVSl4h"
      },
      "source": [
        "### Entendendo o dataset\n",
        "Este dataset contém informações sobre os 1000 filmes mais avaliados do TMDb (The Movie Database). Ele possui 1000 elementos com 19 atributos.\n",
        "\n",
        "Seus atributos são:\n",
        "* Title -> Título do filme em inglês\n",
        "* Vote_average -> Média das avaliações recebidas\n",
        "* Vote_count -> Quantidade de avaliações recebidas\n",
        "* Status -> Se o filme já foi lançado ou não\n",
        "* Release_date -> Data do lançamento (AAAA-MM-DD)\n",
        "* Revenue -> Receita total do filme em $\n",
        "* Runtime -> Duração do filme em minutos\n",
        "* Adult -> Se ele é marcado como adulto ou não\n",
        "* Budget -> Orçamento da produção\n",
        "* Original_language -> Idioma original do filme\n",
        "* Original_title -> Título no idioma original\n",
        "* Overview -> Seria como uma sinopse do filme\n",
        "* Tagline -> Uma frase de efeito ou linha memorável associada a ele\n",
        "* Genres -> Gêneros que ele possui\n",
        "* Production_companies -> Estúdios que o produziram\n",
        "* Production_countries -> Países envolvidos na produção\n",
        "* Spoken_languages -> Línguas que são faladas no filme\n",
        "* Keywords -> Palavras-chave que o descrevem\n",
        "* Id -> Id do filme na nossa base"
      ]
    },
    {
      "cell_type": "markdown",
      "metadata": {
        "id": "dXnaqyeOSryS"
      },
      "source": [
        "### 7.1 Importação do dataset\n"
      ]
    },
    {
      "cell_type": "code",
      "execution_count": null,
      "metadata": {
        "colab": {
          "base_uri": "https://localhost:8080/",
          "height": 660
        },
        "id": "2pASprY3TDyr",
        "outputId": "00770633-2f6c-44a5-fc04-1a126dcbdf78"
      },
      "outputs": [
        {
          "data": {
            "application/vnd.google.colaboratory.intrinsic+json": {
              "summary": "{\n  \"name\": \"movies\",\n  \"rows\": 1000,\n  \"fields\": [\n    {\n      \"column\": \"title\",\n      \"properties\": {\n        \"dtype\": \"string\",\n        \"num_unique_values\": 987,\n        \"samples\": [\n          \"Halloween\",\n          \"Captain America: The Winter Soldier\",\n          \"Moon\"\n        ],\n        \"semantic_type\": \"\",\n        \"description\": \"\"\n      }\n    },\n    {\n      \"column\": \"vote_average\",\n      \"properties\": {\n        \"dtype\": \"number\",\n        \"std\": 0.6991683956454764,\n        \"min\": 4.331,\n        \"max\": 8.707,\n        \"num_unique_values\": 789,\n        \"samples\": [\n          8.359,\n          7.185,\n          6.805\n        ],\n        \"semantic_type\": \"\",\n        \"description\": \"\"\n      }\n    },\n    {\n      \"column\": \"vote_count\",\n      \"properties\": {\n        \"dtype\": \"number\",\n        \"std\": 4783,\n        \"min\": 4235,\n        \"max\": 34495,\n        \"num_unique_values\": 941,\n        \"samples\": [\n          4931,\n          5135,\n          12916\n        ],\n        \"semantic_type\": \"\",\n        \"description\": \"\"\n      }\n    },\n    {\n      \"column\": \"status\",\n      \"properties\": {\n        \"dtype\": \"category\",\n        \"num_unique_values\": 1,\n        \"samples\": [\n          \"Released\"\n        ],\n        \"semantic_type\": \"\",\n        \"description\": \"\"\n      }\n    },\n    {\n      \"column\": \"release_date\",\n      \"properties\": {\n        \"dtype\": \"object\",\n        \"num_unique_values\": 932,\n        \"samples\": [\n          \"2002-10-18\"\n        ],\n        \"semantic_type\": \"\",\n        \"description\": \"\"\n      }\n    },\n    {\n      \"column\": \"revenue\",\n      \"properties\": {\n        \"dtype\": \"number\",\n        \"std\": 341020713,\n        \"min\": 0,\n        \"max\": 2923706026,\n        \"num_unique_values\": 988,\n        \"samples\": [\n          247275374\n        ],\n        \"semantic_type\": \"\",\n        \"description\": \"\"\n      }\n    },\n    {\n      \"column\": \"runtime\",\n      \"properties\": {\n        \"dtype\": \"number\",\n        \"std\": 22,\n        \"min\": 64,\n        \"max\": 242,\n        \"num_unique_values\": 115,\n        \"samples\": [\n          64\n        ],\n        \"semantic_type\": \"\",\n        \"description\": \"\"\n      }\n    },\n    {\n      \"column\": \"adult\",\n      \"properties\": {\n        \"dtype\": \"boolean\",\n        \"num_unique_values\": 1,\n        \"samples\": [\n          false\n        ],\n        \"semantic_type\": \"\",\n        \"description\": \"\"\n      }\n    },\n    {\n      \"column\": \"budget\",\n      \"properties\": {\n        \"dtype\": \"number\",\n        \"std\": 69676233,\n        \"min\": 0,\n        \"max\": 460000000,\n        \"num_unique_values\": 211,\n        \"samples\": [\n          14000000\n        ],\n        \"semantic_type\": \"\",\n        \"description\": \"\"\n      }\n    },\n    {\n      \"column\": \"original_language\",\n      \"properties\": {\n        \"dtype\": \"category\",\n        \"num_unique_values\": 9,\n        \"samples\": [\n          \"ko\"\n        ],\n        \"semantic_type\": \"\",\n        \"description\": \"\"\n      }\n    },\n    {\n      \"column\": \"original_title\",\n      \"properties\": {\n        \"dtype\": \"string\",\n        \"num_unique_values\": 987,\n        \"samples\": [\n          \"Halloween\"\n        ],\n        \"semantic_type\": \"\",\n        \"description\": \"\"\n      }\n    },\n    {\n      \"column\": \"overview\",\n      \"properties\": {\n        \"dtype\": \"string\",\n        \"num_unique_values\": 1000,\n        \"samples\": [\n          \"Benjamin Franklin Gates and Abigail Chase re-team with Riley Poole and, now armed with a stack of long-lost pages from John Wilkes Booth's diary, Ben must follow a clue left there to prove his ancestor's innocence in the assassination of Abraham Lincoln.\"\n        ],\n        \"semantic_type\": \"\",\n        \"description\": \"\"\n      }\n    },\n    {\n      \"column\": \"tagline\",\n      \"properties\": {\n        \"dtype\": \"string\",\n        \"num_unique_values\": 965,\n        \"samples\": [\n          \"The one is not the only.\"\n        ],\n        \"semantic_type\": \"\",\n        \"description\": \"\"\n      }\n    },\n    {\n      \"column\": \"genres\",\n      \"properties\": {\n        \"dtype\": \"category\",\n        \"num_unique_values\": 462,\n        \"samples\": [\n          \"Drama, Science Fiction, Thriller\"\n        ],\n        \"semantic_type\": \"\",\n        \"description\": \"\"\n      }\n    },\n    {\n      \"column\": \"production_companies\",\n      \"properties\": {\n        \"dtype\": \"string\",\n        \"num_unique_values\": 848,\n        \"samples\": [\n          \"Ground Control, Columbia Pictures, Scott Rudin Productions, Film Rites, Metro-Goldwyn-Mayer, Yellow Bird\"\n        ],\n        \"semantic_type\": \"\",\n        \"description\": \"\"\n      }\n    },\n    {\n      \"column\": \"production_countries\",\n      \"properties\": {\n        \"dtype\": \"category\",\n        \"num_unique_values\": 141,\n        \"samples\": [\n          \"Belgium, Canada, Germany, Ireland, United Kingdom\"\n        ],\n        \"semantic_type\": \"\",\n        \"description\": \"\"\n      }\n    },\n    {\n      \"column\": \"spoken_languages\",\n      \"properties\": {\n        \"dtype\": \"category\",\n        \"num_unique_values\": 221,\n        \"samples\": [\n          \"English, Italian, Hebrew\"\n        ],\n        \"semantic_type\": \"\",\n        \"description\": \"\"\n      }\n    },\n    {\n      \"column\": \"keywords\",\n      \"properties\": {\n        \"dtype\": \"string\",\n        \"num_unique_values\": 997,\n        \"samples\": [\n          \"london, england, usa president, rock star, school performance, love at first sight, holiday, war on terror, marseille, france, office, christmas party, language barrier, prime minister, press conference, bars and restaurants, valentine's day, heathrow airport, multiple storylines, christmas\"\n        ],\n        \"semantic_type\": \"\",\n        \"description\": \"\"\n      }\n    },\n    {\n      \"column\": \"id\",\n      \"properties\": {\n        \"dtype\": \"number\",\n        \"std\": 288,\n        \"min\": 1,\n        \"max\": 1000,\n        \"num_unique_values\": 1000,\n        \"samples\": [\n          522\n        ],\n        \"semantic_type\": \"\",\n        \"description\": \"\"\n      }\n    }\n  ]\n}",
              "type": "dataframe",
              "variable_name": "movies"
            },
            "text/html": [
              "\n",
              "  <div id=\"df-04113fb6-b224-42aa-ac33-92a871d76f47\" class=\"colab-df-container\">\n",
              "    <div>\n",
              "<style scoped>\n",
              "    .dataframe tbody tr th:only-of-type {\n",
              "        vertical-align: middle;\n",
              "    }\n",
              "\n",
              "    .dataframe tbody tr th {\n",
              "        vertical-align: top;\n",
              "    }\n",
              "\n",
              "    .dataframe thead th {\n",
              "        text-align: right;\n",
              "    }\n",
              "</style>\n",
              "<table border=\"1\" class=\"dataframe\">\n",
              "  <thead>\n",
              "    <tr style=\"text-align: right;\">\n",
              "      <th></th>\n",
              "      <th>title</th>\n",
              "      <th>vote_average</th>\n",
              "      <th>vote_count</th>\n",
              "      <th>status</th>\n",
              "      <th>release_date</th>\n",
              "      <th>revenue</th>\n",
              "      <th>runtime</th>\n",
              "      <th>adult</th>\n",
              "      <th>budget</th>\n",
              "      <th>original_language</th>\n",
              "      <th>original_title</th>\n",
              "      <th>overview</th>\n",
              "      <th>tagline</th>\n",
              "      <th>genres</th>\n",
              "      <th>production_companies</th>\n",
              "      <th>production_countries</th>\n",
              "      <th>spoken_languages</th>\n",
              "      <th>keywords</th>\n",
              "      <th>id</th>\n",
              "    </tr>\n",
              "  </thead>\n",
              "  <tbody>\n",
              "    <tr>\n",
              "      <th>0</th>\n",
              "      <td>(500) Days of Summer</td>\n",
              "      <td>7.272</td>\n",
              "      <td>9359</td>\n",
              "      <td>Released</td>\n",
              "      <td>2009-07-17</td>\n",
              "      <td>60781545</td>\n",
              "      <td>95</td>\n",
              "      <td>False</td>\n",
              "      <td>7500000</td>\n",
              "      <td>en</td>\n",
              "      <td>(500) Days of Summer</td>\n",
              "      <td>Tom, greeting-card writer and hopeless romanti...</td>\n",
              "      <td>This is not a love story. This is a story abou...</td>\n",
              "      <td>Comedy, Drama, Romance</td>\n",
              "      <td>Fox Searchlight Pictures, Watermark Pictures, ...</td>\n",
              "      <td>United States of America</td>\n",
              "      <td>English, French, Swedish</td>\n",
              "      <td>jealousy, gallery, fight, date, architect, int...</td>\n",
              "      <td>1</td>\n",
              "    </tr>\n",
              "    <tr>\n",
              "      <th>1</th>\n",
              "      <td>10 Cloverfield Lane</td>\n",
              "      <td>6.981</td>\n",
              "      <td>7377</td>\n",
              "      <td>Released</td>\n",
              "      <td>2016-03-10</td>\n",
              "      <td>110216998</td>\n",
              "      <td>104</td>\n",
              "      <td>False</td>\n",
              "      <td>15000000</td>\n",
              "      <td>en</td>\n",
              "      <td>10 Cloverfield Lane</td>\n",
              "      <td>After getting in a car accident, a woman is he...</td>\n",
              "      <td>Monsters come in many forms.</td>\n",
              "      <td>Thriller, Science Fiction, Drama, Horror</td>\n",
              "      <td>Bad Robot</td>\n",
              "      <td>United States of America</td>\n",
              "      <td>English</td>\n",
              "      <td>kidnapping, paranoia, bunker, basement, surviv...</td>\n",
              "      <td>2</td>\n",
              "    </tr>\n",
              "    <tr>\n",
              "      <th>2</th>\n",
              "      <td>10 Things I Hate About You</td>\n",
              "      <td>7.580</td>\n",
              "      <td>7386</td>\n",
              "      <td>Released</td>\n",
              "      <td>1999-03-30</td>\n",
              "      <td>53478166</td>\n",
              "      <td>97</td>\n",
              "      <td>False</td>\n",
              "      <td>16000000</td>\n",
              "      <td>en</td>\n",
              "      <td>10 Things I Hate About You</td>\n",
              "      <td>On the first day at his new school, Cameron in...</td>\n",
              "      <td>How do I loathe thee? Let me count the ways.</td>\n",
              "      <td>Comedy, Romance, Drama</td>\n",
              "      <td>Mad Chance, Jaret Entertainment</td>\n",
              "      <td>United States of America</td>\n",
              "      <td>English, French</td>\n",
              "      <td>high school, deception, based on play or music...</td>\n",
              "      <td>3</td>\n",
              "    </tr>\n",
              "    <tr>\n",
              "      <th>3</th>\n",
              "      <td>12 Angry Men</td>\n",
              "      <td>8.540</td>\n",
              "      <td>7658</td>\n",
              "      <td>Released</td>\n",
              "      <td>1957-04-10</td>\n",
              "      <td>1000000</td>\n",
              "      <td>97</td>\n",
              "      <td>False</td>\n",
              "      <td>350000</td>\n",
              "      <td>en</td>\n",
              "      <td>12 Angry Men</td>\n",
              "      <td>The defense and the prosecution have rested an...</td>\n",
              "      <td>Life is in their hands. Death is on their minds.</td>\n",
              "      <td>Drama</td>\n",
              "      <td>United Artists, Orion-Nova Productions</td>\n",
              "      <td>United States of America</td>\n",
              "      <td>English</td>\n",
              "      <td>death penalty, anonymity, court case, court, j...</td>\n",
              "      <td>4</td>\n",
              "    </tr>\n",
              "    <tr>\n",
              "      <th>4</th>\n",
              "      <td>12 Years a Slave</td>\n",
              "      <td>7.945</td>\n",
              "      <td>10603</td>\n",
              "      <td>Released</td>\n",
              "      <td>2013-10-18</td>\n",
              "      <td>187000000</td>\n",
              "      <td>134</td>\n",
              "      <td>False</td>\n",
              "      <td>20000000</td>\n",
              "      <td>en</td>\n",
              "      <td>12 Years a Slave</td>\n",
              "      <td>In the pre-Civil War United States, Solomon No...</td>\n",
              "      <td>The extraordinary true story of Solomon Northup</td>\n",
              "      <td>Drama, History</td>\n",
              "      <td>New Regency Pictures, Plan B Entertainment, Ri...</td>\n",
              "      <td>United States of America, United Kingdom</td>\n",
              "      <td>English</td>\n",
              "      <td>slavery, plantation, based on memoir or autobi...</td>\n",
              "      <td>5</td>\n",
              "    </tr>\n",
              "  </tbody>\n",
              "</table>\n",
              "</div>\n",
              "    <div class=\"colab-df-buttons\">\n",
              "\n",
              "  <div class=\"colab-df-container\">\n",
              "    <button class=\"colab-df-convert\" onclick=\"convertToInteractive('df-04113fb6-b224-42aa-ac33-92a871d76f47')\"\n",
              "            title=\"Convert this dataframe to an interactive table.\"\n",
              "            style=\"display:none;\">\n",
              "\n",
              "  <svg xmlns=\"http://www.w3.org/2000/svg\" height=\"24px\" viewBox=\"0 -960 960 960\">\n",
              "    <path d=\"M120-120v-720h720v720H120Zm60-500h600v-160H180v160Zm220 220h160v-160H400v160Zm0 220h160v-160H400v160ZM180-400h160v-160H180v160Zm440 0h160v-160H620v160ZM180-180h160v-160H180v160Zm440 0h160v-160H620v160Z\"/>\n",
              "  </svg>\n",
              "    </button>\n",
              "\n",
              "  <style>\n",
              "    .colab-df-container {\n",
              "      display:flex;\n",
              "      gap: 12px;\n",
              "    }\n",
              "\n",
              "    .colab-df-convert {\n",
              "      background-color: #E8F0FE;\n",
              "      border: none;\n",
              "      border-radius: 50%;\n",
              "      cursor: pointer;\n",
              "      display: none;\n",
              "      fill: #1967D2;\n",
              "      height: 32px;\n",
              "      padding: 0 0 0 0;\n",
              "      width: 32px;\n",
              "    }\n",
              "\n",
              "    .colab-df-convert:hover {\n",
              "      background-color: #E2EBFA;\n",
              "      box-shadow: 0px 1px 2px rgba(60, 64, 67, 0.3), 0px 1px 3px 1px rgba(60, 64, 67, 0.15);\n",
              "      fill: #174EA6;\n",
              "    }\n",
              "\n",
              "    .colab-df-buttons div {\n",
              "      margin-bottom: 4px;\n",
              "    }\n",
              "\n",
              "    [theme=dark] .colab-df-convert {\n",
              "      background-color: #3B4455;\n",
              "      fill: #D2E3FC;\n",
              "    }\n",
              "\n",
              "    [theme=dark] .colab-df-convert:hover {\n",
              "      background-color: #434B5C;\n",
              "      box-shadow: 0px 1px 3px 1px rgba(0, 0, 0, 0.15);\n",
              "      filter: drop-shadow(0px 1px 2px rgba(0, 0, 0, 0.3));\n",
              "      fill: #FFFFFF;\n",
              "    }\n",
              "  </style>\n",
              "\n",
              "    <script>\n",
              "      const buttonEl =\n",
              "        document.querySelector('#df-04113fb6-b224-42aa-ac33-92a871d76f47 button.colab-df-convert');\n",
              "      buttonEl.style.display =\n",
              "        google.colab.kernel.accessAllowed ? 'block' : 'none';\n",
              "\n",
              "      async function convertToInteractive(key) {\n",
              "        const element = document.querySelector('#df-04113fb6-b224-42aa-ac33-92a871d76f47');\n",
              "        const dataTable =\n",
              "          await google.colab.kernel.invokeFunction('convertToInteractive',\n",
              "                                                    [key], {});\n",
              "        if (!dataTable) return;\n",
              "\n",
              "        const docLinkHtml = 'Like what you see? Visit the ' +\n",
              "          '<a target=\"_blank\" href=https://colab.research.google.com/notebooks/data_table.ipynb>data table notebook</a>'\n",
              "          + ' to learn more about interactive tables.';\n",
              "        element.innerHTML = '';\n",
              "        dataTable['output_type'] = 'display_data';\n",
              "        await google.colab.output.renderOutput(dataTable, element);\n",
              "        const docLink = document.createElement('div');\n",
              "        docLink.innerHTML = docLinkHtml;\n",
              "        element.appendChild(docLink);\n",
              "      }\n",
              "    </script>\n",
              "  </div>\n",
              "\n",
              "\n",
              "<div id=\"df-c5702391-6341-4940-81c4-2544f26564e5\">\n",
              "  <button class=\"colab-df-quickchart\" onclick=\"quickchart('df-c5702391-6341-4940-81c4-2544f26564e5')\"\n",
              "            title=\"Suggest charts\"\n",
              "            style=\"display:none;\">\n",
              "\n",
              "<svg xmlns=\"http://www.w3.org/2000/svg\" height=\"24px\"viewBox=\"0 0 24 24\"\n",
              "     width=\"24px\">\n",
              "    <g>\n",
              "        <path d=\"M19 3H5c-1.1 0-2 .9-2 2v14c0 1.1.9 2 2 2h14c1.1 0 2-.9 2-2V5c0-1.1-.9-2-2-2zM9 17H7v-7h2v7zm4 0h-2V7h2v10zm4 0h-2v-4h2v4z\"/>\n",
              "    </g>\n",
              "</svg>\n",
              "  </button>\n",
              "\n",
              "<style>\n",
              "  .colab-df-quickchart {\n",
              "      --bg-color: #E8F0FE;\n",
              "      --fill-color: #1967D2;\n",
              "      --hover-bg-color: #E2EBFA;\n",
              "      --hover-fill-color: #174EA6;\n",
              "      --disabled-fill-color: #AAA;\n",
              "      --disabled-bg-color: #DDD;\n",
              "  }\n",
              "\n",
              "  [theme=dark] .colab-df-quickchart {\n",
              "      --bg-color: #3B4455;\n",
              "      --fill-color: #D2E3FC;\n",
              "      --hover-bg-color: #434B5C;\n",
              "      --hover-fill-color: #FFFFFF;\n",
              "      --disabled-bg-color: #3B4455;\n",
              "      --disabled-fill-color: #666;\n",
              "  }\n",
              "\n",
              "  .colab-df-quickchart {\n",
              "    background-color: var(--bg-color);\n",
              "    border: none;\n",
              "    border-radius: 50%;\n",
              "    cursor: pointer;\n",
              "    display: none;\n",
              "    fill: var(--fill-color);\n",
              "    height: 32px;\n",
              "    padding: 0;\n",
              "    width: 32px;\n",
              "  }\n",
              "\n",
              "  .colab-df-quickchart:hover {\n",
              "    background-color: var(--hover-bg-color);\n",
              "    box-shadow: 0 1px 2px rgba(60, 64, 67, 0.3), 0 1px 3px 1px rgba(60, 64, 67, 0.15);\n",
              "    fill: var(--button-hover-fill-color);\n",
              "  }\n",
              "\n",
              "  .colab-df-quickchart-complete:disabled,\n",
              "  .colab-df-quickchart-complete:disabled:hover {\n",
              "    background-color: var(--disabled-bg-color);\n",
              "    fill: var(--disabled-fill-color);\n",
              "    box-shadow: none;\n",
              "  }\n",
              "\n",
              "  .colab-df-spinner {\n",
              "    border: 2px solid var(--fill-color);\n",
              "    border-color: transparent;\n",
              "    border-bottom-color: var(--fill-color);\n",
              "    animation:\n",
              "      spin 1s steps(1) infinite;\n",
              "  }\n",
              "\n",
              "  @keyframes spin {\n",
              "    0% {\n",
              "      border-color: transparent;\n",
              "      border-bottom-color: var(--fill-color);\n",
              "      border-left-color: var(--fill-color);\n",
              "    }\n",
              "    20% {\n",
              "      border-color: transparent;\n",
              "      border-left-color: var(--fill-color);\n",
              "      border-top-color: var(--fill-color);\n",
              "    }\n",
              "    30% {\n",
              "      border-color: transparent;\n",
              "      border-left-color: var(--fill-color);\n",
              "      border-top-color: var(--fill-color);\n",
              "      border-right-color: var(--fill-color);\n",
              "    }\n",
              "    40% {\n",
              "      border-color: transparent;\n",
              "      border-right-color: var(--fill-color);\n",
              "      border-top-color: var(--fill-color);\n",
              "    }\n",
              "    60% {\n",
              "      border-color: transparent;\n",
              "      border-right-color: var(--fill-color);\n",
              "    }\n",
              "    80% {\n",
              "      border-color: transparent;\n",
              "      border-right-color: var(--fill-color);\n",
              "      border-bottom-color: var(--fill-color);\n",
              "    }\n",
              "    90% {\n",
              "      border-color: transparent;\n",
              "      border-bottom-color: var(--fill-color);\n",
              "    }\n",
              "  }\n",
              "</style>\n",
              "\n",
              "  <script>\n",
              "    async function quickchart(key) {\n",
              "      const quickchartButtonEl =\n",
              "        document.querySelector('#' + key + ' button');\n",
              "      quickchartButtonEl.disabled = true;  // To prevent multiple clicks.\n",
              "      quickchartButtonEl.classList.add('colab-df-spinner');\n",
              "      try {\n",
              "        const charts = await google.colab.kernel.invokeFunction(\n",
              "            'suggestCharts', [key], {});\n",
              "      } catch (error) {\n",
              "        console.error('Error during call to suggestCharts:', error);\n",
              "      }\n",
              "      quickchartButtonEl.classList.remove('colab-df-spinner');\n",
              "      quickchartButtonEl.classList.add('colab-df-quickchart-complete');\n",
              "    }\n",
              "    (() => {\n",
              "      let quickchartButtonEl =\n",
              "        document.querySelector('#df-c5702391-6341-4940-81c4-2544f26564e5 button');\n",
              "      quickchartButtonEl.style.display =\n",
              "        google.colab.kernel.accessAllowed ? 'block' : 'none';\n",
              "    })();\n",
              "  </script>\n",
              "</div>\n",
              "\n",
              "    </div>\n",
              "  </div>\n"
            ],
            "text/plain": [
              "                        title  vote_average  vote_count    status  \\\n",
              "0        (500) Days of Summer         7.272        9359  Released   \n",
              "1         10 Cloverfield Lane         6.981        7377  Released   \n",
              "2  10 Things I Hate About You         7.580        7386  Released   \n",
              "3                12 Angry Men         8.540        7658  Released   \n",
              "4            12 Years a Slave         7.945       10603  Released   \n",
              "\n",
              "  release_date    revenue  runtime  adult    budget original_language  \\\n",
              "0   2009-07-17   60781545       95  False   7500000                en   \n",
              "1   2016-03-10  110216998      104  False  15000000                en   \n",
              "2   1999-03-30   53478166       97  False  16000000                en   \n",
              "3   1957-04-10    1000000       97  False    350000                en   \n",
              "4   2013-10-18  187000000      134  False  20000000                en   \n",
              "\n",
              "               original_title  \\\n",
              "0        (500) Days of Summer   \n",
              "1         10 Cloverfield Lane   \n",
              "2  10 Things I Hate About You   \n",
              "3                12 Angry Men   \n",
              "4            12 Years a Slave   \n",
              "\n",
              "                                            overview  \\\n",
              "0  Tom, greeting-card writer and hopeless romanti...   \n",
              "1  After getting in a car accident, a woman is he...   \n",
              "2  On the first day at his new school, Cameron in...   \n",
              "3  The defense and the prosecution have rested an...   \n",
              "4  In the pre-Civil War United States, Solomon No...   \n",
              "\n",
              "                                             tagline  \\\n",
              "0  This is not a love story. This is a story abou...   \n",
              "1                       Monsters come in many forms.   \n",
              "2       How do I loathe thee? Let me count the ways.   \n",
              "3   Life is in their hands. Death is on their minds.   \n",
              "4    The extraordinary true story of Solomon Northup   \n",
              "\n",
              "                                     genres  \\\n",
              "0                    Comedy, Drama, Romance   \n",
              "1  Thriller, Science Fiction, Drama, Horror   \n",
              "2                    Comedy, Romance, Drama   \n",
              "3                                     Drama   \n",
              "4                            Drama, History   \n",
              "\n",
              "                                production_companies  \\\n",
              "0  Fox Searchlight Pictures, Watermark Pictures, ...   \n",
              "1                                          Bad Robot   \n",
              "2                    Mad Chance, Jaret Entertainment   \n",
              "3             United Artists, Orion-Nova Productions   \n",
              "4  New Regency Pictures, Plan B Entertainment, Ri...   \n",
              "\n",
              "                       production_countries          spoken_languages  \\\n",
              "0                  United States of America  English, French, Swedish   \n",
              "1                  United States of America                   English   \n",
              "2                  United States of America           English, French   \n",
              "3                  United States of America                   English   \n",
              "4  United States of America, United Kingdom                   English   \n",
              "\n",
              "                                            keywords  id  \n",
              "0  jealousy, gallery, fight, date, architect, int...   1  \n",
              "1  kidnapping, paranoia, bunker, basement, surviv...   2  \n",
              "2  high school, deception, based on play or music...   3  \n",
              "3  death penalty, anonymity, court case, court, j...   4  \n",
              "4  slavery, plantation, based on memoir or autobi...   5  "
            ]
          },
          "execution_count": 1,
          "metadata": {},
          "output_type": "execute_result"
        }
      ],
      "source": [
        "import pandas as pd\n",
        "\n",
        "movies = pd.read_csv('https://raw.githubusercontent.com/TailUFPB/processo2fase/master/2024.2/data/top1000_tmdb.csv')\n",
        "movies.head()"
      ]
    },
    {
      "cell_type": "markdown",
      "metadata": {
        "id": "1v2pqodrTERu"
      },
      "source": [
        "### 7.2 Preparando o dataframe\n",
        "Faça as manipulações necessárias no dataframe para poder utilizá-lo nos modelos."
      ]
    },
    {
      "cell_type": "markdown",
      "metadata": {
        "id": "Ahl3nkFTN3hu"
      },
      "source": [
        "Dica: Limpe os dados e depois separe-os em pré-processamentos diferentes para cada tipo de aprendizado."
      ]
    },
    {
      "cell_type": "code",
      "execution_count": null,
      "metadata": {
        "id": "Wv6vOO66TQ_y"
      },
      "outputs": [],
      "source": [
        "# Seu código aqui"
      ]
    },
    {
      "cell_type": "markdown",
      "metadata": {
        "id": "-48vwHd0VECT"
      },
      "source": [
        "### 7.3 Aprendizado Supervisionado\n",
        "No aprendizado supervisionado, nós temos os atributos de saída no dataset de treinamento e nosso objetivo é treinar o modelo usando esses dados para prever esses valores em novos dados.\n",
        "\n",
        "É importante que você faça o calculo de métricas de avaliação na hora da apresentação dos resultados."
      ]
    },
    {
      "cell_type": "markdown",
      "metadata": {
        "id": "LOpMlxtVQWrV"
      },
      "source": [
        "Dica: Você pode utilizar alguma classe com valores numéricos para fazer uma regressão ou tentar fazer uma classificação dos atributos nominais (cuidado com os multivalorados)"
      ]
    },
    {
      "cell_type": "markdown",
      "metadata": {
        "id": "UnPgn07RXaLs"
      },
      "source": [
        "**Recursos:**\n",
        "\n",
        "Documentação da biblioteca scikit-learn\n",
        "\n",
        "[Aprendizado Supervisionado](https://scikit-learn.org/stable/supervised_learning.html)\n"
      ]
    },
    {
      "cell_type": "code",
      "execution_count": null,
      "metadata": {
        "id": "ONjlEt0DWBvP"
      },
      "outputs": [],
      "source": [
        "# Seu código aqui"
      ]
    },
    {
      "cell_type": "markdown",
      "metadata": {
        "id": "04RsRbf4WFNk"
      },
      "source": [
        "### 7.4 Aprendizado Não-Supervisionado\n",
        "No aprendizado não-supervisionado, nosso intuito não é mais fazer a previsão de rótulos e sim, agrupar os nossos dados em grupos (clusteres) de acordo com o grau de semelhança que eles possuem entre si."
      ]
    },
    {
      "cell_type": "markdown",
      "metadata": {
        "id": "xHVIgdgAYJ7Y"
      },
      "source": [
        "Dica: No nosso caso, podemos ver como os filmes que estão no mesmo cluster são parecidos, se possuem o mesmo gênero, se têm notas parecidas, etc."
      ]
    },
    {
      "cell_type": "markdown",
      "metadata": {
        "id": "RHhibJ3ZYQrS"
      },
      "source": [
        "**Recursos:**\n",
        "\n",
        "Documentação da biblioteca scikit-learn\n",
        "\n",
        "[Aprendizado Não-Supervisionado](https://scikit-learn.org/stable/modules/clustering.html)"
      ]
    },
    {
      "cell_type": "code",
      "execution_count": null,
      "metadata": {
        "id": "XGQZk1q5iQBL"
      },
      "outputs": [],
      "source": [
        "# Seu código aqui"
      ]
    }
  ],
  "metadata": {
    "colab": {
      "provenance": []
    },
    "kernelspec": {
      "display_name": "Python 3",
      "language": "python",
      "name": "python3"
    },
    "language_info": {
      "codemirror_mode": {
        "name": "ipython",
        "version": 3
      },
      "file_extension": ".py",
      "mimetype": "text/x-python",
      "name": "python",
      "nbconvert_exporter": "python",
      "pygments_lexer": "ipython3",
      "version": "3.11.0"
    }
  },
  "nbformat": 4,
  "nbformat_minor": 0
}
