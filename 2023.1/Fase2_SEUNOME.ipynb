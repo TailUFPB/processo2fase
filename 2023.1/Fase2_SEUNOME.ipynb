{
  "cells": [
    {
      "cell_type": "markdown",
      "source": [
        "<a href=\"TAIL\"><img src=\"https://i.imgur.com/GRTE0OG.png\" width=\"150\" title=\"Tail Logo\" /></a>\n",
        "# <font color =\"#00b8ff\">Processo seletivo TAIL 2023.1</font>"
      ],
      "metadata": {
        "cell_id": "4f845c2bded4465380490f7a8e270739",
        "tags": [],
        "deepnote_cell_type": "markdown",
        "deepnote_cell_height": 82,
        "id": "SwqOLFilyXzo"
      }
    },
    {
      "cell_type": "markdown",
      "source": [
        "## Introdução"
      ],
      "metadata": {
        "cell_id": "2122ee8fee5b45f9862c8d94f71489f1",
        "tags": [],
        "deepnote_cell_type": "markdown",
        "deepnote_cell_height": 70,
        "id": "igAtZmSJyXzw"
      }
    },
    {
      "cell_type": "markdown",
      "source": [
        "Olá candidato! Para participar do processo seletivo, você deve abrir o link do colab abaixo e fazer uma cópia para seu drive e inserir as respostas nos campos.\n",
        "\n",
        "Após responder, basta compartilhar conosco e nos enviar o link no email: tail.ufpb@gmail.com com o assunto **PROCESSO SELETIVO 2023.1 - SEU_NOME**\n",
        "\n",
        "Para mais instruções, assista o vídeo de explicações e dúvidas que enviamos por email.\n",
        "\n",
        "Pedimos que envie o notebook até o dia 10/02/2023 às 23:59.\n",
        "\n",
        "Qualquer dúvida, lembre de nos contactar através do canal no [discord](https://discord.gg/NRufZ9K6)"
      ],
      "metadata": {
        "cell_id": "9aef0d8c358b4183b40d01e15584304b",
        "tags": [],
        "deepnote_cell_type": "markdown",
        "deepnote_cell_height": 279.125,
        "id": "K_rI2PPFyXz0"
      }
    },
    {
      "cell_type": "markdown",
      "source": [
        "[![Open In Colab](https://colab.research.google.com/assets/colab-badge.svg)](https://colab.research.google.com/drive/1W53I6la_lO9V9Lf9lqq0suPns1h7bRa-?usp=sharing) "
      ],
      "metadata": {
        "id": "f1vIPfm2yrd0"
      }
    },
    {
      "cell_type": "markdown",
      "source": [
        "## Instruções:\n",
        "<br>1. Abra o Google Colaboratory;\n",
        "<br>2. Faça uma cópia no seu drive;\n",
        "<br>3. Localize o notebook e abra-o;\n",
        "<br>4. Responda o questionário;\n",
        "<br>5. Salve o notebook e submeta-o através de nosso email: tail.ufpb@gmail.com"
      ],
      "metadata": {
        "cell_id": "9d41dfad1fd741619e574ca60eb3b9cf",
        "tags": [],
        "deepnote_cell_type": "markdown",
        "deepnote_cell_height": 309.90625,
        "id": "MDzHM_kGyXz4"
      }
    },
    {
      "cell_type": "markdown",
      "source": [
        "## Materiais"
      ],
      "metadata": {
        "cell_id": "d4a60a36252c4a08b1434f3b504973d6",
        "tags": [],
        "deepnote_cell_type": "markdown",
        "deepnote_cell_height": 70,
        "id": "ALS5ox_syXz6"
      }
    },
    {
      "cell_type": "markdown",
      "source": [
        "**Anexo :** \n",
        "\n",
        "Para auxilio com as questões, disponibilizamos o livro *Python para Estatísticos*, do professor Telmo de Menezes e Silva Filho, do Departamento de Estatística da Universidade Federal da Paraíba (UFPB):\n",
        "\n",
        "[**Python para Estatísticos**](https://tmfilho.github.io/pyestbook)\n",
        "\n",
        "Link para bibliotecas essênciais para desenvolver os problemas abaixo:\n",
        "\n",
        "[**Bibliotecas essenciais**](https://github.com/Manuelfjr/processo2fase_anexo)\n",
        "\n",
        "Slides das aulas de Thais:  \n",
        "  \n",
        "[**Slides**](https://sites.google.com/site/gaudenciothaisia/home/aulas)\n",
        "\n",
        "Outros materiais, específicos para resolução de certas questões, serão especificados em seus enunciados."
      ],
      "metadata": {
        "cell_id": "75a3224b3b794aa1864e0b74d36eb344",
        "tags": [],
        "deepnote_cell_type": "markdown",
        "deepnote_cell_height": 329.515625,
        "id": "zWZMyMNDyXz7"
      }
    },
    {
      "cell_type": "code",
      "source": [
        "#@title Preencha os campos abaixo:\n",
        "\n",
        "nome = '' #@param {type:\"string\"}\n",
        "email = '' #@param {type:\"string\"}\n",
        "\n",
        "# confira se os valores impressos correspondem ao que você digitou\n",
        "print(nome)\n",
        "print(email)"
      ],
      "metadata": {
        "cell_id": "75e19303d59f48429ea39c1ec9fa969d",
        "tags": [],
        "deepnote_cell_type": "code",
        "deepnote_cell_height": 187,
        "id": "BnIG2oyLyXz9"
      },
      "outputs": [],
      "execution_count": null
    },
    {
      "cell_type": "markdown",
      "source": [
        "## Avisos\n",
        "Aqui vão uma série de avisos e dicas:\n",
        "* Se esforcem. Mesmo que não consigam responder tudo, deem o máximo de si.\n",
        "* Descrevam o que pensaram e como fizeram ou teriam feito para resolver a questão (isso é muito importante).\n",
        "* Se divirtam. Vai ser muito legal ter vocês conosco!\n",
        "\n",
        "![](https://github.com/TailUFPB/processo2fase/raw/master/img/ygt.jpg)"
      ],
      "metadata": {
        "cell_id": "dbe28089d4e54822ac19c4b7e76705a2",
        "tags": [],
        "deepnote_cell_type": "markdown",
        "deepnote_cell_height": 257.953125,
        "id": "3Y6Beqy5yX0A"
      }
    },
    {
      "cell_type": "markdown",
      "source": [
        "# Questão 1: TAILUFPB"
      ],
      "metadata": {
        "cell_id": "9a709aaa4cc24fe4be94ab373c7a3d06",
        "tags": [],
        "deepnote_cell_type": "markdown",
        "deepnote_cell_height": 70,
        "id": "MGOZWz9eyX0C"
      }
    },
    {
      "cell_type": "markdown",
      "source": [
        "## Descrição:"
      ],
      "metadata": {
        "cell_id": "d63c4e723bcc4c619740f84b16c52370",
        "tags": [],
        "deepnote_cell_type": "markdown",
        "deepnote_cell_height": 70,
        "id": "B-nnxHH7yX0E"
      }
    },
    {
      "cell_type": "markdown",
      "source": [
        "Para lidar com valores textuais, são utilizadas variáveis de tipo String, podendo ser tratados como Listas (outra Estrutura de Dados) em Python. Dessa forma, é possível identificar caracteres de um String a partir de seu índice, o que ajuda bastante em analisar o comportamento de uma certa palavra."
      ],
      "metadata": {
        "formattedRanges": [],
        "is_collapsed": false,
        "cell_id": "002223143e9c433b84f759177820d0c8",
        "tags": [],
        "deepnote_cell_type": "text-cell-p",
        "id": "tXfbrwRCyX0F"
      }
    },
    {
      "cell_type": "markdown",
      "source": [
        "## Tarefa:"
      ],
      "metadata": {
        "formattedRanges": [],
        "is_collapsed": false,
        "cell_id": "95039427-9599-41a6-a68b-1da26e98ff1f",
        "tags": [],
        "deepnote_cell_type": "text-cell-h2",
        "id": "LVBlYQ12yX0I"
      }
    },
    {
      "cell_type": "markdown",
      "source": [
        "Faça um programa que printe todos os números de 1 a 100, mas printe \"TAIL\" no lugar dos números divisíveis por 3, printe \"UFPB\" no lugar dos números divisíveis por 5, e printe \"TAILUFPB\" no lugar dos números divisíveis por 3 e por 5."
      ],
      "metadata": {
        "formattedRanges": [],
        "is_collapsed": false,
        "cell_id": "6bb732c4-b727-4875-97a8-78d1015d9102",
        "tags": [],
        "deepnote_cell_type": "text-cell-p",
        "id": "mQT2JZWEyX0J"
      }
    },
    {
      "cell_type": "markdown",
      "source": [
        "## Exemplo:"
      ],
      "metadata": {
        "formattedRanges": [],
        "is_collapsed": false,
        "cell_id": "a3bc51b1-c975-46e3-9433-ba08eb0eb490",
        "tags": [],
        "deepnote_cell_type": "text-cell-h2",
        "id": "7Kt08aBryX0K"
      }
    },
    {
      "cell_type": "markdown",
      "source": [
        "1\n",
        "\n",
        "2\n",
        "\n",
        "TAIL\n",
        "\n",
        "4\n",
        "\n",
        "UFPB\n",
        "\n",
        "TAIL\n",
        "\n",
        "7\n",
        "\n",
        "...\n",
        "\n",
        "14\n",
        "\n",
        "TAILUFPB\n",
        "\n",
        "16\n",
        "\n",
        "17\n",
        "\n",
        "TAIL\n",
        "\n",
        "..."
      ],
      "metadata": {
        "formattedRanges": [],
        "is_collapsed": false,
        "cell_id": "a4a47e72-439c-478a-bed5-e4e925dd18c3",
        "tags": [],
        "deepnote_cell_type": "text-cell-p",
        "id": "Wkdp-fhAyX0L"
      }
    },
    {
      "cell_type": "markdown",
      "source": [
        "## Código:"
      ],
      "metadata": {
        "formattedRanges": [],
        "is_collapsed": false,
        "cell_id": "5ed103ca8a094fe19110d322f38386ee",
        "tags": [],
        "deepnote_cell_type": "text-cell-h2",
        "id": "DF_EtAmZyX0N"
      }
    },
    {
      "cell_type": "code",
      "metadata": {
        "cell_id": "4792cccdcb0640b9b150d17e921d1288",
        "tags": [],
        "deepnote_cell_type": "code",
        "deepnote_cell_height": 97,
        "id": "4WLu2AvNyX0O"
      },
      "source": [
        "def tailufpb(prompt):\n",
        "\n",
        "    # Seu código aqui"
      ],
      "execution_count": null,
      "outputs": []
    },
    {
      "cell_type": "code",
      "metadata": {
        "cell_id": "4268968860604409bc12383f40bf7145",
        "tags": [],
        "allow_embed": false,
        "deepnote_cell_type": "code",
        "deepnote_cell_height": 61,
        "id": "xN4ZIZd0yX0P"
      },
      "source": [
        "# Teste seu código aqui"
      ],
      "execution_count": null,
      "outputs": []
    },
    {
      "cell_type": "markdown",
      "source": [
        "# Questão 2: Primeiro caractere único"
      ],
      "metadata": {
        "formattedRanges": [],
        "is_collapsed": false,
        "cell_id": "b911aed7d92642c1aa713e74fe52b423",
        "tags": [],
        "deepnote_cell_type": "text-cell-h1",
        "id": "CtP0e2YNyX0P"
      }
    },
    {
      "cell_type": "markdown",
      "source": [
        "## Descrição:"
      ],
      "metadata": {
        "formattedRanges": [],
        "is_collapsed": false,
        "cell_id": "f03015c674da4c508e6e7521df20736c",
        "tags": [],
        "deepnote_cell_type": "text-cell-h2",
        "id": "dMz9WiZ3yX0Q"
      }
    },
    {
      "cell_type": "markdown",
      "source": [
        "Vamos supor que você recebeu uma lista de Strings. É correto afirmar que variás Strings possuem caracteres únicos, como por exemplo: \"TAIL\" possui 4 caracteres únicos pois nenhum deles se repete, além de que o primeiro caractere único é \"T\". Exerça sua lógica para desenvolver um algoritmo que identifica o primeiro caractere único dentro de uma String."
      ],
      "metadata": {
        "formattedRanges": [],
        "is_collapsed": false,
        "cell_id": "77cc3628-d148-4cc2-ae8c-8ce2bcbff544",
        "tags": [],
        "deepnote_cell_type": "text-cell-p",
        "id": "iGHySrYByX0Q"
      }
    },
    {
      "cell_type": "markdown",
      "source": [
        "## Tarefa:"
      ],
      "metadata": {
        "formattedRanges": [],
        "is_collapsed": false,
        "cell_id": "13fa6fe1-19b8-406d-a808-5f34d2f9b561",
        "tags": [],
        "deepnote_cell_type": "text-cell-h2",
        "id": "u1AzP2GVyX0R"
      }
    },
    {
      "cell_type": "markdown",
      "source": [
        "Implemente um script em Python para retornar o índice do primeiro caractere único dentro de uma String. Se o caractere único não existir, retorne -1"
      ],
      "metadata": {
        "formattedRanges": [],
        "is_collapsed": false,
        "cell_id": "902b11ca-53a8-4945-8404-7c65700bfb1c",
        "tags": [],
        "deepnote_cell_type": "text-cell-p",
        "id": "6VXFyWxLyX0S"
      }
    },
    {
      "cell_type": "markdown",
      "source": [
        "## Exemplos:"
      ],
      "metadata": {
        "formattedRanges": [],
        "is_collapsed": false,
        "cell_id": "b620a00b6db74b11bc7a2599ebd595d1",
        "tags": [],
        "deepnote_cell_type": "text-cell-h2",
        "id": "affXFZLWyX0T"
      }
    },
    {
      "cell_type": "markdown",
      "source": [
        "Ex.: Dadas as seguintes strings...\n",
        "\n",
        "\n",
        "\"abcabd\", retorne 2 <br>\n",
        "\"thedailybyte\", retorne 1 <br>\n",
        "\"developer\", retorne 0 <br>\n",
        "\"arara\", retorne -1"
      ],
      "metadata": {
        "formattedRanges": [],
        "is_collapsed": false,
        "cell_id": "5f929f9e-9353-4341-9f39-d05fa607ec19",
        "tags": [],
        "deepnote_cell_type": "text-cell-p",
        "id": "w6ORgJ3myX0U"
      }
    },
    {
      "cell_type": "markdown",
      "source": [
        "## Código:"
      ],
      "metadata": {
        "id": "-9OUOsczgzHl"
      }
    },
    {
      "cell_type": "code",
      "metadata": {
        "cell_id": "0f075c9413804189816e95096203db26",
        "tags": [],
        "deepnote_cell_type": "code",
        "deepnote_cell_height": 97,
        "id": "Jb8ddHEcyX0U"
      },
      "source": [
        "def first_unique_char(prompt):\n",
        "    \n",
        "    # Seu código aqui"
      ],
      "execution_count": null,
      "outputs": []
    },
    {
      "cell_type": "code",
      "metadata": {
        "cell_id": "a0b1787ca07847099413a90f7e22a5fa",
        "tags": [],
        "deepnote_cell_type": "code",
        "deepnote_cell_height": 61,
        "id": "FB9Z93RfyX0V"
      },
      "source": [
        "# Teste seu código aqui"
      ],
      "execution_count": null,
      "outputs": []
    },
    {
      "cell_type": "markdown",
      "source": [
        "# Questão 3: Joias e Pedras"
      ],
      "metadata": {
        "formattedRanges": [],
        "is_collapsed": false,
        "cell_id": "8f5aea9177a54e9d99bd7a51876d11c9",
        "tags": [],
        "deepnote_cell_type": "text-cell-h1",
        "id": "iEgNXJaCyX0W"
      }
    },
    {
      "cell_type": "markdown",
      "source": [
        "## Descrição:"
      ],
      "metadata": {
        "formattedRanges": [],
        "is_collapsed": false,
        "cell_id": "6b30c944-24de-4cbf-8d8e-906153c327c8",
        "tags": [],
        "deepnote_cell_type": "text-cell-h2",
        "id": "rANf-faByX0W"
      }
    },
    {
      "cell_type": "markdown",
      "source": [
        "Nessa questão, são dadas duas Strings como input: A primeira String representa uma lista de joias e a segunda String são suas pedras. É possível que uma das pedras seja também uma joia, ou seja, se as joias forem \"aB\" e as pedras forem \"aaa\", você sabe que existem três pedras que são joias."
      ],
      "metadata": {
        "formattedRanges": [],
        "is_collapsed": false,
        "cell_id": "384c0b69-7aa2-49c4-8711-218fe1b10a50",
        "tags": [],
        "deepnote_cell_type": "text-cell-p",
        "id": "t7Kes-m-yX0W"
      }
    },
    {
      "cell_type": "markdown",
      "source": [
        "## Tarefa:"
      ],
      "metadata": {
        "formattedRanges": [],
        "is_collapsed": false,
        "cell_id": "0ee62a0a-6d5d-45e7-92d0-452974131cfe",
        "tags": [],
        "deepnote_cell_type": "text-cell-h2",
        "id": "1--FqXh6yX0X"
      }
    },
    {
      "cell_type": "markdown",
      "source": [
        "Implemente um script em Python para contar o número de pedras que são joias."
      ],
      "metadata": {
        "formattedRanges": [],
        "is_collapsed": false,
        "cell_id": "a1bac239-a62a-4e2f-8c46-af030c046dc2",
        "tags": [],
        "deepnote_cell_type": "text-cell-p",
        "id": "lMMTd9AmyX0X"
      }
    },
    {
      "cell_type": "markdown",
      "source": [
        "## Exemplos:"
      ],
      "metadata": {
        "formattedRanges": [],
        "is_collapsed": false,
        "cell_id": "e8e7aa62-aa2c-40ca-b184-a2cfb46a33b2",
        "tags": [],
        "deepnote_cell_type": "text-cell-h2",
        "id": "Zn79zJGbyX0X"
      }
    },
    {
      "cell_type": "markdown",
      "source": [
        "Ex.: Dadas as seguintes joias e pedras...\n",
        "\n",
        "joias = \"abc\", pedras = \"ac\", retorne 2 (2 pedras são joias)<br> \n",
        "joias = \"Af\", pedras = \"AaaddfFf\", retorne 3 (3 pedras são joias)<br> \n",
        "joias = \"AYOPD\", pedras = \"ayopd\", retorne 0 (nenhuma pedra é joia)\n"
      ],
      "metadata": {
        "formattedRanges": [],
        "is_collapsed": false,
        "cell_id": "90b74408-c191-4a90-a5fc-27c654a224b6",
        "tags": [],
        "deepnote_cell_type": "text-cell-p",
        "id": "BUA1Y-aOyX0Y"
      }
    },
    {
      "cell_type": "markdown",
      "source": [
        "## Questão:"
      ],
      "metadata": {
        "id": "OqPvoGRFhyAe"
      }
    },
    {
      "cell_type": "code",
      "metadata": {
        "cell_id": "2f62f9c7dc314d98970e2918c5c3a71a",
        "tags": [],
        "deepnote_cell_type": "code",
        "deepnote_cell_height": 97,
        "id": "uilCtxvYyX0Y"
      },
      "source": [
        "def jewels_and_stones(jewels, stones):\n",
        "  # Seu código aqui\n",
        "  pass"
      ],
      "execution_count": null,
      "outputs": []
    },
    {
      "cell_type": "code",
      "metadata": {
        "cell_id": "6bbb4691fdea4b488a08a4b1b1786220",
        "tags": [],
        "deepnote_cell_type": "code",
        "deepnote_cell_height": 61,
        "id": "jazK4xm5yX0Z"
      },
      "source": [
        "# Teste seu código aqui"
      ],
      "execution_count": null,
      "outputs": []
    },
    {
      "cell_type": "markdown",
      "metadata": {
        "id": "dNyWJ_5QwanG"
      },
      "source": [
        "# Questão 4: Análise de Dados\n",
        "---\n"
      ]
    },
    {
      "cell_type": "markdown",
      "metadata": {
        "id": "uFSXUN-NwpyO"
      },
      "source": [
        "**Descrição:**\n",
        "\\\n",
        "Nessa seção, você adentrará no âmbito da análise de dados, que se trata do processo de limpeza, inspeção, modelagem e transformação de dados, corroborando para uma melhor interpretação dos dados e tomadas de decisão mais incisivas. Após essa breve introdução, você terá de analisar o dataset [Titanic](https://www.kaggle.com/c/titanic/overview). O dataset é formado pelos seguintes dados:\n",
        "\n",
        "|                Coluna                | Descrição |\n",
        "|:------------------------------------:|:---------:|\n",
        "|                  Survived                 |    Sobrevivência ou não (0 - não; 1- sim)       |\n",
        "|                  Pclass                 |    Tipo de passagem (1a, 2a ou 3a classe)    |\n",
        "|          SibSp   |    No. de irmãos/cônjuges a bordo do Titanic       |\n",
        "| Parch |    No. de pais/filhos a bordo do Titanic       |\n",
        "|      Ticket   |      No. do tíquete    |\n",
        "|       Fare       |    Tarifa de passageiro       |\n",
        "|                Cabin               |       Número da cabine    |\n",
        "|    Embarked  |      Porto de embarcação (C - Cherbourg, Q - Queenstown, S - Southampton)     |\n",
        "\n"
      ]
    },
    {
      "cell_type": "markdown",
      "metadata": {
        "id": "3BoZNTBewsa9"
      },
      "source": [
        "### 4.1 - Leitura dos dados e realização de descrição estatística\n",
        "---"
      ]
    },
    {
      "cell_type": "markdown",
      "metadata": {
        "id": "ouj4ObwTwwCk"
      },
      "source": [
        "A seguir, o dataframe já estará montado pelo método `pd.read_csv()` da biblioteca `pandas`, a partir da execução da célula.\n",
        "\n",
        "Dica: Você pode acessar a documentação da biblioteca `pandas` [clicando aqui](https://pandas.pydata.org/docs/getting_started/index.html#getting-started). Após o processamento do dataframe, você terá de realizar uma descrição estatística dos dados."
      ]
    },
    {
      "cell_type": "code",
      "metadata": {
        "id": "IuoYM2v0wjNX"
      },
      "source": [
        "import pandas as pd"
      ],
      "execution_count": null,
      "outputs": []
    },
    {
      "cell_type": "code",
      "metadata": {
        "colab": {
          "base_uri": "https://localhost:8080/",
          "height": 424
        },
        "id": "0w33YdPdwyjb",
        "outputId": "62469b4e-4e24-478a-fa72-d150d5dc6973"
      },
      "source": [
        "dataset = pd.read_csv('https://raw.githubusercontent.com/franklinthony/dataset/master/titanic_disaster.csv', sep = ',')\n",
        "dataset"
      ],
      "execution_count": null,
      "outputs": [
        {
          "output_type": "execute_result",
          "data": {
            "text/html": [
              "<div>\n",
              "<style scoped>\n",
              "    .dataframe tbody tr th:only-of-type {\n",
              "        vertical-align: middle;\n",
              "    }\n",
              "\n",
              "    .dataframe tbody tr th {\n",
              "        vertical-align: top;\n",
              "    }\n",
              "\n",
              "    .dataframe thead th {\n",
              "        text-align: right;\n",
              "    }\n",
              "</style>\n",
              "<table border=\"1\" class=\"dataframe\">\n",
              "  <thead>\n",
              "    <tr style=\"text-align: right;\">\n",
              "      <th></th>\n",
              "      <th>PassengerId</th>\n",
              "      <th>Survived</th>\n",
              "      <th>Pclass</th>\n",
              "      <th>Name</th>\n",
              "      <th>Sex</th>\n",
              "      <th>Age</th>\n",
              "      <th>SibSp</th>\n",
              "      <th>Parch</th>\n",
              "      <th>Ticket</th>\n",
              "      <th>Fare</th>\n",
              "      <th>Cabin</th>\n",
              "      <th>Embarked</th>\n",
              "    </tr>\n",
              "  </thead>\n",
              "  <tbody>\n",
              "    <tr>\n",
              "      <th>0</th>\n",
              "      <td>1</td>\n",
              "      <td>0</td>\n",
              "      <td>3</td>\n",
              "      <td>Braund, Mr. Owen Harris</td>\n",
              "      <td>male</td>\n",
              "      <td>22.0</td>\n",
              "      <td>1</td>\n",
              "      <td>0</td>\n",
              "      <td>A/5 21171</td>\n",
              "      <td>7.2500</td>\n",
              "      <td>NaN</td>\n",
              "      <td>S</td>\n",
              "    </tr>\n",
              "    <tr>\n",
              "      <th>1</th>\n",
              "      <td>2</td>\n",
              "      <td>1</td>\n",
              "      <td>1</td>\n",
              "      <td>Cumings, Mrs. John Bradley (Florence Briggs Th...</td>\n",
              "      <td>female</td>\n",
              "      <td>38.0</td>\n",
              "      <td>1</td>\n",
              "      <td>0</td>\n",
              "      <td>PC 17599</td>\n",
              "      <td>71.2833</td>\n",
              "      <td>C85</td>\n",
              "      <td>C</td>\n",
              "    </tr>\n",
              "    <tr>\n",
              "      <th>2</th>\n",
              "      <td>3</td>\n",
              "      <td>1</td>\n",
              "      <td>3</td>\n",
              "      <td>Heikkinen, Miss. Laina</td>\n",
              "      <td>female</td>\n",
              "      <td>26.0</td>\n",
              "      <td>0</td>\n",
              "      <td>0</td>\n",
              "      <td>STON/O2. 3101282</td>\n",
              "      <td>7.9250</td>\n",
              "      <td>NaN</td>\n",
              "      <td>S</td>\n",
              "    </tr>\n",
              "    <tr>\n",
              "      <th>3</th>\n",
              "      <td>4</td>\n",
              "      <td>1</td>\n",
              "      <td>1</td>\n",
              "      <td>Futrelle, Mrs. Jacques Heath (Lily May Peel)</td>\n",
              "      <td>female</td>\n",
              "      <td>35.0</td>\n",
              "      <td>1</td>\n",
              "      <td>0</td>\n",
              "      <td>113803</td>\n",
              "      <td>53.1000</td>\n",
              "      <td>C123</td>\n",
              "      <td>S</td>\n",
              "    </tr>\n",
              "    <tr>\n",
              "      <th>4</th>\n",
              "      <td>5</td>\n",
              "      <td>0</td>\n",
              "      <td>3</td>\n",
              "      <td>Allen, Mr. William Henry</td>\n",
              "      <td>male</td>\n",
              "      <td>35.0</td>\n",
              "      <td>0</td>\n",
              "      <td>0</td>\n",
              "      <td>373450</td>\n",
              "      <td>8.0500</td>\n",
              "      <td>NaN</td>\n",
              "      <td>S</td>\n",
              "    </tr>\n",
              "    <tr>\n",
              "      <th>...</th>\n",
              "      <td>...</td>\n",
              "      <td>...</td>\n",
              "      <td>...</td>\n",
              "      <td>...</td>\n",
              "      <td>...</td>\n",
              "      <td>...</td>\n",
              "      <td>...</td>\n",
              "      <td>...</td>\n",
              "      <td>...</td>\n",
              "      <td>...</td>\n",
              "      <td>...</td>\n",
              "      <td>...</td>\n",
              "    </tr>\n",
              "    <tr>\n",
              "      <th>886</th>\n",
              "      <td>887</td>\n",
              "      <td>0</td>\n",
              "      <td>2</td>\n",
              "      <td>Montvila, Rev. Juozas</td>\n",
              "      <td>male</td>\n",
              "      <td>27.0</td>\n",
              "      <td>0</td>\n",
              "      <td>0</td>\n",
              "      <td>211536</td>\n",
              "      <td>13.0000</td>\n",
              "      <td>NaN</td>\n",
              "      <td>S</td>\n",
              "    </tr>\n",
              "    <tr>\n",
              "      <th>887</th>\n",
              "      <td>888</td>\n",
              "      <td>1</td>\n",
              "      <td>1</td>\n",
              "      <td>Graham, Miss. Margaret Edith</td>\n",
              "      <td>female</td>\n",
              "      <td>19.0</td>\n",
              "      <td>0</td>\n",
              "      <td>0</td>\n",
              "      <td>112053</td>\n",
              "      <td>30.0000</td>\n",
              "      <td>B42</td>\n",
              "      <td>S</td>\n",
              "    </tr>\n",
              "    <tr>\n",
              "      <th>888</th>\n",
              "      <td>889</td>\n",
              "      <td>0</td>\n",
              "      <td>3</td>\n",
              "      <td>Johnston, Miss. Catherine Helen \"Carrie\"</td>\n",
              "      <td>female</td>\n",
              "      <td>NaN</td>\n",
              "      <td>1</td>\n",
              "      <td>2</td>\n",
              "      <td>W./C. 6607</td>\n",
              "      <td>23.4500</td>\n",
              "      <td>NaN</td>\n",
              "      <td>S</td>\n",
              "    </tr>\n",
              "    <tr>\n",
              "      <th>889</th>\n",
              "      <td>890</td>\n",
              "      <td>1</td>\n",
              "      <td>1</td>\n",
              "      <td>Behr, Mr. Karl Howell</td>\n",
              "      <td>male</td>\n",
              "      <td>26.0</td>\n",
              "      <td>0</td>\n",
              "      <td>0</td>\n",
              "      <td>111369</td>\n",
              "      <td>30.0000</td>\n",
              "      <td>C148</td>\n",
              "      <td>C</td>\n",
              "    </tr>\n",
              "    <tr>\n",
              "      <th>890</th>\n",
              "      <td>891</td>\n",
              "      <td>0</td>\n",
              "      <td>3</td>\n",
              "      <td>Dooley, Mr. Patrick</td>\n",
              "      <td>male</td>\n",
              "      <td>32.0</td>\n",
              "      <td>0</td>\n",
              "      <td>0</td>\n",
              "      <td>370376</td>\n",
              "      <td>7.7500</td>\n",
              "      <td>NaN</td>\n",
              "      <td>Q</td>\n",
              "    </tr>\n",
              "  </tbody>\n",
              "</table>\n",
              "<p>891 rows × 12 columns</p>\n",
              "</div>"
            ],
            "text/plain": [
              "     PassengerId  Survived  Pclass  ...     Fare Cabin  Embarked\n",
              "0              1         0       3  ...   7.2500   NaN         S\n",
              "1              2         1       1  ...  71.2833   C85         C\n",
              "2              3         1       3  ...   7.9250   NaN         S\n",
              "3              4         1       1  ...  53.1000  C123         S\n",
              "4              5         0       3  ...   8.0500   NaN         S\n",
              "..           ...       ...     ...  ...      ...   ...       ...\n",
              "886          887         0       2  ...  13.0000   NaN         S\n",
              "887          888         1       1  ...  30.0000   B42         S\n",
              "888          889         0       3  ...  23.4500   NaN         S\n",
              "889          890         1       1  ...  30.0000  C148         C\n",
              "890          891         0       3  ...   7.7500   NaN         Q\n",
              "\n",
              "[891 rows x 12 columns]"
            ]
          },
          "metadata": {
            "tags": []
          },
          "execution_count": 2
        }
      ]
    },
    {
      "cell_type": "markdown",
      "metadata": {
        "id": "DWqJ7RCQw5Hh"
      },
      "source": [
        "_Sua resposta aqui_"
      ]
    },
    {
      "cell_type": "code",
      "metadata": {
        "id": "FQFeiXRyw6EM"
      },
      "source": [
        "# Seu código aqui"
      ],
      "execution_count": null,
      "outputs": []
    },
    {
      "cell_type": "markdown",
      "metadata": {
        "id": "S73V7vftw7f2"
      },
      "source": [
        "### 4.2 - Limpeza dos dados\n",
        "---\n",
        "\n"
      ]
    },
    {
      "cell_type": "markdown",
      "metadata": {
        "id": "BH5JE3I8w8cf"
      },
      "source": [
        "Após verificar o dataset acima e a relação das descrições com os valores existentes, realize o processo de limpeza dos dados, verificando possíveis inconsistências entre as instâncias (linhas que compõem o dataset). Mais uma vez, a leitura da documentação do `pandas` é uma excelente iniciativa."
      ]
    },
    {
      "cell_type": "markdown",
      "metadata": {
        "id": "UObVt-P3xCuE"
      },
      "source": [
        "_Sua resposta aqui_"
      ]
    },
    {
      "cell_type": "code",
      "metadata": {
        "id": "qJIEQs-hw8vg"
      },
      "source": [
        "# Seu código aqui"
      ],
      "execution_count": null,
      "outputs": []
    },
    {
      "cell_type": "markdown",
      "metadata": {
        "id": "-rBTE8CKxIVi"
      },
      "source": [
        "### 4.3 - Feature Engineering e Dados Categóricos\n",
        "---"
      ]
    },
    {
      "cell_type": "markdown",
      "metadata": {
        "id": "Bs9WEVCFxKXg"
      },
      "source": [
        "4.3.1 - Em um problema de _Data Science_, é comum nos depararmos com um dataset cujos atributos não esclareçam com efetividade o comportamento de um dado fenômeno. Desta forma, cientistas de dados devem estar aptos a manipular atributos existentes e assim definir novos atributos, de acordo com os critérios estabelecidos. Este processo é descrito como _Feature Engineering_, e trata apenas da manipulação algébrica e/ou lógica de atributos (colunas, no contexto prático) com o intuito de alimentar o seu modelo de Machine Learning com dados relevantes à resolução do problema. \n",
        "Nesta etapa, você deverá utilizar sua intuição aliando criatividade para decidir como novos atributos podem ser definidos, a partir dos dados que você já possui."
      ]
    },
    {
      "cell_type": "markdown",
      "metadata": {
        "id": "eq0ZXjFYxNru"
      },
      "source": [
        "Dica: Utilize as colunas existentes para gerar uma ou mais colunas com atributos distintos dos primeiros."
      ]
    },
    {
      "cell_type": "markdown",
      "metadata": {
        "id": "qHrCjvlnxQTT"
      },
      "source": [
        "_Sua resposta aqui_"
      ]
    },
    {
      "cell_type": "code",
      "metadata": {
        "id": "pRpYb5AAxIxL"
      },
      "source": [
        "# Seu código aqui"
      ],
      "execution_count": null,
      "outputs": []
    },
    {
      "cell_type": "markdown",
      "metadata": {
        "id": "tN-FgZnmxZLL"
      },
      "source": [
        "4.3.2 - Em poucos termos, algoritmos de Machine Learning só funcionam com valores numéricos. Isto significa que antes de treinar qualquer modelo, deve-se transformar os dados categóricos em dados numéricos. Encontre uma forma de *codificar* as colunas de dados categóricos, de forma que seu modelo consiga interpretar todos os atributos não-numéricos como numéricos. "
      ]
    },
    {
      "cell_type": "markdown",
      "metadata": {
        "id": "LTqEASnAxclG"
      },
      "source": [
        "_Sua resposta aqui_\n",
        "\n",
        "\n"
      ]
    },
    {
      "cell_type": "code",
      "metadata": {
        "id": "FddaebPaxZ3c"
      },
      "source": [
        "# Seu código aqui"
      ],
      "execution_count": null,
      "outputs": []
    },
    {
      "cell_type": "markdown",
      "metadata": {
        "id": "3DfxDLRLxbq6"
      },
      "source": [
        "### 4.4 - Análise Exploratória dos Dados\n",
        "---"
      ]
    },
    {
      "cell_type": "markdown",
      "metadata": {
        "id": "jPJ8NHDSxiKR"
      },
      "source": [
        "Antes de qualquer análise mais aprofundada sobre um conjunto de dados, é necessário ter uma noção de como estes dados estão distribuídos, que valores são mais comuns entre os dados, o quão dispersos estão e se existem valores que se distinguem do dataset, de uma maneira geral. Todas estas informações são classificadas como estatísticas, e em ciência de dados é preciso ter ideias claras sobre a forma do conjunto de dados em questão, utilizando-se majoritariamente da visão como forma de comunicar e representar as estatísticas elementares destes dados. Realize uma análise exploratória sobre os dados deste problema, apresentando as medidas de localização, dispersão e os valores que não se repetem em cada coluna, utilizando a biblioteca `matplotlib.pyplot` para criar gráficos que representem estas medidas. Utilize boxplots para visualizar dados muito discrepantes entre as amostras do dataset."
      ]
    },
    {
      "cell_type": "markdown",
      "metadata": {
        "id": "KYT6OjT3xli7"
      },
      "source": [
        "_Sua resposta aqui_\n"
      ]
    },
    {
      "cell_type": "code",
      "metadata": {
        "id": "jNNxLXyexe4O"
      },
      "source": [
        "# Seu código aqui"
      ],
      "execution_count": null,
      "outputs": []
    },
    {
      "cell_type": "markdown",
      "metadata": {
        "id": "mmbCrdPOxg6l"
      },
      "source": [
        "# Questão 5: Processamento de Linguagem Natural\n",
        "---"
      ]
    },
    {
      "cell_type": "markdown",
      "metadata": {
        "id": "pKmVbU4xyT4p"
      },
      "source": [
        "**Descrição:**\n",
        "\\\n",
        "Nessa seção você irá explorar a área da NLP, quem têm como objetivo obter informações de textos, e além disso, tratá-los afim de entender e imitar a conversa humana, criando novos textos a partir de uma base, por exemplo.\n"
      ]
    },
    {
      "cell_type": "code",
      "metadata": {
        "id": "GNoq23cfyO82"
      },
      "source": [
        "url = \"https://archive.ics.uci.edu/ml/machine-learning-databases/00228/smsspamcollection.zip\""
      ],
      "execution_count": null,
      "outputs": []
    },
    {
      "cell_type": "code",
      "metadata": {
        "id": "3spa68e4yeDf"
      },
      "source": [
        "import pandas as pd\n",
        "import matplotlib.pyplot as plt\n",
        "import zipfile as zf\n",
        "import requests\n",
        "import io"
      ],
      "execution_count": null,
      "outputs": []
    },
    {
      "cell_type": "code",
      "metadata": {
        "id": "4cT6nS38yd_u"
      },
      "source": [
        "r = requests.get(url)\n",
        "z = zf.ZipFile(io.BytesIO(r.content))\n",
        "sms = pd.read_csv(z.open(zf.ZipFile.namelist(z)[0]), sep='\\t',encoding='utf-8',header=None, names = ['SMS', 'Text'])"
      ],
      "execution_count": null,
      "outputs": []
    },
    {
      "cell_type": "code",
      "metadata": {
        "colab": {
          "base_uri": "https://localhost:8080/",
          "height": 206
        },
        "id": "umn4h4L_ydoR",
        "outputId": "e22ca5f0-1dc7-446d-ef6d-8dffbc12fd73"
      },
      "source": [
        "sms.head()"
      ],
      "execution_count": null,
      "outputs": [
        {
          "output_type": "execute_result",
          "data": {
            "text/html": [
              "<div>\n",
              "<style scoped>\n",
              "    .dataframe tbody tr th:only-of-type {\n",
              "        vertical-align: middle;\n",
              "    }\n",
              "\n",
              "    .dataframe tbody tr th {\n",
              "        vertical-align: top;\n",
              "    }\n",
              "\n",
              "    .dataframe thead th {\n",
              "        text-align: right;\n",
              "    }\n",
              "</style>\n",
              "<table border=\"1\" class=\"dataframe\">\n",
              "  <thead>\n",
              "    <tr style=\"text-align: right;\">\n",
              "      <th></th>\n",
              "      <th>SMS</th>\n",
              "      <th>Text</th>\n",
              "    </tr>\n",
              "  </thead>\n",
              "  <tbody>\n",
              "    <tr>\n",
              "      <th>0</th>\n",
              "      <td>ham</td>\n",
              "      <td>Go until jurong point, crazy.. Available only ...</td>\n",
              "    </tr>\n",
              "    <tr>\n",
              "      <th>1</th>\n",
              "      <td>ham</td>\n",
              "      <td>Ok lar... Joking wif u oni...</td>\n",
              "    </tr>\n",
              "    <tr>\n",
              "      <th>2</th>\n",
              "      <td>spam</td>\n",
              "      <td>Free entry in 2 a wkly comp to win FA Cup fina...</td>\n",
              "    </tr>\n",
              "    <tr>\n",
              "      <th>3</th>\n",
              "      <td>ham</td>\n",
              "      <td>U dun say so early hor... U c already then say...</td>\n",
              "    </tr>\n",
              "    <tr>\n",
              "      <th>4</th>\n",
              "      <td>ham</td>\n",
              "      <td>Nah I don't think he goes to usf, he lives aro...</td>\n",
              "    </tr>\n",
              "  </tbody>\n",
              "</table>\n",
              "</div>"
            ],
            "text/plain": [
              "    SMS                                               Text\n",
              "0   ham  Go until jurong point, crazy.. Available only ...\n",
              "1   ham                      Ok lar... Joking wif u oni...\n",
              "2  spam  Free entry in 2 a wkly comp to win FA Cup fina...\n",
              "3   ham  U dun say so early hor... U c already then say...\n",
              "4   ham  Nah I don't think he goes to usf, he lives aro..."
            ]
          },
          "metadata": {
            "tags": []
          },
          "execution_count": 6
        }
      ]
    },
    {
      "cell_type": "markdown",
      "metadata": {
        "id": "md7n-MEqzcs-"
      },
      "source": [
        "### 5.1 - Faça a Análise Exploratória do dataset criado, encontre:\n",
        "---"
      ]
    },
    {
      "cell_type": "markdown",
      "metadata": {
        "id": "2Pb6ljmA0lJu"
      },
      "source": [
        "5.1.1 - Distribuição das classes"
      ]
    },
    {
      "cell_type": "markdown",
      "metadata": {
        "id": "yLv0Kr-Y0yub"
      },
      "source": [
        "_Sua resposta aqui_\n"
      ]
    },
    {
      "cell_type": "code",
      "metadata": {
        "id": "WFp0IdlzzV4C"
      },
      "source": [
        "# Seu código aqui"
      ],
      "execution_count": null,
      "outputs": []
    },
    {
      "cell_type": "markdown",
      "metadata": {
        "id": "hpD9_JWf0428"
      },
      "source": [
        "5.1.2 - Palavras mais frequentes de cada classe"
      ]
    },
    {
      "cell_type": "markdown",
      "metadata": {
        "id": "OsWvO39c04os"
      },
      "source": [
        "_Sua resposta aqui_\n"
      ]
    },
    {
      "cell_type": "code",
      "metadata": {
        "id": "_btUa4nt1Aj-"
      },
      "source": [
        "# Seu código aqui"
      ],
      "execution_count": null,
      "outputs": []
    },
    {
      "cell_type": "markdown",
      "metadata": {
        "id": "Q2yXZ4Sp1C9a"
      },
      "source": [
        "5.1.3 - Distribuição de FREE/WIN em cada classe"
      ]
    },
    {
      "cell_type": "markdown",
      "metadata": {
        "id": "c15feh671Tm2"
      },
      "source": [
        "_Sua resposta aqui_\n"
      ]
    },
    {
      "cell_type": "code",
      "metadata": {
        "id": "IFwtUhw41Qg3"
      },
      "source": [
        "# Seu código aqui"
      ],
      "execution_count": null,
      "outputs": []
    },
    {
      "cell_type": "markdown",
      "metadata": {
        "id": "aE8wBCCF1Vi0"
      },
      "source": [
        "5.1.4 - Distribuição de URLs em cada classe. "
      ]
    },
    {
      "cell_type": "markdown",
      "metadata": {
        "id": "rp3qzRpL1VWk"
      },
      "source": [
        "_Sua resposta aqui_\n"
      ]
    },
    {
      "cell_type": "code",
      "metadata": {
        "id": "bMatSj_31rbu"
      },
      "source": [
        "# Seu código aqui"
      ],
      "execution_count": null,
      "outputs": []
    },
    {
      "cell_type": "markdown",
      "metadata": {
        "id": "t7uSRb8k12jl"
      },
      "source": [
        "### 5.2 - Faça a Limpeza de dados, apresente a sua forma escolhida para:\n",
        "---"
      ]
    },
    {
      "cell_type": "markdown",
      "metadata": {
        "id": "TpBrSF0l1_iU"
      },
      "source": [
        "5.2.1 - Remover pontuação e caracteres especiais, normalizar letras maiúsculas"
      ]
    },
    {
      "cell_type": "markdown",
      "metadata": {
        "id": "azXGoBJ01_Sb"
      },
      "source": [
        "_Sua resposta aqui_\n"
      ]
    },
    {
      "cell_type": "code",
      "metadata": {
        "id": "oRfkwAri1-VF"
      },
      "source": [
        "# Seu código aqui"
      ],
      "execution_count": null,
      "outputs": []
    },
    {
      "cell_type": "markdown",
      "metadata": {
        "id": "w8m8Vue72AGx"
      },
      "source": [
        "5.2.2 - Tokenizar palavras"
      ]
    },
    {
      "cell_type": "markdown",
      "metadata": {
        "id": "EwTYKJfG2Abm"
      },
      "source": [
        "_Sua resposta aqui_\n"
      ]
    },
    {
      "cell_type": "code",
      "metadata": {
        "id": "oMkBM2k52BG1"
      },
      "source": [
        "# Seu código aqui"
      ],
      "execution_count": null,
      "outputs": []
    },
    {
      "cell_type": "markdown",
      "metadata": {
        "id": "Xi3rNWfp2B3i"
      },
      "source": [
        "5.2.3 - Remover stop words"
      ]
    },
    {
      "cell_type": "markdown",
      "metadata": {
        "id": "Ccrzyxf-2Bob"
      },
      "source": [
        "_Sua resposta aqui_\n"
      ]
    },
    {
      "cell_type": "code",
      "metadata": {
        "id": "94iv3zZ62Cd1"
      },
      "source": [
        "# Seu código aqui"
      ],
      "execution_count": null,
      "outputs": []
    },
    {
      "cell_type": "markdown",
      "metadata": {
        "id": "Z85cWOVF2aAl"
      },
      "source": [
        "5.2.4 - Lematização"
      ]
    },
    {
      "cell_type": "markdown",
      "metadata": {
        "id": "g31goKZw2Z20"
      },
      "source": [
        "_Sua resposta aqui_\n"
      ]
    },
    {
      "cell_type": "code",
      "metadata": {
        "id": "YhkZy9Li2arS"
      },
      "source": [
        "# Seu código aqui"
      ],
      "execution_count": null,
      "outputs": []
    },
    {
      "cell_type": "markdown",
      "metadata": {
        "id": "qbJybuja2g5g"
      },
      "source": [
        "5.2.5 - Compare a Análise Exploratória antes e depois da limpeza e retirada de stop words"
      ]
    },
    {
      "cell_type": "markdown",
      "metadata": {
        "id": "d8WlSaAR2hTB"
      },
      "source": [
        "_Sua resposta aqui_\n"
      ]
    },
    {
      "cell_type": "code",
      "metadata": {
        "id": "RelOArnX2tnc"
      },
      "source": [
        "# Seu código aqui"
      ],
      "execution_count": null,
      "outputs": []
    }
  ],
  "nbformat": 4,
  "nbformat_minor": 0,
  "metadata": {
    "orig_nbformat": 2,
    "deepnote": {},
    "deepnote_notebook_id": "d7bf43f2-576c-4007-b574-2644a3cc1556",
    "deepnote_execution_queue": [],
    "colab": {
      "provenance": [],
      "collapsed_sections": [
        "MGOZWz9eyX0C",
        "B-nnxHH7yX0E",
        "LVBlYQ12yX0I",
        "7Kt08aBryX0K",
        "DF_EtAmZyX0N",
        "CtP0e2YNyX0P",
        "dMz9WiZ3yX0Q",
        "u1AzP2GVyX0R",
        "affXFZLWyX0T",
        "1--FqXh6yX0X",
        "dNyWJ_5QwanG",
        "mmbCrdPOxg6l"
      ]
    }
  }
}
