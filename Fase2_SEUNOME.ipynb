{
 "cells": [
  {
   "cell_type": "markdown",
   "metadata": {},
   "source": [
    "# <font color =\"darkblue\">Processo seletivo TAIL 2020.1</font>"
   ]
  },
  {
   "cell_type": "markdown",
   "metadata": {},
   "source": [
    "## Introdução"
   ]
  },
  {
   "cell_type": "markdown",
   "metadata": {},
   "source": [
    "Olá candidato! Para participar do 2º processo seletivo, você deve abrir o link do colab abaixo e fazer uma cópia para seu drive e inserir as respostas nos campos.\n",
    "\n",
    "Após responder, basta compartilhar conosco e nos enviar o link no email: tailufpb@gmail.com com o assunto **PROCESSO SELETIVO 2020.1 - SEU_NOME**\n",
    "\n",
    "Para mais instruções, assista o vídeo de explicações e dúvidas que enviamos por email."
   ]
  },
  {
   "cell_type": "markdown",
   "metadata": {},
   "source": [
    "[![Open In Colab](https://colab.research.google.com/assets/colab-badge.svg)](https://colab.research.google.com/github/TailUFPB/processo2fase/blob/master/Fase2_SEUNOME.ipynb) "
   ]
  },
  {
   "cell_type": "markdown",
   "metadata": {},
   "source": [
    "## Instruções:\n",
    "<br>1. Abra o Google Colaboratory;\n",
    "<br>2. Faça uma cópia no seu drive;\n",
    "<br>3. Localize o notebook e abra-o;\n",
    "<br>4. Responda o questionário;\n",
    "<br>5. Salve o notebook e submeta-o através de nosso email: tailufpb@gmail.com\n",
    "    \n"
   ]
  },
  {
   "cell_type": "markdown",
   "metadata": {},
   "source": [
    "## Materiais"
   ]
  },
  {
   "cell_type": "markdown",
   "metadata": {},
   "source": [
    "**Anexo :** \n",
    "\n",
    "Para auxilio com as questões, disponibilizamos o livro *Python para Estatísticos*, do professor Telmo de Menezes e Silva Filho, do Departamento de Estatística da Universidade Federal da Paraíba (UFPB):\n",
    "\n",
    "[**Python para Estatísticos**](https://tmfilho.github.io/pyestbook)\n",
    "\n",
    "Link para bibliotecas essênciais para desenvolver os problemas abaixo:\n",
    "\n",
    "[**Bibliotecas essênciais**](https://github.com/Manuelfjr/processo2fase_anexo)"
   ]
  },
  {
   "cell_type": "code",
   "execution_count": 5,
   "metadata": {
    "scrolled": true
   },
   "outputs": [
    {
     "name": "stdout",
     "output_type": "stream",
     "text": [
      "\n",
      "\n"
     ]
    }
   ],
   "source": [
    "#@title Preencha os campos abaixo:\n",
    "\n",
    "nome = '' #@param {type:\"string\"}\n",
    "email = '' #@param {type:\"string\"}\n",
    "\n",
    "# confira se os valores impressos correspondem ao que você digitou\n",
    "print(nome)\n",
    "print(email)"
   ]
  },
  {
   "cell_type": "markdown",
   "metadata": {},
   "source": [
    "## Avisos\n",
    "Aqui vão uma série de avisos e dicas:\n",
    "* Fiquem de boa galera. Isso não é uma prova e o seu desempenho aqui não é eliminatório.\n",
    "* Se esforcem. Mesmo que não consigam responder tudo, deem o máximo de si.\n",
    "* Descrevam o que pensaram e como fizeram ou teriam feito para resolver a questão (isso é muito importante).\n",
    "* Se divirtam. Vai ser muito legal ter vocês conosco!\n",
    "\n",
    "![](https://github.com/TailUFPB/processo2fase/raw/master/img/ygt.jpg)"
   ]
  },
  {
   "cell_type": "markdown",
   "metadata": {},
   "source": [
    "# Dados e enunciado para as questões 1, 2 e 3:\n",
    "##### Data Set Information:\n",
    "\n",
    "Attribute Information:\n",
    "\n",
    "1) ID number  \n",
    "2) Diagnosis (M = malignant, B = benign)\n",
    "\n",
    "Ten real-valued features are computed for each cell nucleus:\n",
    "\n",
    "a) radius (mean of distances from center to points on the perimeter)  \n",
    "b) texture (standard deviation of gray-scale values)  \n",
    "c) perimeter  \n",
    "d) area  \n",
    "e) smoothness (local variation in radius lengths)  \n",
    "f) compactness (perimeter^2 / area - 1.0)  \n",
    "g) concavity (severity of concave portions of the contour)  \n",
    "h) concave points (number of concave portions of the contour)  \n",
    "i) symmetry  \n",
    "j) fractal dimension (\"coastline approximation\" - 1)  \n",
    "\n",
    "*datapath: https://raw.githubusercontent.com/carlosfab/data_science/master/datasets/breast-cancer-wisconsin.csv*\n",
    "***\n",
    "### Questão 1: Preparação do ambiente\n",
    "\n",
    "**a)** Preparar o ambiente (Colab)  \n",
    "**b)** Pegar os arquivos que vão utilizar na tarefa  \n",
    "**c)** Utilizar o pandas para receber os dados  \n",
    "**d)** Visualizar os Dados em Histogramas  "
   ]
  },
  {
   "cell_type": "code",
   "execution_count": 11,
   "metadata": {},
   "outputs": [],
   "source": [
    "# R:"
   ]
  },
  {
   "cell_type": "markdown",
   "metadata": {},
   "source": [
    "### Questão 2: Análise exploratória\n",
    "**a)** Visualize os dados, detalhando cada coluna  \n",
    "**b)** Extraia informações dos dados. Média, Moda, Mediana, Boxplot  \n",
    "**c)** Visualize os valores únicos de uma determinada coluna  "
   ]
  },
  {
   "cell_type": "code",
   "execution_count": 16,
   "metadata": {},
   "outputs": [],
   "source": [
    "# R:"
   ]
  },
  {
   "cell_type": "markdown",
   "metadata": {},
   "source": [
    "***\n",
    "### Questão 3: Construa gráficos para passar uma mensagem sobre a análise que foi feita"
   ]
  },
  {
   "cell_type": "code",
   "execution_count": 17,
   "metadata": {},
   "outputs": [],
   "source": [
    "# R:"
   ]
  },
  {
   "cell_type": "markdown",
   "metadata": {},
   "source": [
    "***\n",
    "### Questão 4: Leitura de gráficos\n",
    "**Explique o que ocorre com os modelos treinados abaixo e identifique possíveis soluções para um melhor desempenho.**\n",
    "![img](https://i.imgur.com/00SO2Xh.jpg?1)\n",
    "![img](https://i.imgur.com/NS8Qc6f.png?1)"
   ]
  },
  {
   "cell_type": "code",
   "execution_count": 8,
   "metadata": {},
   "outputs": [],
   "source": [
    "# R:"
   ]
  },
  {
   "cell_type": "markdown",
   "metadata": {},
   "source": [
    "***\n",
    "# Dados e enunciado para questão 5, 6 e 7:\n",
    "\n",
    "***   \n",
    "## Context\n",
    "This is the dataset used in the second chapter of Aurélien Géron's recent book 'Hands-On Machine learning with Scikit-Learn and TensorFlow'. It serves as an excellent introduction to implementing machine learning algorithms because it requires rudimentary data cleaning, has an easily understandable list of variables and sits at an optimal size between being to toyish and too cumbersome.\n",
    "\n",
    "The data contains information from the 1990 California census. So although it may not help you with predicting current housing prices like the Zillow Zestimate dataset, it does provide an accessible introductory dataset for teaching people about the basics of machine learning.\n",
    "\n",
    "*datapath: https://raw.githubusercontent.com/ageron/handson-ml2/master/datasets/housing/housing.csv*\n",
    "***\n",
    "\n",
    "### Questão 5: Organização dos dados\n",
    "\n",
    "**a)** Através de uma biblioteca, receba os dados e explore-os  \n",
    "**b)** Plote gráficos que descrevam como se comportam as distribuições das colunas"
   ]
  },
  {
   "cell_type": "code",
   "execution_count": 12,
   "metadata": {},
   "outputs": [],
   "source": [
    "# R:"
   ]
  },
  {
   "cell_type": "markdown",
   "metadata": {},
   "source": [
    "***\n",
    "### Questão 6: Feature Engineering e lidando com dados categorizados\n",
    "\n",
    "**a)** Crie uma nova coluna a partir de uma ou mais colunas  \n",
    "**b)** Encontre uma forma de representar os dados categóricos em forma numérica\n"
   ]
  },
  {
   "cell_type": "code",
   "execution_count": 13,
   "metadata": {},
   "outputs": [],
   "source": [
    "# R:"
   ]
  },
  {
   "cell_type": "markdown",
   "metadata": {},
   "source": [
    "***\n",
    "### Questão 7: Classificação\n",
    "\n",
    "**a)** Prepare os dados para classificar de acordo com o preço, dividido em três classes (barato, médio e caro)  \n",
    "**b)** Faça um modelo para classificar os dados  \n",
    "**c)** Avalie o seu modelo  "
   ]
  },
  {
   "cell_type": "code",
   "execution_count": 14,
   "metadata": {},
   "outputs": [],
   "source": [
    "# R:"
   ]
  },
  {
   "cell_type": "markdown",
   "metadata": {},
   "source": [
    "***\n",
    "### Questão 8: \n",
    "##### Descreva de maneira suscinta e objetiva o funcionamento do algorítmo PCA e suas utilidades"
   ]
  },
  {
   "cell_type": "code",
   "execution_count": 3,
   "metadata": {},
   "outputs": [],
   "source": [
    "# R:"
   ]
  },
  {
   "cell_type": "markdown",
   "metadata": {},
   "source": [
    "### Questão 9: Equações de Bellman\n",
    "##### Explique com suas palavras de maneira detalhada as equações de Bellman.\n",
    "***"
   ]
  },
  {
   "cell_type": "code",
   "execution_count": 1,
   "metadata": {},
   "outputs": [],
   "source": [
    "# R:"
   ]
  },
  {
   "cell_type": "markdown",
   "metadata": {},
   "source": [
    "### Questão 10: Attention Model\n",
    "\n",
    "###### Explique com suas palavras o funcionamento de um Attention Model."
   ]
  },
  {
   "cell_type": "code",
   "execution_count": 2,
   "metadata": {},
   "outputs": [],
   "source": [
    "# R:"
   ]
  }
 ],
 "metadata": {
  "kernelspec": {
   "display_name": "Python 3",
   "language": "python",
   "name": "python3"
  },
  "language_info": {
   "codemirror_mode": {
    "name": "ipython",
    "version": 3
   },
   "file_extension": ".py",
   "mimetype": "text/x-python",
   "name": "python",
   "nbconvert_exporter": "python",
   "pygments_lexer": "ipython3",
   "version": "3.7.4"
  }
 },
 "nbformat": 4,
 "nbformat_minor": 2
}
