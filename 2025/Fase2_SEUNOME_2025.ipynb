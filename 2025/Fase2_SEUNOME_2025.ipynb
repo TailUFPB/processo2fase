{
  "cells": [
    {
      "cell_type": "markdown",
      "metadata": {
        "id": "bhRj3mZjtrKe"
      },
      "source": [
        "<a href=\"TAIL\"><img src=\"https://i.imgur.com/GRTE0OG.png\" width=\"150\" title=\"Tail Logo\" /></a>\n",
        "\n",
        "# <font color =\"#00b8ff\">Processo seletivo TAIL 2025</font>"
      ]
    },
    {
      "cell_type": "markdown",
      "metadata": {
        "id": "HNkloOLuuWAW"
      },
      "source": [
        "## Introdução"
      ]
    },
    {
      "cell_type": "markdown",
      "metadata": {
        "id": "yzCB_rCSuV3y"
      },
      "source": [
        "Olá candidato! Para participar da 2º etapa do processo seletivo, você deve abrir o link do colab abaixo e fazer uma cópia para seu drive e inserir as respostas nos campos.\n",
        "\n",
        "Após responder, basta compartilhar conosco e nos enviar o link no email: tail.ufpb@gmail.com com o assunto **PROCESSO SELETIVO 2025 - SEU_NOME**\n",
        "\n",
        "Para mais instruções, assista o vídeo de explicações e dúvidas que enviamos por email.\n",
        "\n",
        "Pedimos que envie o notebook até o dia 22/06/2025 às 23:59. Notebooks enviados após essa data NÃO serão aceitos.\n",
        "\n",
        "Qualquer dúvida, lembre de nos contactar através do canal no [discord](https://discord.gg/7UD7Ntv9)"
      ]
    },
    {
      "cell_type": "markdown",
      "metadata": {
        "id": "scEE1PCEumkh"
      },
      "source": [
        "[![Open In Colab](https://colab.research.google.com/assets/colab-badge.svg)](https://colab.research.google.com/drive/1tQAdqXcol_wouq9JszWy-7n6GkbvEoA1?usp=sharing)"
      ]
    },
    {
      "cell_type": "markdown",
      "metadata": {
        "id": "Vd4CYCwnuse5"
      },
      "source": [
        "## Instruções:\n",
        "<br>1. Abra o Google Colaboratory;\n",
        "<br>2. Faça uma cópia no seu drive;\n",
        "<br>3. Localize o notebook e abra-o;\n",
        "<br>4. Responda o questionário;\n",
        "<br>5. Salve o notebook e submeta-o através de nosso email: tail.ufpb@gmail.com"
      ]
    },
    {
      "cell_type": "markdown",
      "metadata": {
        "id": "0Y7nCDf4uyKc"
      },
      "source": [
        "## Materiais"
      ]
    },
    {
      "cell_type": "markdown",
      "metadata": {
        "id": "VUNjkSYMuyED"
      },
      "source": [
        "**Anexo :**\n",
        "\n",
        "Para auxilio com as questões, disponibilizamos o livro *Python para Estatísticos*, do professor Telmo de Menezes e Silva Filho, do Departamento de Estatística da Universidade Federal da Paraíba (UFPB):\n",
        "\n",
        "[**Python para Estatísticos**](https://tmfilho.github.io/pyestbook)\n",
        "\n",
        "Link para bibliotecas essênciais para desenvolver os problemas abaixo:\n",
        "\n",
        "[**Bibliotecas essenciais**](https://github.com/Manuelfjr/processo2fase_anexo)\n",
        "\n",
        "Slides das aulas de Thaís:  \n",
        "  \n",
        "[**Slides**](https://sites.google.com/site/gaudenciothaisia/home/aulas)\n",
        "\n",
        "Outros materiais, específicos para resolução de certas questões, serão especificados em seus enunciados."
      ]
    },
    {
      "cell_type": "code",
      "execution_count": null,
      "metadata": {
        "id": "lg1T8az0tmxX"
      },
      "outputs": [],
      "source": [
        "#@title Preencha os campos abaixo:\n",
        "\n",
        "nome = '' #@param {type:\"string\"}\n",
        "email = '' #@param {type:\"string\"}\n",
        "\n",
        "# confira se os valores impressos correspondem ao que você digitou\n",
        "print(nome)\n",
        "print(email)"
      ]
    },
    {
      "cell_type": "markdown",
      "metadata": {
        "id": "XcqfOfJIvFJz"
      },
      "source": [
        "# **Avisos**\n",
        "Aqui vai uma série de avisos e dicas:\n",
        "* Uso do **chatgpt** é permitido, porém use com bom senso e especifique quando ele for usado (Priorize tirar dúvidas com monitores)\n",
        "* Se **esforcem**. Mesmo que não consigam responder tudo, deem o máximo de si.\n",
        "* **Descrevam o que pensaram** e como fizeram ou teriam feito para resolver a questão (isso é muito importante).\n",
        "* Se divirtam. Vai ser muito legal ter vocês conosco!\n",
        "\n",
        "**IMPORTANTE**\n",
        "* O uso indevido de LLMs para fazer questões completas será penalizado com anulação da questão! (Entende-se que o uso indevido é quando o LLM é usado para fazer questões completas, ou quase a totalidade delas) - Se usado, especifique como foi usado e como.\n",
        "\n",
        "![](https://github.com/TailUFPB/processo2fase/raw/master/img/ygt.jpg)"
      ]
    },
    {
      "cell_type": "markdown",
      "metadata": {
        "id": "9PIHFXPgPkHN"
      },
      "source": [
        "# Questão 1: Pokemon Types\n",
        "---"
      ]
    },
    {
      "cell_type": "markdown",
      "metadata": {
        "id": "vjnEybo25CqB"
      },
      "source": [
        "**Descrição:**\n",
        "\\\n",
        "Lançados em 1996, Pokémon Red e Blue marcaram o início da aclamada franquia. Nesses jogos, o objetivo principal é capturar Pokémons e evoluir para se tornar o campeão regional. A dinâmica de batalha é definida pelos tipos de cada Pokémon. Eles podem ter um ou dois, o que influencia diretamente a eficácia de seus ataques. A seguir, vamos explorar essas relações de tipo, identificando suas vantagens e desvantagens.\n",
        "\n",
        "**Tarefa:**\n",
        "\\\n",
        "Você deverá escrever um programa que seja capaz de mapear as vantagens e desvantagens de cada tipo pokémon. Siga a tabela abaixo para realizar o mapeamento:\n",
        "\n",
        "![](https://gamefaqs.gamespot.com/gameboy/198314-pokemon-yellow-version-special-pikachu-edition/map/12191?raw=1)\n",
        "\n",
        "A entrada do programa receberá uma lista de strings contendo duas strings e o retorno do programa deverá ser a eficácia dos ataques do teu pokémon na batalha.\n",
        "\n",
        "*Observação*: Normalmente, Pokémons podem ter dois tipos. Levaremos em conta, somente para essa questão, Pokémons de um tipo apenas.\n",
        "\n",
        "*Extra*: Caso esteja se sentindo aventureiro(a), implemente o seu código de forma que ele considere, também, Pokémons de dois tipos. Siga as regras na tabela acima a risca para essa implementação.\n",
        "\n",
        "**Entrada**:\n",
        "\\\n",
        "Seu programa irá receber como entrada uma lista de strings formada por dois elementos, seguindo as seguintes regras:\n",
        "\n",
        "* Os tipos devem estar escritos exatamente como foram mapeados no código;\n",
        "* A primeira string servirá para descrever o tipo do teu Pokémon;\n",
        "* A segunda string servirá para descrever o tipo do Pokémon do teu adversário.\n",
        "\n",
        "**Saída**:\n",
        "\n",
        "Seu programa deve retornar uma string que descreva a eficácia dos ataques do teu pokémon na batalha. Os possíveis retornos são:\n",
        "\n",
        "* Dano normal;\n",
        "* Dano super-eficaz;\n",
        "* Dano não muito eficaz;\n",
        "* Sem efeito/Dano nulo.\n",
        "\n",
        "**Exemplo**:\n",
        "\n",
        "Entrada:\n",
        "\n",
        "[\"Fire\", \"Grass\"]\n",
        "\n",
        "Saída:\n",
        "\n",
        "\"Dano super-eficaz\""
      ]
    },
    {
      "cell_type": "code",
      "execution_count": null,
      "metadata": {
        "id": "LNDxT4cNehi5"
      },
      "outputs": [],
      "source": [
        "def batalha_pokemon(tipos) -> str:\n",
        "  # Seu código aqui"
      ]
    },
    {
      "cell_type": "markdown",
      "metadata": {
        "id": "3yjCQskpemiO"
      },
      "source": [
        "Testando"
      ]
    },
    {
      "cell_type": "code",
      "execution_count": null,
      "metadata": {
        "id": "kiHcl3UDem6b"
      },
      "outputs": [],
      "source": [
        "tipos = [\"Fire\", \"Grass\"]\n",
        "batalha_pokemon(tipos)"
      ]
    },
    {
      "cell_type": "markdown",
      "metadata": {
        "id": "K4WPHvxtwRum"
      },
      "source": [
        "# Questão 2: Gerador de Sentenças para GLC\n",
        "---"
      ]
    },
    {
      "cell_type": "markdown",
      "metadata": {
        "id": "tmYA8OJFsY5Z"
      },
      "source": [
        "**Descrição**\n",
        "Um bom programador deve dominar as estruturas de dados e algoritmos. Nesta atividade, você criará uma ferramenta interativa que, a cada solicitação, produz uma nova sentença da linguagem — sempre em ordem de “complexidade” (sentenças menores primeiro) — e exibe a derivação mais à esquerda usada para chegá-la, sem repetir nenhuma derivação já mostrada. Esse tipo de sistema é um dos mais comuns em processamento de linguagem natural (NLP) e em linguagens de programação para conversão do código escrito pelo programador para código que possa ser executado.\n",
        "Agora, você deve implementar um gerador de cadeias de uma gramática livre de contexto (GLC) para seguir os mesmos passos dos desenvolvedores que vieram antes de você!\n",
        "\n",
        "---\n",
        "\n",
        "**Tarefa**\n",
        "\n",
        "Implemente em Python a classe **`GeradorGLC`** com os seguintes componentes:\n",
        "\n",
        "1. **Construtor**  \n",
        "   - Recebe o caminho para o arquivo da gramática.  \n",
        "   - Inicializa:\n",
        "     - Lista de variáveis (não-terminais)  \n",
        "     - Lista de terminais  \n",
        "     - Dicionário de produções  \n",
        "     - Símbolo inicial  \n",
        "     - Conjunto de derivações já exibidas  \n",
        "\n",
        "2. **Método `ler_gramatica(self, arquivo)`**  \n",
        "   - Lê o arquivo com o formato abaixo e popula as estruturas internas.  \n",
        "   - Reconhece `\"epsilon\"` como cadeia vazia.\n",
        "\n",
        "   Aqui está um exemplo de arquivo de gramática:\n",
        "\n",
        "   ```txt\n",
        "    variaveis:S,A,B\n",
        "    inicial:S\n",
        "    terminais:a,b,c,d\n",
        "    producoes\n",
        "    S: aA\n",
        "    S: bB\n",
        "    A: epsilon\n",
        "    B: S\n",
        "    B: c\n",
        "   ```\n",
        "3. **Método `gerar_cadeia_rapido(self)`**\n",
        "   - Usa busca em largura (BFS) para explorar sentenças a partir do símbolo inicial.\n",
        "   - Em cada chamada, retorna:\n",
        "     - A próxima cadeia composta só por terminais\n",
        "     - A lista de tuplas que descrevem cada passo da derivação mais à esquerda\n",
        "   - Garante que não haja repetições de derivações ou loops, mesmo em gramáticas recursivas ou ambíguas.\n",
        "   - Se todas as derivações possíveis já foram apresentadas, retorna:\n",
        "     - `Todas as derivações possíveis já foram mostradas.`\n",
        "\n",
        "---\n",
        "\n",
        "**Notas e Dicas Adicionais**\n",
        "\n",
        "- Teste com gramáticas recursivas à esquerda e ambíguas.\n",
        "- Pense em como serializar a derivação (por exemplo, convertendo a lista de tuplas em str) para armazenar em um set.\n",
        "- Considere gramáticas cujo símbolo inicial volta a chamar a si mesmo, gerando potencial de loops.\n",
        "- Para busca em largura, você pode usar um fila (biblioteca collections).\n",
        "- Para armazenar as derivações já vistas, você pode usar um set.\n",
        "- Para converter uma lista de tuplas em uma string, você pode usar o método join.\n",
        "\n",
        "\n",
        "---\n",
        "\n",
        "**Referências**\n",
        "\n",
        "- [Context-free Grammar in Python using NLTK for NLP + Examples](https://medium.com/@ivarrvinter/context-free-grammar-in-python-using-nltk-for-nlp-examples-d76726514897)"
      ]
    },
    {
      "cell_type": "code",
      "execution_count": null,
      "metadata": {},
      "outputs": [],
      "source": [
        "# Seu código aqui\n",
        "class GeradorGLC:\n",
        "    def __init__(self, arquivo):\n",
        "        "
      ]
    },
    {
      "cell_type": "markdown",
      "metadata": {
        "id": "dNyWJ_5QwanG"
      },
      "source": [
        "# Questão 3: Dados\n",
        "---\n"
      ]
    },
    {
      "cell_type": "markdown",
      "metadata": {
        "id": "uFSXUN-NwpyO"
      },
      "source": [
        "**Descrição:**\n",
        "\\\n",
        "Nessa seção, você adentrará no âmbito da análise de dados, que se trata do processo de limpeza, inspeção, modelagem e transformação de dados, corroborando para uma melhor interpretação dos dados e tomadas de decisão mais incisivas. Após essa breve introdução, você terá de analisar o dataset [California Housing Prices](https://www.kaggle.com/datasets/camnugget/california-housing-prices).\n",
        "\n",
        "Note que o dataset que será usado nessa questão não pode ser alterado, a importação dele está diretamente no código abaixo. Na parte 3.1\n",
        "\\\n",
        "Ele está com alguns problemas e necessita de uma boa análise, junto com limpezas de dados para ser melhor compreendido e utilizável para o Aprendizado de Máquina.\n",
        "Além disso, explore bem a parte de visualização de dados para garantir que as informações sejam compreendidas mais facilmente por qualquer pessoa.\n",
        "\n",
        "\n",
        "**Observação:** A Questão 3 é necessária para a execução da Questão 4."
      ]
    },
    {
      "cell_type": "markdown",
      "metadata": {
        "id": "3BoZNTBewsa9"
      },
      "source": [
        "### 3.1 - Leitura dos dados e realização de descrição estatística\n",
        "---"
      ]
    },
    {
      "cell_type": "markdown",
      "metadata": {
        "id": "ouj4ObwTwwCk"
      },
      "source": [
        "A seguir, o dataframe já estará montado pelo método `pd.read_csv()` da biblioteca `pandas`, a partir da execução da célula.\n",
        "\n",
        "Dica: Você pode acessar a documentação da biblioteca `pandas` [clicando aqui](https://pandas.pydata.org/docs/getting_started/index.html#getting-started). Após o processamento do dataframe, você terá de realizar uma descrição estatística dos dados."
      ]
    },
    {
      "cell_type": "code",
      "execution_count": 1,
      "metadata": {
        "id": "IuoYM2v0wjNX"
      },
      "outputs": [],
      "source": [
        "import pandas as pd"
      ]
    },
    {
      "cell_type": "code",
      "execution_count": 2,
      "metadata": {
        "colab": {
          "base_uri": "https://localhost:8080/",
          "height": 568
        },
        "id": "0w33YdPdwyjb",
        "outputId": "f23fcde8-9ebd-4e81-b746-f817be6ca59d"
      },
      "outputs": [
        {
          "data": {
            "text/html": [
              "<div>\n",
              "<style scoped>\n",
              "    .dataframe tbody tr th:only-of-type {\n",
              "        vertical-align: middle;\n",
              "    }\n",
              "\n",
              "    .dataframe tbody tr th {\n",
              "        vertical-align: top;\n",
              "    }\n",
              "\n",
              "    .dataframe thead th {\n",
              "        text-align: right;\n",
              "    }\n",
              "</style>\n",
              "<table border=\"1\" class=\"dataframe\">\n",
              "  <thead>\n",
              "    <tr style=\"text-align: right;\">\n",
              "      <th></th>\n",
              "      <th>longitude</th>\n",
              "      <th>latitude</th>\n",
              "      <th>housing_median_age</th>\n",
              "      <th>total_rooms</th>\n",
              "      <th>total_bedrooms</th>\n",
              "      <th>population</th>\n",
              "      <th>households</th>\n",
              "      <th>median_income</th>\n",
              "      <th>median_house_value</th>\n",
              "      <th>ocean_proximity</th>\n",
              "    </tr>\n",
              "  </thead>\n",
              "  <tbody>\n",
              "    <tr>\n",
              "      <th>0</th>\n",
              "      <td>-122.23</td>\n",
              "      <td>37.88</td>\n",
              "      <td>41,</td>\n",
              "      <td>880.0</td>\n",
              "      <td>129.0</td>\n",
              "      <td>322.0</td>\n",
              "      <td>126 .0</td>\n",
              "      <td>8,3252</td>\n",
              "      <td>452600,0000000</td>\n",
              "      <td>NEAR BAY</td>\n",
              "    </tr>\n",
              "    <tr>\n",
              "      <th>1</th>\n",
              "      <td>-122.22</td>\n",
              "      <td>37.86</td>\n",
              "      <td>21,</td>\n",
              "      <td>7099.0</td>\n",
              "      <td>1106.0</td>\n",
              "      <td>2401.0</td>\n",
              "      <td>1138 .0</td>\n",
              "      <td>8,3014</td>\n",
              "      <td>358500,0000000</td>\n",
              "      <td>NEAR BAY</td>\n",
              "    </tr>\n",
              "    <tr>\n",
              "      <th>2</th>\n",
              "      <td>-122.24</td>\n",
              "      <td>37.85</td>\n",
              "      <td>52,</td>\n",
              "      <td>1467.0</td>\n",
              "      <td>190.0</td>\n",
              "      <td>496.0</td>\n",
              "      <td>177 .0</td>\n",
              "      <td>7,2574</td>\n",
              "      <td>352100,0000000</td>\n",
              "      <td>NEAR BAY</td>\n",
              "    </tr>\n",
              "    <tr>\n",
              "      <th>3</th>\n",
              "      <td>-122.25</td>\n",
              "      <td>37.85</td>\n",
              "      <td>52,</td>\n",
              "      <td>1274.0</td>\n",
              "      <td>235.0</td>\n",
              "      <td>558.0</td>\n",
              "      <td>219 .0</td>\n",
              "      <td>5,6431</td>\n",
              "      <td>341300,0000000</td>\n",
              "      <td>NEAR BAY</td>\n",
              "    </tr>\n",
              "    <tr>\n",
              "      <th>4</th>\n",
              "      <td>-122.25</td>\n",
              "      <td>37.85</td>\n",
              "      <td>52,</td>\n",
              "      <td>1627.0</td>\n",
              "      <td>280.0</td>\n",
              "      <td>565.0</td>\n",
              "      <td>259 .0</td>\n",
              "      <td>3,8462</td>\n",
              "      <td>342200,0000000</td>\n",
              "      <td>NEAR BAY</td>\n",
              "    </tr>\n",
              "    <tr>\n",
              "      <th>...</th>\n",
              "      <td>...</td>\n",
              "      <td>...</td>\n",
              "      <td>...</td>\n",
              "      <td>...</td>\n",
              "      <td>...</td>\n",
              "      <td>...</td>\n",
              "      <td>...</td>\n",
              "      <td>...</td>\n",
              "      <td>...</td>\n",
              "      <td>...</td>\n",
              "    </tr>\n",
              "    <tr>\n",
              "      <th>20635</th>\n",
              "      <td>-121.09</td>\n",
              "      <td>39.48</td>\n",
              "      <td>25,</td>\n",
              "      <td>1665.0</td>\n",
              "      <td>374.0</td>\n",
              "      <td>845.0</td>\n",
              "      <td>330 .0</td>\n",
              "      <td>1,5603</td>\n",
              "      <td>78100,0000000</td>\n",
              "      <td>INLAND</td>\n",
              "    </tr>\n",
              "    <tr>\n",
              "      <th>20636</th>\n",
              "      <td>-121.21</td>\n",
              "      <td>39.49</td>\n",
              "      <td>18,</td>\n",
              "      <td>697.0</td>\n",
              "      <td>150.0</td>\n",
              "      <td>356.0</td>\n",
              "      <td>114 .0</td>\n",
              "      <td>2,5568</td>\n",
              "      <td>77100,0000000</td>\n",
              "      <td>INLAND</td>\n",
              "    </tr>\n",
              "    <tr>\n",
              "      <th>20637</th>\n",
              "      <td>-121.22</td>\n",
              "      <td>39.43</td>\n",
              "      <td>17,</td>\n",
              "      <td>2254.0</td>\n",
              "      <td>485.0</td>\n",
              "      <td>1007.0</td>\n",
              "      <td>433 .0</td>\n",
              "      <td>1,7</td>\n",
              "      <td>92300,0000000</td>\n",
              "      <td>INLAND</td>\n",
              "    </tr>\n",
              "    <tr>\n",
              "      <th>20638</th>\n",
              "      <td>-121.32</td>\n",
              "      <td>39.43</td>\n",
              "      <td>18,</td>\n",
              "      <td>1860.0</td>\n",
              "      <td>409.0</td>\n",
              "      <td>741.0</td>\n",
              "      <td>349 .0</td>\n",
              "      <td>1,8672</td>\n",
              "      <td>84700,0000000</td>\n",
              "      <td>INLAND</td>\n",
              "    </tr>\n",
              "    <tr>\n",
              "      <th>20639</th>\n",
              "      <td>-121.24</td>\n",
              "      <td>39.37</td>\n",
              "      <td>16,</td>\n",
              "      <td>2785.0</td>\n",
              "      <td>616.0</td>\n",
              "      <td>1387.0</td>\n",
              "      <td>530 .0</td>\n",
              "      <td>2,3886</td>\n",
              "      <td>89400,0000000</td>\n",
              "      <td>INLAND</td>\n",
              "    </tr>\n",
              "  </tbody>\n",
              "</table>\n",
              "<p>20640 rows × 10 columns</p>\n",
              "</div>"
            ],
            "text/plain": [
              "       longitude  latitude housing_median_age  total_rooms  total_bedrooms  \\\n",
              "0        -122.23     37.88                41,        880.0           129.0   \n",
              "1        -122.22     37.86                21,       7099.0          1106.0   \n",
              "2        -122.24     37.85                52,       1467.0           190.0   \n",
              "3        -122.25     37.85                52,       1274.0           235.0   \n",
              "4        -122.25     37.85                52,       1627.0           280.0   \n",
              "...          ...       ...                ...          ...             ...   \n",
              "20635    -121.09     39.48                25,       1665.0           374.0   \n",
              "20636    -121.21     39.49                18,        697.0           150.0   \n",
              "20637    -121.22     39.43                17,       2254.0           485.0   \n",
              "20638    -121.32     39.43                18,       1860.0           409.0   \n",
              "20639    -121.24     39.37                16,       2785.0           616.0   \n",
              "\n",
              "       population households median_income median_house_value ocean_proximity  \n",
              "0           322.0    126 .0         8,3252     452600,0000000        NEAR BAY  \n",
              "1          2401.0   1138 .0         8,3014     358500,0000000        NEAR BAY  \n",
              "2           496.0    177 .0         7,2574     352100,0000000        NEAR BAY  \n",
              "3           558.0    219 .0         5,6431     341300,0000000        NEAR BAY  \n",
              "4           565.0    259 .0         3,8462     342200,0000000        NEAR BAY  \n",
              "...           ...        ...           ...                ...             ...  \n",
              "20635       845.0    330 .0         1,5603      78100,0000000          INLAND  \n",
              "20636       356.0    114 .0         2,5568      77100,0000000          INLAND  \n",
              "20637      1007.0    433 .0            1,7      92300,0000000          INLAND  \n",
              "20638       741.0    349 .0         1,8672      84700,0000000          INLAND  \n",
              "20639      1387.0    530 .0         2,3886      89400,0000000          INLAND  \n",
              "\n",
              "[20640 rows x 10 columns]"
            ]
          },
          "execution_count": 2,
          "metadata": {},
          "output_type": "execute_result"
        }
      ],
      "source": [
        "df = pd.read_csv('https://raw.githubusercontent.com/TailUFPB/processo2fase/refs/heads/master/2025/data/california.csv')\n",
        "df"
      ]
    },
    {
      "cell_type": "markdown",
      "metadata": {
        "id": "3DfxDLRLxbq6"
      },
      "source": [
        "### 3.2 - Análise Exploratória dos Dados\n",
        "---"
      ]
    },
    {
      "cell_type": "markdown",
      "metadata": {
        "id": "jPJ8NHDSxiKR"
      },
      "source": [
        "Antes de qualquer análise mais aprofundada sobre um conjunto de dados, é necessário ter uma noção de como estes dados estão distribuídos, que valores são mais comuns entre os dados, o quão dispersos estão e se existem valores que se distinguem do dataset, de uma maneira geral. Todas estas informações são classificadas como estatísticas, e em ciência de dados é preciso ter ideias claras sobre a forma do conjunto de dados em questão, utilizando-se majoritariamente da visão como forma de comunicar e representar as estatísticas elementares destes dados. Realize uma análise exploratória sobre os dados deste problema, apresentando as medidas de localização, dispersão e os valores que não se repetem em cada coluna, utilizando a biblioteca de visualização dedados que preferir para criar gráficos que representem estas medidas.\n",
        "\\\n",
        "Tente conferir também que colunas precisam de tratamento de dados, que tratamentos seriam esses e por qual motivo."
      ]
    },
    {
      "cell_type": "markdown",
      "metadata": {
        "id": "KYT6OjT3xli7"
      },
      "source": [
        "_Sua resposta aqui_\n"
      ]
    },
    {
      "cell_type": "code",
      "execution_count": null,
      "metadata": {
        "id": "jNNxLXyexe4O"
      },
      "outputs": [],
      "source": [
        "# Seu código aqui"
      ]
    },
    {
      "cell_type": "markdown",
      "metadata": {
        "id": "S73V7vftw7f2"
      },
      "source": [
        "### 3.3 - Limpeza dos dados\n",
        "---\n",
        "\n"
      ]
    },
    {
      "cell_type": "markdown",
      "metadata": {
        "id": "BH5JE3I8w8cf"
      },
      "source": [
        "Após verificar o dataset acima e a relação das descrições com os valores existentes, realize o processo de limpeza dos dados, verificando possíveis inconsistências entre as linhas ou colunas do dataset. Mais uma vez, a leitura da documentação do `pandas` é uma excelente iniciativa.\n",
        "\\\n",
        "Sugestão: Criar um padrão de formatação para o dataset, é uma boa prática."
      ]
    },
    {
      "cell_type": "markdown",
      "metadata": {
        "id": "UObVt-P3xCuE"
      },
      "source": [
        "_Sua resposta aqui_"
      ]
    },
    {
      "cell_type": "code",
      "execution_count": null,
      "metadata": {
        "id": "qJIEQs-hw8vg"
      },
      "outputs": [],
      "source": [
        "# Seu código aqui"
      ]
    },
    {
      "cell_type": "markdown",
      "metadata": {
        "id": "-rBTE8CKxIVi"
      },
      "source": [
        "### 3.4 - Feature Engineering e Dados Categóricos\n",
        "---"
      ]
    },
    {
      "cell_type": "markdown",
      "metadata": {
        "id": "Bs9WEVCFxKXg"
      },
      "source": [
        "3.4.1 - Em um problema de _Data Science_, é comum nos depararmos com um dataset cujos atributos não esclareçam com efetividade o comportamento de um dado fenômeno. Desta forma, cientistas de dados devem estar aptos a manipular atributos existentes e assim definir novos atributos, de acordo com os critérios estabelecidos. Este processo é descrito como _Feature Engineering_, e trata apenas da manipulação algébrica e/ou lógica de atributos (colunas, no contexto prático) com o intuito de alimentar o seu modelo de Machine Learning com dados relevantes à resolução do problema.\n",
        "Nesta etapa, você deverá utilizar sua intuição aliando criatividade para decidir como novos atributos podem ser definidos, a partir dos dados que você já possui."
      ]
    },
    {
      "cell_type": "markdown",
      "metadata": {},
      "source": [
        "Sugestão: Veja se você pode associar valores de uma coluna a outra para criar uma nova e reduzir a dimensão do dataset."
      ]
    },
    {
      "cell_type": "markdown",
      "metadata": {
        "id": "qHrCjvlnxQTT"
      },
      "source": [
        "_Sua resposta aqui_"
      ]
    },
    {
      "cell_type": "code",
      "execution_count": null,
      "metadata": {
        "id": "pRpYb5AAxIxL"
      },
      "outputs": [],
      "source": [
        "# Seu código aqui"
      ]
    },
    {
      "cell_type": "markdown",
      "metadata": {
        "id": "tN-FgZnmxZLL"
      },
      "source": [
        "3.4.2 - Em poucos termos, algoritmos de Machine Learning só funcionam com valores numéricos. Isto significa que antes de treinar qualquer modelo, deve-se transformar os dados categóricos em dados numéricos. Encontre uma forma de *codificar* as colunas de dados categóricos, de forma que seu modelo consiga interpretar todos os atributos não-numéricos como numéricos."
      ]
    },
    {
      "cell_type": "markdown",
      "metadata": {
        "id": "LTqEASnAxclG"
      },
      "source": [
        "_Sua resposta aqui_\n",
        "\n",
        "\n"
      ]
    },
    {
      "cell_type": "code",
      "execution_count": null,
      "metadata": {
        "id": "FddaebPaxZ3c"
      },
      "outputs": [],
      "source": [
        "# Seu código aqui"
      ]
    },
    {
      "cell_type": "markdown",
      "metadata": {
        "id": "3SdpSOQYubXK"
      },
      "source": [
        "## ⚠️ **Importante** ⚠️\n",
        "---\n",
        "#### As questões a seguir são um pouco mais complexas e podem requerer um tempo maior, leia os enunciados e responda na ordem que preferir, lembre-se que não é preciso fazer se não conseguir e de descrever o que pensaram, como fizeram, ou como teriam feito para resolvê-las.\n",
        "\n",
        "#### Se precisar, consulte as monitorias.\n",
        "\n",
        "\n"
      ]
    },
    {
      "cell_type": "markdown",
      "metadata": {
        "id": "Zd5RlyGu2-Dp"
      },
      "source": [
        "# Questão 4: Machine Learning\n",
        "---"
      ]
    },
    {
      "cell_type": "markdown",
      "metadata": {},
      "source": [
        "**Descrição:**\n",
        "\n",
        "Nesta questão, você irá aplicar conceitos de Aprendizado Supervisionado utilizando dois tipos diferentes de abordagem: Regressão e Classificação.\n",
        "\n",
        "O objetivo é compreender como você toma decisões ao montar um pipeline de Machine Learning, desde a escolha do atributo de saída até a avaliação dos resultados obtidos.\n",
        "\n",
        "\n",
        "**Tarefa:**\n",
        "\n",
        "Utilizando o dataset disponibilizado na Questão 3, realize as seguintes etapas:\n",
        "- Escolha um atributo de saída \n",
        "- Faça a preparação adequada para o dataset\n",
        "- Treine o modelo como problema de Regressão\n",
        "- Treine o modelo como problema de Classificação\n",
        "- Interprete os resultados e apresente métricas de avaliação \n",
        "\n",
        "\n",
        "> Observação:\n",
        "A biblioteca utilizada, o modelo escolhido, o pipeline de pré-processamento e a justificativa para escolha do atributo de saída ficam totalmente a critério do candidato.\n",
        "\n",
        "\n",
        "\n",
        "\n",
        "---\n",
        "\n",
        "Objetivo da Tarefa\n",
        "\n",
        "Esta tarefa busca avaliar sua capacidade de:\n",
        "\n",
        "Tomar decisões fundamentadas durante o desenvolvimento de soluções de Machine Learning;\n",
        "\n",
        "Justificar a escolha de variáveis e técnicas utilizadas;\n",
        "\n",
        "Avaliar e interpretar os resultados de forma crítica.\n",
        "\n",
        "\n",
        "\n",
        "---\n",
        "\n",
        "Recursos Sugeridos\n",
        "\n",
        "As aulas da Professora Thaís disponibilizadas no início do notebook são um excelente ponto de partida para essa atividade.\n",
        "\n",
        "Documentações específicas de bibliotecas e modelos também foram fornecidas e podem (e devem) ser consultadas durante o desenvolvimento da solução."
      ]
    },
    {
      "cell_type": "code",
      "execution_count": null,
      "metadata": {},
      "outputs": [],
      "source": [
        "# Seu código aqui"
      ]
    },
    {
      "cell_type": "markdown",
      "metadata": {},
      "source": [
        "## Preparando o dataframe\n",
        "\n",
        "Faça as manipulações necessárias no dataframe para poder utilizá-lo nos modelos.\n",
        "\n",
        "Dica: Limpe os dados e depois separe-os em pré-processamentos diferentes para cada tipo de problema."
      ]
    },
    {
      "cell_type": "code",
      "execution_count": null,
      "metadata": {},
      "outputs": [],
      "source": [
        "# Seu código aqui"
      ]
    },
    {
      "cell_type": "markdown",
      "metadata": {},
      "source": [
        "---\n",
        "\n",
        "Problema de Regressão\n",
        "\n",
        "No problema de Regressão, o modelo deve ser treinado para prever um valor que pertence a um domínio contínuo (números reais). Ou seja, o objetivo é estimar um valor numérico com base nas variáveis de entrada (features) selecionadas.\n",
        "\n",
        "Instruções:\n",
        "\n",
        "Escolha um atributo do dataset como variável de saída (target) para o problema de regressão.\n",
        "\n",
        "Construa um pipeline de tratamento de dados (se necessário) e treine um modelo adequado para esse tipo de problema.\n",
        "\n",
        "Calcule e apresente as principais métricas de avaliação do modelo ao final do processo.\n",
        " \n",
        "\n",
        "\n",
        "> Dica:\n",
        "Uma boa prática é escolher uma coluna do tipo numérica contínua do dataset, que possua variabilidade suficiente para justificar o uso de regressão.\n",
        "\n",
        "\n",
        "\n",
        "\n",
        "---\n",
        "\n",
        "Recursos Sugeridos:\n",
        "\n",
        "Documentação oficial da biblioteca Scikit-Learn (sklearn)"
      ]
    },
    {
      "cell_type": "code",
      "execution_count": null,
      "metadata": {},
      "outputs": [],
      "source": [
        "# Seu código aqui"
      ]
    },
    {
      "cell_type": "markdown",
      "metadata": {},
      "source": [
        "---\n",
        "\n",
        "Problema de Classificação\n",
        "\n",
        "No problema de Classificação, o modelo deve ser treinado para prever uma categoria (classe) discreta como saída, ou seja, o valor previsto pertence a um conjunto finito de possíveis rótulos.\n",
        "\n",
        "Instruções:\n",
        "\n",
        "Escolha um atributo categórico do dataset como variável de saída (target) para o problema de classificação.\n",
        "\n",
        "Construa um pipeline de tratamento de dados (se necessário) e treine um modelo adequado para esse tipo de problema.\n",
        "\n",
        "Calcule e apresente as principais métricas de avaliação do modelo ao final do processo.\n",
        "\n",
        "> Dica:\n",
        "Uma boa prática é escolher uma coluna que possua duas ou mais categorias bem definidas (problema binário ou multiclasse), garantindo que a classificação seja significativa e balanceada.\n",
        "\n",
        "\n",
        "\n",
        "\n",
        "---\n",
        "\n",
        "Recursos Sugeridos:\n",
        "\n",
        "Documentação oficial da biblioteca Scikit-Learn (sklearn)"
      ]
    },
    {
      "cell_type": "code",
      "execution_count": null,
      "metadata": {},
      "outputs": [],
      "source": [
        "# Seu código aqui"
      ]
    },
    {
      "cell_type": "markdown",
      "metadata": {
        "id": "mmbCrdPOxg6l"
      },
      "source": [
        "# Questão 5: Processamento de Linguagem Natural\n",
        "---"
      ]
    },
    {
      "cell_type": "markdown",
      "metadata": {
        "id": "pKmVbU4xyT4p"
      },
      "source": [
        "**Descrição:**\n",
        "\\\n",
        "Nessa seção você irá explorar a área da NLP, que têm como objetivo obter informações de textos, e além disso, tratá-los e manipular strings com objetivos específicos.\n",
        "\n",
        "\\\n",
        "**Sobre a questão:**\n",
        "\\\n",
        "Você deve tratar os textos(coluna \"reviews\" ou \"reviews_en\"), fazer análises e mudanças necessárias para cumprir seu objetivo em cada pergunta feita."
      ]
    },
    {
      "cell_type": "code",
      "execution_count": null,
      "metadata": {
        "id": "GNoq23cfyO82"
      },
      "outputs": [],
      "source": [
        "url = \"https://raw.githubusercontent.com/TailUFPB/processo2fase/master/2024.2/data/games_sentiments.csv\""
      ]
    },
    {
      "cell_type": "code",
      "execution_count": null,
      "metadata": {
        "id": "3spa68e4yeDf"
      },
      "outputs": [],
      "source": [
        "import pandas as pd\n",
        "import matplotlib.pyplot as plt"
      ]
    },
    {
      "cell_type": "code",
      "execution_count": null,
      "metadata": {
        "id": "4cT6nS38yd_u"
      },
      "outputs": [],
      "source": [
        "df = pd.read_csv(url)"
      ]
    },
    {
      "cell_type": "code",
      "execution_count": null,
      "metadata": {
        "colab": {
          "base_uri": "https://localhost:8080/",
          "height": 206
        },
        "id": "umn4h4L_ydoR",
        "outputId": "527fc469-e383-4f03-c0d5-f5402ff45517"
      },
      "outputs": [
        {
          "data": {
            "application/vnd.google.colaboratory.intrinsic+json": {
              "summary": "{\n  \"name\": \"df\",\n  \"rows\": 12236,\n  \"fields\": [\n    {\n      \"column\": \"reviews\",\n      \"properties\": {\n        \"dtype\": \"string\",\n        \"num_unique_values\": 11286,\n        \"samples\": [\n          \"\\u00d3tima id\\u00e9ia, por\\u00e9m o beta tem muito a melhorar ,pois no meu sansung J7 Pro \\r\\nou a tela fica preta ou reinicia o apk, tornando imposs\\u00edvel a utiliza\\u00e7\\u00e3o, \\r\\nespero que corrijam logo ,pois quero muito ter este tipo de integra\\u00e7\\u00e3o.\",\n          \"Essa desgra\\u00e7a atualizar p piora tmr no cul rpz\",\n          \"N\\u00e3o conecta em outro wi-fi ou no 4g. N\\u00e3o funcionou com o controle do PS5.\"\n        ],\n        \"semantic_type\": \"\",\n        \"description\": \"\"\n      }\n    },\n    {\n      \"column\": \"score\",\n      \"properties\": {\n        \"dtype\": \"number\",\n        \"std\": 1,\n        \"min\": 1,\n        \"max\": 5,\n        \"num_unique_values\": 5,\n        \"samples\": [\n          3,\n          2,\n          5\n        ],\n        \"semantic_type\": \"\",\n        \"description\": \"\"\n      }\n    },\n    {\n      \"column\": \"likes\",\n      \"properties\": {\n        \"dtype\": \"number\",\n        \"std\": 29,\n        \"min\": 0,\n        \"max\": 1056,\n        \"num_unique_values\": 174,\n        \"samples\": [\n          160,\n          210,\n          118\n        ],\n        \"semantic_type\": \"\",\n        \"description\": \"\"\n      }\n    },\n    {\n      \"column\": \"time\",\n      \"properties\": {\n        \"dtype\": \"object\",\n        \"num_unique_values\": 1808,\n        \"samples\": [\n          \"17/11/2018\",\n          \"22/05/2022\",\n          \"26/08/2020\"\n        ],\n        \"semantic_type\": \"\",\n        \"description\": \"\"\n      }\n    },\n    {\n      \"column\": \"app_name\",\n      \"properties\": {\n        \"dtype\": \"category\",\n        \"num_unique_values\": 4,\n        \"samples\": [\n          \"GeForce NOW Cloud Gaming\",\n          \"Steam Link\",\n          \"Xbox Game Pass (Beta)\"\n        ],\n        \"semantic_type\": \"\",\n        \"description\": \"\"\n      }\n    },\n    {\n      \"column\": \"year\",\n      \"properties\": {\n        \"dtype\": \"number\",\n        \"std\": 1,\n        \"min\": 2014,\n        \"max\": 2023,\n        \"num_unique_values\": 10,\n        \"samples\": [\n          2015,\n          2022,\n          2018\n        ],\n        \"semantic_type\": \"\",\n        \"description\": \"\"\n      }\n    },\n    {\n      \"column\": \"reviews_en\",\n      \"properties\": {\n        \"dtype\": \"string\",\n        \"num_unique_values\": 11101,\n        \"samples\": [\n          \"It just stays on connecting, Xbox game pass runs smooth\",\n          \"Considering the \\u20ac0 subscription fee and my 100/100 fiber net connection, I can only praise this app. In my experience, I managed to play a full hour without lag using a computer that didn't meet the minimum requirements needed to run the game. There are certainly some aspects that need improvement, such as, for example, the games should all be updated to the latest version so I don't have to update the game every time I restart the session in the app. But for \\u20ac0... It's TOP!\",\n          \"pain because it's a little minute\"\n        ],\n        \"semantic_type\": \"\",\n        \"description\": \"\"\n      }\n    },\n    {\n      \"column\": \"classification\",\n      \"properties\": {\n        \"dtype\": \"number\",\n        \"std\": 0,\n        \"min\": -1,\n        \"max\": 1,\n        \"num_unique_values\": 3,\n        \"samples\": [\n          1,\n          -1,\n          0\n        ],\n        \"semantic_type\": \"\",\n        \"description\": \"\"\n      }\n    }\n  ]\n}",
              "type": "dataframe",
              "variable_name": "df"
            },
            "text/html": [
              "\n",
              "  <div id=\"df-111a1572-51d8-4225-acd6-cc44f0612bd2\" class=\"colab-df-container\">\n",
              "    <div>\n",
              "<style scoped>\n",
              "    .dataframe tbody tr th:only-of-type {\n",
              "        vertical-align: middle;\n",
              "    }\n",
              "\n",
              "    .dataframe tbody tr th {\n",
              "        vertical-align: top;\n",
              "    }\n",
              "\n",
              "    .dataframe thead th {\n",
              "        text-align: right;\n",
              "    }\n",
              "</style>\n",
              "<table border=\"1\" class=\"dataframe\">\n",
              "  <thead>\n",
              "    <tr style=\"text-align: right;\">\n",
              "      <th></th>\n",
              "      <th>reviews</th>\n",
              "      <th>score</th>\n",
              "      <th>likes</th>\n",
              "      <th>time</th>\n",
              "      <th>app_name</th>\n",
              "      <th>year</th>\n",
              "      <th>reviews_en</th>\n",
              "      <th>classification</th>\n",
              "    </tr>\n",
              "  </thead>\n",
              "  <tbody>\n",
              "    <tr>\n",
              "      <th>0</th>\n",
              "      <td>Olá! Sei que é um app que está em teste, está ...</td>\n",
              "      <td>4</td>\n",
              "      <td>586</td>\n",
              "      <td>13/11/2021</td>\n",
              "      <td>Xbox Game Pass (Beta)</td>\n",
              "      <td>2021</td>\n",
              "      <td>Hello! I know it's an app that's being tested,...</td>\n",
              "      <td>1</td>\n",
              "    </tr>\n",
              "    <tr>\n",
              "      <th>1</th>\n",
              "      <td>O app é excelente, a questão é que existem alg...</td>\n",
              "      <td>4</td>\n",
              "      <td>369</td>\n",
              "      <td>19/07/2022</td>\n",
              "      <td>Xbox Game Pass (Beta)</td>\n",
              "      <td>2022</td>\n",
              "      <td>The app is excellent, the issue is that there ...</td>\n",
              "      <td>1</td>\n",
              "    </tr>\n",
              "    <tr>\n",
              "      <th>2</th>\n",
              "      <td>Sei que ainda está em beta mas, seria interess...</td>\n",
              "      <td>3</td>\n",
              "      <td>509</td>\n",
              "      <td>23/11/2021</td>\n",
              "      <td>Xbox Game Pass (Beta)</td>\n",
              "      <td>2021</td>\n",
              "      <td>I know it's still in beta, but it would be int...</td>\n",
              "      <td>1</td>\n",
              "    </tr>\n",
              "    <tr>\n",
              "      <th>3</th>\n",
              "      <td>Ficou top o visual da nova versão. Deveriam un...</td>\n",
              "      <td>5</td>\n",
              "      <td>289</td>\n",
              "      <td>02/07/2020</td>\n",
              "      <td>Xbox Game Pass (Beta)</td>\n",
              "      <td>2020</td>\n",
              "      <td>The look of the new version was top. They shou...</td>\n",
              "      <td>1</td>\n",
              "    </tr>\n",
              "    <tr>\n",
              "      <th>4</th>\n",
              "      <td>O aplicativo é realmente muito bom, é o que to...</td>\n",
              "      <td>5</td>\n",
              "      <td>44</td>\n",
              "      <td>19/10/2021</td>\n",
              "      <td>Xbox Game Pass (Beta)</td>\n",
              "      <td>2021</td>\n",
              "      <td>The app is really good, it's what everyone exp...</td>\n",
              "      <td>1</td>\n",
              "    </tr>\n",
              "  </tbody>\n",
              "</table>\n",
              "</div>\n",
              "    <div class=\"colab-df-buttons\">\n",
              "\n",
              "  <div class=\"colab-df-container\">\n",
              "    <button class=\"colab-df-convert\" onclick=\"convertToInteractive('df-111a1572-51d8-4225-acd6-cc44f0612bd2')\"\n",
              "            title=\"Convert this dataframe to an interactive table.\"\n",
              "            style=\"display:none;\">\n",
              "\n",
              "  <svg xmlns=\"http://www.w3.org/2000/svg\" height=\"24px\" viewBox=\"0 -960 960 960\">\n",
              "    <path d=\"M120-120v-720h720v720H120Zm60-500h600v-160H180v160Zm220 220h160v-160H400v160Zm0 220h160v-160H400v160ZM180-400h160v-160H180v160Zm440 0h160v-160H620v160ZM180-180h160v-160H180v160Zm440 0h160v-160H620v160Z\"/>\n",
              "  </svg>\n",
              "    </button>\n",
              "\n",
              "  <style>\n",
              "    .colab-df-container {\n",
              "      display:flex;\n",
              "      gap: 12px;\n",
              "    }\n",
              "\n",
              "    .colab-df-convert {\n",
              "      background-color: #E8F0FE;\n",
              "      border: none;\n",
              "      border-radius: 50%;\n",
              "      cursor: pointer;\n",
              "      display: none;\n",
              "      fill: #1967D2;\n",
              "      height: 32px;\n",
              "      padding: 0 0 0 0;\n",
              "      width: 32px;\n",
              "    }\n",
              "\n",
              "    .colab-df-convert:hover {\n",
              "      background-color: #E2EBFA;\n",
              "      box-shadow: 0px 1px 2px rgba(60, 64, 67, 0.3), 0px 1px 3px 1px rgba(60, 64, 67, 0.15);\n",
              "      fill: #174EA6;\n",
              "    }\n",
              "\n",
              "    .colab-df-buttons div {\n",
              "      margin-bottom: 4px;\n",
              "    }\n",
              "\n",
              "    [theme=dark] .colab-df-convert {\n",
              "      background-color: #3B4455;\n",
              "      fill: #D2E3FC;\n",
              "    }\n",
              "\n",
              "    [theme=dark] .colab-df-convert:hover {\n",
              "      background-color: #434B5C;\n",
              "      box-shadow: 0px 1px 3px 1px rgba(0, 0, 0, 0.15);\n",
              "      filter: drop-shadow(0px 1px 2px rgba(0, 0, 0, 0.3));\n",
              "      fill: #FFFFFF;\n",
              "    }\n",
              "  </style>\n",
              "\n",
              "    <script>\n",
              "      const buttonEl =\n",
              "        document.querySelector('#df-111a1572-51d8-4225-acd6-cc44f0612bd2 button.colab-df-convert');\n",
              "      buttonEl.style.display =\n",
              "        google.colab.kernel.accessAllowed ? 'block' : 'none';\n",
              "\n",
              "      async function convertToInteractive(key) {\n",
              "        const element = document.querySelector('#df-111a1572-51d8-4225-acd6-cc44f0612bd2');\n",
              "        const dataTable =\n",
              "          await google.colab.kernel.invokeFunction('convertToInteractive',\n",
              "                                                    [key], {});\n",
              "        if (!dataTable) return;\n",
              "\n",
              "        const docLinkHtml = 'Like what you see? Visit the ' +\n",
              "          '<a target=\"_blank\" href=https://colab.research.google.com/notebooks/data_table.ipynb>data table notebook</a>'\n",
              "          + ' to learn more about interactive tables.';\n",
              "        element.innerHTML = '';\n",
              "        dataTable['output_type'] = 'display_data';\n",
              "        await google.colab.output.renderOutput(dataTable, element);\n",
              "        const docLink = document.createElement('div');\n",
              "        docLink.innerHTML = docLinkHtml;\n",
              "        element.appendChild(docLink);\n",
              "      }\n",
              "    </script>\n",
              "  </div>\n",
              "\n",
              "\n",
              "<div id=\"df-07ee5609-63ce-48cb-88b7-dc66c5b7e092\">\n",
              "  <button class=\"colab-df-quickchart\" onclick=\"quickchart('df-07ee5609-63ce-48cb-88b7-dc66c5b7e092')\"\n",
              "            title=\"Suggest charts\"\n",
              "            style=\"display:none;\">\n",
              "\n",
              "<svg xmlns=\"http://www.w3.org/2000/svg\" height=\"24px\"viewBox=\"0 0 24 24\"\n",
              "     width=\"24px\">\n",
              "    <g>\n",
              "        <path d=\"M19 3H5c-1.1 0-2 .9-2 2v14c0 1.1.9 2 2 2h14c1.1 0 2-.9 2-2V5c0-1.1-.9-2-2-2zM9 17H7v-7h2v7zm4 0h-2V7h2v10zm4 0h-2v-4h2v4z\"/>\n",
              "    </g>\n",
              "</svg>\n",
              "  </button>\n",
              "\n",
              "<style>\n",
              "  .colab-df-quickchart {\n",
              "      --bg-color: #E8F0FE;\n",
              "      --fill-color: #1967D2;\n",
              "      --hover-bg-color: #E2EBFA;\n",
              "      --hover-fill-color: #174EA6;\n",
              "      --disabled-fill-color: #AAA;\n",
              "      --disabled-bg-color: #DDD;\n",
              "  }\n",
              "\n",
              "  [theme=dark] .colab-df-quickchart {\n",
              "      --bg-color: #3B4455;\n",
              "      --fill-color: #D2E3FC;\n",
              "      --hover-bg-color: #434B5C;\n",
              "      --hover-fill-color: #FFFFFF;\n",
              "      --disabled-bg-color: #3B4455;\n",
              "      --disabled-fill-color: #666;\n",
              "  }\n",
              "\n",
              "  .colab-df-quickchart {\n",
              "    background-color: var(--bg-color);\n",
              "    border: none;\n",
              "    border-radius: 50%;\n",
              "    cursor: pointer;\n",
              "    display: none;\n",
              "    fill: var(--fill-color);\n",
              "    height: 32px;\n",
              "    padding: 0;\n",
              "    width: 32px;\n",
              "  }\n",
              "\n",
              "  .colab-df-quickchart:hover {\n",
              "    background-color: var(--hover-bg-color);\n",
              "    box-shadow: 0 1px 2px rgba(60, 64, 67, 0.3), 0 1px 3px 1px rgba(60, 64, 67, 0.15);\n",
              "    fill: var(--button-hover-fill-color);\n",
              "  }\n",
              "\n",
              "  .colab-df-quickchart-complete:disabled,\n",
              "  .colab-df-quickchart-complete:disabled:hover {\n",
              "    background-color: var(--disabled-bg-color);\n",
              "    fill: var(--disabled-fill-color);\n",
              "    box-shadow: none;\n",
              "  }\n",
              "\n",
              "  .colab-df-spinner {\n",
              "    border: 2px solid var(--fill-color);\n",
              "    border-color: transparent;\n",
              "    border-bottom-color: var(--fill-color);\n",
              "    animation:\n",
              "      spin 1s steps(1) infinite;\n",
              "  }\n",
              "\n",
              "  @keyframes spin {\n",
              "    0% {\n",
              "      border-color: transparent;\n",
              "      border-bottom-color: var(--fill-color);\n",
              "      border-left-color: var(--fill-color);\n",
              "    }\n",
              "    20% {\n",
              "      border-color: transparent;\n",
              "      border-left-color: var(--fill-color);\n",
              "      border-top-color: var(--fill-color);\n",
              "    }\n",
              "    30% {\n",
              "      border-color: transparent;\n",
              "      border-left-color: var(--fill-color);\n",
              "      border-top-color: var(--fill-color);\n",
              "      border-right-color: var(--fill-color);\n",
              "    }\n",
              "    40% {\n",
              "      border-color: transparent;\n",
              "      border-right-color: var(--fill-color);\n",
              "      border-top-color: var(--fill-color);\n",
              "    }\n",
              "    60% {\n",
              "      border-color: transparent;\n",
              "      border-right-color: var(--fill-color);\n",
              "    }\n",
              "    80% {\n",
              "      border-color: transparent;\n",
              "      border-right-color: var(--fill-color);\n",
              "      border-bottom-color: var(--fill-color);\n",
              "    }\n",
              "    90% {\n",
              "      border-color: transparent;\n",
              "      border-bottom-color: var(--fill-color);\n",
              "    }\n",
              "  }\n",
              "</style>\n",
              "\n",
              "  <script>\n",
              "    async function quickchart(key) {\n",
              "      const quickchartButtonEl =\n",
              "        document.querySelector('#' + key + ' button');\n",
              "      quickchartButtonEl.disabled = true;  // To prevent multiple clicks.\n",
              "      quickchartButtonEl.classList.add('colab-df-spinner');\n",
              "      try {\n",
              "        const charts = await google.colab.kernel.invokeFunction(\n",
              "            'suggestCharts', [key], {});\n",
              "      } catch (error) {\n",
              "        console.error('Error during call to suggestCharts:', error);\n",
              "      }\n",
              "      quickchartButtonEl.classList.remove('colab-df-spinner');\n",
              "      quickchartButtonEl.classList.add('colab-df-quickchart-complete');\n",
              "    }\n",
              "    (() => {\n",
              "      let quickchartButtonEl =\n",
              "        document.querySelector('#df-07ee5609-63ce-48cb-88b7-dc66c5b7e092 button');\n",
              "      quickchartButtonEl.style.display =\n",
              "        google.colab.kernel.accessAllowed ? 'block' : 'none';\n",
              "    })();\n",
              "  </script>\n",
              "</div>\n",
              "\n",
              "    </div>\n",
              "  </div>\n"
            ],
            "text/plain": [
              "                                             reviews  score  likes  \\\n",
              "0  Olá! Sei que é um app que está em teste, está ...      4    586   \n",
              "1  O app é excelente, a questão é que existem alg...      4    369   \n",
              "2  Sei que ainda está em beta mas, seria interess...      3    509   \n",
              "3  Ficou top o visual da nova versão. Deveriam un...      5    289   \n",
              "4  O aplicativo é realmente muito bom, é o que to...      5     44   \n",
              "\n",
              "         time               app_name  year  \\\n",
              "0  13/11/2021  Xbox Game Pass (Beta)  2021   \n",
              "1  19/07/2022  Xbox Game Pass (Beta)  2022   \n",
              "2  23/11/2021  Xbox Game Pass (Beta)  2021   \n",
              "3  02/07/2020  Xbox Game Pass (Beta)  2020   \n",
              "4  19/10/2021  Xbox Game Pass (Beta)  2021   \n",
              "\n",
              "                                          reviews_en  classification  \n",
              "0  Hello! I know it's an app that's being tested,...               1  \n",
              "1  The app is excellent, the issue is that there ...               1  \n",
              "2  I know it's still in beta, but it would be int...               1  \n",
              "3  The look of the new version was top. They shou...               1  \n",
              "4  The app is really good, it's what everyone exp...               1  "
            ]
          },
          "execution_count": 4,
          "metadata": {},
          "output_type": "execute_result"
        }
      ],
      "source": [
        "df.head()"
      ]
    },
    {
      "cell_type": "markdown",
      "metadata": {
        "id": "t7uSRb8k12jl"
      },
      "source": [
        "### 5.1 - Faça a Limpeza de dados, apresente a sua forma escolhida para:\n",
        "---"
      ]
    },
    {
      "cell_type": "markdown",
      "metadata": {
        "id": "TpBrSF0l1_iU"
      },
      "source": [
        "5.1.1 - Remover pontuação e caracteres especiais, normalizar letras maiúsculas"
      ]
    },
    {
      "cell_type": "markdown",
      "metadata": {
        "id": "azXGoBJ01_Sb"
      },
      "source": [
        "_Sua resposta aqui_\n"
      ]
    },
    {
      "cell_type": "code",
      "execution_count": null,
      "metadata": {
        "id": "oRfkwAri1-VF"
      },
      "outputs": [],
      "source": [
        "# Seu código aqui"
      ]
    },
    {
      "cell_type": "markdown",
      "metadata": {
        "id": "w8m8Vue72AGx"
      },
      "source": [
        "5.1.2 - Tokenizar palavras"
      ]
    },
    {
      "cell_type": "markdown",
      "metadata": {
        "id": "EwTYKJfG2Abm"
      },
      "source": [
        "_Sua resposta aqui_\n"
      ]
    },
    {
      "cell_type": "code",
      "execution_count": null,
      "metadata": {
        "id": "oMkBM2k52BG1"
      },
      "outputs": [],
      "source": [
        "# Seu código aqui"
      ]
    },
    {
      "cell_type": "markdown",
      "metadata": {
        "id": "Xi3rNWfp2B3i"
      },
      "source": [
        "5.1.3 - Remover stop words"
      ]
    },
    {
      "cell_type": "markdown",
      "metadata": {
        "id": "Ccrzyxf-2Bob"
      },
      "source": [
        "_Sua resposta aqui_\n"
      ]
    },
    {
      "cell_type": "code",
      "execution_count": null,
      "metadata": {
        "id": "94iv3zZ62Cd1"
      },
      "outputs": [],
      "source": [
        "# Seu código aqui"
      ]
    },
    {
      "cell_type": "markdown",
      "metadata": {
        "id": "Z85cWOVF2aAl"
      },
      "source": [
        "5.1.4 - Lematização"
      ]
    },
    {
      "cell_type": "markdown",
      "metadata": {
        "id": "g31goKZw2Z20"
      },
      "source": [
        "_Sua resposta aqui_\n"
      ]
    },
    {
      "cell_type": "code",
      "execution_count": null,
      "metadata": {
        "id": "YhkZy9Li2arS"
      },
      "outputs": [],
      "source": [
        "# Seu código aqui"
      ]
    },
    {
      "cell_type": "markdown",
      "metadata": {
        "id": "md7n-MEqzcs-"
      },
      "source": [
        "### 5.2 - Faça a Análise Exploratória do dataset criado, encontre:\n",
        "---"
      ]
    },
    {
      "cell_type": "markdown",
      "metadata": {
        "id": "2Pb6ljmA0lJu"
      },
      "source": [
        "5.2.1 - Distribuição das classes - Nesse dataset você pode trabalhar tanto com a coluna \"scores\", quanto com \"classification\". Mas use a \"classification\" como referência, sendo 1 == texto com sentimento **positivo**, 0 == **neutro** ou incapaz de classificar e -1 == sentimento **negativo**."
      ]
    },
    {
      "cell_type": "markdown",
      "metadata": {
        "id": "yLv0Kr-Y0yub"
      },
      "source": [
        "_Sua resposta aqui_\n"
      ]
    },
    {
      "cell_type": "code",
      "execution_count": null,
      "metadata": {
        "id": "WFp0IdlzzV4C"
      },
      "outputs": [],
      "source": [
        "# Seu código aqui"
      ]
    },
    {
      "cell_type": "markdown",
      "metadata": {
        "id": "hpD9_JWf0428"
      },
      "source": [
        "5.2.2 - Palavras mais frequentes de cada classe"
      ]
    },
    {
      "cell_type": "markdown",
      "metadata": {
        "id": "OsWvO39c04os"
      },
      "source": [
        "_Sua resposta aqui_\n"
      ]
    },
    {
      "cell_type": "code",
      "execution_count": null,
      "metadata": {
        "id": "_btUa4nt1Aj-"
      },
      "outputs": [],
      "source": [
        "# Seu código aqui"
      ]
    },
    {
      "cell_type": "markdown",
      "metadata": {
        "id": "Q2yXZ4Sp1C9a"
      },
      "source": [
        "5.2.3 - Comparar as palavras mais comuns dos textos negativos e dos positivos."
      ]
    },
    {
      "cell_type": "markdown",
      "metadata": {
        "id": "c15feh671Tm2"
      },
      "source": [
        "_Sua resposta aqui_\n"
      ]
    },
    {
      "cell_type": "code",
      "execution_count": null,
      "metadata": {
        "id": "IFwtUhw41Qg3"
      },
      "outputs": [],
      "source": [
        "# Seu código aqui"
      ]
    },
    {
      "cell_type": "markdown",
      "metadata": {
        "id": "aE8wBCCF1Vi0"
      },
      "source": [
        "5.2.4 - Verifique se os textos com classificação neutra são necessários. Se não forem, exclua-os e justifique; Se forem necessários para a análise, apenas justifique."
      ]
    },
    {
      "cell_type": "markdown",
      "metadata": {
        "id": "rp3qzRpL1VWk"
      },
      "source": [
        "_Sua resposta aqui_\n"
      ]
    },
    {
      "cell_type": "code",
      "execution_count": null,
      "metadata": {
        "id": "bMatSj_31rbu"
      },
      "outputs": [],
      "source": [
        "# Seu código aqui"
      ]
    },
    {
      "cell_type": "markdown",
      "metadata": {
        "id": "qbJybuja2g5g"
      },
      "source": [
        "### 5.3) Geração de Reviews Automáticos\n",
        "---\n",
        "Utilize um conjunto de **reviews em português** do dataset apresentado para treinar um modelo **capaz de gerar automaticamente novas reviews**.\n",
        "\n",
        "#### Restrições:\n",
        "- **É proibido o uso de LLMs** (como GPT, BERT, T5, etc.)\n",
        "- Utilize técnicas clássicas, como:\n",
        "  - **Cadeias de Markov**\n",
        "  - **Modelos baseados em n-gramas**\n",
        "  - **Modelos probabilísticos simples**\n",
        "  - **Redes Neurais Recorrentes** \n",
        "  - **Outros**\n",
        "\n",
        "Mostre e comente o processo de Treinamento do modelo.\n",
        "Ao final gere ao menos **3 reviews automáticos**\n"
      ]
    },
    {
      "cell_type": "markdown",
      "metadata": {
        "id": "d8WlSaAR2hTB"
      },
      "source": [
        "_Sua resposta aqui_\n"
      ]
    },
    {
      "cell_type": "code",
      "execution_count": null,
      "metadata": {
        "id": "RelOArnX2tnc"
      },
      "outputs": [],
      "source": [
        "# Seu código aqui"
      ]
    },
    {
      "cell_type": "markdown",
      "metadata": {
        "id": "UvyzFXrT3F3q"
      },
      "source": [
        "# Questão 6: Visão Computacional\n",
        "---"
      ]
    },
    {
      "cell_type": "markdown",
      "metadata": {
        "id": "PiePHfP1zlcw"
      },
      "source": [
        "Nesta atividade, você terá a oportunidade de explorar algumas práticas fundamentais de Processamento Digital de Imagens (PDI), que desempenham um\n",
        "papel essencial na preparação de imagens para modelos de Visão Computacional. O objetivo é compreender como esses processos auxiliam os modelos a interpretar melhor as imagens, permitindo a geração de resultados mais precisos e eficientes."
      ]
    },
    {
      "cell_type": "markdown",
      "metadata": {
        "id": "sdR82QJRzrXQ"
      },
      "source": [
        "### 6.1 - Trabalhando com imagens\n",
        "---\n",
        "\n",
        "Abaixo estão os códigos necessários para abrir e exibir uma imagem no Google Colab. Esses comandos serão utilizados nas próximas atividades para a demonstração e visualização dos resultados.\n",
        "\n",
        "Atenção: Caso o notebook seja fechado ou reiniciado, lembre-se de executar novamente as células de código para garantir o funcionamento correto!"
      ]
    },
    {
      "cell_type": "code",
      "execution_count": null,
      "metadata": {
        "id": "34I4BcqH2xy6"
      },
      "outputs": [],
      "source": [
        "from PIL import Image\n",
        "import cv2\n",
        "import requests\n",
        "import numpy as np\n",
        "import matplotlib.pyplot as plt"
      ]
    },
    {
      "cell_type": "code",
      "execution_count": null,
      "metadata": {
        "id": "YHHoFAv1-h1y"
      },
      "outputs": [],
      "source": [
        "# Funções auxiliares\n",
        "\n",
        "def convert_from_cv2_to_image(cv2_image):\n",
        "    if len(cv2_image.shape) == 2:\n",
        "        return Image.fromarray(cv2_image, mode='L')\n",
        "    elif len(cv2_image.shape) == 3:\n",
        "        rgb_image = cv2.cvtColor(cv2_image, cv2.COLOR_BGR2RGB)\n",
        "        return Image.fromarray(rgb_image)\n",
        "    else:\n",
        "        return Image.fromarray(cv2_image)\n",
        "\n",
        "def convert_from_image_to_cv2(img: Image) -> np.ndarray:\n",
        "    img_array = np.asarray(img)\n",
        "    if len(img_array.shape) == 3 and img_array.shape[2] == 3:\n",
        "        img_array = cv2.cvtColor(img_array, cv2.COLOR_RGB2BGR)\n",
        "    return img_array\n",
        "\n",
        "\n",
        "def img_from_url(url):\n",
        "    img = Image.open(requests.get(url, stream=True).raw)\n",
        "    return img\n",
        "\n",
        "# Use para mostrar seus resultados, coloque a imagem original em img1 e o resultado em img2\n",
        "def plot_side_by_side(img1, img2, title1=\"Original\", title2=\"Processada\", figsize=(12, 6)):\n",
        "\n",
        "    plt.figure(figsize=figsize)\n",
        "\n",
        "    plt.subplot(1, 2, 1)\n",
        "    if isinstance(img1, Image.Image):\n",
        "        plt.imshow(img1, cmap='gray' if img1.mode == 'L' else None)\n",
        "    elif len(img1.shape) == 2:\n",
        "        plt.imshow(img1, cmap='gray')\n",
        "    else:\n",
        "        plt.imshow(img1)\n",
        "    plt.title(title1)\n",
        "    plt.axis('off')\n",
        "\n",
        "    plt.subplot(1, 2, 2)\n",
        "    if isinstance(img2, Image.Image):\n",
        "        plt.imshow(img2, cmap='gray' if img2.mode == 'L' else None)\n",
        "    elif len(img2.shape) == 2:\n",
        "        plt.imshow(img2, cmap='gray')\n",
        "    else:\n",
        "        plt.imshow(img2)\n",
        "    plt.title(title2)\n",
        "    plt.axis('off')\n",
        "\n",
        "    plt.tight_layout()\n",
        "    plt.show()"
      ]
    },
    {
      "cell_type": "code",
      "execution_count": null,
      "metadata": {
        "colab": {
          "base_uri": "https://localhost:8080/",
          "height": 333
        },
        "id": "vmaI4dKI3Iwr",
        "outputId": "23678ebe-a566-4f3d-eb88-7d696cf4b28b"
      },
      "outputs": [],
      "source": [
        "url = 'https://blog.emania.com.br/wp-content/uploads/2017/06/Albert-Einstein-principal.jpg'\n",
        "\n",
        "pil_img = img_from_url(url)\n",
        "pil_img"
      ]
    },
    {
      "cell_type": "markdown",
      "metadata": {
        "id": "CQ3fglQRzw8U"
      },
      "source": [
        "### 6.2 - Suavização da imagem\n",
        "---\n",
        "**Descrição:**\n",
        "\\\n",
        "A suavização de imagens com o filtro Gaussiano é uma técnica utilizada para reduzir ruídos e variações abruptas de intensidade na imagem. Esse processo é útil como etapa de pré-processamento, preparando a imagem para operações posteriores, como detecção de bordas ou binarização.\n",
        "\n",
        "**Contexto:**\n",
        "\\\n",
        "Imagine, supostamente, que voce faz parte de uma operação policial e que seu objetivo é identificar um suspeito a partir da foto do seu dedo, captando sua digital e verificando no banco de dados da polícia se existe alguma digital similar.\n",
        "\n",
        "**Atividade:**\n",
        "\\\n",
        "Realize o processo de suavização da imagem utilizando a função GaussianBlur() do cv2 e mostre os resultados usando a função auxiliar plot_side_by_side().\n",
        "\n",
        "Dica: Utilize as funções auxiliares para converter a imagem para um array NumPy. Lembre-se de realizar as conversões entre os formatos de cor RGB (PIL) e BGR (OpenCV), **caso necessário**, utilizando o metodo cv2.cvtColor() ou alguma função auxiliar. Além disso, experimente ajustar os parâmetros dos métodos aplicados — isso pode melhorar significativamente o resultado final."
      ]
    },
    {
      "cell_type": "code",
      "execution_count": null,
      "metadata": {
        "id": "rx7MGD1e0wce"
      },
      "outputs": [],
      "source": [
        "# Recebe uma URL de imagem e converte para uma imagem Pillow\n",
        "url_suavizacao = \"https://p2.trrsf.com/image/fget/cf/774/0/images.terra.com/2023/10/25/1170964331-19094928125047.jpg\"\n",
        "image = img_from_url(url_suavizacao)\n",
        "image"
      ]
    },
    {
      "cell_type": "code",
      "execution_count": null,
      "metadata": {
        "id": "4GfwC-JD31bA"
      },
      "outputs": [],
      "source": [
        "# Transformar a imagem em um array do OpenCV, aplicar o filtro requisitado e exibir o resultado\n",
        "# Seu código aqui"
      ]
    },
    {
      "cell_type": "markdown",
      "metadata": {},
      "source": [
        "### 6.3 - Detecção de Bordas\n",
        "---\n",
        "**Descrição:**\n",
        "\\\n",
        "A detecção de bordas é uma etapa fundamental na Visão Computacional, utilizada para identificar transições bruscas de intensidade na imagem — geralmente associadas aos contornos dos objetos.\n",
        "\n",
        "**Contexto:**\n",
        "\\\n",
        "Dando continuidade à operação policial, após capturar e suavizar a imagem da digital, é necessário destacar seus contornos para facilitar a extração das características da impressão preservando detalhes importantes que serão utilizados na comparação com os registros do banco de dados.\n",
        "\n",
        "**Atividade:**\n",
        "\\\n",
        "Realize o processo de detecção de bordas utilizando o algoritmo de Canny do OpenCV e exiba os resultados lado a lado com a imagem original utilizando a função auxiliar plot_side_by_side. Configure os thresholds (limites inferior e superior) para otimizar a detecção das bordas da impressão digital.\n",
        "\n",
        "Dica: O método cv2.Canny() aceita apenas imagens em tons de cinza. Use o método cv2.cvtColor() para converter a imagem para escala de cinza."
      ]
    },
    {
      "cell_type": "code",
      "execution_count": null,
      "metadata": {},
      "outputs": [],
      "source": [
        "# Seu código aqui"
      ]
    },
    {
      "cell_type": "markdown",
      "metadata": {},
      "source": [
        "### 6.4a - Equalização de histograma\n",
        "---\n",
        "**Descrição:**\n",
        "\\\n",
        "A equalização de histograma é uma técnica fundamental em processamento de imagens que visa melhorar o contraste global da imagem através da redistribuição uniforme dos valores de intensidade dos pixels. Este processo transforma o histograma original em uma distribuição mais equilibrada, expandindo a faixa dinâmica de intensidades e revelando detalhes que podem estar ocultos em regiões muito escuras ou muito claras.\n",
        "\n",
        "**Atividade:**\n",
        "\\\n",
        "Realize o processo de equalização de histograma utilizando o metodo cv2.equalizeHist() do OpenCV. Compare os resultados exibindo lado a lado a imagem original e a imagem equalizada utilizando a função plot_side_by_side() e posteriormente exiba seus respectivos histogramas. Analise como a redistributição das intensidades melhora a visualização dos detalhes da imagem.\n",
        "\n",
        "Dica: O método cv2.equalizeHist() aceita apenas imagens em tons de cinza. Caso a imagem esteja colorida, use o método cv2.cvtColor() para convertê-la para escala de cinza antes de aplicar a equalização.\n",
        "\n",
        "**Importante:**\n",
        "\\\n",
        "OpenCV ultiliza BGR, ou seja, RGB inverso em seus cálculos, então faça as alterações necessárias para utilizar o método corretamente."
      ]
    },
    {
      "cell_type": "code",
      "execution_count": null,
      "metadata": {
        "id": "a5RrYi_U4pPU"
      },
      "outputs": [],
      "source": [
        "# Recebimento da imagem (Pillow) para aplicacao de filtro de equalizacao e exibição\n",
        "img_original_eq = img_from_url('https://wallpapers.com/images/high/beautiful-dark-grayscale-lake-with-mountains-jknlikw362psa4b3.webp')\n",
        "img_original_eq"
      ]
    },
    {
      "cell_type": "code",
      "execution_count": null,
      "metadata": {},
      "outputs": [],
      "source": [
        "# Demonstracao das imagens (original e equalizado)\n",
        "# Seu código aqui"
      ]
    },
    {
      "cell_type": "code",
      "execution_count": null,
      "metadata": {},
      "outputs": [],
      "source": [
        "# Utilize a biblioteca matplotlib para a plotagem dos histogramas\n",
        "# Deve ser feito a plotagem do histograma original e equalizado, pode ser feito em celulas de código diferentes do notebook se preferir.\n",
        "# Seu código aqui"
      ]
    },
    {
      "cell_type": "markdown",
      "metadata": {},
      "source": [
        "### 6.4b - Equalização de histograma\n",
        "---\n",
        "**Descrição:**\n",
        "\\\n",
        "Na atividade anterior, observamos que a equalização de histograma melhorou significativamente a visualização, porém o processamento foi realizado em tons de cinza, resultando na perda das informações de cor originais. Para imagens coloridas, a equalização direta de cada canal RGB pode causar distorções severas de cor, pois altera independentemente os componentes vermelho, verde e azul.\\\n",
        "A solução mais eficaz é utilizar o espaço de cores HSV (Hue, Saturation, Value), onde:\n",
        "\n",
        "*   H (Hue): Representa a matiz/cor propriamente dita\n",
        "*   S (Saturation): Indica a pureza/intensidade da cor\n",
        "*   V (Value): Corresponde ao brilho/luminosidade da imagem\n",
        "\n",
        "![Paisagem](https://www.had2know.org/images/hsv-color-model.png)\n",
        "\n",
        "Ao equalizar apenas o canal V, preservamos as informações de cor (H e S) enquanto melhoramos o contraste global da imagem.\n",
        "\n",
        "**Atividade:**\n",
        "\\\n",
        "Realize o processo de equalização de histograma da imagem RGB utilizando a função cv2.equalizeHist() do OpenCV. Compare os resultados exibindo lado a lado a imagem original e a imagem equalizada utilizando a função plot_side_by_side() e posteriormente exiba seus respectivos histogramas do **canal Value** em HSV . Analise como a redistributição das intensidades melhora a visualização dos detalhes da imagem. Faça as transformações necessárias.\n",
        "\n",
        "Dica: Utilize o metodo cv2.cvtColor() para transformações adicionais e cv2.split() e cv2.merge() para manipulação dos canais de cor."
      ]
    },
    {
      "cell_type": "code",
      "execution_count": null,
      "metadata": {},
      "outputs": [],
      "source": [
        "# recebe uma URL de imagem e converte para uma imagem Pillow\n",
        "img_original_RGB = img_from_url('https://wallpapers.com/images/high/night-hd-desktop-hpyb618fzky9aw2m.webp')\n",
        "img_original_RGB"
      ]
    },
    {
      "cell_type": "code",
      "execution_count": null,
      "metadata": {
        "id": "lJUn5wCb5M8d"
      },
      "outputs": [],
      "source": [
        "# Demonstracao das imagens (original e equalizado)\n",
        "# Seu código aqui"
      ]
    },
    {
      "cell_type": "code",
      "execution_count": null,
      "metadata": {},
      "outputs": [],
      "source": [
        "# Plotagem do histograma original e equalizado\n",
        "# Seu código aqui"
      ]
    },
    {
      "cell_type": "markdown",
      "metadata": {
        "id": "yxcKoD1-5xlF"
      },
      "source": [
        "### 6.5 - (Desafio) Detecção de Movimento\n",
        "---\n",
        "**Descrição:**\n",
        "\\\n",
        "A detecção de movimento é uma técnica essencial em visão computacional que identifica mudanças temporais entre frames consecutivos de um vídeo ou sequência de imagens.\n",
        "\n",
        "Conceito fundamental de vídeo:\n",
        "\\\n",
        "Um vídeo nada mais é do que uma sequência de imagens estáticas (chamadas de frames) exibidas em alta velocidade para criar a ilusão de movimento. Cada frame representa um \"instantâneo\" temporal da cena capturada. A taxa de frames (frame rate ou FPS - Frames Per Second) determina quantas imagens são exibidas por segundo - por exemplo, um vídeo a 30 FPS significa que 30 imagens individuais são mostradas a cada segundo.\n",
        "\n",
        "Princípio da detecção:\n",
        "\\\n",
        "O princípio fundamental da detecção de movimento baseia-se na subtração de fundo (background subtraction) ou diferença temporal (frame differencing), onde comparamos frames consecutivos pixel por pixel. Pixels que apresentam variações significativas de intensidade entre frames indicam a presença de objetos em movimento. Esta técnica é amplamente utilizada em sistemas de vigilância, monitoramento de tráfego, análise comportamental e detecção de intrusos.\n",
        "\n",
        "**Atividade:**\n",
        "\\\n",
        "Implemente um sistema de detecção de movimento utilizando o algoritmo MOG2 (Mixture of Gaussians) do OpenCV. Processe o vídeo fornecido frame por frame, aplicando o filtro de subtração de fundo para identificar áreas em movimento. O resultado deve ser um vídeo onde as regiões estáticas aparecem em preto e as áreas com movimento aparecem em branco.\n",
        "\n",
        "Dicas:\n",
        "\n",
        "*   Use cv2.createBackgroundSubtractorMOG2() para criar o detector de movimento\n",
        "*   Processe cada frame convertendo para tons de cinza com\n",
        "*   Aplique o detector para obter a máscara de movimento\n",
        "*   Para salvar o vídeo, use imageio.mimsave() que é mais compatível com visualização no navegador\n",
        "\n",
        "**Importante:**\n",
        "*   OpenCV utiliza BGR (Blue-Green-Red) internamente, mas navegadores web esperam RGB (Red-Green-Red). Use cv2.COLOR_GRAY2RGB ao converter de tons de cinza para RGB antes de salvar\n",
        "*   Lembre-se de obter o FPS original para manter a velocidade correta\n",
        "*   Use video.release() para liberar os recursos do vídeo após o processamento"
      ]
    },
    {
      "cell_type": "code",
      "execution_count": null,
      "metadata": {
        "id": "XFO0yJvV6hr_"
      },
      "outputs": [],
      "source": [
        "# Download do video para questão\n",
        "!pip install -q gdown\n",
        "!gdown 'https://drive.google.com/uc?export=download&id=1lZtzcRq_9cxXPM4graXr5za_t9Yu8j_A' --output video.mp4"
      ]
    },
    {
      "cell_type": "code",
      "execution_count": null,
      "metadata": {},
      "outputs": [],
      "source": [
        "import base64\n",
        "from IPython.display import HTML, display, clear_output\n",
        "import imageio"
      ]
    },
    {
      "cell_type": "code",
      "execution_count": null,
      "metadata": {},
      "outputs": [],
      "source": [
        "video_path = '/content/video.mp4'"
      ]
    },
    {
      "cell_type": "code",
      "execution_count": null,
      "metadata": {},
      "outputs": [],
      "source": [
        "def show_video_html(video_path, width=600):\n",
        "    \"\"\"Mostra vídeo usando HTML5 player\"\"\"\n",
        "    with open(video_path, 'rb') as f:\n",
        "        video_data = f.read()\n",
        "    \n",
        "    video_base64 = base64.b64encode(video_data).decode()\n",
        "    \n",
        "    html = f\"\"\"\n",
        "    <video width=\"{width}\" controls>\n",
        "        <source src=\"data:video/mp4;base64,{video_base64}\" type=\"video/mp4\">\n",
        "    </video>\n",
        "    \"\"\"\n",
        "    \n",
        "    display(HTML(html))\n",
        "show_video_html(video_path)"
      ]
    },
    {
      "cell_type": "code",
      "execution_count": null,
      "metadata": {},
      "outputs": [],
      "source": [
        "# Use para manipulacao do video\n",
        "video = cv2.VideoCapture(video_path)\n",
        "\n",
        "# Use para aplicação do filtro de subtracao\n",
        "bg = cv2.createBackgroundSubtractorMOG2()\n",
        "\n",
        "# Use esse path para salvar o arquivo\n",
        "output_imageio = '/content/deteccao.mp4'"
      ]
    },
    {
      "cell_type": "code",
      "execution_count": null,
      "metadata": {},
      "outputs": [],
      "source": [
        "# Seu codigo aqui"
      ]
    },
    {
      "cell_type": "code",
      "execution_count": null,
      "metadata": {},
      "outputs": [],
      "source": [
        "#exibe o video resultante\n",
        "show_video_html('/content/deteccao.mp4')"
      ]
    },
    {
      "cell_type": "markdown",
      "metadata": {
        "id": "pW60079zRM6T"
      },
      "source": [
        "# Questão 7: Reiforcement Learning\n",
        "---"
      ]
    },
    {
      "cell_type": "markdown",
      "metadata": {
        "id": "Y4nWURpcRix5"
      },
      "source": [
        "**Contexto:**\n",
        "Nessa questão vocês testarão 4 agentes diferentes (cada um utilizando uma taxa de exploração diferente: (0, 0.1, 0.3, 0.8, 1)) num ambiente básico de aprendizado por reforço, e criarão hipóteses sobre o funcionamento deles.\n",
        "\n",
        "**Tarefa:**\n",
        "\n",
        "## O que é Q-learning:\n",
        "Q-learning é um método que utiliza uma tabela chamada Tabela Q, onde cada linha da tabela representa um estado possível e cada coluna uma ação possível.\n",
        "\n",
        "Ela pode ser representada por uma matriz numpy, listas de listas e outras estruturas de dados bidimensionais.\n",
        "\n",
        "O ciclo básico para treino em qualquer método de aprendizado por reforço utiliza é bastante simples:\n",
        " 1. Verifica o estado atual\n",
        " 2. Decide entre explorar ou não\n",
        "    - 2.1. se a escolha for explorar o agente irá realizar uma ação aleatória (exploração)\n",
        "    - 2.2. se o agente decidir escolher uma ação que acredita ser boa ele irá buscar na tabela Q a ação com maior valor para aquele estado.\n",
        " 3. Atualizar o modelo (tabela) baseado no resultado das ações\n",
        " 4. Repete o ciclo até que o episódio termine\n",
        "\n",
        "Treinar um agente de aprendizado por reforço é fazer isso várias vezes, pois cada repetição desse ciclo é um episódio, e normalmente treinamos agentes por centenas a milhares de episódios (milhões a depender do problema).\n",
        "\n",
        "Um parâmetro importante para esse modo de aprendizado é chamado epsilon controla a chance de exploração. um epsilon de 0.2 indica 20% de chance de explorar e 80% de chance de tomar a ação que acredita ser melhor.\n",
        "\n",
        "Outro parâmetro importante é o parâmetro gamma, que controla o quão importantes recompensas futuras são para o agente, normalmente seu valor está entre 0 e 1. Para essa questão utilize um gamma = 0.9.\n",
        "\n",
        "* Link da wikipedia sobre Q-learning: https://en.m.wikipedia.org/wiki/Q-learning\n",
        "* Link da free-code camp sobre Q-learning: https://www.freecodecamp.org/news/an-introduction-to-q-learning-reinforcement-learning-14ac0b4493cc/\n",
        "\n",
        "## Sobre o ambiente:\n",
        "O frozen lake é um ambiente clássico onde um gnomo deve explorar e aprender a chegar no baú, você deve usar o ambiente guardado na variavel env. Cada vez que o agente alcança o bau ele recebe uma recompensa 1 e para todos os outros movimentos ele recebe recompensa 0.\n",
        "Lembre de utilizar um env.reset() a cada nova tentativa passando a seed=42.\n",
        "\n",
        "Usaremos o frozen lake 4x4 (cujos estados são enumarados de 0 a 15) e onde o agente pode realizar 4 ações (andar para cima, para a direita, para baixo ou para a esquerda)\n",
        "\n",
        "## Função de aprendizado:\n",
        "A equação matemática abaixo define como o agente aprende.\n",
        "* New Q(s,a) é o novo valor para o par estado-ação\n",
        "* Q(s,a) é o valor atual\n",
        "* alfa é a taxa de aprendizado que será passada na questao\n",
        "* R(s,a) é a recompensa recebida\n",
        "* maxQ'(s', a') é o maior valor na tabela Q para o novo estado que o agente chegou após a ação.\n",
        "\n",
        "![image.png](data:image/png;base64,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)\n",
        "\n",
        "**Objetivo da Tarefa:**\n",
        "\n",
        "O loop básico de aprendizado por reforço está demonstrado abaixo, ele deve ser utilizado para cada episódio.\n",
        "\n",
        "Vamos utilizar esse método para criar um agente capaz de aprender sobre o ambiente frozen-lake, por 500 episódios, você deve fazer o seguinte:\n",
        "\n",
        "- Programe o processo de aprendizado do agente Q-learning\n",
        "- teste alguns valores de hiperparametros de exploracao (epsilon: 0, 0.1, 0.3, 0.8, 1)\n",
        "- Guarde os resultados e utilize-os para fazer uma tabela com o gráfico de desempenho.\n",
        "\n",
        "Por fim, mostre o gráfico de desempenho do seu agente e rode-o sem exploração.\n",
        "\n",
        "**Recursos gerais:**\n",
        "Aula da universidade federal do ABC sobre o assunto: https://www.youtube.com/watch?v=a540-i0uJDE"
      ]
    },
    {
      "cell_type": "code",
      "execution_count": null,
      "metadata": {},
      "outputs": [],
      "source": [
        "!pip install gymnasium[toy_text]\n",
        "\n",
        "import gymnasium as gym\n",
        "import numpy as np"
      ]
    },
    {
      "cell_type": "code",
      "execution_count": null,
      "metadata": {},
      "outputs": [],
      "source": [
        "env = gym.make('FrozenLake-v1', is_slippery=False)\n",
        "\n",
        "n_states = #quantidade de estados\n",
        "n_actions = #quantidade de ações\n",
        "\n",
        "#Código para inicializar uma Q_table totalmente zerada\n",
        "q_table = np.zeros((n_states, n_actions))\n",
        "\n",
        "estado, info = env.reset()\n",
        "\n",
        "done = False\n",
        "\n",
        "#esse laço while abaixo deve ser feito para cada episódio do treino do agente\n",
        "while not done:\n",
        "    # --------------------------------------------------------\n",
        "    # decida aqui a ação do seu agente em explorar ou agir baseado no estado\n",
        "    # --------------------------------------------------------\n",
        "\n",
        "    proximo_estado, recompensa, terminado, truncado, info = env.step(acao)\n",
        "\n",
        "    # --------------------------------------------------------\n",
        "    # Aprendizado e troca o estado atual para o próximo\n",
        "    # --------------------------------------------------------\n",
        "\n",
        "    done = terminado or truncado\n",
        "\n",
        "env.close()\n"
      ]
    },
    {
      "cell_type": "markdown",
      "metadata": {},
      "source": [
        "**ATENÇÃO**, SEMPRE QUE UTILIZAR env.reset() para reiniciar o ambiente, lembre-se de passar o parâmetro SEED=42"
      ]
    },
    {
      "cell_type": "markdown",
      "metadata": {},
      "source": [
        "a) Utilize o modelo de código passado acima para para treinar os agentes por 500 epocas cada com diferentes taxas de exploração."
      ]
    },
    {
      "cell_type": "code",
      "execution_count": null,
      "metadata": {},
      "outputs": [],
      "source": [
        "# Seu código aqui"
      ]
    },
    {
      "cell_type": "markdown",
      "metadata": {},
      "source": [
        "b) Escolha algum dos 4 agentes cujo comportamento chamou sua atenção e exiba a escolha de ações dele sem nenhuma exploração (Ele não precisa realizar ações aleatórias) apenas para visualizar o que ele aprendeu."
      ]
    },
    {
      "cell_type": "code",
      "execution_count": null,
      "metadata": {},
      "outputs": [],
      "source": [
        "# Seu código aqui"
      ]
    },
    {
      "cell_type": "markdown",
      "metadata": {},
      "source": [
        "c) Por fim, baseado em todos os dados que obteve, mostre o gráfico da evolução das recompensas recebidas pelo agente ao longo dos 500 episódios, compare tabelas... utilize os métodos que desejar e opine sobre qual epsilon conseguiu o melhor agente, por que você acredita que isso ocorreu?"
      ]
    },
    {
      "cell_type": "code",
      "execution_count": null,
      "metadata": {},
      "outputs": [],
      "source": [
        "# Crie células de código novas se achar necessário"
      ]
    }
  ],
  "metadata": {
    "colab": {
      "provenance": []
    },
    "kernelspec": {
      "display_name": "Python 3",
      "language": "python",
      "name": "python3"
    },
    "language_info": {
      "codemirror_mode": {
        "name": "ipython",
        "version": 3
      },
      "file_extension": ".py",
      "mimetype": "text/x-python",
      "name": "python",
      "nbconvert_exporter": "python",
      "pygments_lexer": "ipython3",
      "version": "3.11.0"
    }
  },
  "nbformat": 4,
  "nbformat_minor": 0
}
