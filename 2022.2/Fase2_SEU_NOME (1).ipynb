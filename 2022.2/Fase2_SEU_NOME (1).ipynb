{
  "cells": [
    {
      "cell_type": "markdown",
      "source": [
        "<a href=\"TAIL\"><img src=\"https://i.imgur.com/GRTE0OG.png\" width=\"150\" title=\"Tail Logo\" /></a>\n",
        "# <font color =\"#00b8ff\">Processo seletivo TAIL 2022.2</font>"
      ],
      "metadata": {
        "cell_id": "4f845c2bded4465380490f7a8e270739",
        "tags": [],
        "deepnote_cell_type": "markdown",
        "deepnote_cell_height": 129,
        "id": "OczG3aX4TiSR"
      }
    },
    {
      "cell_type": "markdown",
      "source": [
        "# Introdução"
      ],
      "metadata": {
        "cell_id": "2122ee8fee5b45f9862c8d94f71489f1",
        "tags": [],
        "deepnote_cell_type": "markdown",
        "deepnote_cell_height": 70,
        "id": "F9L1RojoTiSi"
      }
    },
    {
      "cell_type": "markdown",
      "source": [
        "Olá candidato! Para participar do processo seletivo, você deve abrir o link do colab abaixo e fazer uma cópia para seu drive e inserir as respostas nos campos.\n",
        "\n",
        "Após responder, basta compartilhar conosco e nos enviar o link no email: tail.ufpb@gmail.com com o assunto **PROCESSO SELETIVO 2022.2 - SEU_NOME**\n",
        "\n",
        "Para mais instruções, assista o vídeo de explicações e dúvidas que enviamos por email.\n",
        "\n",
        "Pedimos que envie o notebook até o dia 29/08/2022 às 23:59.\n",
        "\n",
        "Qualquer dúvida, lembre de nos contactar através do canal no [discord](https://discord.gg/ASJTEbMh)\n",
        "\n",
        "[![Open In Colab](https://colab.research.google.com/assets/colab-badge.svg)](https://colab.research.google.com/drive/1td0n1IxZO_A1Q6y67jRqTHUoyPp4cYTf?usp=sharing) "
      ],
      "metadata": {
        "cell_id": "9aef0d8c358b4183b40d01e15584304b",
        "tags": [],
        "deepnote_cell_type": "markdown",
        "deepnote_cell_height": 242.734375,
        "id": "7s1O8u69TiSk"
      }
    },
    {
      "cell_type": "markdown",
      "source": [
        "## Instruções:\n",
        "<br>1. Abra o Google Colaboratory;\n",
        "<br>2. Faça uma cópia no seu drive;\n",
        "<br>3. Localize o notebook e abra-o;\n",
        "<br>4. Responda o questionário;\n",
        "<br>5. Salve o notebook e submeta-o através de nosso email: tail.ufpb@gmail.com"
      ],
      "metadata": {
        "cell_id": "9d41dfad1fd741619e574ca60eb3b9cf",
        "tags": [],
        "deepnote_cell_type": "markdown",
        "deepnote_cell_height": 309.90625,
        "id": "UwLvsbo4TiSo"
      }
    },
    {
      "cell_type": "markdown",
      "source": [
        "## Materiais"
      ],
      "metadata": {
        "cell_id": "d4a60a36252c4a08b1434f3b504973d6",
        "tags": [],
        "deepnote_cell_type": "markdown",
        "deepnote_cell_height": 70,
        "id": "6TVCzkx6TiSq"
      }
    },
    {
      "cell_type": "markdown",
      "source": [
        "**Anexo :** \n",
        "\n",
        "Para auxilio com as questões, disponibilizamos o livro *Python para Estatísticos*, do professor Telmo de Menezes e Silva Filho, do Departamento de Estatística da Universidade Federal da Paraíba (UFPB):\n",
        "\n",
        "[**Python para Estatísticos**](https://tmfilho.github.io/pyestbook)\n",
        "\n",
        "Link para bibliotecas essênciais para desenvolver os problemas abaixo:\n",
        "\n",
        "[**Bibliotecas essenciais**](https://github.com/Manuelfjr/processo2fase_anexo)\n",
        "\n",
        "Slides das aulas de Thais:  \n",
        "  \n",
        "[**Slides**](https://sites.google.com/site/gaudenciothaisia/home/aulas)\n",
        "\n",
        "Outros materiais, específicos para resolução de certas questões, serão especificados em seus enunciados."
      ],
      "metadata": {
        "cell_id": "75a3224b3b794aa1864e0b74d36eb344",
        "tags": [],
        "deepnote_cell_type": "markdown",
        "deepnote_cell_height": 329.515625,
        "id": "6mdhhET2TiSr"
      }
    },
    {
      "cell_type": "code",
      "source": [
        "#@title Preencha os campos abaixo:\n",
        "\n",
        "nome = '' #@param {type:\"string\"}\n",
        "email = '' #@param {type:\"string\"}\n",
        "\n",
        "# confira se os valores impressos correspondem ao que você digitou\n",
        "print(nome)\n",
        "print(email)"
      ],
      "metadata": {
        "cell_id": "75e19303d59f48429ea39c1ec9fa969d",
        "tags": [],
        "deepnote_cell_type": "code",
        "deepnote_cell_height": 187,
        "id": "KeE_2cgVTiSu"
      },
      "outputs": [],
      "execution_count": null
    },
    {
      "cell_type": "markdown",
      "source": [
        "## Avisos\n",
        "Aqui vão uma série de avisos e dicas:\n",
        "* Se esforcem. Mesmo que não consigam responder tudo, deem o máximo de si.\n",
        "* Descrevam o que pensaram e como fizeram ou teriam feito para resolver a questão (isso é muito importante).\n",
        "* Se divirtam. Vai ser muito legal ter vocês conosco!\n",
        "\n",
        "![](https://github.com/TailUFPB/processo2fase/raw/master/img/ygt.jpg)"
      ],
      "metadata": {
        "cell_id": "dbe28089d4e54822ac19c4b7e76705a2",
        "tags": [],
        "deepnote_cell_type": "markdown",
        "deepnote_cell_height": 257.953125,
        "id": "KYxHKCdtTiS1"
      }
    },
    {
      "cell_type": "markdown",
      "source": [
        "## Questão 1: Palíndromos (Strings)"
      ],
      "metadata": {
        "cell_id": "9a709aaa4cc24fe4be94ab373c7a3d06",
        "tags": [],
        "deepnote_cell_type": "markdown",
        "deepnote_cell_height": 70,
        "id": "giZET4i-TiS4"
      }
    },
    {
      "cell_type": "markdown",
      "source": [
        "### Descrição:"
      ],
      "metadata": {
        "cell_id": "d63c4e723bcc4c619740f84b16c52370",
        "tags": [],
        "deepnote_cell_type": "markdown",
        "deepnote_cell_height": 70,
        "id": "OKDuBDlVTiS7"
      }
    },
    {
      "cell_type": "markdown",
      "source": [
        "Para lidar com valores textuais, são utilizadas variáveis de tipo String, podendo ser tratados como Listas (outra Estrutura de Dados) em Python. Dessa forma, é possível identificar caracteres de um String a partir de seu índice, o que ajuda bastante em analisar o comportamento de uma certa palavra."
      ],
      "metadata": {
        "formattedRanges": [],
        "is_collapsed": false,
        "cell_id": "002223143e9c433b84f759177820d0c8",
        "tags": [],
        "deepnote_cell_type": "text-cell-p",
        "id": "7C49y628TiS9"
      }
    },
    {
      "cell_type": "markdown",
      "source": [
        "Vamos supor que você queira descobrir se uma palavra é igual ao seu próprio inverso (no caso, um palíndromo), seria muito conveniente (e possível!) escrever um programa em Python que possa dizer se essa palavra é, ou não, um palíndromo."
      ],
      "metadata": {
        "formattedRanges": [],
        "is_collapsed": false,
        "cell_id": "438036ea-c666-4fbc-8b10-9b585bab0fff",
        "tags": [],
        "deepnote_cell_type": "text-cell-p",
        "id": "WdAiWgC3TiS-"
      }
    },
    {
      "cell_type": "markdown",
      "source": [
        "### Tarefa:"
      ],
      "metadata": {
        "formattedRanges": [],
        "is_collapsed": false,
        "cell_id": "95039427-9599-41a6-a68b-1da26e98ff1f",
        "tags": [],
        "deepnote_cell_type": "text-cell-h2",
        "id": "4fA7FXdYTiTA"
      }
    },
    {
      "cell_type": "markdown",
      "source": [
        "Implemente um script em Python para verificar se uma String é um palíndromo."
      ],
      "metadata": {
        "formattedRanges": [],
        "is_collapsed": false,
        "cell_id": "6bb732c4-b727-4875-97a8-78d1015d9102",
        "tags": [],
        "deepnote_cell_type": "text-cell-p",
        "id": "ndhEgn9ATiTB"
      }
    },
    {
      "cell_type": "markdown",
      "source": [
        "### Exemplos:"
      ],
      "metadata": {
        "formattedRanges": [],
        "is_collapsed": false,
        "cell_id": "a3bc51b1-c975-46e3-9433-ba08eb0eb490",
        "tags": [],
        "deepnote_cell_type": "text-cell-h2",
        "id": "FQnE451JTiTD"
      }
    },
    {
      "cell_type": "markdown",
      "source": [
        "\"abcba\", retorna True\n",
        "\"foobof\", retorna False\n",
        "\"abccab\", retorna False"
      ],
      "metadata": {
        "formattedRanges": [],
        "is_collapsed": false,
        "cell_id": "a4a47e72-439c-478a-bed5-e4e925dd18c3",
        "tags": [],
        "deepnote_cell_type": "text-cell-p",
        "id": "fET2D7R7TiTF"
      }
    },
    {
      "cell_type": "markdown",
      "source": [
        "### Referências:"
      ],
      "metadata": {
        "formattedRanges": [],
        "is_collapsed": false,
        "cell_id": "5ed103ca8a094fe19110d322f38386ee",
        "tags": [],
        "deepnote_cell_type": "text-cell-h2",
        "id": "ROCmXroITiTI"
      }
    },
    {
      "cell_type": "markdown",
      "source": [
        "[1] www.youtube.com/watch?v=HKonsZXRCzc"
      ],
      "metadata": {
        "formattedRanges": [],
        "is_collapsed": false,
        "cell_id": "425a0dc6-fe6b-4f3c-be12-8d7216633230",
        "tags": [],
        "deepnote_cell_type": "text-cell-p",
        "id": "z1IMX2ExTiTJ"
      }
    },
    {
      "cell_type": "code",
      "metadata": {
        "cell_id": "4792cccdcb0640b9b150d17e921d1288",
        "tags": [],
        "deepnote_cell_type": "code",
        "deepnote_cell_height": 97,
        "id": "fbx-Eb7oTiTK"
      },
      "source": [
        "def palindrome(prompt):\n",
        "\n",
        "    # Seu código aqui"
      ],
      "execution_count": null,
      "outputs": []
    },
    {
      "cell_type": "code",
      "metadata": {
        "cell_id": "4268968860604409bc12383f40bf7145",
        "tags": [],
        "allow_embed": false,
        "deepnote_cell_type": "code",
        "deepnote_cell_height": 61,
        "id": "wF07UtIeTiTM"
      },
      "source": [
        "# Teste seu código aqui"
      ],
      "execution_count": null,
      "outputs": []
    },
    {
      "cell_type": "markdown",
      "source": [
        "# Questão 2: Soma de dois inteiros (Listas)"
      ],
      "metadata": {
        "formattedRanges": [],
        "is_collapsed": false,
        "cell_id": "b911aed7d92642c1aa713e74fe52b423",
        "tags": [],
        "deepnote_cell_type": "text-cell-h1",
        "id": "hFyh_hw0TiTN"
      }
    },
    {
      "cell_type": "markdown",
      "source": [
        "### Descrição:"
      ],
      "metadata": {
        "formattedRanges": [],
        "is_collapsed": false,
        "cell_id": "f03015c674da4c508e6e7521df20736c",
        "tags": [],
        "deepnote_cell_type": "text-cell-h2",
        "id": "YmKvR3hcTiTO"
      }
    },
    {
      "cell_type": "markdown",
      "source": [
        "Listas são um tipo de Estrutura de Dados que armazena uma sequência de valores de diversos tipos, possibilitando o acesso a esses valores por meio de um índice. Vamos supor que você recebeu uma lista de inteiros e foi concedida a você a tarefa de verificar se existem dois números na lista que, quando somados, resultam em um número \"k\". Obs: Não se pode somar um número com ele mesmo."
      ],
      "metadata": {
        "formattedRanges": [],
        "is_collapsed": false,
        "cell_id": "77cc3628-d148-4cc2-ae8c-8ce2bcbff544",
        "tags": [],
        "deepnote_cell_type": "text-cell-p",
        "id": "dPWSvcPCTiTP"
      }
    },
    {
      "cell_type": "markdown",
      "source": [
        "### Tarefa:"
      ],
      "metadata": {
        "formattedRanges": [],
        "is_collapsed": false,
        "cell_id": "13fa6fe1-19b8-406d-a808-5f34d2f9b561",
        "tags": [],
        "deepnote_cell_type": "text-cell-h2",
        "id": "PurZo5WXTiTQ"
      }
    },
    {
      "cell_type": "markdown",
      "source": [
        "Implemente um script em Python para verificar se, dentro de uma lista de valores inteiros, existem dois valores que somados resultam em um alvo \"k\"."
      ],
      "metadata": {
        "formattedRanges": [],
        "is_collapsed": false,
        "cell_id": "902b11ca-53a8-4945-8404-7c65700bfb1c",
        "tags": [],
        "deepnote_cell_type": "text-cell-p",
        "id": "yzUEsJUwTiTQ"
      }
    },
    {
      "cell_type": "markdown",
      "source": [
        "### Exemplos:"
      ],
      "metadata": {
        "formattedRanges": [],
        "is_collapsed": false,
        "cell_id": "b620a00b6db74b11bc7a2599ebd595d1",
        "tags": [],
        "deepnote_cell_type": "text-cell-h2",
        "id": "OjX_vAuiTiTR"
      }
    },
    {
      "cell_type": "markdown",
      "source": [
        "[1, 3, 8, 2] , k = 10, retorna True (8 + 2) \n",
        "\n",
        "[3, 9, 13, 7] , k = 8, retorna False \n",
        "\n",
        "[4, 2, 6, 5, 2] , k = 4, retorna True (2 + 2)"
      ],
      "metadata": {
        "formattedRanges": [],
        "is_collapsed": false,
        "cell_id": "5f929f9e-9353-4341-9f39-d05fa607ec19",
        "tags": [],
        "deepnote_cell_type": "text-cell-p",
        "id": "ClRYQXv9TiTS"
      }
    },
    {
      "cell_type": "code",
      "metadata": {
        "cell_id": "0f075c9413804189816e95096203db26",
        "tags": [],
        "deepnote_cell_type": "code",
        "deepnote_cell_height": 97,
        "id": "wM2y4RGoTiTS"
      },
      "source": [
        "def sum_of_two(arr, k):\n",
        "    \n",
        "    # Seu código aqui"
      ],
      "execution_count": null,
      "outputs": []
    },
    {
      "cell_type": "code",
      "metadata": {
        "cell_id": "a0b1787ca07847099413a90f7e22a5fa",
        "tags": [],
        "deepnote_cell_type": "code",
        "deepnote_cell_height": 61,
        "id": "uG9qu48gTiTT"
      },
      "source": [
        "# Teste seu código aqui"
      ],
      "execution_count": null,
      "outputs": []
    },
    {
      "cell_type": "markdown",
      "source": [
        "# Questão 3: Rota do aspirador de pó (Strings)"
      ],
      "metadata": {
        "formattedRanges": [],
        "is_collapsed": false,
        "cell_id": "8f5aea9177a54e9d99bd7a51876d11c9",
        "tags": [],
        "deepnote_cell_type": "text-cell-h1",
        "id": "ES7Gmx6HTiTU"
      }
    },
    {
      "cell_type": "markdown",
      "source": [
        "### Descrição:"
      ],
      "metadata": {
        "formattedRanges": [],
        "is_collapsed": false,
        "cell_id": "6b30c944-24de-4cbf-8d8e-906153c327c8",
        "tags": [],
        "deepnote_cell_type": "text-cell-h2",
        "id": "J0svR2XETiTU"
      }
    },
    {
      "cell_type": "markdown",
      "source": [
        "Vamos supor que você tenha um robô aspirador de pó, e exista uma String que diga os movimentos que esse robô fez, essa String possui os caracteres E, D, C, B, que representam, respectivamente, Esquerda, Direita, Cima, Baixo. Dada uma certa String, é possível deduzir se o robô voltará à posição inicial, se o número de vezes que ele for à esquerda for igual ao número de vezes que ele foi à direita e se o número de vezes que ele for para cima for igual ao número de vezes que ele foi para baixo."
      ],
      "metadata": {
        "formattedRanges": [],
        "is_collapsed": false,
        "cell_id": "384c0b69-7aa2-49c4-8711-218fe1b10a50",
        "tags": [],
        "deepnote_cell_type": "text-cell-p",
        "id": "u9X7CLzLTiTV"
      }
    },
    {
      "cell_type": "markdown",
      "source": [
        "### Tarefa:"
      ],
      "metadata": {
        "formattedRanges": [],
        "is_collapsed": false,
        "cell_id": "0ee62a0a-6d5d-45e7-92d0-452974131cfe",
        "tags": [],
        "deepnote_cell_type": "text-cell-h2",
        "id": "puniWPLyTiTW"
      }
    },
    {
      "cell_type": "markdown",
      "source": [
        "Implemente um script em Python que recebe uma String dizendo os movimentos do robô e que retorna se o robô vai voltar para a posição inicial ou não."
      ],
      "metadata": {
        "formattedRanges": [],
        "is_collapsed": false,
        "cell_id": "a1bac239-a62a-4e2f-8c46-af030c046dc2",
        "tags": [],
        "deepnote_cell_type": "text-cell-p",
        "id": "YA2PoCdmTiTY"
      }
    },
    {
      "cell_type": "markdown",
      "source": [
        "### Exemplos:"
      ],
      "metadata": {
        "formattedRanges": [],
        "is_collapsed": false,
        "cell_id": "e8e7aa62-aa2c-40ca-b184-a2cfb46a33b2",
        "tags": [],
        "deepnote_cell_type": "text-cell-h2",
        "id": "iQkGw0I3TiTY"
      }
    },
    {
      "cell_type": "markdown",
      "source": [
        "\"DE\", retorna True \n",
        "\"CDCDB\", retorna False\n",
        "\"DCCEEBDB\", retorna True"
      ],
      "metadata": {
        "formattedRanges": [],
        "is_collapsed": false,
        "cell_id": "90b74408-c191-4a90-a5fc-27c654a224b6",
        "tags": [],
        "deepnote_cell_type": "text-cell-p",
        "id": "Po9HUBhNTiTZ"
      }
    },
    {
      "cell_type": "code",
      "metadata": {
        "cell_id": "2f62f9c7dc314d98970e2918c5c3a71a",
        "tags": [],
        "deepnote_cell_type": "code",
        "deepnote_cell_height": 97,
        "id": "W4GKKqsVTiTa"
      },
      "source": [
        "def will_return(prompt):\n",
        "\n",
        "    # Seu código aqui"
      ],
      "execution_count": null,
      "outputs": []
    },
    {
      "cell_type": "code",
      "metadata": {
        "cell_id": "6bbb4691fdea4b488a08a4b1b1786220",
        "tags": [],
        "deepnote_cell_type": "code",
        "deepnote_cell_height": 61,
        "id": "1pwGy8i1TiTb"
      },
      "source": [
        "# Teste seu código aqui"
      ],
      "execution_count": null,
      "outputs": []
    },
    {
      "cell_type": "markdown",
      "source": [
        "# Questão 4: Análise de dados"
      ],
      "metadata": {
        "cell_id": "2f3f7d726b2441a68f79eef68ea1d70e",
        "tags": [],
        "deepnote_cell_type": "markdown",
        "deepnote_cell_height": 82,
        "id": "nBkJrw53TiTc"
      }
    },
    {
      "cell_type": "markdown",
      "source": [
        "### Descrição:"
      ],
      "metadata": {
        "cell_id": "cbf94986c89942f88a1b07ef67c41d16",
        "tags": [],
        "deepnote_cell_type": "markdown",
        "deepnote_cell_height": 70,
        "id": "_z1S2xS2TiTd"
      }
    },
    {
      "cell_type": "markdown",
      "source": [
        "A seguir temos um dataset com dados referentes a câncer de mama e uma explicação de suas colunas:\n",
        "\n",
        "Attribute Information:\n",
        "\n",
        "1) ID number\n",
        "2) Diagnosis (M = malignant, B = benign)\n",
        "\n",
        "Ten real-valued features are computed for each cell nucleus:\n",
        "\n",
        "a) radius (mean of distances from center to points on the perimeter)\n",
        "b) texture (standard deviation of gray-scale values)\n",
        "c) perimeter\n",
        "d) area\n",
        "e) smoothness (local variation in radius lengths)\n",
        "f) compactness (perimeter^2 / area - 1.0)\n",
        "g) concavity (severity of concave portions of the contour)\n",
        "h) concave points (number of concave portions of the contour)\n",
        "i) symmetry\n",
        "j) fractal dimension (\"coastline approximation\" - 1)\n",
        "\n",
        "datapath: https://raw.githubusercontent.com/carlosfab/data_science/master/datasets/breast-cancer-wisconsin.csv"
      ],
      "metadata": {
        "cell_id": "cd33d869a1794f11853115db999df8e6",
        "tags": [],
        "deepnote_cell_type": "markdown",
        "deepnote_cell_height": 483.640625,
        "id": "-ulO8a0PTiTd"
      }
    },
    {
      "cell_type": "markdown",
      "source": [
        "### Tarefa:\n",
        "Com esses dados em mão:\n",
        "\n",
        "a. Utilize o pandas para receber os dados.\n",
        "b. Visualize os Dados em Histogramas.\n",
        "c. Extraia informações dos dados: Média, Moda, Mediana e Boxplot.\n",
        "d. Construa um gráfico para passar uma mensagem sobre a análise que foi feita."
      ],
      "metadata": {
        "cell_id": "3ef65b7479034d99b4e788276f734694",
        "tags": [],
        "deepnote_cell_type": "markdown",
        "deepnote_cell_height": 211.953125,
        "id": "mFljlxedTiTe"
      }
    },
    {
      "cell_type": "code",
      "source": [
        "# Seu código aqui"
      ],
      "metadata": {
        "cell_id": "8ab402baea704af0aff8c459a4c98e4f",
        "tags": [],
        "deepnote_cell_type": "code",
        "deepnote_cell_height": 61,
        "id": "8ZaFt_yfTiTf"
      },
      "outputs": [],
      "execution_count": null
    },
    {
      "cell_type": "markdown",
      "source": [
        "# Questão 5: Organização, Feature Engineering e Classificação de dados"
      ],
      "metadata": {
        "is_collapsed": false,
        "cell_id": "6b502171f7cd4e6bbfadec2ab4cce505",
        "tags": [],
        "formattedRanges": [],
        "deepnote_cell_type": "text-cell-h1",
        "id": "sQ2yuAlmTiTg"
      }
    },
    {
      "cell_type": "markdown",
      "source": [
        "### Descrição:"
      ],
      "metadata": {
        "is_collapsed": false,
        "cell_id": "36809d4eaffb4d0f9bab7fd72fd1294f",
        "tags": [],
        "formattedRanges": [],
        "deepnote_cell_type": "text-cell-h2",
        "id": "mSCGZBoiTiTg"
      }
    },
    {
      "cell_type": "markdown",
      "source": [
        "Esse é o dataset usado no segundo capítulo do livro mais recente de Aurélien Géron \"Hands-On Machine learning with Scikit-Learn and TensorFlow\". Ele serve como uma excelente introdução para implementações de algoritmos de inteligência artificial porque este requer uma limpeza de dados rudimentar, possui uma lista de variáveis fáceis e compreensíveis e está em um ótimo tamanho para práticas com maior desenvoltura."
      ],
      "metadata": {
        "is_collapsed": false,
        "cell_id": "4edc4624088342458d12720263ee4032",
        "tags": [],
        "formattedRanges": [],
        "deepnote_cell_type": "text-cell-p",
        "id": "VtGRbZKXTiTh"
      }
    },
    {
      "cell_type": "markdown",
      "source": [
        "Nosso dataset possui informações do Censo de 1990 da California. Portanto, apesar de não poder lhe ajudar a predizer os preços de terrenos como o dataset de Zillow Zestimate, ele nos dá um dataset com introdução acessível para ensinar as pessoas sobre os fundamentos básicos de machine learning"
      ],
      "metadata": {
        "is_collapsed": false,
        "cell_id": "fbdb5e56-35d3-4ca0-a6a3-7310e8fa32d4",
        "tags": [],
        "formattedRanges": [],
        "deepnote_cell_type": "text-cell-p",
        "id": "uXNRVR5lTiTi"
      }
    },
    {
      "cell_type": "markdown",
      "source": [
        "datapath:  https://raw.githubusercontent.com/ageron/handson-ml2/master/datasets/housing/housing.csv"
      ],
      "metadata": {
        "is_collapsed": false,
        "cell_id": "9ce8e4c5-2d0d-4bfb-995e-dea6d593d710",
        "tags": [],
        "formattedRanges": [],
        "deepnote_cell_type": "text-cell-p",
        "id": "S1F4310QTiTi"
      }
    },
    {
      "cell_type": "markdown",
      "source": [
        "### Tarefa"
      ],
      "metadata": {
        "is_collapsed": false,
        "cell_id": "d8456f4067054270bb5a71eab0916d63",
        "tags": [],
        "formattedRanges": [],
        "deepnote_cell_type": "text-cell-h2",
        "id": "chlRz66qTiTj"
      }
    },
    {
      "cell_type": "markdown",
      "source": [
        "a. Através de uma biblioteca, receba os dados e explore-os\n",
        "\n",
        "b. Plote gráficos que descrevam como se comportam as distribuições das colunas\n",
        "\n",
        "c. Crie uma nova coluna a partir de uma ou mais colunas\n",
        "\n",
        "d. Encontre uma forma de representar os dados categóricos em forma numérica\n",
        "\n"
      ],
      "metadata": {
        "is_collapsed": false,
        "cell_id": "a36e41d4-d98c-4efe-b046-1984154d1fc3",
        "tags": [],
        "number": 1,
        "style": "lower-alpha",
        "formattedRanges": [],
        "deepnote_cell_type": "text-cell-number",
        "id": "J9yO3M9vTiTj"
      }
    },
    {
      "cell_type": "markdown",
      "source": [
        "## Dica de Bibliotecas:"
      ],
      "metadata": {
        "is_collapsed": false,
        "cell_id": "009375cc981e4df7be07cf58de6a51c7",
        "tags": [],
        "formattedRanges": [],
        "deepnote_cell_type": "text-cell-h2",
        "id": "Ccpb4OMDTiTm"
      }
    },
    {
      "cell_type": "markdown",
      "source": [
        "- NumPy"
      ],
      "metadata": {
        "is_collapsed": false,
        "cell_id": "79bd6bc628154d87a4cf6d53a843a2e0",
        "tags": [],
        "formattedRanges": [],
        "deepnote_cell_type": "text-cell-bullet",
        "id": "iWVmo9J5TiTn"
      }
    },
    {
      "cell_type": "markdown",
      "source": [
        "- Pandas"
      ],
      "metadata": {
        "is_collapsed": false,
        "cell_id": "751dfba3-39c3-4f74-be54-5344a75b180f",
        "tags": [],
        "formattedRanges": [],
        "deepnote_cell_type": "text-cell-bullet",
        "id": "Or8hwYIKTiTo"
      }
    },
    {
      "cell_type": "markdown",
      "source": [
        "- Matplotlib (ou Seaborn)"
      ],
      "metadata": {
        "is_collapsed": false,
        "cell_id": "5bea0246-30ef-4b6a-979c-56f959ad75a3",
        "tags": [],
        "formattedRanges": [],
        "deepnote_cell_type": "text-cell-bullet",
        "id": "bNFgkPQPTiTp"
      }
    },
    {
      "cell_type": "code",
      "source": [
        "import pandas as pd\n",
        "import numpy as np\n",
        "import matplotlib.pyplot as plt\n",
        "import seaborn as sns\n",
        "\n",
        "# Seu código aqui"
      ],
      "metadata": {
        "cell_id": "3036ca307692471ba945b161df77a1ff",
        "tags": [],
        "deepnote_cell_type": "code",
        "deepnote_cell_height": 151,
        "id": "_ucmJGATTiTq"
      },
      "outputs": [],
      "execution_count": null
    },
    {
      "cell_type": "markdown",
      "source": [
        "# Questão 6: Alterar cores dentro de uma máscara (Visão Computacional) "
      ],
      "metadata": {
        "is_collapsed": false,
        "cell_id": "bb4654f941814f3ca1016ec0072caaba",
        "tags": [],
        "formattedRanges": [],
        "deepnote_cell_type": "text-cell-h1",
        "id": "QkLf4BdeTiTr"
      }
    },
    {
      "cell_type": "markdown",
      "source": [
        "### Descrição:"
      ],
      "metadata": {
        "is_collapsed": false,
        "cell_id": "372b4a86-d70e-4df7-9376-b7b0fb7b2110",
        "tags": [],
        "formattedRanges": [],
        "deepnote_cell_type": "text-cell-h2",
        "id": "-S9c048JTiTs"
      }
    },
    {
      "cell_type": "markdown",
      "source": [
        "Processamento digital de imagens é um campo importante para a visão computacional, sendo util para o aumento de datasets (augmentation) e o balanceamento de dados relacionados a imagens, como cor, brilho e etc. Para dominar esse tema é necessário entender como as imagens se apresentam na programação, em geral são listas (ou arrays, tensores etc) com as dimensões representando Altura (Height - H),  Largura (Width - W) e em imagens coloridas, Canais (Channels - C). Normalmente elas estão no espaço de números inteiros de 0 a 255 (8 bits) ou floats 0 a 1, de forma que o branco é representado pelo valor máximo em grayscale e variações de RGB. Alterar esses valores mudando a ordem dos canais, definindo um valor constante ou de acordo com uma função são algumas formas simples de recolorir."
      ],
      "metadata": {
        "is_collapsed": false,
        "cell_id": "e57a6db3919d48a2a3983bdbf74d43ec",
        "tags": [],
        "formattedRanges": [],
        "deepnote_cell_type": "text-cell-p",
        "id": "aWSRHubsTiTs"
      }
    },
    {
      "cell_type": "markdown",
      "source": [
        "### Tarefa:"
      ],
      "metadata": {
        "is_collapsed": false,
        "cell_id": "69317f70186a48e59c176e56fc961def",
        "tags": [],
        "formattedRanges": [],
        "deepnote_cell_type": "text-cell-h2",
        "id": "9SOR5JoITiTt"
      }
    },
    {
      "cell_type": "markdown",
      "source": [
        "Utilize a máscara para recolorir apenas a região definida da imagem respectiva, ambas disponibilizadas abaixo. São 3 imagens disponíveis, você está livre para escolher uma, ou todas, e utilizar a estratégia que preferir. Busque criar o resultado mais realístico possível."
      ],
      "metadata": {
        "is_collapsed": false,
        "cell_id": "e844817f-d6ca-4c50-9c80-c286f69c0985",
        "tags": [],
        "formattedRanges": [],
        "deepnote_cell_type": "text-cell-p",
        "id": "aEKWdWdETiTu"
      }
    },
    {
      "cell_type": "markdown",
      "source": [
        "### Dica de Bibliotecas:"
      ],
      "metadata": {
        "is_collapsed": false,
        "cell_id": "78158034-c7b7-4efe-b097-8c0bfd0298bb",
        "tags": [],
        "formattedRanges": [],
        "deepnote_cell_type": "text-cell-h2",
        "id": "Y1vK1TZoTiTu"
      }
    },
    {
      "cell_type": "markdown",
      "source": [
        "- NumPy"
      ],
      "metadata": {
        "is_collapsed": false,
        "cell_id": "a8533fcf79654297bde7f8818df6affe",
        "tags": [],
        "formattedRanges": [],
        "deepnote_cell_type": "text-cell-bullet",
        "id": "ICvoXhOwTiTv"
      }
    },
    {
      "cell_type": "markdown",
      "source": [
        "- Pillow"
      ],
      "metadata": {
        "is_collapsed": false,
        "cell_id": "d91f2f39-f432-4ba2-aed3-7b81b00b4c9e",
        "tags": [],
        "formattedRanges": [],
        "deepnote_cell_type": "text-cell-bullet",
        "id": "L9vpXnUZTiTv"
      }
    },
    {
      "cell_type": "markdown",
      "source": [
        "- OpenCV"
      ],
      "metadata": {
        "is_collapsed": false,
        "cell_id": "d5b697cd-638d-417f-b77f-974d6bd6b2ab",
        "tags": [],
        "formattedRanges": [],
        "deepnote_cell_type": "text-cell-bullet",
        "id": "mbxeMjA9TiTw"
      }
    },
    {
      "cell_type": "markdown",
      "source": [
        "### Drive com as imagens e masks"
      ],
      "metadata": {
        "is_collapsed": false,
        "cell_id": "3796db7fb1b74472a058a4f8f91e2bc4",
        "tags": [],
        "formattedRanges": [],
        "deepnote_cell_type": "text-cell-h3",
        "id": "-haEvUcNTiTx"
      }
    },
    {
      "cell_type": "markdown",
      "source": [
        "https://drive.google.com/drive/folders/11jj9EKv_zqC4HqLzDGQGnsjKbnzfK1o4?usp=sharing"
      ],
      "metadata": {
        "is_collapsed": false,
        "cell_id": "4a93f1b2-4627-485d-8f54-61ba2c6a0433",
        "tags": [],
        "formattedRanges": [],
        "deepnote_cell_type": "text-cell-p",
        "id": "cxz9QnGdTiTx"
      }
    },
    {
      "cell_type": "markdown",
      "source": [
        "### Como abrir imagens no Colab?"
      ],
      "metadata": {
        "is_collapsed": false,
        "cell_id": "358af066764648469810d9c0e84c5269",
        "tags": [],
        "formattedRanges": [],
        "deepnote_cell_type": "text-cell-h3",
        "id": "uWwiWaCOTiTy"
      }
    },
    {
      "cell_type": "markdown",
      "source": [
        "Para carregar uma imagem, primeiro é preciso fazer o upload um arquivo de imagem no ambiente virtual do Google Colab:\n",
        "\n",
        "a. Clique no ícone da pastinha no menu lateral esquerdo.\n",
        "\n",
        "b. Utilize o ícone de upload ou arraste o arquivo desejado para a área do menu lateral.\n",
        "\n",
        "c. Após o upload, o arquivo estará disponível no diretório base do ambiente.\n",
        "\n",
        "d. Também é possível salvar a pasta do Google Drive na sua conta e acessá-la pelo colab\n",
        "\n"
      ],
      "metadata": {
        "is_collapsed": false,
        "cell_id": "75ebab9b-d529-4979-97ec-61e6cd9c864a",
        "tags": [],
        "formattedRanges": [],
        "deepnote_cell_type": "text-cell-p",
        "id": "SnTnzjGCTiTy"
      }
    },
    {
      "cell_type": "code",
      "source": [
        "import cv2\n",
        "import numpy as np\n",
        "\n",
        "from PIL import Image\n",
        "\n",
        "### Com OpenCV\n",
        "# image_1 = cv2.imread('image_01.png', 1)\n",
        "# mask_1 = cv2.imread('seg_01.png', 0)\n",
        "\n",
        "# display(Image.fromarray(image_1[...,::-1])) ### OpenCV lê imagens como BGR ao invés de RGB\n",
        "# display(Image.fromarray(mask_1))\n",
        "\n",
        "### Com Pillow\n",
        "# image_1 = Image.open('image_01.png')\n",
        "# mask_1 = Image.open('seg_01.png').convert('L')\n",
        "\n",
        "# display(image_1)\n",
        "# display(mask_1)"
      ],
      "metadata": {
        "cell_id": "b0d12b6369884a10aa3835c5a3ec6575",
        "tags": [],
        "deepnote_cell_type": "code",
        "deepnote_cell_height": 372,
        "id": "j8WxYwKOTiT1"
      },
      "outputs": [],
      "execution_count": null
    },
    {
      "cell_type": "code",
      "source": [
        "# Seu código abaixo"
      ],
      "metadata": {
        "cell_id": "69c76d5216274230837bcd11f8c53565",
        "tags": [],
        "deepnote_cell_type": "code",
        "deepnote_cell_height": 61,
        "id": "lHgCuTPnTiT2"
      },
      "outputs": [],
      "execution_count": null
    },
    {
      "cell_type": "markdown",
      "source": [
        "# Questão 7: Detecção de usuários depressivos (Processamento de linguagem natural) [Nível Difícil]"
      ],
      "metadata": {
        "is_collapsed": false,
        "cell_id": "1924c38c3a424da7814796fdc8b7fdc7",
        "tags": [],
        "formattedRanges": [],
        "deepnote_cell_type": "text-cell-h1",
        "id": "e5mOyWT7TiT4"
      }
    },
    {
      "cell_type": "markdown",
      "source": [
        "### Descrição:"
      ],
      "metadata": {
        "is_collapsed": false,
        "cell_id": "c656e4f2-ea63-4b94-ac42-4664d7ef2280",
        "tags": [],
        "formattedRanges": [],
        "deepnote_cell_type": "text-cell-h2",
        "id": "BXDGE5U6TiT6"
      }
    },
    {
      "cell_type": "markdown",
      "source": [
        "O processamento de linguagem natural (NLP) é uma área da inteligência artificial que usa machine learning para revelar a estrutura e o significado do texto. Nessa questão, você exercerá o papel de um funcionário do Reddit, que possui a função de criar um detector de usuários com tendências depressivas, para alertar o governo, providenciando ajuda psicológica para os mesmos, e então salvando a vida de milhares de pessoas."
      ],
      "metadata": {
        "is_collapsed": false,
        "cell_id": "04cbffe5-d405-4bcb-b0fb-4cee50d88fa7",
        "tags": [],
        "formattedRanges": [],
        "deepnote_cell_type": "text-cell-p",
        "id": "AL3JozixTiT6"
      }
    },
    {
      "cell_type": "markdown",
      "source": [
        "### Tarefa:"
      ],
      "metadata": {
        "is_collapsed": false,
        "cell_id": "2eb533dc-80b3-4ba2-8b63-ef521141abd0",
        "tags": [],
        "formattedRanges": [],
        "deepnote_cell_type": "text-cell-h2",
        "id": "Y5j7o6y1TiT7"
      }
    },
    {
      "cell_type": "markdown",
      "source": [
        "Processar dados textuais e treinar um modelo de NLP para detectar textos em inglês com tendências depressivas."
      ],
      "metadata": {
        "is_collapsed": false,
        "cell_id": "094aa030-e633-48bd-8f77-a3245fd1681a",
        "tags": [],
        "formattedRanges": [],
        "deepnote_cell_type": "text-cell-p",
        "id": "eQQ6FxDITiT8"
      }
    },
    {
      "cell_type": "markdown",
      "source": [
        "### Exemplos:"
      ],
      "metadata": {
        "is_collapsed": false,
        "cell_id": "42bb9773-9f58-4d4e-9f83-6273bb30b0d3",
        "tags": [],
        "formattedRanges": [],
        "deepnote_cell_type": "text-cell-h2",
        "id": "vi73q0ZzTiT9"
      }
    },
    {
      "cell_type": "markdown",
      "source": [
        "\"I hate my parents, I just want to venish and die\", retorna Depressive\n",
        "\n",
        "\"I ate a delicious hamburguer last night\", retorna Not depressive \n",
        "\n",
        "\"I went to my parents house, it was funny\" , retorna Not depressive "
      ],
      "metadata": {
        "is_collapsed": false,
        "cell_id": "fb8b86fc-0a93-43dc-af1a-b14911ed5929",
        "tags": [],
        "formattedRanges": [],
        "deepnote_cell_type": "text-cell-p",
        "id": "L-MjRz1dTiT-"
      }
    },
    {
      "cell_type": "markdown",
      "source": [
        "### Bibliotecas:"
      ],
      "metadata": {
        "is_collapsed": false,
        "cell_id": "02bd09cb-c913-494d-964c-edfe0f86935a",
        "tags": [],
        "formattedRanges": [],
        "deepnote_cell_type": "text-cell-h2",
        "id": "it2G3ig6TiT-"
      }
    },
    {
      "cell_type": "markdown",
      "source": [
        "- Pandas"
      ],
      "metadata": {
        "is_collapsed": false,
        "cell_id": "ec43ee0a-0dd1-47ea-aa51-025ea23ce13b",
        "tags": [],
        "formattedRanges": [],
        "deepnote_cell_type": "text-cell-bullet",
        "id": "iR9fNNLQTiT_"
      }
    },
    {
      "cell_type": "markdown",
      "source": [
        "- NLTK"
      ],
      "metadata": {
        "is_collapsed": false,
        "cell_id": "bc2a6291-9b8f-4da4-a405-4308d02025ca",
        "tags": [],
        "formattedRanges": [],
        "deepnote_cell_type": "text-cell-bullet",
        "id": "nEAn7OfpTiUA"
      }
    },
    {
      "cell_type": "markdown",
      "source": [
        "- Sklearn"
      ],
      "metadata": {
        "is_collapsed": false,
        "cell_id": "d6042b06-1c82-4aa7-a380-460374ec5717",
        "tags": [],
        "formattedRanges": [],
        "deepnote_cell_type": "text-cell-bullet",
        "id": "NMGvvjtoTiUA"
      }
    },
    {
      "cell_type": "markdown",
      "source": [
        "Drive com dataset: https://drive.google.com/drive/u/1/folders/1BWTY9zRfxMSSTS0-qtiL7mA0yRqfTRxC"
      ],
      "metadata": {
        "is_collapsed": false,
        "cell_id": "39819415-9142-4807-ae24-d6a717cadd37",
        "tags": [],
        "formattedRanges": [],
        "deepnote_cell_type": "text-cell-h3",
        "id": "7nriTi9XTiUB"
      }
    },
    {
      "cell_type": "markdown",
      "source": [
        "### Etapa I - Leitura e análise do dataset"
      ],
      "metadata": {
        "is_collapsed": false,
        "cell_id": "df0b8d3d5d1d4f08b500a30dc3306223",
        "tags": [],
        "formattedRanges": [],
        "deepnote_cell_type": "text-cell-h3",
        "id": "e4lb1-HDTiUD"
      }
    },
    {
      "cell_type": "markdown",
      "source": [
        "Nessa etapa você realizará os seguintes passos"
      ],
      "metadata": {
        "is_collapsed": false,
        "cell_id": "305fb894-68a3-49ee-9731-e0d91f3f5e1f",
        "tags": [],
        "formattedRanges": [],
        "deepnote_cell_type": "text-cell-p",
        "id": "pMMX2Np7TiUE"
      }
    },
    {
      "cell_type": "markdown",
      "source": [
        "- Leitura do dataset (utilize pandas)"
      ],
      "metadata": {
        "is_collapsed": false,
        "cell_id": "eaef3b3f-2291-468c-b5c3-f0694f872e01",
        "tags": [],
        "formattedRanges": [],
        "deepnote_cell_type": "text-cell-bullet",
        "id": "o1yhRID9TiUE"
      }
    },
    {
      "cell_type": "markdown",
      "source": [
        "- Verificar número de textos no dataset"
      ],
      "metadata": {
        "is_collapsed": false,
        "cell_id": "622f3cc3-9717-4362-8d84-4b5db199dc70",
        "tags": [],
        "formattedRanges": [],
        "deepnote_cell_type": "text-cell-bullet",
        "id": "tGPIqg4STiUF"
      }
    },
    {
      "cell_type": "markdown",
      "source": [
        "- Verificar se a label (depressed e not depressed) está balanceada, ou próximo disso (Verificar se número de exemplos depressivos é próximo do numero de exemplos não depressivos)"
      ],
      "metadata": {
        "is_collapsed": false,
        "cell_id": "b4dcf6c3-73ec-4efe-a53a-e8173868c343",
        "tags": [],
        "formattedRanges": [],
        "deepnote_cell_type": "text-cell-bullet",
        "id": "FV6Q139XTiUG"
      }
    },
    {
      "cell_type": "code",
      "source": [
        "# Leitura do dataset\n",
        "import pandas as pd\n",
        "\n",
        "dataset = ...\n",
        "\n",
        "print(dataset.head())"
      ],
      "metadata": {
        "cell_id": "d0f107edc02740ef93fa74b3a798c48b",
        "tags": [],
        "deepnote_cell_type": "code",
        "deepnote_cell_height": 151,
        "id": "YlUwIe3NTiUH"
      },
      "outputs": [],
      "execution_count": null
    },
    {
      "cell_type": "code",
      "source": [
        "number_texts = ...\n",
        "print(f\"There is {number_texts} examples\")"
      ],
      "metadata": {
        "cell_id": "3311ddd0d8b24bfabcc955d21edda4fd",
        "tags": [],
        "deepnote_cell_type": "code",
        "deepnote_cell_height": 79,
        "id": "hgc56kuMTiUH"
      },
      "outputs": [],
      "execution_count": null
    },
    {
      "cell_type": "code",
      "source": [
        "number_depressed = ...\n",
        "number_not_depressed = ...\n",
        "\n",
        "# O dataset está balanceado?"
      ],
      "metadata": {
        "cell_id": "3d3f3eac199b4b009af72a04eec2c36a",
        "tags": [],
        "deepnote_cell_type": "code",
        "deepnote_cell_height": 115,
        "id": "loMh2aKDTiUJ"
      },
      "outputs": [],
      "execution_count": null
    },
    {
      "cell_type": "markdown",
      "source": [
        "### Etapa II - Limpeza e tokenização do dataset"
      ],
      "metadata": {
        "is_collapsed": false,
        "cell_id": "0ce85f356d054879b90ce062eda41168",
        "tags": [],
        "formattedRanges": [],
        "deepnote_cell_type": "text-cell-h3",
        "id": "5ZH6k7TvTiUL"
      }
    },
    {
      "cell_type": "markdown",
      "source": [
        "Nessa etapa você irá fazer a limpeza e tokenização dos dados e realizará os seguinte passos."
      ],
      "metadata": {
        "is_collapsed": false,
        "cell_id": "d0d1169d-0c01-49ba-9c61-71f298ad99a1",
        "tags": [],
        "formattedRanges": [],
        "deepnote_cell_type": "text-cell-p",
        "id": "3VhreWyBTiUM"
      }
    },
    {
      "cell_type": "markdown",
      "source": [
        "- Stemmizar os textos."
      ],
      "metadata": {
        "is_collapsed": false,
        "cell_id": "de5db410-09ed-4765-b846-5515071335ac",
        "tags": [],
        "formattedRanges": [],
        "deepnote_cell_type": "text-cell-bullet",
        "id": "xKItg8nCTiUN"
      }
    },
    {
      "cell_type": "markdown",
      "source": [
        "- Retirar os stopwords."
      ],
      "metadata": {
        "is_collapsed": false,
        "cell_id": "fbe55b0f-a72a-4c36-b025-f65711552420",
        "tags": [],
        "formattedRanges": [],
        "deepnote_cell_type": "text-cell-bullet",
        "id": "YRoYRNj7TiUN"
      }
    },
    {
      "cell_type": "markdown",
      "source": [
        "- Aplicar o processo de tokenização: CountVectorizer."
      ],
      "metadata": {
        "is_collapsed": false,
        "cell_id": "5677e1e3-dbe6-4602-88ae-0bedbcc7fcea",
        "tags": [],
        "formattedRanges": [],
        "deepnote_cell_type": "text-cell-bullet",
        "id": "hdd4WuhLTiUO"
      }
    },
    {
      "cell_type": "code",
      "source": [
        "import nltk\n",
        "from sklearn.feature_extraction.text import CountVectorizer\n",
        "nltk.download('stopwords')\n",
        "from nltk.corpus import stopwords\n",
        "from nltk.stem.porter import PorterStemmer"
      ],
      "metadata": {
        "cell_id": "440ed87885e2444a89ce296768a01ab5",
        "tags": [],
        "deepnote_cell_type": "code",
        "deepnote_cell_height": 133,
        "id": "URZMjRZSTiUP"
      },
      "outputs": [],
      "execution_count": null
    },
    {
      "cell_type": "code",
      "source": [
        "corpus = []\n",
        "for text in dataset['clean_text']:\n",
        "    # Transforma o texto em array para facilitar o tratamento\n",
        "    splited_text = text.split() \n",
        "\n",
        "    # Remova as stopwords (procure por removing stopwords with NLTK)\n",
        "    ...\n",
        "\n",
        "    # Utilize o processo de Stemmização no texto\n",
        "    ...\n",
        "    \n",
        "    # Retorna o array de palavras a um texto\n",
        "    text = ' '.join(data)\n",
        "\n",
        "    corpus.append(text)"
      ],
      "metadata": {
        "cell_id": "64cfeed8d8344b96bb47277b5f2da220",
        "tags": [],
        "deepnote_cell_type": "code",
        "deepnote_cell_height": 313,
        "id": "WDyoh-NUTiUQ"
      },
      "outputs": [],
      "execution_count": null
    },
    {
      "cell_type": "markdown",
      "source": [
        "Para explicar o que é a tokenização dos dados: \n",
        "\n",
        "Como você bem sabe, as máquinas não entendem e interpretam textos como a gente, e por isso nós precisamos transformar esses dados em algo que ela entenda, números. Existem diversas formas de fazer isso, uma das formas é o count vectorizer, em que temos um array com diversos elementos, e cada elemento representa uma palavra. Nesse array, existirão números, que determinarão quantas vezes uma palavra apareceu em um texto. \n",
        "\n",
        "Exemplo:"
      ],
      "metadata": {
        "is_collapsed": false,
        "cell_id": "a6472066-d4ab-4498-b5c3-ca442fcbeb4d",
        "tags": [],
        "formattedRanges": [],
        "deepnote_cell_type": "text-cell-p",
        "id": "3-P5erX7TiUR"
      }
    },
    {
      "cell_type": "markdown",
      "source": [
        "![image-20220822-195205.png](data:image/png;base64,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)"
      ],
      "metadata": {
        "id": "tr5q8CJ6V-c4"
      }
    },
    {
      "cell_type": "markdown",
      "source": [
        "Segundo os nossos dados, se eu quisesse transformar a frase \"The lazy dog\", eu obteria o array [1, 0, 0, 0, 0, 0, 1, 1]."
      ],
      "metadata": {
        "is_collapsed": false,
        "cell_id": "87934dce-8c55-4891-991d-79b9a9990be5",
        "tags": [],
        "formattedRanges": [],
        "deepnote_cell_type": "text-cell-p",
        "id": "gSr6MvvWTiUS"
      }
    },
    {
      "cell_type": "markdown",
      "source": [
        "Caso queira saber mais sobre o processo: https://towardsdatascience.com/basics-of-countvectorizer-e26677900f9c"
      ],
      "metadata": {
        "is_collapsed": false,
        "cell_id": "2add912a-21e6-48c7-8e33-cd45a4c6ab04",
        "tags": [],
        "formattedRanges": [],
        "deepnote_cell_type": "text-cell-p",
        "id": "buGhCHy8TiUT"
      }
    },
    {
      "cell_type": "code",
      "source": [
        "#Instanciando o objeto do CountVectorizer\n",
        "cv = CountVectorizer(max_features= 1500)"
      ],
      "metadata": {
        "cell_id": "28fdb8d768ac4338b8ccf0e7880ec332",
        "tags": [],
        "deepnote_cell_type": "code",
        "deepnote_cell_height": 79,
        "id": "FyOHFAjDTiUT"
      },
      "outputs": [],
      "execution_count": null
    },
    {
      "cell_type": "markdown",
      "source": [
        "### Etapa III - Treinamento do modelo"
      ],
      "metadata": {
        "is_collapsed": false,
        "cell_id": "0d0707071e714c30aec1bab269797761",
        "tags": [],
        "formattedRanges": [],
        "deepnote_cell_type": "text-cell-h3",
        "id": "MDmHO3D8TiUU"
      }
    },
    {
      "cell_type": "markdown",
      "source": [
        "Nessa étapa iremos fazer o treinamento do modelo, passaremos pelos seguintes passos."
      ],
      "metadata": {
        "is_collapsed": false,
        "cell_id": "42fdecd850ba487b8b12f856e0ce68e6",
        "tags": [],
        "formattedRanges": [],
        "deepnote_cell_type": "text-cell-p",
        "id": "iCTerWqOTiUV"
      }
    },
    {
      "cell_type": "markdown",
      "source": [
        "- Separação do dataset em x (dados usados para o treinamento, que no caso são os textos) e y (labels, que no caso seria se é ou não depressivo)."
      ],
      "metadata": {
        "is_collapsed": false,
        "cell_id": "d323e369-ab3c-4372-a262-538bd754cb49",
        "tags": [],
        "formattedRanges": [],
        "deepnote_cell_type": "text-cell-bullet",
        "id": "k9NfLR8rTiUV"
      }
    },
    {
      "cell_type": "markdown",
      "source": [
        "- Divisão do dataset em treino e teste, para podermos de fato treinar nosso detector e verificar se ele de fato aprendeu."
      ],
      "metadata": {
        "is_collapsed": false,
        "cell_id": "6c938c8d-088a-49af-9e04-418661a0d382",
        "tags": [],
        "formattedRanges": [],
        "deepnote_cell_type": "text-cell-bullet",
        "id": "4SkjkHpHTiUW"
      }
    },
    {
      "cell_type": "markdown",
      "source": [
        "- Treinar nosso modelo com a arquitetura do CatBoostClassifier"
      ],
      "metadata": {
        "is_collapsed": false,
        "cell_id": "d497eaa5-2532-44ab-b7d9-ebe1c10a4b20",
        "tags": [],
        "formattedRanges": [],
        "deepnote_cell_type": "text-cell-bullet",
        "id": "ey8z0LuWTiUX"
      }
    },
    {
      "cell_type": "code",
      "source": [
        "from sklearn.model_selection import train_test_split\n",
        "from catboost import CatBoostClassifier\n",
        "from sklearn.metrics import confusion_matrix,accuracy_score"
      ],
      "metadata": {
        "cell_id": "9d3e527db93f4d60aa2f4572d883f2c7",
        "tags": [],
        "deepnote_cell_type": "code",
        "deepnote_cell_height": 97,
        "id": "2uTsCcBcTiUX"
      },
      "outputs": [],
      "execution_count": null
    },
    {
      "cell_type": "code",
      "source": [
        "x = cv.fit_transform(corpus).toarray()\n",
        "\n",
        "# Pense em como extrair apenas os labels do dataset original\n",
        "y = ..."
      ],
      "metadata": {
        "cell_id": "ee319c7bfca747fbb9c8ef83f95ce522",
        "tags": [],
        "deepnote_cell_type": "code",
        "deepnote_cell_height": 115,
        "id": "5cM-Ac-HTiUZ"
      },
      "outputs": [],
      "execution_count": null
    },
    {
      "cell_type": "code",
      "source": [
        "# Dica, pesquise por: train_test_split\n",
        "x_train, x_test, y_train, y_test = ..."
      ],
      "metadata": {
        "cell_id": "4c4ba21ae8cf4abb88df3130c7181efa",
        "tags": [],
        "deepnote_cell_type": "code",
        "deepnote_cell_height": 79,
        "id": "BHra3zZzTiUb"
      },
      "outputs": [],
      "execution_count": null
    },
    {
      "cell_type": "code",
      "source": [
        "# Treinamento do modelo CatboostClassifier\n",
        "classifier = CatBoostClassifier()\n",
        "classifier.fit(x_train,y_train)"
      ],
      "metadata": {
        "cell_id": "7e37b8acd8214159ab2e7cefab1674e8",
        "tags": [],
        "deepnote_cell_type": "code",
        "deepnote_cell_height": 97,
        "id": "kn3YuyRzTiUc"
      },
      "outputs": [],
      "execution_count": null
    },
    {
      "cell_type": "markdown",
      "source": [
        "### Etapa IV - Teste do modelo"
      ],
      "metadata": {
        "is_collapsed": false,
        "cell_id": "f656dd8ad67748b792c12662ae1d61f0",
        "tags": [],
        "formattedRanges": [],
        "deepnote_cell_type": "text-cell-h3",
        "id": "rRXp1V24TiUd"
      }
    },
    {
      "cell_type": "markdown",
      "source": [
        "Por fim, vamos ver se nosso modelo está funcionando, utilize o mesmo processo de limpeza e tokenização no exemplo mostrado na questão e então verifique se o modelo está correto."
      ],
      "metadata": {
        "is_collapsed": false,
        "cell_id": "91db9682-eec6-4267-b319-a70289282a4d",
        "tags": [],
        "formattedRanges": [],
        "deepnote_cell_type": "text-cell-p",
        "id": "kPaVyxxYTiUf"
      }
    },
    {
      "cell_type": "code",
      "source": [
        "example = \"I hate my parents, I just want to venish and die\"\n",
        "\n",
        "# Primeiro trate o texto, retirando stopwords, fazendo a lematização e aplicando o CountVectorizer\n",
        "# Exatamente igual o que já foi feito\n",
        "\n",
        "text = ...\n",
        "\n",
        "# Agora vamos verificar se o resultado está correto \n",
        "transformed_example = cv.transform([text])\n",
        "label = classifier.predict(treated_example)\n",
        "\n",
        "if label == 1:\n",
        "    print('Depressed')\n",
        "\n",
        "if label == 0:\n",
        "    print('Not depressed')\n"
      ],
      "metadata": {
        "cell_id": "a8d098866a6843a2b15298781806cdac",
        "tags": [],
        "deepnote_cell_type": "code",
        "deepnote_cell_height": 354,
        "id": "xitQWvIPTiUg"
      },
      "outputs": [],
      "execution_count": null
    }
  ],
  "nbformat": 4,
  "nbformat_minor": 0,
  "metadata": {
    "orig_nbformat": 2,
    "deepnote": {},
    "deepnote_notebook_id": "d7bf43f2-576c-4007-b574-2644a3cc1556",
    "deepnote_execution_queue": [],
    "colab": {
      "name": "Fase2_SEU-NOME.ipynb",
      "provenance": []
    }
  }
}