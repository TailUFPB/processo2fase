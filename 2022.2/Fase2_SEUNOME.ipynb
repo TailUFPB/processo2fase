{
  "cells": [
    {
      "cell_type": "markdown",
      "source": [
        "<a href=\"TAIL\"><img src=\"https://i.imgur.com/GRTE0OG.png\" width=\"150\" title=\"Tail Logo\" /></a>\n",
        "# <font color =\"#00b8ff\">Processo seletivo TAIL 2022.2</font>"
      ],
      "metadata": {
        "cell_id": "4f845c2bded4465380490f7a8e270739",
        "tags": [],
        "deepnote_cell_type": "markdown",
        "deepnote_cell_height": 82,
        "id": "SwqOLFilyXzo"
      }
    },
    {
      "cell_type": "markdown",
      "source": [
        "## Introdução"
      ],
      "metadata": {
        "cell_id": "2122ee8fee5b45f9862c8d94f71489f1",
        "tags": [],
        "deepnote_cell_type": "markdown",
        "deepnote_cell_height": 70,
        "id": "igAtZmSJyXzw"
      }
    },
    {
      "cell_type": "markdown",
      "source": [
        "Olá candidato! Para participar do processo seletivo, você deve abrir o link do colab abaixo e fazer uma cópia para seu drive e inserir as respostas nos campos.\n",
        "\n",
        "Após responder, basta compartilhar conosco e nos enviar o link no email: tail.ufpb@gmail.com com o assunto **PROCESSO SELETIVO 2022.2 - SEU_NOME**\n",
        "\n",
        "Para mais instruções, assista o vídeo de explicações e dúvidas que enviamos por email.\n",
        "\n",
        "Pedimos que envie o notebook até o dia 29/08/2022 às 23:59.\n",
        "\n",
        "Lembrando que essa fase não é eliminatória e serve apenas para que possamos nivelar os participantes.\n",
        "\n",
        "Qualquer dúvida, lembre de nos contactar através do canal no [discord](https://discord.gg/ASJTEbMh)"
      ],
      "metadata": {
        "cell_id": "9aef0d8c358b4183b40d01e15584304b",
        "tags": [],
        "deepnote_cell_type": "markdown",
        "deepnote_cell_height": 279.125,
        "id": "K_rI2PPFyXz0"
      }
    },
    {
      "cell_type": "markdown",
      "source": [
        "[![Open In Colab](https://colab.research.google.com/assets/colab-badge.svg)](https://colab.research.google.com/drive/1gIKqxr4grlhc0c_YeeTSs2YH0HSoC75r?usp=sharing) "
      ],
      "metadata": {
        "id": "f1vIPfm2yrd0"
      }
    },
    {
      "cell_type": "markdown",
      "source": [
        "## Instruções:\n",
        "<br>1. Abra o Google Colaboratory;\n",
        "<br>2. Faça uma cópia no seu drive;\n",
        "<br>3. Localize o notebook e abra-o;\n",
        "<br>4. Responda o questionário;\n",
        "<br>5. Salve o notebook e submeta-o através de nosso email: tail.ufpb@gmail.com"
      ],
      "metadata": {
        "cell_id": "9d41dfad1fd741619e574ca60eb3b9cf",
        "tags": [],
        "deepnote_cell_type": "markdown",
        "deepnote_cell_height": 309.90625,
        "id": "MDzHM_kGyXz4"
      }
    },
    {
      "cell_type": "markdown",
      "source": [
        "## Materiais"
      ],
      "metadata": {
        "cell_id": "d4a60a36252c4a08b1434f3b504973d6",
        "tags": [],
        "deepnote_cell_type": "markdown",
        "deepnote_cell_height": 70,
        "id": "ALS5ox_syXz6"
      }
    },
    {
      "cell_type": "markdown",
      "source": [
        "**Anexo :** \n",
        "\n",
        "Para auxilio com as questões, disponibilizamos o livro *Python para Estatísticos*, do professor Telmo de Menezes e Silva Filho, do Departamento de Estatística da Universidade Federal da Paraíba (UFPB):\n",
        "\n",
        "[**Python para Estatísticos**](https://tmfilho.github.io/pyestbook)\n",
        "\n",
        "Link para bibliotecas essênciais para desenvolver os problemas abaixo:\n",
        "\n",
        "[**Bibliotecas essenciais**](https://github.com/Manuelfjr/processo2fase_anexo)\n",
        "\n",
        "Slides das aulas de Thais:  \n",
        "  \n",
        "[**Slides**](https://sites.google.com/site/gaudenciothaisia/home/aulas)\n",
        "\n",
        "Outros materiais, específicos para resolução de certas questões, serão especificados em seus enunciados."
      ],
      "metadata": {
        "cell_id": "75a3224b3b794aa1864e0b74d36eb344",
        "tags": [],
        "deepnote_cell_type": "markdown",
        "deepnote_cell_height": 329.515625,
        "id": "zWZMyMNDyXz7"
      }
    },
    {
      "cell_type": "code",
      "source": [
        "#@title Preencha os campos abaixo:\n",
        "\n",
        "nome = 'Marilia Brito' #@param {type:\"string\"}\n",
        "email = 'mariliabs93@gmail.com' #@param {type:\"string\"}\n",
        "\n",
        "# confira se os valores impressos correspondem ao que você digitou\n",
        "print(nome)\n",
        "print(email)"
      ],
      "metadata": {
        "cell_id": "75e19303d59f48429ea39c1ec9fa969d",
        "tags": [],
        "deepnote_cell_type": "code",
        "deepnote_cell_height": 187,
        "id": "BnIG2oyLyXz9"
      },
      "outputs": [],
      "execution_count": null
    },
    {
      "cell_type": "markdown",
      "source": [
        "## Avisos\n",
        "Aqui vão uma série de avisos e dicas:\n",
        "* Se esforcem. Mesmo que não consigam responder tudo, deem o máximo de si.\n",
        "* Descrevam o que pensaram e como fizeram ou teriam feito para resolver a questão (isso é muito importante).\n",
        "* Se divirtam. Vai ser muito legal ter vocês conosco!\n",
        "\n",
        "![](https://github.com/TailUFPB/processo2fase/raw/master/img/ygt.jpg)"
      ],
      "metadata": {
        "cell_id": "dbe28089d4e54822ac19c4b7e76705a2",
        "tags": [],
        "deepnote_cell_type": "markdown",
        "deepnote_cell_height": 257.953125,
        "id": "3Y6Beqy5yX0A"
      }
    },
    {
      "cell_type": "markdown",
      "source": [
        "## Questão 1: Palíndromos (Strings)"
      ],
      "metadata": {
        "cell_id": "9a709aaa4cc24fe4be94ab373c7a3d06",
        "tags": [],
        "deepnote_cell_type": "markdown",
        "deepnote_cell_height": 70,
        "id": "MGOZWz9eyX0C"
      }
    },
    {
      "cell_type": "markdown",
      "source": [
        "## Descrição:"
      ],
      "metadata": {
        "cell_id": "d63c4e723bcc4c619740f84b16c52370",
        "tags": [],
        "deepnote_cell_type": "markdown",
        "deepnote_cell_height": 70,
        "id": "B-nnxHH7yX0E"
      }
    },
    {
      "cell_type": "markdown",
      "source": [
        "Para lidar com valores textuais, são utilizadas variáveis de tipo String, podendo ser tratados como Listas (outra Estrutura de Dados) em Python. Dessa forma, é possível identificar caracteres de um String a partir de seu índice, o que ajuda bastante em analisar o comportamento de uma certa palavra."
      ],
      "metadata": {
        "formattedRanges": [],
        "is_collapsed": false,
        "cell_id": "002223143e9c433b84f759177820d0c8",
        "tags": [],
        "deepnote_cell_type": "text-cell-p",
        "id": "tXfbrwRCyX0F"
      }
    },
    {
      "cell_type": "markdown",
      "source": [
        "Vamos supor que você queira descobrir se uma palavra é igual ao seu próprio inverso (no caso, um palíndromo), seria muito conveniente (e possível!) escrever um programa em Python que possa dizer se essa palavra é, ou não, um palíndromo."
      ],
      "metadata": {
        "formattedRanges": [],
        "is_collapsed": false,
        "cell_id": "438036ea-c666-4fbc-8b10-9b585bab0fff",
        "tags": [],
        "deepnote_cell_type": "text-cell-p",
        "id": "BnYgXdtWyX0H"
      }
    },
    {
      "cell_type": "markdown",
      "source": [
        "## Tarefa:"
      ],
      "metadata": {
        "formattedRanges": [],
        "is_collapsed": false,
        "cell_id": "95039427-9599-41a6-a68b-1da26e98ff1f",
        "tags": [],
        "deepnote_cell_type": "text-cell-h2",
        "id": "LVBlYQ12yX0I"
      }
    },
    {
      "cell_type": "markdown",
      "source": [
        "Implemente um script em Python para verificar se uma String é um palíndromo."
      ],
      "metadata": {
        "formattedRanges": [],
        "is_collapsed": false,
        "cell_id": "6bb732c4-b727-4875-97a8-78d1015d9102",
        "tags": [],
        "deepnote_cell_type": "text-cell-p",
        "id": "mQT2JZWEyX0J"
      }
    },
    {
      "cell_type": "markdown",
      "source": [
        "## Exemplos:"
      ],
      "metadata": {
        "formattedRanges": [],
        "is_collapsed": false,
        "cell_id": "a3bc51b1-c975-46e3-9433-ba08eb0eb490",
        "tags": [],
        "deepnote_cell_type": "text-cell-h2",
        "id": "7Kt08aBryX0K"
      }
    },
    {
      "cell_type": "markdown",
      "source": [
        "\"abcba\", retorna True\n",
        "\"foobof\", retorna False\n",
        "\"abccab\", retorna False"
      ],
      "metadata": {
        "formattedRanges": [],
        "is_collapsed": false,
        "cell_id": "a4a47e72-439c-478a-bed5-e4e925dd18c3",
        "tags": [],
        "deepnote_cell_type": "text-cell-p",
        "id": "Wkdp-fhAyX0L"
      }
    },
    {
      "cell_type": "markdown",
      "source": [
        "## Referências:"
      ],
      "metadata": {
        "formattedRanges": [],
        "is_collapsed": false,
        "cell_id": "5ed103ca8a094fe19110d322f38386ee",
        "tags": [],
        "deepnote_cell_type": "text-cell-h2",
        "id": "DF_EtAmZyX0N"
      }
    },
    {
      "cell_type": "markdown",
      "source": [
        "[1] www.youtube.com/watch?v=HKonsZXRCzc"
      ],
      "metadata": {
        "formattedRanges": [],
        "is_collapsed": false,
        "cell_id": "425a0dc6-fe6b-4f3c-be12-8d7216633230",
        "tags": [],
        "deepnote_cell_type": "text-cell-p",
        "id": "x0o7-rdlyX0N"
      }
    },
    {
      "cell_type": "code",
      "metadata": {
        "cell_id": "4792cccdcb0640b9b150d17e921d1288",
        "tags": [],
        "deepnote_cell_type": "code",
        "deepnote_cell_height": 97,
        "id": "4WLu2AvNyX0O"
      },
      "source": [
        "def palindrome(prompt):\n",
        "\n",
        "    # Seu código aqui"
      ],
      "execution_count": null,
      "outputs": []
    },
    {
      "cell_type": "code",
      "metadata": {
        "cell_id": "4268968860604409bc12383f40bf7145",
        "tags": [],
        "allow_embed": false,
        "deepnote_cell_type": "code",
        "deepnote_cell_height": 61,
        "id": "xN4ZIZd0yX0P"
      },
      "source": [
        "# Teste seu código aqui"
      ],
      "execution_count": null,
      "outputs": []
    },
    {
      "cell_type": "markdown",
      "source": [
        "# Questão 2: Soma de dois inteiros (Listas)"
      ],
      "metadata": {
        "formattedRanges": [],
        "is_collapsed": false,
        "cell_id": "b911aed7d92642c1aa713e74fe52b423",
        "tags": [],
        "deepnote_cell_type": "text-cell-h1",
        "id": "CtP0e2YNyX0P"
      }
    },
    {
      "cell_type": "markdown",
      "source": [
        "## Descrição:"
      ],
      "metadata": {
        "formattedRanges": [],
        "is_collapsed": false,
        "cell_id": "f03015c674da4c508e6e7521df20736c",
        "tags": [],
        "deepnote_cell_type": "text-cell-h2",
        "id": "dMz9WiZ3yX0Q"
      }
    },
    {
      "cell_type": "markdown",
      "source": [
        "Listas são um tipo de Estrutura de Dados que armazena uma sequência de valores de diversos tipos, possibilitando o acesso a esses valores por meio de um índice. Vamos supor que você recebeu uma lista de inteiros e foi concedida a você a tarefa de verificar se existem dois números na lista que, quando somados, resultam em um número \"k\". Obs: Não se pode somar um número com ele mesmo."
      ],
      "metadata": {
        "formattedRanges": [],
        "is_collapsed": false,
        "cell_id": "77cc3628-d148-4cc2-ae8c-8ce2bcbff544",
        "tags": [],
        "deepnote_cell_type": "text-cell-p",
        "id": "iGHySrYByX0Q"
      }
    },
    {
      "cell_type": "markdown",
      "source": [
        "## Tarefa:"
      ],
      "metadata": {
        "formattedRanges": [],
        "is_collapsed": false,
        "cell_id": "13fa6fe1-19b8-406d-a808-5f34d2f9b561",
        "tags": [],
        "deepnote_cell_type": "text-cell-h2",
        "id": "u1AzP2GVyX0R"
      }
    },
    {
      "cell_type": "markdown",
      "source": [
        "Implemente um script em Python para verificar se, dentro de uma lista de valores inteiros, existem dois valores que somados resultam em um alvo \"k\"."
      ],
      "metadata": {
        "formattedRanges": [],
        "is_collapsed": false,
        "cell_id": "902b11ca-53a8-4945-8404-7c65700bfb1c",
        "tags": [],
        "deepnote_cell_type": "text-cell-p",
        "id": "6VXFyWxLyX0S"
      }
    },
    {
      "cell_type": "markdown",
      "source": [
        "## Exemplos:"
      ],
      "metadata": {
        "formattedRanges": [],
        "is_collapsed": false,
        "cell_id": "b620a00b6db74b11bc7a2599ebd595d1",
        "tags": [],
        "deepnote_cell_type": "text-cell-h2",
        "id": "affXFZLWyX0T"
      }
    },
    {
      "cell_type": "markdown",
      "source": [
        "[1, 3, 8, 2] , k = 10, retorna True (8 + 2) \n",
        "[3, 9, 13, 7] , k = 8, retorna False \n",
        "[4, 2, 6, 5, 2] , k = 4, retorna True (2 + 2)"
      ],
      "metadata": {
        "formattedRanges": [],
        "is_collapsed": false,
        "cell_id": "5f929f9e-9353-4341-9f39-d05fa607ec19",
        "tags": [],
        "deepnote_cell_type": "text-cell-p",
        "id": "w6ORgJ3myX0U"
      }
    },
    {
      "cell_type": "code",
      "metadata": {
        "cell_id": "0f075c9413804189816e95096203db26",
        "tags": [],
        "deepnote_cell_type": "code",
        "deepnote_cell_height": 97,
        "id": "Jb8ddHEcyX0U"
      },
      "source": [
        "def sum_of_two(arr, k):\n",
        "    \n",
        "    # Seu código aqui"
      ],
      "execution_count": null,
      "outputs": []
    },
    {
      "cell_type": "code",
      "metadata": {
        "cell_id": "a0b1787ca07847099413a90f7e22a5fa",
        "tags": [],
        "deepnote_cell_type": "code",
        "deepnote_cell_height": 61,
        "id": "FB9Z93RfyX0V"
      },
      "source": [
        "# Teste seu código aqui"
      ],
      "execution_count": null,
      "outputs": []
    },
    {
      "cell_type": "markdown",
      "source": [
        "# Questão 3: Rota do aspirador de pó (Strings)"
      ],
      "metadata": {
        "formattedRanges": [],
        "is_collapsed": false,
        "cell_id": "8f5aea9177a54e9d99bd7a51876d11c9",
        "tags": [],
        "deepnote_cell_type": "text-cell-h1",
        "id": "iEgNXJaCyX0W"
      }
    },
    {
      "cell_type": "markdown",
      "source": [
        "## Descrição:"
      ],
      "metadata": {
        "formattedRanges": [],
        "is_collapsed": false,
        "cell_id": "6b30c944-24de-4cbf-8d8e-906153c327c8",
        "tags": [],
        "deepnote_cell_type": "text-cell-h2",
        "id": "rANf-faByX0W"
      }
    },
    {
      "cell_type": "markdown",
      "source": [
        "Vamos supor que você tenha um robô aspirador de pó, e exista uma String que diga os movimentos que esse robô fez, essa String possui os caracteres E, D, C, B, que representam, respectivamente, Esquerda, Direita, Cima, Baixo. Dada uma certa String, é possível deduzir se o robô voltará à posição inicial, se o número de vezes que ele for à esquerda for igual ao número de vezes que ele foi à direita e se o número de vezes que ele for para cima for igual ao número de vezes que ele foi para baixo."
      ],
      "metadata": {
        "formattedRanges": [],
        "is_collapsed": false,
        "cell_id": "384c0b69-7aa2-49c4-8711-218fe1b10a50",
        "tags": [],
        "deepnote_cell_type": "text-cell-p",
        "id": "t7Kes-m-yX0W"
      }
    },
    {
      "cell_type": "markdown",
      "source": [
        "## Tarefa:"
      ],
      "metadata": {
        "formattedRanges": [],
        "is_collapsed": false,
        "cell_id": "0ee62a0a-6d5d-45e7-92d0-452974131cfe",
        "tags": [],
        "deepnote_cell_type": "text-cell-h2",
        "id": "1--FqXh6yX0X"
      }
    },
    {
      "cell_type": "markdown",
      "source": [
        "Implemente um script em Python que recebe uma String dizendo os movimentos do robô e que retorna se o robô vai voltar para a posição inicial ou não."
      ],
      "metadata": {
        "formattedRanges": [],
        "is_collapsed": false,
        "cell_id": "a1bac239-a62a-4e2f-8c46-af030c046dc2",
        "tags": [],
        "deepnote_cell_type": "text-cell-p",
        "id": "lMMTd9AmyX0X"
      }
    },
    {
      "cell_type": "markdown",
      "source": [
        "## Exemplos:"
      ],
      "metadata": {
        "formattedRanges": [],
        "is_collapsed": false,
        "cell_id": "e8e7aa62-aa2c-40ca-b184-a2cfb46a33b2",
        "tags": [],
        "deepnote_cell_type": "text-cell-h2",
        "id": "Zn79zJGbyX0X"
      }
    },
    {
      "cell_type": "markdown",
      "source": [
        "\"DE\", retorna True \n",
        "\"CDCDB\", retorna False\n",
        "\"DCCEEBDB\", retorna True"
      ],
      "metadata": {
        "formattedRanges": [],
        "is_collapsed": false,
        "cell_id": "90b74408-c191-4a90-a5fc-27c654a224b6",
        "tags": [],
        "deepnote_cell_type": "text-cell-p",
        "id": "BUA1Y-aOyX0Y"
      }
    },
    {
      "cell_type": "code",
      "metadata": {
        "cell_id": "2f62f9c7dc314d98970e2918c5c3a71a",
        "tags": [],
        "deepnote_cell_type": "code",
        "deepnote_cell_height": 97,
        "id": "uilCtxvYyX0Y"
      },
      "source": [
        "def will_return(prompt):\n",
        "\n",
        "    # Seu código aqui"
      ],
      "execution_count": null,
      "outputs": []
    },
    {
      "cell_type": "code",
      "metadata": {
        "cell_id": "6bbb4691fdea4b488a08a4b1b1786220",
        "tags": [],
        "deepnote_cell_type": "code",
        "deepnote_cell_height": 61,
        "id": "jazK4xm5yX0Z"
      },
      "source": [
        "# Teste seu código aqui"
      ],
      "execution_count": null,
      "outputs": []
    },
    {
      "cell_type": "markdown",
      "source": [
        "# Questão 4: Análise de dados"
      ],
      "metadata": {
        "cell_id": "2f3f7d726b2441a68f79eef68ea1d70e",
        "tags": [],
        "deepnote_cell_type": "markdown",
        "deepnote_cell_height": 82,
        "id": "CvxpYAEwyX0Z"
      }
    },
    {
      "cell_type": "markdown",
      "source": [
        "## Descrição:"
      ],
      "metadata": {
        "cell_id": "cbf94986c89942f88a1b07ef67c41d16",
        "tags": [],
        "deepnote_cell_type": "markdown",
        "deepnote_cell_height": 70,
        "id": "CEBOLAVOyX0a"
      }
    },
    {
      "cell_type": "markdown",
      "source": [
        "A seguir temos um dataset com dados \n",
        "\n",
        "Data Set Information:\n",
        "Attribute Information:\n",
        "\n",
        "1) ID number\n",
        "2) Diagnosis (M = malignant, B = benign)\n",
        "\n",
        "Ten real-valued features are computed for each cell nucleus:\n",
        "\n",
        "a) radius (mean of distances from center to points on the perimeter)\n",
        "b) texture (standard deviation of gray-scale values)\n",
        "c) perimeter\n",
        "d) area\n",
        "e) smoothness (local variation in radius lengths)\n",
        "f) compactness (perimeter^2 / area - 1.0)\n",
        "g) concavity (severity of concave portions of the contour)\n",
        "h) concave points (number of concave portions of the contour)\n",
        "i) symmetry\n",
        "j) fractal dimension (\"coastline approximation\" - 1)\n",
        "\n",
        "datapath: https://raw.githubusercontent.com/carlosfab/data_science/master/datasets/breast-cancer-wisconsin.csv"
      ],
      "metadata": {
        "cell_id": "cd33d869a1794f11853115db999df8e6",
        "tags": [],
        "deepnote_cell_type": "markdown",
        "deepnote_cell_height": 506.03125,
        "id": "9kSEDSg3yX0a"
      }
    },
    {
      "cell_type": "markdown",
      "source": [
        "## Tarefa:\n",
        "a) Utilize o pandas para receber os dados\n",
        "b) Visualize os Dados em Histogramas\n",
        "c) Extraia informações dos dados: Média, Moda, Mediana e Boxplot\n",
        "d) Construa um gráfico para passar uma mensagem sobre a análise que foi feita"
      ],
      "metadata": {
        "cell_id": "3ef65b7479034d99b4e788276f734694",
        "tags": [],
        "deepnote_cell_type": "markdown",
        "deepnote_cell_height": 175.5625,
        "id": "_37MxXxhyX0a"
      }
    },
    {
      "cell_type": "code",
      "source": [
        ""
      ],
      "metadata": {
        "cell_id": "1a0a0b71cf6042f792d43d4217536f44",
        "tags": [],
        "deepnote_cell_type": "code",
        "deepnote_cell_height": 61,
        "id": "HMWOIqO0yX0b"
      },
      "outputs": [],
      "execution_count": null
    },
    {
      "cell_type": "markdown",
      "source": [
        "# Questão 6: Alterar cores dentro de uma máscara (Visão Computacional) "
      ],
      "metadata": {
        "is_collapsed": false,
        "cell_id": "bb4654f941814f3ca1016ec0072caaba",
        "tags": [],
        "formattedRanges": [],
        "deepnote_cell_type": "text-cell-h1",
        "id": "zaRJ8eh0yX0b"
      }
    },
    {
      "cell_type": "markdown",
      "source": [
        "## Descrição:"
      ],
      "metadata": {
        "is_collapsed": false,
        "cell_id": "372b4a86-d70e-4df7-9376-b7b0fb7b2110",
        "tags": [],
        "formattedRanges": [],
        "deepnote_cell_type": "text-cell-h2",
        "id": "AL83gWu4yX0c"
      }
    },
    {
      "cell_type": "markdown",
      "source": [
        "Processamento digital de imagens é um campo importante para a visão computacional, sendo util para o aumento de datasets (augmentation) e o balanceamento de dados relacionados a imagens, como cor, brilho e etc. Para dominar esse tema é necessário entender como as imagens se apresentam na programação, em geral são listas (ou arrays, tensores etc) com as dimensões representando Altura (Height - H),  Largura (Width - W) e em imagens coloridas, Canais (Channels - C). Normalmente elas estão no espaço de números inteiros de 0 a 255 (8 bits) ou floats 0 a 1, de forma que o branco é representado pelo valor máximo em grayscale e variações de RGB. Alterar esses valores mudando a ordem dos canais, definindo um valor constante ou de acordo com uma função são algumas formas simples de recolorir."
      ],
      "metadata": {
        "is_collapsed": false,
        "cell_id": "e57a6db3919d48a2a3983bdbf74d43ec",
        "tags": [],
        "formattedRanges": [],
        "deepnote_cell_type": "text-cell-p",
        "id": "RrttpCz-yX0c"
      }
    },
    {
      "cell_type": "markdown",
      "source": [
        "## Tarefa:"
      ],
      "metadata": {
        "is_collapsed": false,
        "cell_id": "69317f70186a48e59c176e56fc961def",
        "tags": [],
        "formattedRanges": [],
        "deepnote_cell_type": "text-cell-h2",
        "id": "Tg3OYa3AyX0d"
      }
    },
    {
      "cell_type": "markdown",
      "source": [
        "Utilize a máscara para recolorir apenas a região definida da imagem respectiva, ambas disponibilizadas abaixo. São 3 imagens disponíveis, você está livre para escolher uma, ou todas, e utilizar a estratégia que preferir. Busque criar o resultado mais realístico possível."
      ],
      "metadata": {
        "is_collapsed": false,
        "cell_id": "e844817f-d6ca-4c50-9c80-c286f69c0985",
        "tags": [],
        "formattedRanges": [],
        "deepnote_cell_type": "text-cell-p",
        "id": "RFdNRiHNyX0d"
      }
    },
    {
      "cell_type": "markdown",
      "source": [
        "## Dica de Bibliotecas:"
      ],
      "metadata": {
        "is_collapsed": false,
        "cell_id": "78158034-c7b7-4efe-b097-8c0bfd0298bb",
        "tags": [],
        "formattedRanges": [],
        "deepnote_cell_type": "text-cell-h2",
        "id": "-61AtocFyX0d"
      }
    },
    {
      "cell_type": "markdown",
      "source": [
        "- NumPy"
      ],
      "metadata": {
        "is_collapsed": false,
        "cell_id": "a8533fcf79654297bde7f8818df6affe",
        "tags": [],
        "formattedRanges": [],
        "deepnote_cell_type": "text-cell-bullet",
        "id": "xyaBWY4ryX0d"
      }
    },
    {
      "cell_type": "markdown",
      "source": [
        "- Pillow"
      ],
      "metadata": {
        "is_collapsed": false,
        "cell_id": "d91f2f39-f432-4ba2-aed3-7b81b00b4c9e",
        "tags": [],
        "formattedRanges": [],
        "deepnote_cell_type": "text-cell-bullet",
        "id": "RZiPZb2ryX0e"
      }
    },
    {
      "cell_type": "markdown",
      "source": [
        "- OpenCV"
      ],
      "metadata": {
        "is_collapsed": false,
        "cell_id": "d5b697cd-638d-417f-b77f-974d6bd6b2ab",
        "tags": [],
        "formattedRanges": [],
        "deepnote_cell_type": "text-cell-bullet",
        "id": "GxgKGj4HyX0e"
      }
    },
    {
      "cell_type": "markdown",
      "source": [
        "### Drive com as imagens e masks"
      ],
      "metadata": {
        "is_collapsed": false,
        "cell_id": "3796db7fb1b74472a058a4f8f91e2bc4",
        "tags": [],
        "formattedRanges": [],
        "deepnote_cell_type": "text-cell-h3",
        "id": "_pkO6a-8yX0e"
      }
    },
    {
      "cell_type": "markdown",
      "source": [
        "https://drive.google.com/drive/folders/11jj9EKv_zqC4HqLzDGQGnsjKbnzfK1o4?usp=sharing"
      ],
      "metadata": {
        "is_collapsed": false,
        "cell_id": "4a93f1b2-4627-485d-8f54-61ba2c6a0433",
        "tags": [],
        "formattedRanges": [],
        "deepnote_cell_type": "text-cell-p",
        "id": "H3jKEjueyX0e"
      }
    },
    {
      "cell_type": "markdown",
      "source": [
        "### Como abrir imagens no Colab?"
      ],
      "metadata": {
        "is_collapsed": false,
        "cell_id": "358af066764648469810d9c0e84c5269",
        "tags": [],
        "formattedRanges": [],
        "deepnote_cell_type": "text-cell-h3",
        "id": "3AErKgbsyX0f"
      }
    },
    {
      "cell_type": "markdown",
      "source": [
        "Para carregar uma imagem, primeiro é preciso fazer o upload um arquivo de imagem no ambiente virtual do Google Colab:"
      ],
      "metadata": {
        "is_collapsed": false,
        "cell_id": "75ebab9b-d529-4979-97ec-61e6cd9c864a",
        "tags": [],
        "formattedRanges": [],
        "deepnote_cell_type": "text-cell-p",
        "id": "SibiF1BEyX0f"
      }
    },
    {
      "cell_type": "markdown",
      "source": [
        "undefined.  Clique no ícone da pastinha no menu lateral esquerdo."
      ],
      "metadata": {
        "is_collapsed": false,
        "cell_id": "8b2c5246238d4abaa68af20ac9f401f7",
        "tags": [],
        "formattedRanges": [],
        "deepnote_cell_type": "text-cell-number",
        "id": "4CdLVygxyX0f"
      }
    },
    {
      "cell_type": "markdown",
      "source": [
        "undefined.  Utilize o ícone de upload ou arraste o arquivo desejado para a área do menu lateral."
      ],
      "metadata": {
        "is_collapsed": false,
        "cell_id": "7dc549b1-35b6-4555-a21d-a38863806ec2",
        "tags": [],
        "formattedRanges": [],
        "deepnote_cell_type": "text-cell-number",
        "id": "1UH9vQk9yX0g"
      }
    },
    {
      "cell_type": "markdown",
      "source": [
        "undefined.  Após o upload, o arquivo estará disponível no diretório base do ambiente."
      ],
      "metadata": {
        "is_collapsed": false,
        "cell_id": "8c7fc477-fc94-4a10-abca-f81cd20315c2",
        "tags": [],
        "formattedRanges": [],
        "deepnote_cell_type": "text-cell-number",
        "id": "v8XB5xocyX0g"
      }
    },
    {
      "cell_type": "markdown",
      "source": [
        "undefined.  Também é possível salvar a pasta do Google Drive na sua conta e acessá-la pelo colab"
      ],
      "metadata": {
        "is_collapsed": false,
        "cell_id": "b44022ae-fd11-403c-abbe-0392b27755d1",
        "tags": [],
        "formattedRanges": [],
        "deepnote_cell_type": "text-cell-number",
        "id": "wAZum0i5yX0g"
      }
    },
    {
      "cell_type": "code",
      "source": [
        "import cv2\n",
        "import numpy as np\n",
        "\n",
        "from PIL import Image\n",
        "\n",
        "### Com OpenCV\n",
        "# image_1 = cv2.imread('image_01.png', 1)\n",
        "# mask_1 = cv2.imread('seg_01.png', 0)\n",
        "\n",
        "# display(Image.fromarray(image_1))\n",
        "# display(Image.fromarray(mask_1))\n",
        "\n",
        "### Com Pillow\n",
        "# image_1 = Image.open('image_01.png')\n",
        "# mask_1 = Image.open('seg_01.png').convert('L')\n",
        "\n",
        "# display(image_1)\n",
        "# display(mask_1)"
      ],
      "metadata": {
        "cell_id": "b0d12b6369884a10aa3835c5a3ec6575",
        "tags": [],
        "deepnote_cell_type": "code",
        "deepnote_cell_height": 367,
        "id": "7lS3w8z5yX0h"
      },
      "outputs": [],
      "execution_count": null
    },
    {
      "cell_type": "code",
      "source": [
        "# Seu código abaixo"
      ],
      "metadata": {
        "cell_id": "69c76d5216274230837bcd11f8c53565",
        "tags": [],
        "deepnote_cell_type": "code",
        "deepnote_cell_height": 61,
        "id": "vBc9q1duyX0h"
      },
      "outputs": [],
      "execution_count": null
    },
    {
      "cell_type": "markdown",
      "source": [
        "# Questão 7: Detecção de usuários depressivos (Processamento de linguagem natural)"
      ],
      "metadata": {
        "is_collapsed": false,
        "cell_id": "1924c38c3a424da7814796fdc8b7fdc7",
        "tags": [],
        "formattedRanges": [],
        "deepnote_cell_type": "text-cell-h1",
        "id": "FySiOPTVyX0h"
      }
    },
    {
      "cell_type": "markdown",
      "source": [
        "## Descrição:"
      ],
      "metadata": {
        "is_collapsed": false,
        "cell_id": "c656e4f2-ea63-4b94-ac42-4664d7ef2280",
        "tags": [],
        "formattedRanges": [],
        "deepnote_cell_type": "text-cell-h2",
        "id": "lSZHoSyhyX0i"
      }
    },
    {
      "cell_type": "markdown",
      "source": [
        "O processamento de linguagem natural é uma área da inteligência artificial que usa machine learning para revelar a estrutura e o significado do texto. Nessa questão, você exercerá o papel de um funcionário do Reddit, que possui a função de criar um detector de usuários com tendências depressivas, para alertar o governo, providenciando ajuda psicológica para os mesmos, e então salvando a vida de milhares de pessoas."
      ],
      "metadata": {
        "is_collapsed": false,
        "cell_id": "04cbffe5-d405-4bcb-b0fb-4cee50d88fa7",
        "tags": [],
        "formattedRanges": [],
        "deepnote_cell_type": "text-cell-p",
        "id": "2-FiazZGyX0i"
      }
    },
    {
      "cell_type": "markdown",
      "source": [
        "## Tarefa:"
      ],
      "metadata": {
        "is_collapsed": false,
        "cell_id": "2eb533dc-80b3-4ba2-8b63-ef521141abd0",
        "tags": [],
        "formattedRanges": [],
        "deepnote_cell_type": "text-cell-h2",
        "id": "__4fs4zmyX0j"
      }
    },
    {
      "cell_type": "markdown",
      "source": [
        "Processar dados textuais e treinar um modelo de _ para detectar textos em inglês com tendências depressivas."
      ],
      "metadata": {
        "is_collapsed": false,
        "cell_id": "094aa030-e633-48bd-8f77-a3245fd1681a",
        "tags": [],
        "formattedRanges": [],
        "deepnote_cell_type": "text-cell-p",
        "id": "Y8arUSYZyX0j"
      }
    },
    {
      "cell_type": "markdown",
      "source": [
        "## Exemplos:"
      ],
      "metadata": {
        "is_collapsed": false,
        "cell_id": "42bb9773-9f58-4d4e-9f83-6273bb30b0d3",
        "tags": [],
        "formattedRanges": [],
        "deepnote_cell_type": "text-cell-h2",
        "id": "g9CZdfKLyX0k"
      }
    },
    {
      "cell_type": "markdown",
      "source": [
        "\"I hate my parents, I just want to venish\", retorna Depressive\n",
        "\"I ate a delicious hamburguer last night\", retorna Not depressive \n",
        "\"I went to my parents house, it was funny\" , retorna Not depressive "
      ],
      "metadata": {
        "is_collapsed": false,
        "cell_id": "fb8b86fc-0a93-43dc-af1a-b14911ed5929",
        "tags": [],
        "formattedRanges": [],
        "deepnote_cell_type": "text-cell-p",
        "id": "ybEv6V-OyX0k"
      }
    },
    {
      "cell_type": "markdown",
      "source": [
        "## Bibliotecas:"
      ],
      "metadata": {
        "is_collapsed": false,
        "cell_id": "02bd09cb-c913-494d-964c-edfe0f86935a",
        "tags": [],
        "formattedRanges": [],
        "deepnote_cell_type": "text-cell-h2",
        "id": "5rAXMK7YyX0l"
      }
    },
    {
      "cell_type": "markdown",
      "source": [
        "- Pandas"
      ],
      "metadata": {
        "is_collapsed": false,
        "cell_id": "ec43ee0a-0dd1-47ea-aa51-025ea23ce13b",
        "tags": [],
        "formattedRanges": [],
        "deepnote_cell_type": "text-cell-bullet",
        "id": "i_Zg5Bt-yX0m"
      }
    },
    {
      "cell_type": "markdown",
      "source": [
        "- NLTK"
      ],
      "metadata": {
        "is_collapsed": false,
        "cell_id": "bc2a6291-9b8f-4da4-a405-4308d02025ca",
        "tags": [],
        "formattedRanges": [],
        "deepnote_cell_type": "text-cell-bullet",
        "id": "-7B1KKo1yX0n"
      }
    },
    {
      "cell_type": "markdown",
      "source": [
        "- Sklearn"
      ],
      "metadata": {
        "is_collapsed": false,
        "cell_id": "d6042b06-1c82-4aa7-a380-460374ec5717",
        "tags": [],
        "formattedRanges": [],
        "deepnote_cell_type": "text-cell-bullet",
        "id": "9CP1Wg29yX0n"
      }
    },
    {
      "cell_type": "markdown",
      "source": [
        "### Drive com dataset"
      ],
      "metadata": {
        "is_collapsed": false,
        "cell_id": "39819415-9142-4807-ae24-d6a717cadd37",
        "tags": [],
        "formattedRanges": [],
        "deepnote_cell_type": "text-cell-h3",
        "id": "6kQnHUciyX0n"
      }
    },
    {
      "cell_type": "markdown",
      "source": [
        "https://drive.google.com/drive/u/1/folders/1BWTY9zRfxMSSTS0-qtiL7mA0yRqfTRxC"
      ],
      "metadata": {
        "is_collapsed": false,
        "cell_id": "6c456e1c-f919-4483-a74a-3f26a3e104d7",
        "tags": [],
        "formattedRanges": [],
        "deepnote_cell_type": "text-cell-p",
        "id": "KT1pt94yyX0o"
      }
    },
    {
      "cell_type": "markdown",
      "source": [
        ""
      ],
      "metadata": {
        "is_collapsed": false,
        "cell_id": "99b93b8a-fbf8-42d2-8d93-47c5da3f9d9a",
        "tags": [],
        "formattedRanges": [],
        "deepnote_cell_type": "text-cell-p",
        "id": "x82faXAbyX0o"
      }
    },
    {
      "cell_type": "markdown",
      "source": [
        "### Etapa I - Leitura e análise do dataset"
      ],
      "metadata": {
        "is_collapsed": false,
        "cell_id": "df0b8d3d5d1d4f08b500a30dc3306223",
        "tags": [],
        "formattedRanges": [],
        "deepnote_cell_type": "text-cell-h3",
        "id": "q4fuR9aHyX0o"
      }
    },
    {
      "cell_type": "markdown",
      "source": [
        "Nessa etapa você realizará os seguintes passos"
      ],
      "metadata": {
        "is_collapsed": false,
        "cell_id": "305fb894-68a3-49ee-9731-e0d91f3f5e1f",
        "tags": [],
        "formattedRanges": [],
        "deepnote_cell_type": "text-cell-p",
        "id": "7PaJ17HSyX0o"
      }
    },
    {
      "cell_type": "markdown",
      "source": [
        "- Leitura do dataset (utilize pandas)"
      ],
      "metadata": {
        "is_collapsed": false,
        "cell_id": "eaef3b3f-2291-468c-b5c3-f0694f872e01",
        "tags": [],
        "formattedRanges": [],
        "deepnote_cell_type": "text-cell-bullet",
        "id": "5j9eOuQSyX0o"
      }
    },
    {
      "cell_type": "markdown",
      "source": [
        "- Verificar número de textos no dataset"
      ],
      "metadata": {
        "is_collapsed": false,
        "cell_id": "622f3cc3-9717-4362-8d84-4b5db199dc70",
        "tags": [],
        "formattedRanges": [],
        "deepnote_cell_type": "text-cell-bullet",
        "id": "VE7dQqlKyX0p"
      }
    },
    {
      "cell_type": "markdown",
      "source": [
        "- Verificar se a label (depressed e not depressed) está balanceada, ou próximo disso (Verificar se número de exemplos depressivos é próximo do numero de exemplos não depressivos)"
      ],
      "metadata": {
        "is_collapsed": false,
        "cell_id": "b4dcf6c3-73ec-4efe-a53a-e8173868c343",
        "tags": [],
        "formattedRanges": [],
        "deepnote_cell_type": "text-cell-bullet",
        "id": "1A0EWVJZyX0p"
      }
    },
    {
      "cell_type": "code",
      "source": [
        "# Leitura do dataset\n",
        "import pandas as pd\n",
        "\n",
        "dataset = ...\n",
        "\n",
        "print(dataset.head())"
      ],
      "metadata": {
        "cell_id": "d0f107edc02740ef93fa74b3a798c48b",
        "tags": [],
        "deepnote_cell_type": "code",
        "deepnote_cell_height": 151,
        "id": "METEzJKOyX0p"
      },
      "outputs": [],
      "execution_count": null
    },
    {
      "cell_type": "code",
      "source": [
        "number_texts = ...\n",
        "print(f\"There is {number_texts} examples\")"
      ],
      "metadata": {
        "cell_id": "3311ddd0d8b24bfabcc955d21edda4fd",
        "tags": [],
        "deepnote_cell_type": "code",
        "deepnote_cell_height": 79,
        "id": "mq2HqXuMyX0q"
      },
      "outputs": [],
      "execution_count": null
    },
    {
      "cell_type": "code",
      "source": [
        "number_depressed = ...\n",
        "number_not_depressed = ...\n",
        "\n",
        "# O dataset está balanceado?"
      ],
      "metadata": {
        "cell_id": "3d3f3eac199b4b009af72a04eec2c36a",
        "tags": [],
        "deepnote_cell_type": "code",
        "deepnote_cell_height": 115,
        "id": "g7GmWrQNyX0q"
      },
      "outputs": [],
      "execution_count": null
    },
    {
      "cell_type": "markdown",
      "source": [
        "### Etapa II - Limpeza e tokenização do dataset"
      ],
      "metadata": {
        "is_collapsed": false,
        "cell_id": "0ce85f356d054879b90ce062eda41168",
        "tags": [],
        "formattedRanges": [],
        "deepnote_cell_type": "text-cell-h3",
        "id": "rbsSQup8yX0r"
      }
    },
    {
      "cell_type": "markdown",
      "source": [
        "Nessa etapa você irá fazer a limpeza e tokenização dos dados e realizará os seguinte passos."
      ],
      "metadata": {
        "is_collapsed": false,
        "cell_id": "d0d1169d-0c01-49ba-9c61-71f298ad99a1",
        "tags": [],
        "formattedRanges": [],
        "deepnote_cell_type": "text-cell-p",
        "id": "Kajs2qHFyX0r"
      }
    },
    {
      "cell_type": "markdown",
      "source": [
        "- Dividir o texto em um array."
      ],
      "metadata": {
        "is_collapsed": false,
        "cell_id": "6a9fa575-8c10-4849-951b-75ce9f532b0e",
        "tags": [],
        "formattedRanges": [],
        "deepnote_cell_type": "text-cell-bullet",
        "id": "w4ZGdUJiyX0r"
      }
    },
    {
      "cell_type": "markdown",
      "source": [
        "- Stemmizar os textos"
      ],
      "metadata": {
        "is_collapsed": false,
        "cell_id": "de5db410-09ed-4765-b846-5515071335ac",
        "tags": [],
        "formattedRanges": [],
        "deepnote_cell_type": "text-cell-bullet",
        "id": "_A_3SzcnyX0r"
      }
    },
    {
      "cell_type": "markdown",
      "source": [
        "- Retirar os stopwords"
      ],
      "metadata": {
        "is_collapsed": false,
        "cell_id": "fbe55b0f-a72a-4c36-b025-f65711552420",
        "tags": [],
        "formattedRanges": [],
        "deepnote_cell_type": "text-cell-bullet",
        "id": "iTNNEZGxyX0s"
      }
    },
    {
      "cell_type": "markdown",
      "source": [
        "- Juntar os t"
      ],
      "metadata": {
        "is_collapsed": false,
        "cell_id": "5677e1e3-dbe6-4602-88ae-0bedbcc7fcea",
        "tags": [],
        "formattedRanges": [],
        "deepnote_cell_type": "text-cell-bullet",
        "id": "iuqCpjq7yX0s"
      }
    },
    {
      "cell_type": "markdown",
      "source": [
        "Para explicar o que é a tokenização dos dados: como você bem sabe, as máquinas não entendem e interpretam textos como a gente, e por isso nós precisamos transformar esses dados em algo que ela entenda, números. Existem diversas formas de fazer isso, uma das formas é o count vectorizer, em que temos um array com diversos e"
      ],
      "metadata": {
        "is_collapsed": false,
        "cell_id": "a6472066-d4ab-4498-b5c3-ca442fcbeb4d",
        "tags": [],
        "formattedRanges": [],
        "deepnote_cell_type": "text-cell-p",
        "id": "DeaCB704yX0s"
      }
    },
    {
      "cell_type": "markdown",
      "source": [
        "### Etapa III - Treinamento do modelo"
      ],
      "metadata": {
        "is_collapsed": false,
        "cell_id": "0d0707071e714c30aec1bab269797761",
        "tags": [],
        "formattedRanges": [],
        "deepnote_cell_type": "text-cell-h3",
        "id": "hp_qV8u6yX0t"
      }
    },
    {
      "cell_type": "markdown",
      "source": [
        "### Etapa IV - Teste do modelo"
      ],
      "metadata": {
        "is_collapsed": false,
        "cell_id": "f656dd8ad67748b792c12662ae1d61f0",
        "tags": [],
        "formattedRanges": [],
        "deepnote_cell_type": "text-cell-h3",
        "id": "mvTDiIevyX0t"
      }
    },
    {
      "cell_type": "code",
      "source": [
        ""
      ],
      "metadata": {
        "cell_id": "cf53734e8bea4cd8a005073dd6ddae4c",
        "tags": [],
        "deepnote_cell_type": "code",
        "deepnote_cell_height": 61,
        "id": "NLdNRZVZyX0t"
      },
      "outputs": [],
      "execution_count": null
    },
    {
      "cell_type": "markdown",
      "source": [
        "<a style='text-decoration:none;line-height:16px;display:flex;color:#5B5B62;padding:10px;justify-content:end;' href='https://deepnote.com?utm_source=created-in-deepnote-cell&projectId=4e031fb7-4cfc-421c-9e7e-99531e626663' target=\"_blank\">\n",
        "<img alt='Created in deepnote.com' style='display:inline;max-height:16px;margin:0px;margin-right:7.5px;' src='data:image/svg+xml;base64,PD94bWwgdmVyc2lvbj0iMS4wIiBlbmNvZGluZz0iVVRGLTgiPz4KPHN2ZyB3aWR0aD0iODBweCIgaGVpZ2h0PSI4MHB4IiB2aWV3Qm94PSIwIDAgODAgODAiIHZlcnNpb249IjEuMSIgeG1sbnM9Imh0dHA6Ly93d3cudzMub3JnLzIwMDAvc3ZnIiB4bWxuczp4bGluaz0iaHR0cDovL3d3dy53My5vcmcvMTk5OS94bGluayI+CiAgICA8IS0tIEdlbmVyYXRvcjogU2tldGNoIDU0LjEgKDc2NDkwKSAtIGh0dHBzOi8vc2tldGNoYXBwLmNvbSAtLT4KICAgIDx0aXRsZT5Hcm91cCAzPC90aXRsZT4KICAgIDxkZXNjPkNyZWF0ZWQgd2l0aCBTa2V0Y2guPC9kZXNjPgogICAgPGcgaWQ9IkxhbmRpbmciIHN0cm9rZT0ibm9uZSIgc3Ryb2tlLXdpZHRoPSIxIiBmaWxsPSJub25lIiBmaWxsLXJ1bGU9ImV2ZW5vZGQiPgogICAgICAgIDxnIGlkPSJBcnRib2FyZCIgdHJhbnNmb3JtPSJ0cmFuc2xhdGUoLTEyMzUuMDAwMDAwLCAtNzkuMDAwMDAwKSI+CiAgICAgICAgICAgIDxnIGlkPSJHcm91cC0zIiB0cmFuc2Zvcm09InRyYW5zbGF0ZSgxMjM1LjAwMDAwMCwgNzkuMDAwMDAwKSI+CiAgICAgICAgICAgICAgICA8cG9seWdvbiBpZD0iUGF0aC0yMCIgZmlsbD0iIzAyNjVCNCIgcG9pbnRzPSIyLjM3NjIzNzYyIDgwIDM4LjA0NzY2NjcgODAgNTcuODIxNzgyMiA3My44MDU3NTkyIDU3LjgyMTc4MjIgMzIuNzU5MjczOSAzOS4xNDAyMjc4IDMxLjY4MzE2ODMiPjwvcG9seWdvbj4KICAgICAgICAgICAgICAgIDxwYXRoIGQ9Ik0zNS4wMDc3MTgsODAgQzQyLjkwNjIwMDcsNzYuNDU0OTM1OCA0Ny41NjQ5MTY3LDcxLjU0MjI2NzEgNDguOTgzODY2LDY1LjI2MTk5MzkgQzUxLjExMjI4OTksNTUuODQxNTg0MiA0MS42NzcxNzk1LDQ5LjIxMjIyODQgMjUuNjIzOTg0Niw0OS4yMTIyMjg0IEMyNS40ODQ5Mjg5LDQ5LjEyNjg0NDggMjkuODI2MTI5Niw0My4yODM4MjQ4IDM4LjY0NzU4NjksMzEuNjgzMTY4MyBMNzIuODcxMjg3MSwzMi41NTQ0MjUgTDY1LjI4MDk3Myw2Ny42NzYzNDIxIEw1MS4xMTIyODk5LDc3LjM3NjE0NCBMMzUuMDA3NzE4LDgwIFoiIGlkPSJQYXRoLTIyIiBmaWxsPSIjMDAyODY4Ij48L3BhdGg+CiAgICAgICAgICAgICAgICA8cGF0aCBkPSJNMCwzNy43MzA0NDA1IEwyNy4xMTQ1MzcsMC4yNTcxMTE0MzYgQzYyLjM3MTUxMjMsLTEuOTkwNzE3MDEgODAsMTAuNTAwMzkyNyA4MCwzNy43MzA0NDA1IEM4MCw2NC45NjA0ODgyIDY0Ljc3NjUwMzgsNzkuMDUwMzQxNCAzNC4zMjk1MTEzLDgwIEM0Ny4wNTUzNDg5LDc3LjU2NzA4MDggNTMuNDE4MjY3Nyw3MC4zMTM2MTAzIDUzLjQxODI2NzcsNTguMjM5NTg4NSBDNTMuNDE4MjY3Nyw0MC4xMjg1NTU3IDM2LjMwMzk1NDQsMzcuNzMwNDQwNSAyNS4yMjc0MTcsMzcuNzMwNDQwNSBDMTcuODQzMDU4NiwzNy43MzA0NDA1IDkuNDMzOTE5NjYsMzcuNzMwNDQwNSAwLDM3LjczMDQ0MDUgWiIgaWQ9IlBhdGgtMTkiIGZpbGw9IiMzNzkzRUYiPjwvcGF0aD4KICAgICAgICAgICAgPC9nPgogICAgICAgIDwvZz4KICAgIDwvZz4KPC9zdmc+' > </img>\n",
        "Created in <span style='font-weight:600;margin-left:4px;'>Deepnote</span></a>"
      ],
      "metadata": {
        "tags": [],
        "created_in_deepnote_cell": true,
        "deepnote_cell_type": "markdown",
        "id": "sCRfho_eyX0u"
      }
    }
  ],
  "nbformat": 4,
  "nbformat_minor": 0,
  "metadata": {
    "orig_nbformat": 2,
    "deepnote": {},
    "deepnote_notebook_id": "d7bf43f2-576c-4007-b574-2644a3cc1556",
    "deepnote_execution_queue": [],
    "colab": {
      "name": "Fase2_SEUNOME.ipynb",
      "provenance": []
    }
  }
}
