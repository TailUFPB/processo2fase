{
  "cells": [
    {
      "cell_type": "markdown",
      "source": [
        "<a href=\"TAIL\"><img src=\"https://i.imgur.com/GRTE0OG.png\" width=\"150\" title=\"Tail Logo\" /></a>\n",
        "# <font color =\"#00b8ff\">Processo seletivo TAIL 2023.2</font>"
      ],
      "metadata": {
        "cell_id": "4f845c2bded4465380490f7a8e270739",
        "tags": [],
        "deepnote_cell_type": "markdown",
        "deepnote_cell_height": 82,
        "id": "SwqOLFilyXzo"
      }
    },
    {
      "cell_type": "markdown",
      "source": [
        "## Introdução"
      ],
      "metadata": {
        "cell_id": "2122ee8fee5b45f9862c8d94f71489f1",
        "tags": [],
        "deepnote_cell_type": "markdown",
        "deepnote_cell_height": 70,
        "id": "igAtZmSJyXzw"
      }
    },
    {
      "cell_type": "markdown",
      "source": [
        "Olá candidato! Para participar do processo seletivo, você deve abrir o link do colab abaixo e fazer uma cópia para seu drive e inserir as respostas nos campos.\n",
        "\n",
        "Após responder, basta compartilhar conosco e nos enviar o link no email: tail.ufpb@gmail.com com o assunto **PROCESSO SELETIVO 2023.2 - SEU_NOME**\n",
        "\n",
        "Para mais instruções, assista o vídeo de explicações e dúvidas que enviamos por email.\n",
        "\n",
        "Pedimos que envie o notebook até o dia 25/07/2023 às 23:59.\n",
        "\n",
        "Qualquer dúvida, lembre de nos contactar através do canal no [discord](https://discord.gg/NRufZ9K6)"
      ],
      "metadata": {
        "cell_id": "9aef0d8c358b4183b40d01e15584304b",
        "tags": [],
        "deepnote_cell_type": "markdown",
        "deepnote_cell_height": 279.125,
        "id": "K_rI2PPFyXz0"
      }
    },
    {
      "cell_type": "markdown",
      "source": [
        "[![Open In Colab](https://colab.research.google.com/assets/colab-badge.svg)](https://colab.research.google.com/drive/1gIKqxr4grlhc0c_YeeTSs2YH0HSoC75r?usp=sharing)"
      ],
      "metadata": {
        "id": "f1vIPfm2yrd0"
      }
    },
    {
      "cell_type": "markdown",
      "source": [
        "## Instruções:\n",
        "<br>1. Abra o Google Colaboratory;\n",
        "<br>2. Faça uma cópia no seu drive;\n",
        "<br>3. Localize o notebook e abra-o;\n",
        "<br>4. Responda o questionário;\n",
        "<br>5. Salve o notebook e submeta-o através de nosso email: tail.ufpb@gmail.com"
      ],
      "metadata": {
        "cell_id": "9d41dfad1fd741619e574ca60eb3b9cf",
        "tags": [],
        "deepnote_cell_type": "markdown",
        "deepnote_cell_height": 309.90625,
        "id": "MDzHM_kGyXz4"
      }
    },
    {
      "cell_type": "markdown",
      "source": [
        "## Materiais"
      ],
      "metadata": {
        "cell_id": "d4a60a36252c4a08b1434f3b504973d6",
        "tags": [],
        "deepnote_cell_type": "markdown",
        "deepnote_cell_height": 70,
        "id": "ALS5ox_syXz6"
      }
    },
    {
      "cell_type": "markdown",
      "source": [
        "**Anexo :**\n",
        "\n",
        "Para auxilio com as questões, disponibilizamos o livro *Python para Estatísticos*, do professor Telmo de Menezes e Silva Filho, do Departamento de Estatística da Universidade Federal da Paraíba (UFPB):\n",
        "\n",
        "[**Python para Estatísticos**](https://tmfilho.github.io/pyestbook)\n",
        "\n",
        "Link para bibliotecas essênciais para desenvolver os problemas abaixo:\n",
        "\n",
        "[**Bibliotecas essenciais**](https://github.com/Manuelfjr/processo2fase_anexo)\n",
        "\n",
        "Slides das aulas de Thais:  \n",
        "  \n",
        "[**Slides**](https://sites.google.com/site/gaudenciothaisia/home/aulas)\n",
        "\n",
        "Outros materiais, específicos para resolução de certas questões, serão especificados em seus enunciados."
      ],
      "metadata": {
        "cell_id": "75a3224b3b794aa1864e0b74d36eb344",
        "tags": [],
        "deepnote_cell_type": "markdown",
        "deepnote_cell_height": 329.515625,
        "id": "zWZMyMNDyXz7"
      }
    },
    {
      "cell_type": "code",
      "source": [
        "#@title Preencha os campos abaixo:\n",
        "\n",
        "nome = '' #@param {type:\"string\"}\n",
        "email = '' #@param {type:\"string\"}\n",
        "\n",
        "# confira se os valores impressos correspondem ao que você digitou\n",
        "print(nome)\n",
        "print(email)"
      ],
      "metadata": {
        "cell_id": "75e19303d59f48429ea39c1ec9fa969d",
        "tags": [],
        "deepnote_cell_type": "code",
        "deepnote_cell_height": 187,
        "id": "BnIG2oyLyXz9"
      },
      "outputs": [],
      "execution_count": null
    },
    {
      "cell_type": "markdown",
      "source": [
        "## Avisos\n",
        "Aqui vão uma série de avisos e dicas:\n",
        "* Se esforcem. Mesmo que não consigam responder tudo, deem o máximo de si.\n",
        "* Descrevam o que pensaram e como fizeram ou teriam feito para resolver a questão (isso é muito importante).\n",
        "* Se divirtam. Vai ser muito legal ter vocês conosco!\n",
        "\n",
        "![](https://github.com/TailUFPB/processo2fase/raw/master/img/ygt.jpg)"
      ],
      "metadata": {
        "cell_id": "dbe28089d4e54822ac19c4b7e76705a2",
        "tags": [],
        "deepnote_cell_type": "markdown",
        "deepnote_cell_height": 257.953125,
        "id": "3Y6Beqy5yX0A"
      }
    },
    {
      "cell_type": "markdown",
      "source": [
        "# Questão 1: TAILUFPB"
      ],
      "metadata": {
        "cell_id": "9a709aaa4cc24fe4be94ab373c7a3d06",
        "tags": [],
        "deepnote_cell_type": "markdown",
        "deepnote_cell_height": 70,
        "id": "MGOZWz9eyX0C"
      }
    },
    {
      "cell_type": "markdown",
      "source": [
        "## Descrição:"
      ],
      "metadata": {
        "cell_id": "d63c4e723bcc4c619740f84b16c52370",
        "tags": [],
        "deepnote_cell_type": "markdown",
        "deepnote_cell_height": 70,
        "id": "B-nnxHH7yX0E"
      }
    },
    {
      "cell_type": "markdown",
      "source": [
        "Para lidar com valores textuais, são utilizadas variáveis de tipo String, podendo ser tratados como Listas (outra Estrutura de Dados) em Python. Dessa forma, é possível identificar caracteres de um String a partir de seu índice, o que ajuda bastante em analisar o comportamento de uma certa palavra."
      ],
      "metadata": {
        "formattedRanges": [],
        "is_collapsed": false,
        "cell_id": "002223143e9c433b84f759177820d0c8",
        "tags": [],
        "deepnote_cell_type": "text-cell-p",
        "id": "tXfbrwRCyX0F"
      }
    },
    {
      "cell_type": "markdown",
      "source": [
        "## Tarefa:"
      ],
      "metadata": {
        "formattedRanges": [],
        "is_collapsed": false,
        "cell_id": "95039427-9599-41a6-a68b-1da26e98ff1f",
        "tags": [],
        "deepnote_cell_type": "text-cell-h2",
        "id": "LVBlYQ12yX0I"
      }
    },
    {
      "cell_type": "markdown",
      "source": [
        "Faça um programa que printe todos os números de 1 a 100, mas printe \"TAIL\" no lugar dos números divisíveis por 3, printe \"UFPB\" no lugar dos números divisíveis por 5, e printe \"TAILUFPB\" no lugar dos números divisíveis por 3 e por 5."
      ],
      "metadata": {
        "formattedRanges": [],
        "is_collapsed": false,
        "cell_id": "6bb732c4-b727-4875-97a8-78d1015d9102",
        "tags": [],
        "deepnote_cell_type": "text-cell-p",
        "id": "mQT2JZWEyX0J"
      }
    },
    {
      "cell_type": "markdown",
      "source": [
        "## Exemplo:"
      ],
      "metadata": {
        "formattedRanges": [],
        "is_collapsed": false,
        "cell_id": "a3bc51b1-c975-46e3-9433-ba08eb0eb490",
        "tags": [],
        "deepnote_cell_type": "text-cell-h2",
        "id": "7Kt08aBryX0K"
      }
    },
    {
      "cell_type": "markdown",
      "source": [
        "1\n",
        "\n",
        "2\n",
        "\n",
        "TAIL\n",
        "\n",
        "4\n",
        "\n",
        "UFPB\n",
        "\n",
        "TAIL\n",
        "\n",
        "7\n",
        "\n",
        "...\n",
        "\n",
        "14\n",
        "\n",
        "TAILUFPB\n",
        "\n",
        "16\n",
        "\n",
        "17\n",
        "\n",
        "TAIL\n",
        "\n",
        "..."
      ],
      "metadata": {
        "formattedRanges": [],
        "is_collapsed": false,
        "cell_id": "a4a47e72-439c-478a-bed5-e4e925dd18c3",
        "tags": [],
        "deepnote_cell_type": "text-cell-p",
        "id": "Wkdp-fhAyX0L"
      }
    },
    {
      "cell_type": "markdown",
      "source": [
        "## Código:"
      ],
      "metadata": {
        "formattedRanges": [],
        "is_collapsed": false,
        "cell_id": "5ed103ca8a094fe19110d322f38386ee",
        "tags": [],
        "deepnote_cell_type": "text-cell-h2",
        "id": "DF_EtAmZyX0N"
      }
    },
    {
      "cell_type": "code",
      "metadata": {
        "cell_id": "4792cccdcb0640b9b150d17e921d1288",
        "tags": [],
        "deepnote_cell_type": "code",
        "deepnote_cell_height": 97,
        "id": "4WLu2AvNyX0O"
      },
      "source": [
        "# -*- coding: utf-8 -*-\n",
        "\n",
        "def tailufpb(prompt):\n",
        "  # Seu código aqui"
      ],
      "execution_count": null,
      "outputs": []
    },
    {
      "cell_type": "markdown",
      "source": [
        "# Questão 2: K-ésimo maior elemento"
      ],
      "metadata": {
        "formattedRanges": [],
        "is_collapsed": false,
        "cell_id": "8f5aea9177a54e9d99bd7a51876d11c9",
        "tags": [],
        "deepnote_cell_type": "text-cell-h1",
        "id": "iEgNXJaCyX0W"
      }
    },
    {
      "cell_type": "markdown",
      "source": [
        "## Descrição:"
      ],
      "metadata": {
        "formattedRanges": [],
        "is_collapsed": false,
        "cell_id": "6b30c944-24de-4cbf-8d8e-906153c327c8",
        "tags": [],
        "deepnote_cell_type": "text-cell-h2",
        "id": "rANf-faByX0W"
      }
    },
    {
      "cell_type": "markdown",
      "source": [
        "A utilização de listas em qualquer linguagem de programação requer lógica por parte do desenvolvedor para implementação de suas funcionalidades. Uma informação importante a ser retida é qual o k-ésimo maior número dentro de uma lista, ou seja, descobrir qual número dentro de uma lista está na posição \"k\" em ordem do maior para o menor."
      ],
      "metadata": {
        "formattedRanges": [],
        "is_collapsed": false,
        "cell_id": "384c0b69-7aa2-49c4-8711-218fe1b10a50",
        "tags": [],
        "deepnote_cell_type": "text-cell-p",
        "id": "t7Kes-m-yX0W"
      }
    },
    {
      "cell_type": "markdown",
      "source": [
        "## Tarefa:"
      ],
      "metadata": {
        "formattedRanges": [],
        "is_collapsed": false,
        "cell_id": "0ee62a0a-6d5d-45e7-92d0-452974131cfe",
        "tags": [],
        "deepnote_cell_type": "text-cell-h2",
        "id": "1--FqXh6yX0X"
      }
    },
    {
      "cell_type": "markdown",
      "source": [
        "Implemente um script em Python para descobrir o k-ésimo maior número dentro de uma lista de inteiros. Serão passados dois parâmetros para uma função: uma lista de inteiros e a posição \"k\"."
      ],
      "metadata": {
        "formattedRanges": [],
        "is_collapsed": false,
        "cell_id": "a1bac239-a62a-4e2f-8c46-af030c046dc2",
        "tags": [],
        "deepnote_cell_type": "text-cell-p",
        "id": "lMMTd9AmyX0X"
      }
    },
    {
      "cell_type": "markdown",
      "source": [
        "## Exemplos:"
      ],
      "metadata": {
        "formattedRanges": [],
        "is_collapsed": false,
        "cell_id": "e8e7aa62-aa2c-40ca-b184-a2cfb46a33b2",
        "tags": [],
        "deepnote_cell_type": "text-cell-h2",
        "id": "Zn79zJGbyX0X"
      }
    },
    {
      "cell_type": "markdown",
      "source": [
        "Ex.: Dados os seguintes parâmetros...\n",
        "\n",
        "inteiros = [1,2,3,4,5], k = 1, retorne 5 (5 é o 1º maior número)<br>\n",
        "inteiros = [5,2,1,4,10], k = 3, retorne 4 (4 é o 3º maior número)<br>\n",
        "inteiros = [200,100,20,50,7], k = 4, retorne 20 (20 é o 4º maior número)<br>\n"
      ],
      "metadata": {
        "formattedRanges": [],
        "is_collapsed": false,
        "cell_id": "90b74408-c191-4a90-a5fc-27c654a224b6",
        "tags": [],
        "deepnote_cell_type": "text-cell-p",
        "id": "BUA1Y-aOyX0Y"
      }
    },
    {
      "cell_type": "markdown",
      "source": [
        "## Questão:"
      ],
      "metadata": {
        "id": "OqPvoGRFhyAe"
      }
    },
    {
      "cell_type": "code",
      "metadata": {
        "cell_id": "2f62f9c7dc314d98970e2918c5c3a71a",
        "tags": [],
        "deepnote_cell_type": "code",
        "deepnote_cell_height": 97,
        "id": "uilCtxvYyX0Y"
      },
      "source": [
        "# Seu código aqui"
      ],
      "execution_count": null,
      "outputs": []
    },
    {
      "cell_type": "markdown",
      "metadata": {
        "id": "dNyWJ_5QwanG"
      },
      "source": [
        "# Questão 3: Análise de Dados\n",
        "---\n"
      ]
    },
    {
      "cell_type": "markdown",
      "metadata": {
        "id": "uFSXUN-NwpyO"
      },
      "source": [
        "**Descrição:**\n",
        "\\\n",
        "Nessa seção, você adentrará no âmbito da análise de dados, que se trata do processo de limpeza, inspeção, modelagem e transformação de dados, corroborando para uma melhor interpretação dos dados e tomadas de decisão mais incisivas. Após essa breve introdução, você terá de analisar o dataset [Suicide Rates](https://www.kaggle.com/datasets/russellyates88/suicide-rates-overview-1985-to-2016). O dataset é formado pelos seguintes dados:\n",
        "\n",
        "|                Coluna                | Descrição |\n",
        "|:------------------------------------:|:---------:|\n",
        "|                  Country                 |   País que aconteceu o suicídio       |\n",
        "|                  Year                |    Ano do suicído   |\n",
        "| Sex\t| Sexo da pessoa |\n",
        "| Age\t| Faixa etária da pessoa |\n",
        "| Suicides_no\t| Número de suicídios ocorridos |\n",
        "| Population\t| População do país |\n",
        "| Suicides/100k pop\t| Taxa de suicídios por 100 mil habitantes |\n",
        "| Country-year |\tCombinação de país e ano |\n",
        "| HDI for year | Índice de Desenvolvimento Humano (HDI) para o ano |\n",
        "| gdp_for_year | PIB do país no ano |\n",
        "| gdp_per_capita | PIB per capita do país |\n",
        "| Generation | Geração da pessoa |\n",
        "\n",
        "\n"
      ]
    },
    {
      "cell_type": "markdown",
      "metadata": {
        "id": "3BoZNTBewsa9"
      },
      "source": [
        "### 3.1 - Leitura dos dados e realização de descrição estatística\n",
        "---"
      ]
    },
    {
      "cell_type": "markdown",
      "metadata": {
        "id": "ouj4ObwTwwCk"
      },
      "source": [
        "A seguir, o dataframe já estará montado pelo método `pd.read_csv()` da biblioteca `pandas`, a partir da execução da célula.\n",
        "\n",
        "Dica: Você pode acessar a documentação da biblioteca `pandas` [clicando aqui](https://pandas.pydata.org/docs/getting_started/index.html#getting-started). Após o processamento do dataframe, você terá de realizar uma descrição estatística dos dados."
      ]
    },
    {
      "cell_type": "code",
      "metadata": {
        "id": "FQFeiXRyw6EM",
        "colab": {
          "base_uri": "https://localhost:8080/",
          "height": 423
        },
        "outputId": "9a07e419-b042-49fd-900f-a66947fed8f4"
      },
      "source": [
        "import pandas as pd\n",
        "import matplotlib.pyplot as plt\n",
        "\n",
        "dataset = pd.read_csv('https://raw.githubusercontent.com/carlosfab/data_science/master/datasets/suicide_rates.csv', sep = ',')\n",
        "\n",
        "dataset"
      ],
      "execution_count": null,
      "outputs": [
        {
          "output_type": "execute_result",
          "data": {
            "text/plain": [
              "          country  year     sex          age  suicides_no  population  \\\n",
              "0         Albania  1987    male  15-24 years           21      312900   \n",
              "1         Albania  1987    male  35-54 years           16      308000   \n",
              "2         Albania  1987  female  15-24 years           14      289700   \n",
              "3         Albania  1987    male    75+ years            1       21800   \n",
              "4         Albania  1987    male  25-34 years            9      274300   \n",
              "...           ...   ...     ...          ...          ...         ...   \n",
              "27815  Uzbekistan  2014  female  35-54 years          107     3620833   \n",
              "27816  Uzbekistan  2014  female    75+ years            9      348465   \n",
              "27817  Uzbekistan  2014    male   5-14 years           60     2762158   \n",
              "27818  Uzbekistan  2014  female   5-14 years           44     2631600   \n",
              "27819  Uzbekistan  2014  female  55-74 years           21     1438935   \n",
              "\n",
              "       suicides/100k pop    country-year  HDI for year  gdp_for_year ($)   \\\n",
              "0                   6.71     Albania1987           NaN      2,156,624,900   \n",
              "1                   5.19     Albania1987           NaN      2,156,624,900   \n",
              "2                   4.83     Albania1987           NaN      2,156,624,900   \n",
              "3                   4.59     Albania1987           NaN      2,156,624,900   \n",
              "4                   3.28     Albania1987           NaN      2,156,624,900   \n",
              "...                  ...             ...           ...                ...   \n",
              "27815               2.96  Uzbekistan2014         0.675     63,067,077,179   \n",
              "27816               2.58  Uzbekistan2014         0.675     63,067,077,179   \n",
              "27817               2.17  Uzbekistan2014         0.675     63,067,077,179   \n",
              "27818               1.67  Uzbekistan2014         0.675     63,067,077,179   \n",
              "27819               1.46  Uzbekistan2014         0.675     63,067,077,179   \n",
              "\n",
              "       gdp_per_capita ($)       generation  \n",
              "0                     796     Generation X  \n",
              "1                     796           Silent  \n",
              "2                     796     Generation X  \n",
              "3                     796  G.I. Generation  \n",
              "4                     796          Boomers  \n",
              "...                   ...              ...  \n",
              "27815                2309     Generation X  \n",
              "27816                2309           Silent  \n",
              "27817                2309     Generation Z  \n",
              "27818                2309     Generation Z  \n",
              "27819                2309          Boomers  \n",
              "\n",
              "[27820 rows x 12 columns]"
            ],
            "text/html": [
              "\n",
              "\n",
              "  <div id=\"df-ebb8661f-1e71-42d7-b4cf-5391c5eba117\">\n",
              "    <div class=\"colab-df-container\">\n",
              "      <div>\n",
              "<style scoped>\n",
              "    .dataframe tbody tr th:only-of-type {\n",
              "        vertical-align: middle;\n",
              "    }\n",
              "\n",
              "    .dataframe tbody tr th {\n",
              "        vertical-align: top;\n",
              "    }\n",
              "\n",
              "    .dataframe thead th {\n",
              "        text-align: right;\n",
              "    }\n",
              "</style>\n",
              "<table border=\"1\" class=\"dataframe\">\n",
              "  <thead>\n",
              "    <tr style=\"text-align: right;\">\n",
              "      <th></th>\n",
              "      <th>country</th>\n",
              "      <th>year</th>\n",
              "      <th>sex</th>\n",
              "      <th>age</th>\n",
              "      <th>suicides_no</th>\n",
              "      <th>population</th>\n",
              "      <th>suicides/100k pop</th>\n",
              "      <th>country-year</th>\n",
              "      <th>HDI for year</th>\n",
              "      <th>gdp_for_year ($)</th>\n",
              "      <th>gdp_per_capita ($)</th>\n",
              "      <th>generation</th>\n",
              "    </tr>\n",
              "  </thead>\n",
              "  <tbody>\n",
              "    <tr>\n",
              "      <th>0</th>\n",
              "      <td>Albania</td>\n",
              "      <td>1987</td>\n",
              "      <td>male</td>\n",
              "      <td>15-24 years</td>\n",
              "      <td>21</td>\n",
              "      <td>312900</td>\n",
              "      <td>6.71</td>\n",
              "      <td>Albania1987</td>\n",
              "      <td>NaN</td>\n",
              "      <td>2,156,624,900</td>\n",
              "      <td>796</td>\n",
              "      <td>Generation X</td>\n",
              "    </tr>\n",
              "    <tr>\n",
              "      <th>1</th>\n",
              "      <td>Albania</td>\n",
              "      <td>1987</td>\n",
              "      <td>male</td>\n",
              "      <td>35-54 years</td>\n",
              "      <td>16</td>\n",
              "      <td>308000</td>\n",
              "      <td>5.19</td>\n",
              "      <td>Albania1987</td>\n",
              "      <td>NaN</td>\n",
              "      <td>2,156,624,900</td>\n",
              "      <td>796</td>\n",
              "      <td>Silent</td>\n",
              "    </tr>\n",
              "    <tr>\n",
              "      <th>2</th>\n",
              "      <td>Albania</td>\n",
              "      <td>1987</td>\n",
              "      <td>female</td>\n",
              "      <td>15-24 years</td>\n",
              "      <td>14</td>\n",
              "      <td>289700</td>\n",
              "      <td>4.83</td>\n",
              "      <td>Albania1987</td>\n",
              "      <td>NaN</td>\n",
              "      <td>2,156,624,900</td>\n",
              "      <td>796</td>\n",
              "      <td>Generation X</td>\n",
              "    </tr>\n",
              "    <tr>\n",
              "      <th>3</th>\n",
              "      <td>Albania</td>\n",
              "      <td>1987</td>\n",
              "      <td>male</td>\n",
              "      <td>75+ years</td>\n",
              "      <td>1</td>\n",
              "      <td>21800</td>\n",
              "      <td>4.59</td>\n",
              "      <td>Albania1987</td>\n",
              "      <td>NaN</td>\n",
              "      <td>2,156,624,900</td>\n",
              "      <td>796</td>\n",
              "      <td>G.I. Generation</td>\n",
              "    </tr>\n",
              "    <tr>\n",
              "      <th>4</th>\n",
              "      <td>Albania</td>\n",
              "      <td>1987</td>\n",
              "      <td>male</td>\n",
              "      <td>25-34 years</td>\n",
              "      <td>9</td>\n",
              "      <td>274300</td>\n",
              "      <td>3.28</td>\n",
              "      <td>Albania1987</td>\n",
              "      <td>NaN</td>\n",
              "      <td>2,156,624,900</td>\n",
              "      <td>796</td>\n",
              "      <td>Boomers</td>\n",
              "    </tr>\n",
              "    <tr>\n",
              "      <th>...</th>\n",
              "      <td>...</td>\n",
              "      <td>...</td>\n",
              "      <td>...</td>\n",
              "      <td>...</td>\n",
              "      <td>...</td>\n",
              "      <td>...</td>\n",
              "      <td>...</td>\n",
              "      <td>...</td>\n",
              "      <td>...</td>\n",
              "      <td>...</td>\n",
              "      <td>...</td>\n",
              "      <td>...</td>\n",
              "    </tr>\n",
              "    <tr>\n",
              "      <th>27815</th>\n",
              "      <td>Uzbekistan</td>\n",
              "      <td>2014</td>\n",
              "      <td>female</td>\n",
              "      <td>35-54 years</td>\n",
              "      <td>107</td>\n",
              "      <td>3620833</td>\n",
              "      <td>2.96</td>\n",
              "      <td>Uzbekistan2014</td>\n",
              "      <td>0.675</td>\n",
              "      <td>63,067,077,179</td>\n",
              "      <td>2309</td>\n",
              "      <td>Generation X</td>\n",
              "    </tr>\n",
              "    <tr>\n",
              "      <th>27816</th>\n",
              "      <td>Uzbekistan</td>\n",
              "      <td>2014</td>\n",
              "      <td>female</td>\n",
              "      <td>75+ years</td>\n",
              "      <td>9</td>\n",
              "      <td>348465</td>\n",
              "      <td>2.58</td>\n",
              "      <td>Uzbekistan2014</td>\n",
              "      <td>0.675</td>\n",
              "      <td>63,067,077,179</td>\n",
              "      <td>2309</td>\n",
              "      <td>Silent</td>\n",
              "    </tr>\n",
              "    <tr>\n",
              "      <th>27817</th>\n",
              "      <td>Uzbekistan</td>\n",
              "      <td>2014</td>\n",
              "      <td>male</td>\n",
              "      <td>5-14 years</td>\n",
              "      <td>60</td>\n",
              "      <td>2762158</td>\n",
              "      <td>2.17</td>\n",
              "      <td>Uzbekistan2014</td>\n",
              "      <td>0.675</td>\n",
              "      <td>63,067,077,179</td>\n",
              "      <td>2309</td>\n",
              "      <td>Generation Z</td>\n",
              "    </tr>\n",
              "    <tr>\n",
              "      <th>27818</th>\n",
              "      <td>Uzbekistan</td>\n",
              "      <td>2014</td>\n",
              "      <td>female</td>\n",
              "      <td>5-14 years</td>\n",
              "      <td>44</td>\n",
              "      <td>2631600</td>\n",
              "      <td>1.67</td>\n",
              "      <td>Uzbekistan2014</td>\n",
              "      <td>0.675</td>\n",
              "      <td>63,067,077,179</td>\n",
              "      <td>2309</td>\n",
              "      <td>Generation Z</td>\n",
              "    </tr>\n",
              "    <tr>\n",
              "      <th>27819</th>\n",
              "      <td>Uzbekistan</td>\n",
              "      <td>2014</td>\n",
              "      <td>female</td>\n",
              "      <td>55-74 years</td>\n",
              "      <td>21</td>\n",
              "      <td>1438935</td>\n",
              "      <td>1.46</td>\n",
              "      <td>Uzbekistan2014</td>\n",
              "      <td>0.675</td>\n",
              "      <td>63,067,077,179</td>\n",
              "      <td>2309</td>\n",
              "      <td>Boomers</td>\n",
              "    </tr>\n",
              "  </tbody>\n",
              "</table>\n",
              "<p>27820 rows × 12 columns</p>\n",
              "</div>\n",
              "      <button class=\"colab-df-convert\" onclick=\"convertToInteractive('df-ebb8661f-1e71-42d7-b4cf-5391c5eba117')\"\n",
              "              title=\"Convert this dataframe to an interactive table.\"\n",
              "              style=\"display:none;\">\n",
              "\n",
              "  <svg xmlns=\"http://www.w3.org/2000/svg\" height=\"24px\"viewBox=\"0 0 24 24\"\n",
              "       width=\"24px\">\n",
              "    <path d=\"M0 0h24v24H0V0z\" fill=\"none\"/>\n",
              "    <path d=\"M18.56 5.44l.94 2.06.94-2.06 2.06-.94-2.06-.94-.94-2.06-.94 2.06-2.06.94zm-11 1L8.5 8.5l.94-2.06 2.06-.94-2.06-.94L8.5 2.5l-.94 2.06-2.06.94zm10 10l.94 2.06.94-2.06 2.06-.94-2.06-.94-.94-2.06-.94 2.06-2.06.94z\"/><path d=\"M17.41 7.96l-1.37-1.37c-.4-.4-.92-.59-1.43-.59-.52 0-1.04.2-1.43.59L10.3 9.45l-7.72 7.72c-.78.78-.78 2.05 0 2.83L4 21.41c.39.39.9.59 1.41.59.51 0 1.02-.2 1.41-.59l7.78-7.78 2.81-2.81c.8-.78.8-2.07 0-2.86zM5.41 20L4 18.59l7.72-7.72 1.47 1.35L5.41 20z\"/>\n",
              "  </svg>\n",
              "      </button>\n",
              "\n",
              "\n",
              "\n",
              "    <div id=\"df-5cc63303-85c2-4f26-85aa-afa346b4667c\">\n",
              "      <button class=\"colab-df-quickchart\" onclick=\"quickchart('df-5cc63303-85c2-4f26-85aa-afa346b4667c')\"\n",
              "              title=\"Suggest charts.\"\n",
              "              style=\"display:none;\">\n",
              "\n",
              "<svg xmlns=\"http://www.w3.org/2000/svg\" height=\"24px\"viewBox=\"0 0 24 24\"\n",
              "     width=\"24px\">\n",
              "    <g>\n",
              "        <path d=\"M19 3H5c-1.1 0-2 .9-2 2v14c0 1.1.9 2 2 2h14c1.1 0 2-.9 2-2V5c0-1.1-.9-2-2-2zM9 17H7v-7h2v7zm4 0h-2V7h2v10zm4 0h-2v-4h2v4z\"/>\n",
              "    </g>\n",
              "</svg>\n",
              "      </button>\n",
              "    </div>\n",
              "\n",
              "<style>\n",
              "  .colab-df-quickchart {\n",
              "    background-color: #E8F0FE;\n",
              "    border: none;\n",
              "    border-radius: 50%;\n",
              "    cursor: pointer;\n",
              "    display: none;\n",
              "    fill: #1967D2;\n",
              "    height: 32px;\n",
              "    padding: 0 0 0 0;\n",
              "    width: 32px;\n",
              "  }\n",
              "\n",
              "  .colab-df-quickchart:hover {\n",
              "    background-color: #E2EBFA;\n",
              "    box-shadow: 0px 1px 2px rgba(60, 64, 67, 0.3), 0px 1px 3px 1px rgba(60, 64, 67, 0.15);\n",
              "    fill: #174EA6;\n",
              "  }\n",
              "\n",
              "  [theme=dark] .colab-df-quickchart {\n",
              "    background-color: #3B4455;\n",
              "    fill: #D2E3FC;\n",
              "  }\n",
              "\n",
              "  [theme=dark] .colab-df-quickchart:hover {\n",
              "    background-color: #434B5C;\n",
              "    box-shadow: 0px 1px 3px 1px rgba(0, 0, 0, 0.15);\n",
              "    filter: drop-shadow(0px 1px 2px rgba(0, 0, 0, 0.3));\n",
              "    fill: #FFFFFF;\n",
              "  }\n",
              "</style>\n",
              "\n",
              "    <script>\n",
              "      async function quickchart(key) {\n",
              "        const containerElement = document.querySelector('#' + key);\n",
              "        const charts = await google.colab.kernel.invokeFunction(\n",
              "            'suggestCharts', [key], {});\n",
              "      }\n",
              "    </script>\n",
              "\n",
              "      <script>\n",
              "\n",
              "function displayQuickchartButton(domScope) {\n",
              "  let quickchartButtonEl =\n",
              "    domScope.querySelector('#df-5cc63303-85c2-4f26-85aa-afa346b4667c button.colab-df-quickchart');\n",
              "  quickchartButtonEl.style.display =\n",
              "    google.colab.kernel.accessAllowed ? 'block' : 'none';\n",
              "}\n",
              "\n",
              "        displayQuickchartButton(document);\n",
              "      </script>\n",
              "      <style>\n",
              "    .colab-df-container {\n",
              "      display:flex;\n",
              "      flex-wrap:wrap;\n",
              "      gap: 12px;\n",
              "    }\n",
              "\n",
              "    .colab-df-convert {\n",
              "      background-color: #E8F0FE;\n",
              "      border: none;\n",
              "      border-radius: 50%;\n",
              "      cursor: pointer;\n",
              "      display: none;\n",
              "      fill: #1967D2;\n",
              "      height: 32px;\n",
              "      padding: 0 0 0 0;\n",
              "      width: 32px;\n",
              "    }\n",
              "\n",
              "    .colab-df-convert:hover {\n",
              "      background-color: #E2EBFA;\n",
              "      box-shadow: 0px 1px 2px rgba(60, 64, 67, 0.3), 0px 1px 3px 1px rgba(60, 64, 67, 0.15);\n",
              "      fill: #174EA6;\n",
              "    }\n",
              "\n",
              "    [theme=dark] .colab-df-convert {\n",
              "      background-color: #3B4455;\n",
              "      fill: #D2E3FC;\n",
              "    }\n",
              "\n",
              "    [theme=dark] .colab-df-convert:hover {\n",
              "      background-color: #434B5C;\n",
              "      box-shadow: 0px 1px 3px 1px rgba(0, 0, 0, 0.15);\n",
              "      filter: drop-shadow(0px 1px 2px rgba(0, 0, 0, 0.3));\n",
              "      fill: #FFFFFF;\n",
              "    }\n",
              "  </style>\n",
              "\n",
              "      <script>\n",
              "        const buttonEl =\n",
              "          document.querySelector('#df-ebb8661f-1e71-42d7-b4cf-5391c5eba117 button.colab-df-convert');\n",
              "        buttonEl.style.display =\n",
              "          google.colab.kernel.accessAllowed ? 'block' : 'none';\n",
              "\n",
              "        async function convertToInteractive(key) {\n",
              "          const element = document.querySelector('#df-ebb8661f-1e71-42d7-b4cf-5391c5eba117');\n",
              "          const dataTable =\n",
              "            await google.colab.kernel.invokeFunction('convertToInteractive',\n",
              "                                                     [key], {});\n",
              "          if (!dataTable) return;\n",
              "\n",
              "          const docLinkHtml = 'Like what you see? Visit the ' +\n",
              "            '<a target=\"_blank\" href=https://colab.research.google.com/notebooks/data_table.ipynb>data table notebook</a>'\n",
              "            + ' to learn more about interactive tables.';\n",
              "          element.innerHTML = '';\n",
              "          dataTable['output_type'] = 'display_data';\n",
              "          await google.colab.output.renderOutput(dataTable, element);\n",
              "          const docLink = document.createElement('div');\n",
              "          docLink.innerHTML = docLinkHtml;\n",
              "          element.appendChild(docLink);\n",
              "        }\n",
              "      </script>\n",
              "    </div>\n",
              "  </div>\n"
            ]
          },
          "metadata": {},
          "execution_count": 3
        }
      ]
    },
    {
      "cell_type": "markdown",
      "metadata": {
        "id": "S73V7vftw7f2"
      },
      "source": [
        "### 3.2 - Limpeza dos dados\n",
        "---\n",
        "\n"
      ]
    },
    {
      "cell_type": "markdown",
      "metadata": {
        "id": "BH5JE3I8w8cf"
      },
      "source": [
        "Após verificar o dataset acima e a relação das descrições com os valores existentes, realize o processo de limpeza dos dados, verificando possíveis inconsistências entre as instâncias (linhas que compõem o dataset). Mais uma vez, a leitura da documentação do `pandas` é uma excelente iniciativa."
      ]
    },
    {
      "cell_type": "markdown",
      "metadata": {
        "id": "UObVt-P3xCuE"
      },
      "source": [
        "_Sua resposta aqui_"
      ]
    },
    {
      "cell_type": "code",
      "metadata": {
        "id": "qJIEQs-hw8vg"
      },
      "source": [
        "# Seu código aqui"
      ],
      "execution_count": null,
      "outputs": []
    },
    {
      "cell_type": "markdown",
      "metadata": {
        "id": "-rBTE8CKxIVi"
      },
      "source": [
        "### 3.3 - Feature Engineering e Dados Categóricos\n",
        "---"
      ]
    },
    {
      "cell_type": "markdown",
      "metadata": {
        "id": "Bs9WEVCFxKXg"
      },
      "source": [
        "3.3.1 - Em um problema de _Data Science_, é comum nos depararmos com um dataset cujos atributos não esclareçam com efetividade o comportamento de um dado fenômeno. Desta forma, cientistas de dados devem estar aptos a manipular atributos existentes e assim definir novos atributos, de acordo com os critérios estabelecidos. Este processo é descrito como _Feature Engineering_, e trata apenas da manipulação algébrica e/ou lógica de atributos (colunas, no contexto prático) com o intuito de alimentar o seu modelo de Machine Learning com dados relevantes à resolução do problema.\n",
        "Nesta etapa, você deverá utilizar sua intuição aliando criatividade para decidir como novos atributos podem ser definidos, a partir dos dados que você já possui."
      ]
    },
    {
      "cell_type": "markdown",
      "metadata": {
        "id": "eq0ZXjFYxNru"
      },
      "source": [
        "Dica: Utilize as colunas existentes para gerar uma ou mais colunas com atributos distintos dos primeiros."
      ]
    },
    {
      "cell_type": "markdown",
      "metadata": {
        "id": "qHrCjvlnxQTT"
      },
      "source": [
        "_Sua resposta aqui_"
      ]
    },
    {
      "cell_type": "code",
      "metadata": {
        "id": "pRpYb5AAxIxL"
      },
      "source": [
        "# Seu código aqui"
      ],
      "execution_count": null,
      "outputs": []
    },
    {
      "cell_type": "markdown",
      "metadata": {
        "id": "tN-FgZnmxZLL"
      },
      "source": [
        "3.3.2 - Em poucos termos, algoritmos de Machine Learning só funcionam com valores numéricos. Isto significa que antes de treinar qualquer modelo, deve-se transformar os dados categóricos em dados numéricos. Encontre uma forma de *codificar* as colunas de dados categóricos, de forma que seu modelo consiga interpretar todos os atributos não-numéricos como numéricos."
      ]
    },
    {
      "cell_type": "markdown",
      "metadata": {
        "id": "LTqEASnAxclG"
      },
      "source": [
        "_Sua resposta aqui_\n",
        "\n",
        "\n"
      ]
    },
    {
      "cell_type": "code",
      "metadata": {
        "id": "FddaebPaxZ3c"
      },
      "source": [
        "# Seu código aqui"
      ],
      "execution_count": null,
      "outputs": []
    },
    {
      "cell_type": "markdown",
      "metadata": {
        "id": "3DfxDLRLxbq6"
      },
      "source": [
        "### 3.4 - Análise Exploratória dos Dados\n",
        "---"
      ]
    },
    {
      "cell_type": "markdown",
      "metadata": {
        "id": "jPJ8NHDSxiKR"
      },
      "source": [
        "Antes de qualquer análise mais aprofundada sobre um conjunto de dados, é necessário ter uma noção de como estes dados estão distribuídos, que valores são mais comuns entre os dados, o quão dispersos estão e se existem valores que se distinguem do dataset, de uma maneira geral. Todas estas informações são classificadas como estatísticas, e em ciência de dados é preciso ter ideias claras sobre a forma do conjunto de dados em questão, utilizando-se majoritariamente da visão como forma de comunicar e representar as estatísticas elementares destes dados. Realize uma análise exploratória sobre os dados deste problema, apresentando as medidas de localização, dispersão e os valores que não se repetem em cada coluna, utilizando a biblioteca `matplotlib.pyplot` para criar gráficos que representem estas medidas. Utilize boxplots para visualizar dados muito discrepantes entre as amostras do dataset."
      ]
    },
    {
      "cell_type": "markdown",
      "metadata": {
        "id": "KYT6OjT3xli7"
      },
      "source": [
        "_Sua resposta aqui_\n"
      ]
    },
    {
      "cell_type": "code",
      "metadata": {
        "id": "jNNxLXyexe4O"
      },
      "source": [
        "# Seu código aqui"
      ],
      "execution_count": null,
      "outputs": []
    },
    {
      "cell_type": "markdown",
      "metadata": {
        "id": "mmbCrdPOxg6l"
      },
      "source": [
        "# Questão 4: Processamento de Linguagem Natural\n",
        "---"
      ]
    },
    {
      "cell_type": "markdown",
      "metadata": {
        "id": "pKmVbU4xyT4p"
      },
      "source": [
        "**Descrição:**\n",
        "\\\n",
        "Nessa seção você irá explorar a área da NLP, quem têm como objetivo obter informações de textos, e além disso, tratá-los afim de entender e imitar a conversa humana, criando novos textos a partir de uma base, por exemplo.\n"
      ]
    },
    {
      "cell_type": "code",
      "source": [
        "import pandas as pd\n",
        "import numpy as np"
      ],
      "metadata": {
        "id": "L-DDwo-HopET"
      },
      "execution_count": null,
      "outputs": []
    },
    {
      "cell_type": "code",
      "source": [
        "url = 'https://raw.githubusercontent.com/TailUFPB/processo2fase/master/2023.2/Datasets/Restaurant_Reviews.tsv'\n",
        "df = pd.read_csv(url, sep='\\t')"
      ],
      "metadata": {
        "id": "WrIZODabolsv"
      },
      "execution_count": null,
      "outputs": []
    },
    {
      "cell_type": "code",
      "source": [
        "df"
      ],
      "metadata": {
        "colab": {
          "base_uri": "https://localhost:8080/",
          "height": 423
        },
        "id": "FkW7VTinva6Z",
        "outputId": "1737f079-1007-4ec2-f539-4ec2ae0381f8"
      },
      "execution_count": null,
      "outputs": [
        {
          "output_type": "execute_result",
          "data": {
            "text/plain": [
              "                                                Review  Liked\n",
              "0                             Wow... Loved this place.      1\n",
              "1                                   Crust is not good.      0\n",
              "2            Not tasty and the texture was just nasty.      0\n",
              "3    Stopped by during the late May bank holiday of...      1\n",
              "4    The selection on the menu was great and so wer...      1\n",
              "..                                                 ...    ...\n",
              "995  I think food should have flavor and texture an...      0\n",
              "996                           Appetite instantly gone.      0\n",
              "997  Overall I was not impressed and would not go b...      0\n",
              "998  The whole experience was underwhelming, and I ...      0\n",
              "999  Then, as if I hadn't wasted enough of my life ...      0\n",
              "\n",
              "[1000 rows x 2 columns]"
            ],
            "text/html": [
              "\n",
              "\n",
              "  <div id=\"df-ab0f7105-5bcb-4f77-94de-47e92479a99e\">\n",
              "    <div class=\"colab-df-container\">\n",
              "      <div>\n",
              "<style scoped>\n",
              "    .dataframe tbody tr th:only-of-type {\n",
              "        vertical-align: middle;\n",
              "    }\n",
              "\n",
              "    .dataframe tbody tr th {\n",
              "        vertical-align: top;\n",
              "    }\n",
              "\n",
              "    .dataframe thead th {\n",
              "        text-align: right;\n",
              "    }\n",
              "</style>\n",
              "<table border=\"1\" class=\"dataframe\">\n",
              "  <thead>\n",
              "    <tr style=\"text-align: right;\">\n",
              "      <th></th>\n",
              "      <th>Review</th>\n",
              "      <th>Liked</th>\n",
              "    </tr>\n",
              "  </thead>\n",
              "  <tbody>\n",
              "    <tr>\n",
              "      <th>0</th>\n",
              "      <td>Wow... Loved this place.</td>\n",
              "      <td>1</td>\n",
              "    </tr>\n",
              "    <tr>\n",
              "      <th>1</th>\n",
              "      <td>Crust is not good.</td>\n",
              "      <td>0</td>\n",
              "    </tr>\n",
              "    <tr>\n",
              "      <th>2</th>\n",
              "      <td>Not tasty and the texture was just nasty.</td>\n",
              "      <td>0</td>\n",
              "    </tr>\n",
              "    <tr>\n",
              "      <th>3</th>\n",
              "      <td>Stopped by during the late May bank holiday of...</td>\n",
              "      <td>1</td>\n",
              "    </tr>\n",
              "    <tr>\n",
              "      <th>4</th>\n",
              "      <td>The selection on the menu was great and so wer...</td>\n",
              "      <td>1</td>\n",
              "    </tr>\n",
              "    <tr>\n",
              "      <th>...</th>\n",
              "      <td>...</td>\n",
              "      <td>...</td>\n",
              "    </tr>\n",
              "    <tr>\n",
              "      <th>995</th>\n",
              "      <td>I think food should have flavor and texture an...</td>\n",
              "      <td>0</td>\n",
              "    </tr>\n",
              "    <tr>\n",
              "      <th>996</th>\n",
              "      <td>Appetite instantly gone.</td>\n",
              "      <td>0</td>\n",
              "    </tr>\n",
              "    <tr>\n",
              "      <th>997</th>\n",
              "      <td>Overall I was not impressed and would not go b...</td>\n",
              "      <td>0</td>\n",
              "    </tr>\n",
              "    <tr>\n",
              "      <th>998</th>\n",
              "      <td>The whole experience was underwhelming, and I ...</td>\n",
              "      <td>0</td>\n",
              "    </tr>\n",
              "    <tr>\n",
              "      <th>999</th>\n",
              "      <td>Then, as if I hadn't wasted enough of my life ...</td>\n",
              "      <td>0</td>\n",
              "    </tr>\n",
              "  </tbody>\n",
              "</table>\n",
              "<p>1000 rows × 2 columns</p>\n",
              "</div>\n",
              "      <button class=\"colab-df-convert\" onclick=\"convertToInteractive('df-ab0f7105-5bcb-4f77-94de-47e92479a99e')\"\n",
              "              title=\"Convert this dataframe to an interactive table.\"\n",
              "              style=\"display:none;\">\n",
              "\n",
              "  <svg xmlns=\"http://www.w3.org/2000/svg\" height=\"24px\"viewBox=\"0 0 24 24\"\n",
              "       width=\"24px\">\n",
              "    <path d=\"M0 0h24v24H0V0z\" fill=\"none\"/>\n",
              "    <path d=\"M18.56 5.44l.94 2.06.94-2.06 2.06-.94-2.06-.94-.94-2.06-.94 2.06-2.06.94zm-11 1L8.5 8.5l.94-2.06 2.06-.94-2.06-.94L8.5 2.5l-.94 2.06-2.06.94zm10 10l.94 2.06.94-2.06 2.06-.94-2.06-.94-.94-2.06-.94 2.06-2.06.94z\"/><path d=\"M17.41 7.96l-1.37-1.37c-.4-.4-.92-.59-1.43-.59-.52 0-1.04.2-1.43.59L10.3 9.45l-7.72 7.72c-.78.78-.78 2.05 0 2.83L4 21.41c.39.39.9.59 1.41.59.51 0 1.02-.2 1.41-.59l7.78-7.78 2.81-2.81c.8-.78.8-2.07 0-2.86zM5.41 20L4 18.59l7.72-7.72 1.47 1.35L5.41 20z\"/>\n",
              "  </svg>\n",
              "      </button>\n",
              "\n",
              "\n",
              "\n",
              "    <div id=\"df-60f770e3-3dd2-434d-8464-4903475bea51\">\n",
              "      <button class=\"colab-df-quickchart\" onclick=\"quickchart('df-60f770e3-3dd2-434d-8464-4903475bea51')\"\n",
              "              title=\"Suggest charts.\"\n",
              "              style=\"display:none;\">\n",
              "\n",
              "<svg xmlns=\"http://www.w3.org/2000/svg\" height=\"24px\"viewBox=\"0 0 24 24\"\n",
              "     width=\"24px\">\n",
              "    <g>\n",
              "        <path d=\"M19 3H5c-1.1 0-2 .9-2 2v14c0 1.1.9 2 2 2h14c1.1 0 2-.9 2-2V5c0-1.1-.9-2-2-2zM9 17H7v-7h2v7zm4 0h-2V7h2v10zm4 0h-2v-4h2v4z\"/>\n",
              "    </g>\n",
              "</svg>\n",
              "      </button>\n",
              "    </div>\n",
              "\n",
              "<style>\n",
              "  .colab-df-quickchart {\n",
              "    background-color: #E8F0FE;\n",
              "    border: none;\n",
              "    border-radius: 50%;\n",
              "    cursor: pointer;\n",
              "    display: none;\n",
              "    fill: #1967D2;\n",
              "    height: 32px;\n",
              "    padding: 0 0 0 0;\n",
              "    width: 32px;\n",
              "  }\n",
              "\n",
              "  .colab-df-quickchart:hover {\n",
              "    background-color: #E2EBFA;\n",
              "    box-shadow: 0px 1px 2px rgba(60, 64, 67, 0.3), 0px 1px 3px 1px rgba(60, 64, 67, 0.15);\n",
              "    fill: #174EA6;\n",
              "  }\n",
              "\n",
              "  [theme=dark] .colab-df-quickchart {\n",
              "    background-color: #3B4455;\n",
              "    fill: #D2E3FC;\n",
              "  }\n",
              "\n",
              "  [theme=dark] .colab-df-quickchart:hover {\n",
              "    background-color: #434B5C;\n",
              "    box-shadow: 0px 1px 3px 1px rgba(0, 0, 0, 0.15);\n",
              "    filter: drop-shadow(0px 1px 2px rgba(0, 0, 0, 0.3));\n",
              "    fill: #FFFFFF;\n",
              "  }\n",
              "</style>\n",
              "\n",
              "    <script>\n",
              "      async function quickchart(key) {\n",
              "        const containerElement = document.querySelector('#' + key);\n",
              "        const charts = await google.colab.kernel.invokeFunction(\n",
              "            'suggestCharts', [key], {});\n",
              "      }\n",
              "    </script>\n",
              "\n",
              "      <script>\n",
              "\n",
              "function displayQuickchartButton(domScope) {\n",
              "  let quickchartButtonEl =\n",
              "    domScope.querySelector('#df-60f770e3-3dd2-434d-8464-4903475bea51 button.colab-df-quickchart');\n",
              "  quickchartButtonEl.style.display =\n",
              "    google.colab.kernel.accessAllowed ? 'block' : 'none';\n",
              "}\n",
              "\n",
              "        displayQuickchartButton(document);\n",
              "      </script>\n",
              "      <style>\n",
              "    .colab-df-container {\n",
              "      display:flex;\n",
              "      flex-wrap:wrap;\n",
              "      gap: 12px;\n",
              "    }\n",
              "\n",
              "    .colab-df-convert {\n",
              "      background-color: #E8F0FE;\n",
              "      border: none;\n",
              "      border-radius: 50%;\n",
              "      cursor: pointer;\n",
              "      display: none;\n",
              "      fill: #1967D2;\n",
              "      height: 32px;\n",
              "      padding: 0 0 0 0;\n",
              "      width: 32px;\n",
              "    }\n",
              "\n",
              "    .colab-df-convert:hover {\n",
              "      background-color: #E2EBFA;\n",
              "      box-shadow: 0px 1px 2px rgba(60, 64, 67, 0.3), 0px 1px 3px 1px rgba(60, 64, 67, 0.15);\n",
              "      fill: #174EA6;\n",
              "    }\n",
              "\n",
              "    [theme=dark] .colab-df-convert {\n",
              "      background-color: #3B4455;\n",
              "      fill: #D2E3FC;\n",
              "    }\n",
              "\n",
              "    [theme=dark] .colab-df-convert:hover {\n",
              "      background-color: #434B5C;\n",
              "      box-shadow: 0px 1px 3px 1px rgba(0, 0, 0, 0.15);\n",
              "      filter: drop-shadow(0px 1px 2px rgba(0, 0, 0, 0.3));\n",
              "      fill: #FFFFFF;\n",
              "    }\n",
              "  </style>\n",
              "\n",
              "      <script>\n",
              "        const buttonEl =\n",
              "          document.querySelector('#df-ab0f7105-5bcb-4f77-94de-47e92479a99e button.colab-df-convert');\n",
              "        buttonEl.style.display =\n",
              "          google.colab.kernel.accessAllowed ? 'block' : 'none';\n",
              "\n",
              "        async function convertToInteractive(key) {\n",
              "          const element = document.querySelector('#df-ab0f7105-5bcb-4f77-94de-47e92479a99e');\n",
              "          const dataTable =\n",
              "            await google.colab.kernel.invokeFunction('convertToInteractive',\n",
              "                                                     [key], {});\n",
              "          if (!dataTable) return;\n",
              "\n",
              "          const docLinkHtml = 'Like what you see? Visit the ' +\n",
              "            '<a target=\"_blank\" href=https://colab.research.google.com/notebooks/data_table.ipynb>data table notebook</a>'\n",
              "            + ' to learn more about interactive tables.';\n",
              "          element.innerHTML = '';\n",
              "          dataTable['output_type'] = 'display_data';\n",
              "          await google.colab.output.renderOutput(dataTable, element);\n",
              "          const docLink = document.createElement('div');\n",
              "          docLink.innerHTML = docLinkHtml;\n",
              "          element.appendChild(docLink);\n",
              "        }\n",
              "      </script>\n",
              "    </div>\n",
              "  </div>\n"
            ]
          },
          "metadata": {},
          "execution_count": 14
        }
      ]
    },
    {
      "cell_type": "code",
      "metadata": {
        "id": "umn4h4L_ydoR"
      },
      "source": [
        "# Seu código aqui"
      ],
      "execution_count": null,
      "outputs": []
    },
    {
      "cell_type": "markdown",
      "metadata": {
        "id": "md7n-MEqzcs-"
      },
      "source": [
        "### 4.1 - Faça a Análise Exploratória do dataset criado, encontre:\n",
        "---"
      ]
    },
    {
      "cell_type": "markdown",
      "metadata": {
        "id": "2Pb6ljmA0lJu"
      },
      "source": [
        "4.1.1 - Distribuição das classes (Labels = 0 ou 1)"
      ]
    },
    {
      "cell_type": "markdown",
      "metadata": {
        "id": "yLv0Kr-Y0yub"
      },
      "source": [
        "_Sua resposta aqui_ (Plote gráficos para ajudar a mostrar seu raciocínio e os resultados achados)\n",
        "\n",
        "Exemplo: Diga se os dados estão balanceados e como você observou isso + outras observações rápidas dos dados que você está trabalhando.\n"
      ]
    },
    {
      "cell_type": "code",
      "metadata": {
        "id": "WFp0IdlzzV4C"
      },
      "source": [
        "# Seu código aqui"
      ],
      "execution_count": null,
      "outputs": []
    },
    {
      "cell_type": "markdown",
      "metadata": {
        "id": "hpD9_JWf0428"
      },
      "source": [
        "4.1.2 - Palavras mais frequentes de cada classe (Faça uma contagem de palavras em cada classe e mostre as mais frequente em cada uma)"
      ]
    },
    {
      "cell_type": "markdown",
      "metadata": {
        "id": "OsWvO39c04os"
      },
      "source": [
        "_Sua resposta aqui_\n"
      ]
    },
    {
      "cell_type": "code",
      "metadata": {
        "id": "_btUa4nt1Aj-"
      },
      "source": [
        "# Seu código aqui"
      ],
      "execution_count": null,
      "outputs": []
    },
    {
      "cell_type": "markdown",
      "metadata": {
        "id": "t7uSRb8k12jl"
      },
      "source": [
        "### 4.2 - Faça a Limpeza de dados, apresente a sua forma escolhida para:\n",
        "---"
      ]
    },
    {
      "cell_type": "markdown",
      "metadata": {
        "id": "TpBrSF0l1_iU"
      },
      "source": [
        "4.2.1 - Remover pontuação e caracteres especiais, normalizar letras maiúsculas"
      ]
    },
    {
      "cell_type": "markdown",
      "metadata": {
        "id": "azXGoBJ01_Sb"
      },
      "source": [
        "_Sua resposta aqui_\n"
      ]
    },
    {
      "cell_type": "code",
      "metadata": {
        "id": "oRfkwAri1-VF"
      },
      "source": [
        "# Seu código aqui"
      ],
      "execution_count": null,
      "outputs": []
    },
    {
      "cell_type": "markdown",
      "metadata": {
        "id": "w8m8Vue72AGx"
      },
      "source": [
        "4.2.2 - Tokenizar palavras"
      ]
    },
    {
      "cell_type": "markdown",
      "metadata": {
        "id": "EwTYKJfG2Abm"
      },
      "source": [
        "_Sua resposta aqui_\n"
      ]
    },
    {
      "cell_type": "code",
      "metadata": {
        "id": "oMkBM2k52BG1"
      },
      "source": [
        "# Seu código aqui"
      ],
      "execution_count": null,
      "outputs": []
    },
    {
      "cell_type": "markdown",
      "metadata": {
        "id": "Xi3rNWfp2B3i"
      },
      "source": [
        "4.2.3 - Remover stop words"
      ]
    },
    {
      "cell_type": "markdown",
      "metadata": {
        "id": "Ccrzyxf-2Bob"
      },
      "source": [
        "_Sua resposta aqui_\n"
      ]
    },
    {
      "cell_type": "code",
      "metadata": {
        "id": "94iv3zZ62Cd1"
      },
      "source": [
        "# Seu código aqui"
      ],
      "execution_count": null,
      "outputs": []
    },
    {
      "cell_type": "markdown",
      "metadata": {
        "id": "Z85cWOVF2aAl"
      },
      "source": [
        "4.2.4 - Stemming ou Lematização"
      ]
    },
    {
      "cell_type": "markdown",
      "metadata": {
        "id": "g31goKZw2Z20"
      },
      "source": [
        "_Sua resposta aqui_\n"
      ]
    },
    {
      "cell_type": "code",
      "metadata": {
        "id": "YhkZy9Li2arS"
      },
      "source": [
        "# Seu código aqui"
      ],
      "execution_count": null,
      "outputs": []
    },
    {
      "cell_type": "markdown",
      "metadata": {
        "id": "qbJybuja2g5g"
      },
      "source": [
        "4.2.5 - Compare a Análise Exploratória antes e depois da limpeza e retirada de stop words"
      ]
    },
    {
      "cell_type": "markdown",
      "metadata": {
        "id": "d8WlSaAR2hTB"
      },
      "source": [
        "_Sua resposta aqui_\n"
      ]
    },
    {
      "cell_type": "code",
      "metadata": {
        "id": "RelOArnX2tnc"
      },
      "source": [
        "# Seu código aqui"
      ],
      "execution_count": null,
      "outputs": []
    },
    {
      "cell_type": "markdown",
      "source": [
        "### 4.3 - Para trabalhar com Machine Learning, devemos transformar os dados textuais em numéricos, em NLP uma das técnicas pra isso é o Bag of Words(BoW):\n",
        "---"
      ],
      "metadata": {
        "id": "_m7E23Zv1YI2"
      }
    },
    {
      "cell_type": "markdown",
      "source": [
        "4.3.1 - Implemente o Bag of Words, os dados precisam ser representados numa matriz esparsa que conta a frequência das palavras."
      ],
      "metadata": {
        "id": "uxx5byBY2E-9"
      }
    },
    {
      "cell_type": "markdown",
      "source": [
        "_Sua resposta aqui_"
      ],
      "metadata": {
        "id": "ExFS4lYF2gV1"
      }
    },
    {
      "cell_type": "code",
      "source": [
        "# Seu código aqui"
      ],
      "metadata": {
        "id": "7C8V0rT42cmZ"
      },
      "execution_count": null,
      "outputs": []
    },
    {
      "cell_type": "markdown",
      "source": [
        "Com essa técnica é possível trabalhar com textos na Aprendizagem de Máquina, tem outras disponíveis, mas essa é uma das mais clássicas.\n",
        "\n",
        "Parabéns por chegar até aqui!"
      ],
      "metadata": {
        "id": "MaBtvnKa205w"
      }
    },
    {
      "cell_type": "markdown",
      "source": [
        "# Questão 5 - Visão Computacional\n",
        "---"
      ],
      "metadata": {
        "id": "8l3mxZsetCkf"
      }
    },
    {
      "cell_type": "markdown",
      "source": [
        "\n",
        "Dentro dessa atividade você terá contato com alguns exercícios de visão computacional, que nada mais é, do que gerir recursos a fim de ensinar uma máquina a \"enxergar\", fazer com que ela gere compreensão. De tal modo, os exercícios abaixo listados visam introduzir-te-á essa área da Inteligência artificial embasadas de forma direta a algumas práticas de visão."
      ],
      "metadata": {
        "id": "C9GENMCJwNMk"
      }
    },
    {
      "cell_type": "markdown",
      "source": [
        "### 5.1 - Trabalhando com imagens\n",
        "---\n",
        "Logo abaixo é possível ver descrito em código um processo de leitura e plotagem de imagem com python. Leve a figura abaixo em consideração para realizar todas as instruções das subseções da 4.1\n",
        "\n",
        "Obs: Em caso de abertura, ou reabertura de notebook, relembrar de sempre rodar as bibliotecas e varíaveis novamente"
      ],
      "metadata": {
        "id": "17lUJrGpwSOF"
      }
    },
    {
      "cell_type": "code",
      "source": [
        "from PIL import Image\n",
        "import cv2\n",
        "import requests\n",
        "import numpy as np"
      ],
      "metadata": {
        "id": "cn74RVuGtICw"
      },
      "execution_count": null,
      "outputs": []
    },
    {
      "cell_type": "code",
      "source": [
        "# Funções auxiliares\n",
        "\n",
        "def convert_from_cv2_to_image(img: np.ndarray) -> Image:\n",
        "    return Image.fromarray(img)\n",
        "\n",
        "\n",
        "def convert_from_image_to_cv2(img: Image) -> np.ndarray:\n",
        "    return np.asarray(img)\n",
        "\n",
        "\n",
        "def img_from_url(url):\n",
        "    img = Image.open(requests.get(url, stream=True).raw)\n",
        "    return img\n"
      ],
      "metadata": {
        "id": "FVWK8ZEXwd_t"
      },
      "execution_count": null,
      "outputs": []
    },
    {
      "cell_type": "code",
      "source": [
        "url = 'https://upload.wikimedia.org/wikipedia/commons/thumb/4/40/Sunflower_sky_backdrop.jpg/280px-Sunflower_sky_backdrop.jpg'\n",
        "\n",
        "pil_img = img_from_url(url)\n",
        "pil_img"
      ],
      "metadata": {
        "colab": {
          "base_uri": "https://localhost:8080/",
          "height": 327
        },
        "id": "Qg6DnVUTwf4V",
        "outputId": "5d04e66e-d6bf-4958-8aed-93dcfefb1b47"
      },
      "execution_count": null,
      "outputs": [
        {
          "output_type": "execute_result",
          "data": {
            "text/plain": [
              "<PIL.JpegImagePlugin.JpegImageFile image mode=RGB size=280x310 at 0x7F20FC605BA0>"
            ],
            "image/png": "[encoded data removed]"
          },
          "metadata": {},
          "execution_count": 15
        }
      ]
    },
    {
      "cell_type": "markdown",
      "source": [
        "### 5.2 - Detecção de bordas\n",
        "---"
      ],
      "metadata": {
        "id": "VJJy4Kkv8t_z"
      }
    },
    {
      "cell_type": "markdown",
      "source": [
        "**Descrição:**\n",
        "Dentro da visão computacional existe o conceito de bordas, que nada mais é do que determinar características de contornos de objetos em uma foto.\n",
        "\n",
        "**Tarefa:**\n",
        "Tendo isso em mente, realize o processo de delimitação de bordas na imagem abaixo utilizando a função Canny Edge Detector do OpenCV."
      ],
      "metadata": {
        "id": "n68GYQV2I8Bw"
      }
    },
    {
      "cell_type": "code",
      "source": [
        "'''\n",
        "O código abaixo converte a imagem carregada pela biblioteca Pillow para o\n",
        "formato do OpenCV (numpy array).\n",
        "'''\n",
        "\n",
        "open_cv_image = convert_from_image_to_cv2(pil_img)"
      ],
      "metadata": {
        "id": "BZLX4_PiLDyB"
      },
      "execution_count": null,
      "outputs": []
    },
    {
      "cell_type": "code",
      "source": [
        "# Seu código aqui\n",
        "# Aplicar os filtros na variável 'open_cv_image' com as funções do OpenCV\n"
      ],
      "metadata": {
        "id": "sapRZQjBJZOs"
      },
      "execution_count": null,
      "outputs": []
    },
    {
      "cell_type": "code",
      "source": [
        "'''\n",
        "Depois de aplicar o filtro, converta de volta para o formato do Pillow\n",
        "e printe a imagem.\n",
        "'''\n",
        "\n",
        "pillow_image = convert_from_cv2_to_image(open_cv_image)\n",
        "pillow_image"
      ],
      "metadata": {
        "id": "AEMqCWTQLNcA"
      },
      "execution_count": null,
      "outputs": []
    },
    {
      "cell_type": "markdown",
      "source": [
        "### 5.3 - Binarização\n",
        "---"
      ],
      "metadata": {
        "id": "jlEcKYNqmRh_"
      }
    },
    {
      "cell_type": "markdown",
      "source": [
        "**Descrição:**\n",
        "O processo de binarização consiste em transformar os pixels de uma imagem em regiões pretas e brancas, resultando numa forma mais simplificada da image.\n",
        "\n",
        "**Tarefa:**\n",
        "Ralizar o processo de Binarização da imagem pelo OpenCV utilizando o método Otsu."
      ],
      "metadata": {
        "id": "cr51EnhrmifY"
      }
    },
    {
      "cell_type": "code",
      "source": [
        "# Seu código aqui"
      ],
      "metadata": {
        "id": "gEbYvkhSmZld"
      },
      "execution_count": null,
      "outputs": []
    },
    {
      "cell_type": "markdown",
      "source": [
        "### 5.4 - Histograma\n",
        "---"
      ],
      "metadata": {
        "id": "NPfGMtZ1mziQ"
      }
    },
    {
      "cell_type": "markdown",
      "source": [
        "**Descrição:**\n",
        "Exibir uma imagem em histograma representa os tons distribuidos da imagem. Esse conceito é muito importante pois pode ser utilizado para equalizar a imagem através de um histograma.\n",
        "\n",
        "**Tarefa:**\n",
        "Transforme a imagem para escala de cinza e plote o histograma da imagem"
      ],
      "metadata": {
        "id": "Pz1_TeDQm6kx"
      }
    },
    {
      "cell_type": "code",
      "source": [
        "# Seu código aqui"
      ],
      "metadata": {
        "id": "5IHsObz-m1gH"
      },
      "execution_count": null,
      "outputs": []
    },
    {
      "cell_type": "markdown",
      "source": [
        "### 5.5 - Mexendo com cores\n",
        "---"
      ],
      "metadata": {
        "id": "ZGzpXx02nz0Z"
      }
    },
    {
      "cell_type": "markdown",
      "source": [
        "**Descrição:** Para realizar manipulações em imagens, é essencial ter um conhecimento básico sobre filtros, faixas de cores, máscaras, e outros conceitos relacionados.\n",
        "\n",
        "**Tarefa:** Nesta atividade, você irá alterar a cor do girassol para uma tonalidade de sua preferência. Para isso, utilize um filtro para converter a imagem para o espaço de cores HSV. Em seguida, selecione a faixa de cores desejada e aplique uma máscara na imagem para realizar a transformação da cor escolhida no girassol."
      ],
      "metadata": {
        "id": "OM36U5LTt_1T"
      }
    },
    {
      "cell_type": "code",
      "source": [
        "# Seu código aqui"
      ],
      "metadata": {
        "id": "cS2VHj8mriwL"
      },
      "execution_count": null,
      "outputs": []
    },
    {
      "cell_type": "markdown",
      "source": [
        "# **QUESTÃO EXTRA**\n",
        "\n",
        "## Deixe a imaginação fluir\n",
        "\n",
        "Fazer parte da TAIL é uma oportuniade muito boa para agregar novos conhecimentos, conhecer novas pessoas e desenvolver skills. Porém, é muito importante que você também demonstre bastante criatividade e interesse. Por isso, nesta seção, a próxima questão que irá responder será a SUA questão. Isso mesmo, não leste errado. A próxima etapa deste notebook consiste com que você, participante do processo, crie e responda uma questão de sua própria autoria. Demonstre nela um reflexo de seu conhecimento atual na área de programação, inteligência artificial, ciência de dados, etc, tal qual, demonstrar a sua criatividade na elaboração de conceitos e perguntas. Lembrando sempre, esta etapa **NÃO É DE CARÁTER ELIMINATÓRIO**, dessa forma, não se preocupem se não quiser resolvê-la ou em desenvolver e destrinchar algo muito complexo, pode ser uma pergunta muito simples, mas que reflita seu atual nível de similaridade com os assuntos que a TAIL trabalha.\n",
        "\n"
      ],
      "metadata": {
        "id": "TNsmcNW50fkd"
      }
    },
    {
      "cell_type": "markdown",
      "source": [
        "### O PODER É DE VOCÊS!"
      ],
      "metadata": {
        "id": "HbWvLp0x0yKi"
      }
    },
    {
      "cell_type": "markdown",
      "source": [
        "[Utilize este campo para redigir e desenvolver a sua questão]"
      ],
      "metadata": {
        "id": "rZXe8S5S12J3"
      }
    },
    {
      "cell_type": "code",
      "source": [
        "# Caso precise de código, utilize esta seção"
      ],
      "metadata": {
        "id": "lJzUTHiq0sIf"
      },
      "execution_count": null,
      "outputs": []
    }
  ],
  "nbformat": 4,
  "nbformat_minor": 0,
  "metadata": {
    "orig_nbformat": 2,
    "deepnote": {},
    "deepnote_notebook_id": "d7bf43f2-576c-4007-b574-2644a3cc1556",
    "deepnote_execution_queue": [],
    "colab": {
      "provenance": [],
      "collapsed_sections": [
        "MGOZWz9eyX0C",
        "B-nnxHH7yX0E",
        "LVBlYQ12yX0I",
        "7Kt08aBryX0K",
        "DF_EtAmZyX0N",
        "1--FqXh6yX0X",
        "8l3mxZsetCkf",
        "17lUJrGpwSOF",
        "VJJy4Kkv8t_z",
        "jlEcKYNqmRh_",
        "NPfGMtZ1mziQ",
        "ZGzpXx02nz0Z"
      ]
    },
    "language_info": {
      "name": "python"
    },
    "kernelspec": {
      "name": "python3",
      "display_name": "Python 3"
    },
    "gpuClass": "standard"
  }
}