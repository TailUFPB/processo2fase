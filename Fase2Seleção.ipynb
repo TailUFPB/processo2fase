{
 "cells": [
  {
   "cell_type": "markdown",
   "metadata": {},
   "source": [
    "<strong style="color: darkblue;">My Bold Text, in red color.</strong>"
   ]
  },
  {
   "cell_type": "markdown",
   "metadata": {},
   "source": [
    "<img src=\"https://i.imgur.com/BaMYPn6.jpg\" style=\"width:250px\">"
   ]
  },
  {
   "cell_type": "markdown",
   "metadata": {},
   "source": [
    "## Introdução"
   ]
  },
  {
   "cell_type": "markdown",
   "metadata": {},
   "source": [
    "Olá candidato! Para participar do 2º processo seletivo, você deve abrir o link do colab abaixo e fazer uma cópia para seu drive e inserir as respostas nos campos.\n",
    "\n",
    "Após responder, basta compartilhar conosco e nos enviar o link no email: tailufpb@gmail.com com o assunto **PROCESSO SELETIVO 2020.1 - SEU_NOME**\n",
    "\n",
    "Para mais instruções, assista o vídeo de explicações e dúvidas que enviamos por email."
   ]
  },
  {
   "cell_type": "markdown",
   "metadata": {},
   "source": [
    "[![Open In Colab](https://colab.research.google.com/assets/colab-badge.svg)](https://colab.research.google.com/github/TailUFPB/processo2fase/blob/master/Fase2Sele%C3%A7%C3%A3o.ipynb) "
   ]
  },
  {
   "cell_type": "markdown",
   "metadata": {},
   "source": [
    "[Download](https://github.com/TailUFPB/processo2fase/archive/master.zip)\n",
    "# <font color=\"red\">tem que ver se realmente precisa fazer o download ou se ja ta ok no colab. Não lembro. <\\font>"
   ]
  },
  {
   "cell_type": "markdown",
   "metadata": {},
   "source": [
    "## Instruções:\n",
    "<br>1. Abra o Google Colaboratory;\n",
    "<br>2. Faça uma cópia no seu drive;\n",
    "<br>3. Localize o notebook e abra-o;\n",
    "<br>4. Responda o questionário;\n",
    "<br>5. Salve o notebook e submeta-o através de nosso email: tailufpb@gmail.com\n",
    "    \n"
   ]
  },
  {
   "cell_type": "markdown",
   "metadata": {},
   "source": [
    "## Materiais"
   ]
  },
  {
   "cell_type": "markdown",
   "metadata": {},
   "source": [
    "**Anexo :** para auxilio com as questões, disponibilizamos o livro *Python para Estatísticos*, do professor Telmo de Menezes e Silva Filho, do Departamento de Estatística da Universidade Federal da Paraíba (UFPB):\n",
    "\n",
    "[**Python para Estatísticos**](https://tmfilho.github.io/pyestbook)"
   ]
  },
  {
   "cell_type": "code",
   "execution_count": 5,
   "metadata": {
    "scrolled": true
   },
   "outputs": [
    {
     "name": "stdout",
     "output_type": "stream",
     "text": [
      "\n",
      "\n"
     ]
    }
   ],
   "source": [
    "#@title Preencha os campos abaixo:\n",
    "\n",
    "nome = '' #@param {type:\"string\"}\n",
    "email = '' #@param {type:\"string\"}\n",
    "\n",
    "# confira se os valores impressos correspondem ao que você digitou\n",
    "print(nome)\n",
    "print(email)"
   ]
  },
  {
   "cell_type": "markdown",
   "metadata": {},
   "source": [
    "## Avisos\n",
    "Aqui vão uma série de avisos e dicas:\n",
    "* Fiquem de boa galera. Isso não é uma prova e o seu desempenho aqui não é eliminatório.\n",
    "* Se esforcem. Mesmo que não consigam responder tudo, deem o máximo de si.\n",
    "* Descrevam o que pensaram e como fizeram ou teriam feito para resolver a questão (isso é muito importante).\n",
    "* Se divirtam. Vai ser muito legal ter vocês conosco!\n",
    "\n",
    "![](https://github.com/TailUFPB/processo2fase/raw/master/img/ygt.jpg)"
   ]
  },
  {
   "cell_type": "markdown",
   "metadata": {},
   "source": [
    "### Questão 1: Preparação do ambiente\n",
    "\n",
    "\n",
    "\n",
    "**a)** Preparar o ambiente (Colab)  \n",
    "**b)** Pegar os arquivos que vão utilizar na tarefa  \n",
    "**c)** Utilizar o pandas para receber os dados  \n",
    "**d)** Visualizar os Dados em Histogramas  \n",
    "\n",
    "__________________________________________________________________________________________________________________"
   ]
  },
  {
   "cell_type": "code",
   "execution_count": 11,
   "metadata": {},
   "outputs": [],
   "source": [
    "# R:"
   ]
  },
  {
   "cell_type": "markdown",
   "metadata": {},
   "source": [
    "### Questão 2: Análise exploratória\n",
    "**a)** Visualize os dados, detalhando cada coluna  \n",
    "**b)** Extraia informações dos dados. Média, Moda, Mediana, Boxplot  \n",
    "**c)** Visualize os valores únicos de uma determinada coluna  \n",
    "__________________________________________________________________________________________________________________"
   ]
  },
  {
   "cell_type": "code",
   "execution_count": 16,
   "metadata": {},
   "outputs": [],
   "source": [
    "# R:"
   ]
  },
  {
   "cell_type": "markdown",
   "metadata": {},
   "source": [
    "\n",
    "### Questão 3: Construa gráficos para passar uma mensagem sobre a análise que foi feita\n",
    "\n",
    "\n",
    "__________________________________________________________________________________________________________________"
   ]
  },
  {
   "cell_type": "code",
   "execution_count": 17,
   "metadata": {},
   "outputs": [],
   "source": [
    "# R:"
   ]
  },
  {
   "cell_type": "markdown",
   "metadata": {},
   "source": [
    "### Questão 4: Preparo\n",
    "\n",
    "**a)** Pegar os arquivos que vão utilizar na tarefa  \n",
    "**b)** Utilizar o pandas para receber os dados  \n",
    "__________________________________________________________________________________________________________________"
   ]
  },
  {
   "cell_type": "code",
   "execution_count": 8,
   "metadata": {},
   "outputs": [],
   "source": [
    "# R:"
   ]
  },
  {
   "cell_type": "markdown",
   "metadata": {},
   "source": [
    "### Questão 5: Organização dos dados\n",
    "\n",
    "**a)** Redefina o Index do DataFrame  \n",
    "**b)** Remova valores repetidos  \n",
    "**c)** Encontre uma solução para lidar com valores nulos  \n",
    "**d)** Verifique se há Outliers, se sim encontra uma solução para lidar com eles  \n",
    "__________________________________________________________________________________________________________________"
   ]
  },
  {
   "cell_type": "code",
   "execution_count": 12,
   "metadata": {},
   "outputs": [],
   "source": [
    "# R:"
   ]
  },
  {
   "cell_type": "markdown",
   "metadata": {},
   "source": [
    "### Questão 6: Feature Engineering e lidando com dados categorizados\n",
    "\n",
    "**a)** Crie uma nova coluna a partir de duas colunas  \n",
    "**b)** Faça um agrupamento e cria uma nova coluna a partir de informações que você extraiu dele  \n",
    "**c)** Encontre uma maneira para representar seus dados categorizados como números  \n",
    "_________________________________________________________________________________________________________________"
   ]
  },
  {
   "cell_type": "code",
   "execution_count": 13,
   "metadata": {},
   "outputs": [],
   "source": [
    "# R:"
   ]
  },
  {
   "cell_type": "markdown",
   "metadata": {},
   "source": [
    "### Questão 7: Preparo\n",
    "\n",
    "**a)** Pegar os arquivos que vão utilizar na tarefa  \n",
    "**b)** Utilizar qualquer biblioteca para receber os dados  \n",
    "__________________________________________________________________________________________________________________"
   ]
  },
  {
   "cell_type": "code",
   "execution_count": 14,
   "metadata": {},
   "outputs": [],
   "source": [
    "# R:"
   ]
  },
  {
   "cell_type": "markdown",
   "metadata": {},
   "source": [
    "### Questão 8: Classificação\n",
    "\n",
    "**a)** Analise os dados  \n",
    "**b)** Prepare os dados para classificar de acordo com o alvo Y  \n",
    "**c)** Faça um modelo para classificar os dados  \n",
    "**d)** Avalie o seu modelo  \n",
    "__________________________________________________________________________________________________________________"
   ]
  },
  {
   "cell_type": "code",
   "execution_count": 15,
   "metadata": {},
   "outputs": [],
   "source": [
    "# R:"
   ]
  }
 ],
 "metadata": {
  "kernelspec": {
   "display_name": "Python 3",
   "language": "python",
   "name": "python3"
  },
  "language_info": {
   "codemirror_mode": {
    "name": "ipython",
    "version": 3
   },
   "file_extension": ".py",
   "mimetype": "text/x-python",
   "name": "python",
   "nbconvert_exporter": "python",
   "pygments_lexer": "ipython3",
   "version": "3.7.5"
  }
 },
 "nbformat": 4,
 "nbformat_minor": 2
}
