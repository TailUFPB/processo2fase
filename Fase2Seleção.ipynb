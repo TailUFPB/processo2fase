{
 "cells": [
  {
   "cell_type": "markdown",
   "metadata": {},
   "source": [
    "<center><h1>PROCESSO SELETIVO TAIL</h1> </center>\n",
    "\n",
    "<center><em>Tecnology and Artificial Intelligence League</em></center>"
   ]
  },
  {
   "cell_type": "markdown",
   "metadata": {},
   "source": [
    "![Tail](https://i.imgur.com/BaMYPn6.jpg)"
   ]
  },
  {
   "cell_type": "markdown",
   "metadata": {},
   "source": [
    "# Introdução\n",
    "Olá candidato! Para participar do 2º processo seletivo, você deve baixar esse notebook e inserir respostas nos campos. Após responder, basta nos enviar no email: tailufpb@gmail.com.\n",
    "\n",
    "**Anexo :** para auxilio com as questões, disponibilizamos o livro *Python para Estatísticos*, do professor Telmo de Menezes e Silva Filho, do Departamento de Estatística da Universidade Federal da Paraíba (UFPB):\n",
    "\n",
    "- [*Python para Estatísticos*](https://tmfilho.github.io/pyestbook)"
   ]
  },
  {
   "cell_type": "markdown",
   "metadata": {},
   "source": [
    "*Preencha os campos abaixo:*\n",
    "__________________________________________________________________________________________________________________                           \n",
    "##### Nome: \n",
    "##### Email: \n",
    "\n",
    "__________________________________________________________________________________________________________________"
   ]
  },
  {
   "cell_type": "markdown",
   "metadata": {},
   "source": [
    "### Questão 1: Preparação do ambiente\n",
    "\n",
    "\n",
    "\n",
    "**a)** Preparar o ambiente (Colab)  \n",
    "**b)** Pegar os arquivos que vão utilizar na tarefa  \n",
    "**c)** Utilizar o pandas para receber os dados  \n",
    "**d)** Visualizar os Dados em Histogramas  \n",
    "\n",
    "__________________________________________________________________________________________________________________"
   ]
  },
  {
   "cell_type": "code",
   "execution_count": 11,
   "metadata": {},
   "outputs": [],
   "source": [
    "# R:"
   ]
  },
  {
   "cell_type": "markdown",
   "metadata": {},
   "source": [
    "### Questão 2: Análise exploratória\n",
    "**a)** Visualize os dados, detalhando cada coluna  \n",
    "**b)** Extraia informações dos dados. Média, Moda, Mediana, Boxplot  \n",
    "**c)** Visualize os valores únicos de uma determinada coluna  \n",
    "__________________________________________________________________________________________________________________"
   ]
  },
  {
   "cell_type": "code",
   "execution_count": 16,
   "metadata": {},
   "outputs": [],
   "source": [
    "# R:"
   ]
  },
  {
   "cell_type": "markdown",
   "metadata": {},
   "source": [
    "\n",
    "### Questão 3: Construa gráficos para passar uma mensagem sobre a análise que foi feita\n",
    "\n",
    "\n",
    "__________________________________________________________________________________________________________________"
   ]
  },
  {
   "cell_type": "code",
   "execution_count": 17,
   "metadata": {},
   "outputs": [],
   "source": [
    "# R:"
   ]
  },
  {
   "cell_type": "markdown",
   "metadata": {},
   "source": [
    "### Questão 4: Preparo\n",
    "\n",
    "**a)** Pegar os arquivos que vão utilizar na tarefa  \n",
    "**b)** Utilizar o pandas para receber os dados  \n",
    "__________________________________________________________________________________________________________________"
   ]
  },
  {
   "cell_type": "code",
   "execution_count": 8,
   "metadata": {},
   "outputs": [],
   "source": [
    "# R:"
   ]
  },
  {
   "cell_type": "markdown",
   "metadata": {},
   "source": [
    "### Questão 5: Organização dos dados\n",
    "\n",
    "**a)** Redefina o Index do DataFrame  \n",
    "**b)** Remova valores repetidos  \n",
    "**c)** Encontre uma solução para lidar com valores nulos  \n",
    "**d)** Verifique se há Outliers, se sim encontra uma solução para lidar com eles  \n",
    "__________________________________________________________________________________________________________________"
   ]
  },
  {
   "cell_type": "code",
   "execution_count": 12,
   "metadata": {},
   "outputs": [],
   "source": [
    "# R:"
   ]
  },
  {
   "cell_type": "markdown",
   "metadata": {},
   "source": [
    "### Questão 6: Feature Engineering e lidando com dados categorizados\n",
    "\n",
    "**a)** Crie uma nova coluna a partir de duas colunas  \n",
    "**b)** Faça um agrupamento e cria uma nova coluna a partir de informações que você extraiu dele  \n",
    "**c)** Encontre uma maneira para representar seus dados categorizados como números  \n",
    "_________________________________________________________________________________________________________________"
   ]
  },
  {
   "cell_type": "code",
   "execution_count": 13,
   "metadata": {},
   "outputs": [],
   "source": [
    "# R:"
   ]
  },
  {
   "cell_type": "markdown",
   "metadata": {},
   "source": [
    "### Questão 7: Preparo\n",
    "\n",
    "**a)** Pegar os arquivos que vão utilizar na tarefa  \n",
    "**b)** Utilizar qualquer biblioteca para receber os dados  \n",
    "__________________________________________________________________________________________________________________"
   ]
  },
  {
   "cell_type": "code",
   "execution_count": 14,
   "metadata": {},
   "outputs": [],
   "source": [
    "# R:"
   ]
  },
  {
   "cell_type": "markdown",
   "metadata": {},
   "source": [
    "### Questão 8: Classificação\n",
    "\n",
    "**a)** Analise os dados  \n",
    "**b)** Prepare os dados para classificar de acordo com o alvo Y  \n",
    "**c)** Faça um modelo para classificar os dados  \n",
    "**d)** Avalie o seu modelo  \n",
    "__________________________________________________________________________________________________________________"
   ]
  },
  {
   "cell_type": "code",
   "execution_count": 15,
   "metadata": {},
   "outputs": [],
   "source": [
    "# R:"
   ]
  }
 ],
 "metadata": {
  "kernelspec": {
   "display_name": "Python 3",
   "language": "python",
   "name": "python3"
  },
  "language_info": {
   "codemirror_mode": {
    "name": "ipython",
    "version": 3
   },
   "file_extension": ".py",
   "mimetype": "text/x-python",
   "name": "python",
   "nbconvert_exporter": "python",
   "pygments_lexer": "ipython3",
   "version": "3.7.4"
  }
 },
 "nbformat": 4,
 "nbformat_minor": 2
}